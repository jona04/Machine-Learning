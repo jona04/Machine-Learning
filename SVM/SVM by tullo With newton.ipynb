{
 "cells": [
  {
   "cell_type": "code",
   "execution_count": 310,
   "metadata": {},
   "outputs": [],
   "source": [
    "import numpy as np\n",
    "import numpy.linalg as la\n",
    "\n",
    "import logging\n",
    "import numpy as np\n",
    "import matplotlib.pyplot as plt\n",
    "import matplotlib.cm as cm\n",
    "import itertools\n",
    "import argh\n",
    "import cvxopt\n",
    "\n",
    "import scipy.linalg as la"
   ]
  },
  {
   "cell_type": "code",
   "execution_count": 311,
   "metadata": {},
   "outputs": [],
   "source": [
    "class CqkProblem:\n",
    "    def __init__(self, r, n, d, a, b, low, up):\n",
    "        self.n = n\n",
    "        self.r = r\n",
    "        self.d = list(d)\n",
    "        self.a = list(a)\n",
    "        self.b = list(b)\n",
    "        self.low = list(low)\n",
    "        self.up = list(up)"
   ]
  },
  {
   "cell_type": "code",
   "execution_count": 312,
   "metadata": {},
   "outputs": [],
   "source": [
    "\n",
    "def initial_lambda(p, lamb):\n",
    "    s0=0.0\n",
    "    q0=0.0\n",
    "    slopes = []\n",
    "    for i in range(p.n):\n",
    "        slopes.append((p.b[i]/p.d[i])*p.b[i])\n",
    "        s0 = s0 + (p.a[i] * p.b[i]) / p.d[i]\n",
    "        q0 = q0 + (p.b[i] * p.b[i]) / p.d[i]\n",
    "    lamb = (p.r-s0)/q0\n",
    "    return lamb, slopes"
   ]
  },
  {
   "cell_type": "code",
   "execution_count": 516,
   "metadata": {},
   "outputs": [],
   "source": [
    "def phi_lambda(p,lamb,phi,deriv,slopes,r):\n",
    "    deriv = 0.0\n",
    "    phi = r * -1\n",
    "    x = []\n",
    "    \n",
    "    for i in range(p.n):\n",
    "        \n",
    "        x.append( (p.b[i] * lamb + p.a[i])/p.d[i])\n",
    "\n",
    "        if x[i] < p.low[i]:\n",
    "            x[i] = p.low[i]\n",
    "        elif x[i] > p.up[i]:\n",
    "            x[i] = p.up[i]\n",
    "        else:\n",
    "            deriv = deriv + slopes[i];\n",
    "        phi = phi + p.b[i] * x[i];\n",
    "    return deriv, phi, x"
   ]
  },
  {
   "cell_type": "code",
   "execution_count": 561,
   "metadata": {},
   "outputs": [],
   "source": [
    "MAX_IT = 20\n",
    "INFINITO_NEGATIVO = -999999999;\n",
    "INFINITO_POSITIVO = 999999999;\n",
    "def newton(p):\n",
    "    phi = 0\n",
    "    lamb = 0\n",
    "    lambs = []\n",
    "    alfa = INFINITO_NEGATIVO;\n",
    "    beta = INFINITO_POSITIVO;\n",
    "    phi_alfa = 0.0;\n",
    "    phi_beta = 0.0;\n",
    "    deriv = 0\n",
    "    x = []\n",
    "    r = p.r\n",
    "    \n",
    "    lamb, slopes = initial_lambda(p,lamb)\n",
    "    lambs.append(lamb)\n",
    "    deriv, phi, x = phi_lambda(p,lamb,phi,deriv,slopes,r)\n",
    "    it = 1\n",
    "    while phi != 0.0 and it <= MAX_IT:\n",
    "        if phi > 0:\n",
    "#             print(\"positivo\")\n",
    "            beta = lamb\n",
    "            lambda_n = 0.0\n",
    "            if deriv > 0.0:\n",
    "                \n",
    "                lambda_n = lamb - (phi/deriv)\n",
    "                if abs(lambda_n - lamb) <= 0.00000000001:\n",
    "                    phi = 0.0\n",
    "                    break\n",
    "                if lambda_n > alfa:\n",
    "                    lamb = lambda_n\n",
    "                else:\n",
    "                    print(\"aqui\")\n",
    "                    phi_beta = phi;\n",
    "#                     lamb = secant(p,x,alfa,beta,phi_alfa,phi_beta,r);\n",
    "#             if deriv == 0.0:\n",
    "#                 lamb = breakpoint_to_the_left(p,lamb);\n",
    "#                 if lamb <= INFINITO_NEGATIVO or lamb >= INFINITO_POSITIVO:\n",
    "#                     break\n",
    "                \n",
    "        else:\n",
    "#             print(\"negativo\")\n",
    "            alfa = lamb;\n",
    "            lambda_n = 0.0;\n",
    "\n",
    "            if deriv > 0.0:\n",
    "                lambda_n = lamb - (phi/deriv)\n",
    "                if abs(lambda_n - lamb) <= 0.00000000001:\n",
    "                    phi = 0.0\n",
    "                    break\n",
    "                \n",
    "                if lambda_n < beta:\n",
    "                    lamb = lambda_n\n",
    "                else:\n",
    "                    print(\"aqui\")\n",
    "                    phi_alfa = phi;\n",
    "#                     lamb = secant(p,x,alfa,beta,phi_alfa,phi_beta,r);\n",
    "            if deriv == 0.0:\n",
    "                print(\"aqui 2\")\n",
    "#                 lamb = breakpoint_to_the_right(p,lamb)\n",
    "#                 if lamb <= INFINITO_NEGATIVO or lamb >= INFINITO_POSITIVO:\n",
    "#                     break\n",
    "        \n",
    "        \n",
    "        deriv, phi, x = phi_lambda(p,lamb,phi,deriv,slopes,r)\n",
    "        lambs.append(lamb)\n",
    "        it = it + 1\n",
    "        \n",
    "    if phi == 0.0:\n",
    "        return it, x, slopes,lambs\n",
    "    elif alfa == beta:\n",
    "        return -1, x, slopes,lambs\n",
    "    else:\n",
    "        return -2, x, slopes,lambs\n",
    "    "
   ]
  },
  {
   "cell_type": "code",
   "execution_count": 562,
   "metadata": {},
   "outputs": [],
   "source": [
    "\n",
    "def linear():\n",
    "    return lambda x, y: np.inner(x, y)"
   ]
  },
  {
   "cell_type": "code",
   "execution_count": 563,
   "metadata": {},
   "outputs": [],
   "source": [
    "d = []\n",
    "a = []\n",
    "up = []\n",
    "low = []\n",
    "bb = []\n",
    "r = 0\n",
    "class SVMTrainer(object):\n",
    "    def __init__(self, kernel, c):\n",
    "        self._kernel = kernel\n",
    "        self._c = c\n",
    "\n",
    "    def train(self, X, y):\n",
    "        \"\"\"Given the training features X with labels y, returns a SVM\n",
    "        predictor representing the trained SVM.\n",
    "        \"\"\"\n",
    "        lagrange_multipliers = self._compute_multipliers(X, y)\n",
    "#         return self._construct_predictor(X, y, lagrange_multipliers)\n",
    "\n",
    "    def _gram_matrix(self, X):\n",
    "        n_samples, n_features = X.shape\n",
    "        K = np.zeros((n_samples, n_samples))\n",
    "        # TODO(tulloch) - vectorize\n",
    "        for i, x_i in enumerate(X):\n",
    "            for j, x_j in enumerate(X):\n",
    "                K[i, j] = self._kernel(x_i, x_j)\n",
    "        return K\n",
    "\n",
    "    def _construct_predictor(self, X, y, lagrange_multipliers):\n",
    "        support_vector_indices = \\\n",
    "            lagrange_multipliers > MIN_SUPPORT_VECTOR_MULTIPLIER\n",
    "\n",
    "        support_multipliers = lagrange_multipliers[support_vector_indices]\n",
    "        support_vectors = X[support_vector_indices]\n",
    "        support_vector_labels = y[support_vector_indices]\n",
    "\n",
    "        # http://www.cs.cmu.edu/~guestrin/Class/10701-S07/Slides/kernels.pdf\n",
    "        # bias = y_k - \\sum z_i y_i  K(x_k, x_i)\n",
    "        # Thus we can just predict an example with bias of zero, and\n",
    "        # compute error.\n",
    "        bias = np.mean(\n",
    "            [y_k - SVMPredictor(\n",
    "                kernel=self._kernel,\n",
    "                bias=0.0,\n",
    "                weights=support_multipliers,\n",
    "                support_vectors=support_vectors,\n",
    "                support_vector_labels=support_vector_labels).predict(x_k)\n",
    "             for (y_k, x_k) in zip(support_vector_labels, support_vectors)])\n",
    "\n",
    "        return SVMPredictor(\n",
    "            kernel=self._kernel,\n",
    "            bias=bias,\n",
    "            weights=support_multipliers,\n",
    "            support_vectors=support_vectors,\n",
    "            support_vector_labels=support_vector_labels)\n",
    "\n",
    "    def _compute_multipliers(self, X, y):\n",
    "        n_samples, n_features = X.shape\n",
    "\n",
    "        K = self._gram_matrix(X)\n",
    "\n",
    "        # Solves\n",
    "        # min 1/2 x^T P x + q^T x\n",
    "        # s.t.\n",
    "        #  Gx \\coneleq h\n",
    "        #  Ax = b\n",
    "\n",
    "        P = cvxopt.matrix(np.outer(y, y) * K)\n",
    "        q = cvxopt.matrix(-1 * np.ones(n_samples))\n",
    "\n",
    "        # -a_i \\leq 0\n",
    "        # TODO(tulloch) - modify G, h so that we have a soft-margin classifier\n",
    "        G_std = cvxopt.matrix(np.diag(np.ones(n_samples) * -1))\n",
    "        h_std = cvxopt.matrix(np.zeros(n_samples))\n",
    "\n",
    "        # a_i \\leq c\n",
    "        G_slack = cvxopt.matrix(np.diag(np.ones(n_samples)))\n",
    "        h_slack = cvxopt.matrix(np.ones(n_samples) * self._c)\n",
    "\n",
    "        G = cvxopt.matrix(np.vstack((G_std, G_slack)))\n",
    "        h = cvxopt.matrix(np.vstack((h_std, h_slack)))\n",
    "\n",
    "        A = cvxopt.matrix(y, (1, n_samples))\n",
    "        b = cvxopt.matrix(0.0)\n",
    "\n",
    "        solution = cvxopt.solvers.qp(P, q, G, h, A, b)\n",
    "        \n",
    "        evals, evecs = la.eig(K)\n",
    "        print(evals)\n",
    "        \n",
    "        global d\n",
    "        d = [i.real for i in evals]\n",
    "        global a\n",
    "        a= [i*-1 for i in np.ones(len(d)) ]\n",
    "        global up\n",
    "        up = [i/10 for i in np.ones(len(d)) ]\n",
    "        global low\n",
    "        low = [i for i in  np.zeros(len(d))]\n",
    "        global bb\n",
    "        bb= [i for i in A ]\n",
    "        global r\n",
    "        r = 0\n",
    "        \n",
    "        print(\"P\",d)\n",
    "        \n",
    "        \n",
    "        \n",
    "        print(\"q\", q)\n",
    "        print(\"h\", up)\n",
    "        print(\"A\", A)\n",
    "        print(\"b\", r)\n",
    "        print(\"low\",low)\n",
    "        print(\"solution['x']\",solution['x'])\n",
    "\n",
    "        # Lagrange multipliers\n",
    "        return np.ravel(solution['x'])\n"
   ]
  },
  {
   "cell_type": "code",
   "execution_count": 564,
   "metadata": {},
   "outputs": [],
   "source": [
    "def example(num_samples=10, num_features=2, grid_size=20, filename=\"svm.pdf\"):\n",
    "    samples = np.matrix(np.random.normal(size=num_samples * num_features)\n",
    "                        .reshape(num_samples, num_features))\n",
    "    labels = 2 * (samples.sum(axis=1) > 0) - 1.0\n",
    "    trainer = SVMTrainer(linear(), 0.1)\n",
    "    predictor = trainer.train(samples, labels)\n"
   ]
  },
  {
   "cell_type": "code",
   "execution_count": 565,
   "metadata": {},
   "outputs": [
    {
     "name": "stdout",
     "output_type": "stream",
     "text": [
      "     pcost       dcost       gap    pres   dres\n",
      " 0: -1.1004e+00 -1.9093e+00  4e+01  6e+00  2e-16\n",
      " 1: -6.6218e-01 -1.6897e+00  3e+00  3e-01  4e-16\n",
      " 2: -4.8365e-01 -8.8168e-01  4e-01  7e-17  8e-16\n",
      " 3: -4.9913e-01 -5.5284e-01  5e-02  4e-17  3e-16\n",
      " 4: -5.1633e-01 -5.2630e-01  1e-02  6e-17  1e-16\n",
      " 5: -5.2091e-01 -5.2221e-01  1e-03  6e-17  2e-16\n",
      " 6: -5.2146e-01 -5.2153e-01  6e-05  9e-17  2e-16\n",
      " 7: -5.2150e-01 -5.2151e-01  3e-06  6e-17  3e-16\n",
      " 8: -5.2151e-01 -5.2151e-01  3e-08  6e-17  2e-16\n",
      "Optimal solution found.\n",
      "[ 1.45690541e+01+0.00000000e+00j  3.33066907e-15+0.00000000e+00j\n",
      "  5.40977436e+00+0.00000000e+00j -6.97689462e-16+0.00000000e+00j\n",
      "  2.81779480e-16+2.37389848e-17j  2.81779480e-16-2.37389848e-17j\n",
      " -1.61072413e-16+0.00000000e+00j  5.11156444e-17+1.43188026e-17j\n",
      "  5.11156444e-17-1.43188026e-17j -3.84200046e-17+0.00000000e+00j]\n",
      "P [14.569054134073562, 3.3306690738754696e-15, 5.409774359444797, -6.976894615962706e-16, 2.817794797333256e-16, 2.817794797333256e-16, -1.610724130402916e-16, 5.1115644369403624e-17, 5.1115644369403624e-17, -3.842000457301277e-17]\n",
      "q [-1.00e+00]\n",
      "[-1.00e+00]\n",
      "[-1.00e+00]\n",
      "[-1.00e+00]\n",
      "[-1.00e+00]\n",
      "[-1.00e+00]\n",
      "[-1.00e+00]\n",
      "[-1.00e+00]\n",
      "[-1.00e+00]\n",
      "[-1.00e+00]\n",
      "\n",
      "h [0.1, 0.1, 0.1, 0.1, 0.1, 0.1, 0.1, 0.1, 0.1, 0.1]\n",
      "A [-1.00e+00  1.00e+00 -1.00e+00 -1.00e+00 -1.00e+00  1.00e+00 -1.00e+00 ... ]\n",
      "\n",
      "b 0\n",
      "low [0.0, 0.0, 0.0, 0.0, 0.0, 0.0, 0.0, 0.0, 0.0, 0.0]\n",
      "solution['x'] [ 1.00e-01]\n",
      "[ 1.00e-01]\n",
      "[ 1.00e-01]\n",
      "[ 1.00e-01]\n",
      "[ 1.16e-08]\n",
      "[ 1.00e-01]\n",
      "[ 5.74e-09]\n",
      "[ 4.60e-09]\n",
      "[ 1.77e-06]\n",
      "[ 1.00e-01]\n",
      "\n"
     ]
    }
   ],
   "source": [
    "example()"
   ]
  },
  {
   "cell_type": "code",
   "execution_count": 566,
   "metadata": {},
   "outputs": [
    {
     "name": "stdout",
     "output_type": "stream",
     "text": [
      "0 10 [14.569054134073562, 3.3306690738754696e-15, 5.409774359444797, -6.976894615962706e-16, 2.817794797333256e-16, 2.817794797333256e-16, -1.610724130402916e-16, 5.1115644369403624e-17, 5.1115644369403624e-17, -3.842000457301277e-17] [-1.0, -1.0, -1.0, -1.0, -1.0, -1.0, -1.0, -1.0, -1.0, -1.0] [-1.0, 1.0, -1.0, -1.0, -1.0, 1.0, -1.0, -1.0, -1.0, 1.0] [0.0, 0.0, 0.0, 0.0, 0.0, 0.0, 0.0, 0.0, 0.0, 0.0] [0.1, 0.1, 0.1, 0.1, 0.1, 0.1, 0.1, 0.1, 0.1, 0.1]\n"
     ]
    }
   ],
   "source": [
    "print(r,len(d),d,a,bb,low,up)\n",
    "def generate_cqk_problem(n):\n",
    "    return CqkProblem( r, n, d, a, bb, low, up)"
   ]
  },
  {
   "cell_type": "code",
   "execution_count": 567,
   "metadata": {},
   "outputs": [],
   "source": [
    "pp = generate_cqk_problem(len(d))"
   ]
  },
  {
   "cell_type": "code",
   "execution_count": 568,
   "metadata": {},
   "outputs": [
    {
     "name": "stdout",
     "output_type": "stream",
     "text": [
      "aqui 2\n",
      "aqui 2\n",
      "aqui 2\n",
      "aqui 2\n",
      "aqui 2\n",
      "aqui 2\n",
      "aqui 2\n",
      "aqui 2\n",
      "aqui 2\n",
      "aqui 2\n",
      "aqui 2\n",
      "aqui 2\n",
      "aqui 2\n",
      "aqui 2\n",
      "aqui 2\n",
      "aqui 2\n",
      "aqui 2\n",
      "aqui 2\n",
      "aqui 2\n",
      "aqui 2\n"
     ]
    }
   ],
   "source": [
    "it,x, slopes,lambs = newton(pp)"
   ]
  },
  {
   "cell_type": "code",
   "execution_count": 569,
   "metadata": {},
   "outputs": [
    {
     "data": {
      "text/plain": [
       "(-2,\n",
       " [-4.450598813345339,\n",
       "  -4.450598813345339,\n",
       "  -4.450598813345339,\n",
       "  -4.450598813345339,\n",
       "  -4.450598813345339,\n",
       "  -4.450598813345339,\n",
       "  -4.450598813345339,\n",
       "  -4.450598813345339,\n",
       "  -4.450598813345339,\n",
       "  -4.450598813345339,\n",
       "  -4.450598813345339,\n",
       "  -4.450598813345339,\n",
       "  -4.450598813345339,\n",
       "  -4.450598813345339,\n",
       "  -4.450598813345339,\n",
       "  -4.450598813345339,\n",
       "  -4.450598813345339,\n",
       "  -4.450598813345339,\n",
       "  -4.450598813345339,\n",
       "  -4.450598813345339,\n",
       "  -4.450598813345339])"
      ]
     },
     "execution_count": 569,
     "metadata": {},
     "output_type": "execute_result"
    }
   ],
   "source": [
    "it, lambs"
   ]
  },
  {
   "cell_type": "code",
   "execution_count": 533,
   "metadata": {},
   "outputs": [
    {
     "data": {
      "text/plain": [
       "[0.0, 0.0, 0.0, 0.0, 0.0, 0.0, 0.0, 0.0, 0.0, 0.0]"
      ]
     },
     "execution_count": 533,
     "metadata": {},
     "output_type": "execute_result"
    }
   ],
   "source": [
    "x"
   ]
  },
  {
   "cell_type": "code",
   "execution_count": 437,
   "metadata": {},
   "outputs": [
    {
     "data": {
      "text/plain": [
       "[-1.693873964497774]"
      ]
     },
     "execution_count": 437,
     "metadata": {},
     "output_type": "execute_result"
    }
   ],
   "source": [
    "lambs"
   ]
  },
  {
   "cell_type": "code",
   "execution_count": null,
   "metadata": {},
   "outputs": [],
   "source": [
    "evals, evecs = la.eig(M)\n",
    "print(evals)"
   ]
  }
 ],
 "metadata": {
  "kernelspec": {
   "display_name": "Python 3",
   "language": "python",
   "name": "python3"
  },
  "language_info": {
   "codemirror_mode": {
    "name": "ipython",
    "version": 3
   },
   "file_extension": ".py",
   "mimetype": "text/x-python",
   "name": "python",
   "nbconvert_exporter": "python",
   "pygments_lexer": "ipython3",
   "version": "3.7.3"
  }
 },
 "nbformat": 4,
 "nbformat_minor": 4
}
