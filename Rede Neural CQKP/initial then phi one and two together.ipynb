{
 "cells": [
  {
   "cell_type": "code",
   "execution_count": 1,
   "metadata": {},
   "outputs": [],
   "source": [
    "import random\n",
    "\n",
    "# StringIO behaves like a file object \n",
    "from io import StringIO \n",
    "\n",
    "from pandas import DataFrame\n",
    "\n",
    "import numpy as np\n",
    "import pandas as pd\n",
    "import matplotlib.pyplot as plt\n",
    "import matplotlib as mpl\n",
    "from sklearn.datasets import load_boston\n",
    "from sklearn import linear_model\n",
    "from sklearn.metrics import r2_score\n",
    "from sklearn.pipeline import make_pipeline\n",
    "from sklearn.preprocessing import PolynomialFeatures\n",
    "from sklearn.preprocessing import StandardScaler\n",
    "import statsmodels.api as sm\n",
    "import statsmodels.formula.api as smf\n",
    "\n",
    "import seaborn as sb\n",
    "\n",
    "import copy\n",
    "\n",
    "import joblib\n",
    "\n",
    "%matplotlib inline "
   ]
  },
  {
   "cell_type": "code",
   "execution_count": 2,
   "metadata": {},
   "outputs": [
    {
     "name": "stdout",
     "output_type": "stream",
     "text": [
      "/Users/jonatasilva/Documents/ProjetosPython/python/venv37/lib/python3.7/site-packages/joblib/__init__.py\n"
     ]
    }
   ],
   "source": [
    "\n",
    "print(joblib.__file__)"
   ]
  },
  {
   "cell_type": "code",
   "execution_count": 3,
   "metadata": {},
   "outputs": [],
   "source": [
    "class CqkProblem:\n",
    "    def __init__(self, r, n, d, a, b, low, up):\n",
    "        self.n = n\n",
    "        self.r = r\n",
    "        self.d = list(d)\n",
    "        self.a = list(a)\n",
    "        self.b = list(b)\n",
    "        self.low = list(low)\n",
    "        self.up = list(up)"
   ]
  },
  {
   "cell_type": "code",
   "execution_count": 4,
   "metadata": {},
   "outputs": [],
   "source": [
    "def generate_cqk_problem_uncorrelated(n):\n",
    "    d = []\n",
    "    low = []\n",
    "    up = []\n",
    "    b = []\n",
    "    a = []\n",
    "    temp = 0\n",
    "    lb = 0.0\n",
    "    ub = 0.0\n",
    "    lower = 10\n",
    "    upper = 25\n",
    "    r = 0\n",
    "\n",
    "    for i in range(n):\n",
    "        \n",
    "        b.append(10 + 14*random.random())\n",
    "        low.append(1 + 14*random.random())\n",
    "        up.append(1 + 14*random.random())\n",
    "        if low[i] > up[i]:\n",
    "            temp = low[i]\n",
    "            low[i] = up[i]\n",
    "            up[i] = temp\n",
    "        \n",
    "        lb = lb + b[i]*low[i];\n",
    "        ub = ub + b[i]*up[i];\n",
    "        \n",
    "        #Uncorrelated\n",
    "        d.append(random.randint(10,25))\n",
    "        a.append(random.randint(10,25))\n",
    "        \n",
    "    r = lb + (ub - lb)*0.7;\n",
    "    \n",
    "    return CqkProblem( r, n, d, a, b, low, up)\n",
    "\n",
    "def generate_cqk_problem_correlated(n):\n",
    "    d = []\n",
    "    low = []\n",
    "    up = []\n",
    "    b = []\n",
    "    a = []\n",
    "    temp = 0\n",
    "    lb = 0.0\n",
    "    ub = 0.0\n",
    "    lower = 10\n",
    "    upper = 25\n",
    "    r = 0\n",
    "\n",
    "    for i in range(n):\n",
    "        \n",
    "        b.append(10 + 14*random.random())\n",
    "        low.append(1 + 14*random.random())\n",
    "        up.append(1 + 14*random.random())\n",
    "        if low[i] > up[i]:\n",
    "            temp = low[i]\n",
    "            low[i] = up[i]\n",
    "            up[i] = temp\n",
    "        \n",
    "        lb = lb + b[i]*low[i];\n",
    "        ub = ub + b[i]*up[i];\n",
    "        \n",
    "        # correlated:\n",
    "        \n",
    "        d.append(b[i] + 5.0)\n",
    "        a.append(b[i] + 5.0)\n",
    "        \n",
    "        \n",
    "        \n",
    "    r = lb + (ub - lb)*0.7;\n",
    "    \n",
    "    return CqkProblem( r, n, d, a, b, low, up)"
   ]
  },
  {
   "cell_type": "code",
   "execution_count": 5,
   "metadata": {},
   "outputs": [],
   "source": [
    "\n",
    "def initial_lambda(p, lamb):\n",
    "    s0=0.0\n",
    "    q0=0.0\n",
    "    slopes = []\n",
    "    for i in range(p.n):\n",
    "        slopes.append((p.b[i]/p.d[i])*p.b[i])\n",
    "        s0 = s0 + (p.a[i] * p.b[i]) / p.d[i]\n",
    "        q0 = q0 + (p.b[i] * p.b[i]) / p.d[i]\n",
    "    lamb = (p.r-s0)/q0\n",
    "    return lamb, slopes"
   ]
  },
  {
   "cell_type": "code",
   "execution_count": 6,
   "metadata": {},
   "outputs": [],
   "source": [
    "def phi_lambda(p,lamb,phi,deriv,slopes,r):\n",
    "    deriv = 0.0\n",
    "    phi = r * -1\n",
    "    x = []\n",
    "    \n",
    "    for i in range(p.n):\n",
    "        \n",
    "        x.append( (p.b[i] * lamb + p.a[i])/p.d[i])\n",
    "\n",
    "        if x[i] < p.low[i]:\n",
    "            x[i] = p.low[i]\n",
    "        elif x[i] > p.up[i]:\n",
    "            x[i] = p.up[i]\n",
    "        else:\n",
    "            deriv = deriv + slopes[i];\n",
    "        phi = phi + p.b[i] * x[i];\n",
    "    return deriv, phi, x"
   ]
  },
  {
   "cell_type": "code",
   "execution_count": 7,
   "metadata": {},
   "outputs": [],
   "source": [
    "MAX_IT = 20\n",
    "INFINITO_NEGATIVO = -999999999;\n",
    "INFINITO_POSITIVO = 999999999;\n",
    "\n",
    "def newton(p):\n",
    "    lambs = [] \n",
    "    phis = []\n",
    "    derivs = []\n",
    "    phi = 0\n",
    "    lamb = 0\n",
    "    alfa = INFINITO_NEGATIVO;\n",
    "    beta = INFINITO_POSITIVO;\n",
    "    phi_alfa = 0.0;\n",
    "    phi_beta = 0.0;\n",
    "    deriv = 0\n",
    "    x = []\n",
    "    r = p.r\n",
    "    \n",
    "    lamb, slopes = initial_lambda(p,lamb)\n",
    "    deriv, phi, x = phi_lambda(p,lamb,phi,deriv,slopes,r)\n",
    "    lambs.append(lamb)\n",
    "    derivs.append(deriv)\n",
    "    phis.append(phi)\n",
    "    it = 1\n",
    "#     print(it, deriv, phi,lamb)\n",
    "    negativo = False\n",
    "    while phi != 0.0 and it <= MAX_IT:\n",
    "        if phi > 0:\n",
    "#             print(\"positivo\")\n",
    "            beta = lamb\n",
    "            lambda_n = 0.0\n",
    "            if deriv > 0.0:\n",
    "                \n",
    "                lambda_n = lamb - (phi/deriv)\n",
    "                if abs(lambda_n - lamb) <= 0.00000000001:\n",
    "                    phi = 0.0\n",
    "                    break\n",
    "                if lambda_n > alfa:\n",
    "                    lamb = lambda_n\n",
    "                else:\n",
    "#                     print(\"aqui\")\n",
    "                    phi_beta = phi;\n",
    "#                     lamb = secant(p,x,alfa,beta,phi_alfa,phi_beta,r);\n",
    "#             if deriv == 0.0:\n",
    "#                 lamb = breakpoint_to_the_left(p,lamb);\n",
    "#                 if lamb <= INFINITO_NEGATIVO or lamb >= INFINITO_POSITIVO:\n",
    "#                     break\n",
    "                \n",
    "        else:\n",
    "            if it == 1:\n",
    "                negativo = True\n",
    "#             print(\"negativo\")\n",
    "            alfa = lamb;\n",
    "            lambda_n = 0.0;\n",
    "\n",
    "            if deriv > 0.0:\n",
    "                lambda_n = lamb - (phi/deriv)\n",
    "                if abs(lambda_n - lamb) <= 0.00000000001:\n",
    "                    phi = 0.0\n",
    "                    break\n",
    "                \n",
    "                if lambda_n < beta:\n",
    "                    lamb = lambda_n\n",
    "                else:\n",
    "#                     print(\"aqui\")\n",
    "                    phi_alfa = phi;\n",
    "#                     lamb = secant(p,x,alfa,beta,phi_alfa,phi_beta,r);\n",
    "#             if deriv == 0.0:\n",
    "#                 lamb = breakpoint_to_the_right(p,lamb)\n",
    "#                 if lamb <= INFINITO_NEGATIVO or lamb >= INFINITO_POSITIVO:\n",
    "#                     break\n",
    "        \n",
    "        \n",
    "        deriv, phi, x = phi_lambda(p,lamb,phi,deriv,slopes,r)\n",
    "        it = it + 1\n",
    "        lambs.append(lamb)\n",
    "        derivs.append(deriv)\n",
    "        phis.append(phi)\n",
    "        \n",
    "    if phi == 0.0:\n",
    "        return it,lambs, derivs, phis,slopes\n",
    "    elif alfa == beta:\n",
    "        return -1,lambs, derivs, phis,slopes\n",
    "    else:\n",
    "        return -2,lambs, derivs, phis,slopes"
   ]
  },
  {
   "cell_type": "code",
   "execution_count": 8,
   "metadata": {},
   "outputs": [],
   "source": [
    "MAX_IT = 20\n",
    "INFINITO_NEGATIVO = -999999999;\n",
    "INFINITO_POSITIVO = 999999999;\n",
    "\n",
    "def newton_new_lamb(p,lamb,phi,deriv,slopes):\n",
    "    lambs = [] \n",
    "    phis = []\n",
    "    derivs = []\n",
    "    alfa = INFINITO_NEGATIVO;\n",
    "    beta = INFINITO_POSITIVO;\n",
    "    phi_alfa = 0.0;\n",
    "    phi_beta = 0.0;\n",
    "    deriv = 0\n",
    "    x = []\n",
    "    r = p.r\n",
    "    \n",
    "    deriv, phi, x = phi_lambda(p,lamb,phi,deriv,slopes,r)\n",
    "    lambs.append(lamb)\n",
    "    derivs.append(deriv)\n",
    "    phis.append(phi)\n",
    "    it = 1\n",
    "#     print(it, deriv, phi,lamb)\n",
    "    while phi != 0.0 and it <= MAX_IT:\n",
    "        if phi > 0:\n",
    "#             print(\"positivo\")\n",
    "            beta = lamb\n",
    "            lambda_n = 0.0\n",
    "            if deriv > 0.0:\n",
    "                \n",
    "                lambda_n = lamb - (phi/deriv)\n",
    "                if abs(lambda_n - lamb) <= 0.00000000001:\n",
    "                    phi = 0.0\n",
    "                    break\n",
    "                if lambda_n > alfa:\n",
    "                    lamb = lambda_n\n",
    "                else:\n",
    "#                     print(\"aqui\")\n",
    "                    phi_beta = phi;\n",
    "#                     lamb = secant(p,x,alfa,beta,phi_alfa,phi_beta,r);\n",
    "#             if deriv == 0.0:\n",
    "#                 lamb = breakpoint_to_the_left(p,lamb);\n",
    "#                 if lamb <= INFINITO_NEGATIVO or lamb >= INFINITO_POSITIVO:\n",
    "#                     break\n",
    "                \n",
    "        else:\n",
    "#             print(\"negativo\")\n",
    "            alfa = lamb;\n",
    "            lambda_n = 0.0;\n",
    "\n",
    "            if deriv > 0.0:\n",
    "                lambda_n = lamb - (phi/deriv)\n",
    "                if abs(lambda_n - lamb) <= 0.00000000001:\n",
    "                    phi = 0.0\n",
    "                    break\n",
    "                \n",
    "                if lambda_n < beta:\n",
    "                    lamb = lambda_n\n",
    "                else:\n",
    "#                     print(\"aqui\")\n",
    "                    phi_alfa = phi;\n",
    "#                     lamb = secant(p,x,alfa,beta,phi_alfa,phi_beta,r);\n",
    "#             if deriv == 0.0:\n",
    "#                 lamb = breakpoint_to_the_right(p,lamb)\n",
    "#                 if lamb <= INFINITO_NEGATIVO or lamb >= INFINITO_POSITIVO:\n",
    "#                     break\n",
    "        \n",
    "        \n",
    "        deriv, phi, x = phi_lambda(p,lamb,phi,deriv,slopes,r)\n",
    "        it = it + 1\n",
    "        lambs.append(lamb)\n",
    "        derivs.append(deriv)\n",
    "        phis.append(phi)\n",
    "        \n",
    "    if phi == 0.0:\n",
    "        return it,lambs, derivs, phis,slopes\n",
    "    elif alfa == beta:\n",
    "        return -1,lambs, derivs, phis,slopes\n",
    "    else:\n",
    "        return -2,lambs, derivs, phis,slopes"
   ]
  },
  {
   "cell_type": "code",
   "execution_count": 9,
   "metadata": {},
   "outputs": [],
   "source": [
    "lista = []\n",
    "for i in range(1):\n",
    "    n = 10000\n",
    "    p = generate_cqk_problem_correlated(n)\n",
    "    it,lambs, derivs, phis,slopes = newton(p)\n",
    "    soma_a = 0\n",
    "    soma_b = 0\n",
    "    soma_low = 0\n",
    "    soma_d = 0\n",
    "    soma_up = 0\n",
    "    for i in range(n):\n",
    "        soma_a += p.a[i]\n",
    "        soma_b += p.b[i]\n",
    "        soma_low += p.low[i]\n",
    "        soma_d += p.d[i]\n",
    "        soma_up += p.up[i]\n",
    "    soma_a = soma_a/n\n",
    "    soma_b = soma_b/n\n",
    "    soma_low = soma_low/n\n",
    "    soma_d = soma_d/n\n",
    "    soma_up = soma_up/n\n",
    "    r = p.r/n\n",
    "    \n",
    "    new_deriv = []\n",
    "    new_phi = []\n",
    "    new_lamb = []\n",
    "    add_lamb = 5\n",
    "    for i in range(3):\n",
    "#         newLamb = lambs[i+1]+random.uniform(-0.1, 0.1)\n",
    "        newLamb = add_lamb\n",
    "        deriv, phi, x = phi_lambda(p,newLamb,0,0,slopes,p.r)\n",
    "        new_deriv.append(deriv)\n",
    "        new_phi.append(phi)\n",
    "        new_lamb.append(newLamb)\n",
    "        add_lamb += 2\n",
    "        \n",
    "    sum_slopes = sum(slopes)\n",
    "    if it > 3:\n",
    "        l_rs = [new_lamb[0],new_phi[0],new_deriv[0],new_lamb[1],new_phi[1],new_deriv[1],new_lamb[2],new_phi[2],new_deriv[2],lambs[-1]]\n",
    "\n",
    "\n",
    "#         l_rs = [soma_a, soma_b, soma_d, r,lambs[0],phis[0],derivs[0],sum_slopes,lambs[1],phis[1],derivs[1],lambs[2],lambs[3],lambs[-1]]\n",
    "#         l_rs = [soma_a, soma_b, soma_d, r,lambs[0],lambs[1],lambs[2],lambs[3],lambs[-1]]\n",
    "\n",
    "\n",
    "        lista.append(l_rs)"
   ]
  },
  {
   "cell_type": "code",
   "execution_count": 10,
   "metadata": {},
   "outputs": [],
   "source": [
    "np.savetxt('instance_test.txt', lista, delimiter = ' ',newline='\\n', fmt=\"%f\")"
   ]
  },
  {
   "cell_type": "code",
   "execution_count": null,
   "metadata": {},
   "outputs": [],
   "source": []
  },
  {
   "cell_type": "code",
   "execution_count": 234,
   "metadata": {},
   "outputs": [],
   "source": [
    "c = ''\n",
    "with open(\"uncorrelated_8dot65_9_10k.txt\", \"r\") as fd:\n",
    "    c = StringIO(fd.read())\n",
    "    \n",
    "d = c.read()\n",
    "c = StringIO(d) \n",
    "d = np.loadtxt(c) \n",
    "feature_names = ['8.8','9','final_lamb']\n",
    "# feature_names = ['second_lamb','second_phi','second_deriv','third_lamb','third_phi','third_deriv','fourth_lamb','fourth_phi','fourth_deriv','final_lamb']\n",
    "# \n",
    "# feature_names = ['a','b','d','r','inicital_lamb','second_lamb','third_lamb','fourth_lamb','final_lamb']\n",
    "\n",
    "\n",
    "knapsack = {\"data\":d, \"feature_names\": feature_names}\n",
    "dataset = pd.DataFrame(knapsack['data'], columns = knapsack['feature_names'])"
   ]
  },
  {
   "cell_type": "code",
   "execution_count": null,
   "metadata": {},
   "outputs": [],
   "source": []
  },
  {
   "cell_type": "code",
   "execution_count": 241,
   "metadata": {},
   "outputs": [],
   "source": [
    "# Coletando x e y\n",
    "\n",
    "X = dataset.iloc[:,:-1]\n",
    "y = dataset['final_lamb'].values"
   ]
  },
  {
   "cell_type": "code",
   "execution_count": 242,
   "metadata": {},
   "outputs": [
    {
     "data": {
      "text/html": [
       "<div>\n",
       "<style scoped>\n",
       "    .dataframe tbody tr th:only-of-type {\n",
       "        vertical-align: middle;\n",
       "    }\n",
       "\n",
       "    .dataframe tbody tr th {\n",
       "        vertical-align: top;\n",
       "    }\n",
       "\n",
       "    .dataframe thead th {\n",
       "        text-align: right;\n",
       "    }\n",
       "</style>\n",
       "<table border=\"1\" class=\"dataframe\">\n",
       "  <thead>\n",
       "    <tr style=\"text-align: right;\">\n",
       "      <th></th>\n",
       "      <th>8.8</th>\n",
       "      <th>9</th>\n",
       "      <th>final_lamb</th>\n",
       "    </tr>\n",
       "  </thead>\n",
       "  <tbody>\n",
       "    <tr>\n",
       "      <th>0</th>\n",
       "      <td>998.939432</td>\n",
       "      <td>11516.765565</td>\n",
       "      <td>8.781304</td>\n",
       "    </tr>\n",
       "    <tr>\n",
       "      <th>1</th>\n",
       "      <td>433.817675</td>\n",
       "      <td>10788.134706</td>\n",
       "      <td>8.791802</td>\n",
       "    </tr>\n",
       "    <tr>\n",
       "      <th>2</th>\n",
       "      <td>-1274.833885</td>\n",
       "      <td>9360.533744</td>\n",
       "      <td>8.823496</td>\n",
       "    </tr>\n",
       "    <tr>\n",
       "      <th>3</th>\n",
       "      <td>1349.016643</td>\n",
       "      <td>12169.717208</td>\n",
       "      <td>8.775503</td>\n",
       "    </tr>\n",
       "    <tr>\n",
       "      <th>4</th>\n",
       "      <td>-2120.130726</td>\n",
       "      <td>8595.188800</td>\n",
       "      <td>8.839068</td>\n",
       "    </tr>\n",
       "    <tr>\n",
       "      <th>...</th>\n",
       "      <td>...</td>\n",
       "      <td>...</td>\n",
       "      <td>...</td>\n",
       "    </tr>\n",
       "    <tr>\n",
       "      <th>9995</th>\n",
       "      <td>3458.912349</td>\n",
       "      <td>13763.245923</td>\n",
       "      <td>8.734889</td>\n",
       "    </tr>\n",
       "    <tr>\n",
       "      <th>9996</th>\n",
       "      <td>-2379.431462</td>\n",
       "      <td>7966.956837</td>\n",
       "      <td>8.845568</td>\n",
       "    </tr>\n",
       "    <tr>\n",
       "      <th>9997</th>\n",
       "      <td>-7367.160706</td>\n",
       "      <td>3240.113655</td>\n",
       "      <td>8.938663</td>\n",
       "    </tr>\n",
       "    <tr>\n",
       "      <th>9998</th>\n",
       "      <td>-6796.679985</td>\n",
       "      <td>3974.820355</td>\n",
       "      <td>8.925512</td>\n",
       "    </tr>\n",
       "    <tr>\n",
       "      <th>9999</th>\n",
       "      <td>-2597.441305</td>\n",
       "      <td>7768.755107</td>\n",
       "      <td>8.849752</td>\n",
       "    </tr>\n",
       "  </tbody>\n",
       "</table>\n",
       "<p>10000 rows × 3 columns</p>\n",
       "</div>"
      ],
      "text/plain": [
       "              8.8             9  final_lamb\n",
       "0      998.939432  11516.765565    8.781304\n",
       "1      433.817675  10788.134706    8.791802\n",
       "2    -1274.833885   9360.533744    8.823496\n",
       "3     1349.016643  12169.717208    8.775503\n",
       "4    -2120.130726   8595.188800    8.839068\n",
       "...           ...           ...         ...\n",
       "9995  3458.912349  13763.245923    8.734889\n",
       "9996 -2379.431462   7966.956837    8.845568\n",
       "9997 -7367.160706   3240.113655    8.938663\n",
       "9998 -6796.679985   3974.820355    8.925512\n",
       "9999 -2597.441305   7768.755107    8.849752\n",
       "\n",
       "[10000 rows x 3 columns]"
      ]
     },
     "execution_count": 242,
     "metadata": {},
     "output_type": "execute_result"
    }
   ],
   "source": [
    "dataset"
   ]
  },
  {
   "cell_type": "code",
   "execution_count": 243,
   "metadata": {},
   "outputs": [],
   "source": [
    "from sklearn.datasets import load_breast_cancer\n",
    "from sklearn.model_selection import train_test_split\n",
    "from sklearn.preprocessing import StandardScaler"
   ]
  },
  {
   "cell_type": "code",
   "execution_count": 244,
   "metadata": {},
   "outputs": [],
   "source": [
    "X_train, X_test, y_train, y_test = train_test_split(X, y)"
   ]
  },
  {
   "cell_type": "code",
   "execution_count": 245,
   "metadata": {},
   "outputs": [
    {
     "data": {
      "text/plain": [
       "StandardScaler(copy=True, with_mean=True, with_std=True)"
      ]
     },
     "execution_count": 245,
     "metadata": {},
     "output_type": "execute_result"
    }
   ],
   "source": [
    "# Padronização\n",
    "scaler = StandardScaler()\n",
    "scaler.fit(X_train)"
   ]
  },
  {
   "cell_type": "code",
   "execution_count": 246,
   "metadata": {},
   "outputs": [],
   "source": [
    "# Aplicando a padronização aos dados\n",
    "X_train_p = scaler.transform(X_train)\n",
    "X_test_p = scaler.transform(X_test)"
   ]
  },
  {
   "cell_type": "code",
   "execution_count": 247,
   "metadata": {},
   "outputs": [],
   "source": [
    "# joblib.dump(scaler, 'scaler_final_lamb.bin', compress=True)"
   ]
  },
  {
   "cell_type": "code",
   "execution_count": 248,
   "metadata": {},
   "outputs": [],
   "source": [
    "\n",
    "# from sklearn.neural_network import MLPClassifier\n",
    "from sklearn.neural_network import MLPRegressor"
   ]
  },
  {
   "cell_type": "code",
   "execution_count": 272,
   "metadata": {},
   "outputs": [],
   "source": [
    "# mlp = MLPClassifier(hidden_layer_sizes = (30,30,30))\n",
    "regr = MLPRegressor(hidden_layer_sizes=(100,),activation='identity',random_state=1, max_iter=10000,\n",
    "                    tol=1e-100, epsilon=1e-100,alpha=1e-100).fit(X_train_p, y_train)\n",
    "\n"
   ]
  },
  {
   "cell_type": "code",
   "execution_count": 273,
   "metadata": {},
   "outputs": [],
   "source": [
    "# model = 'model_final_lamb.sav'\n",
    "# joblib.dump(regr, model)"
   ]
  },
  {
   "cell_type": "code",
   "execution_count": 274,
   "metadata": {},
   "outputs": [
    {
     "data": {
      "text/plain": [
       "MLPRegressor(activation='identity', alpha=1e-100, batch_size='auto', beta_1=0.9,\n",
       "             beta_2=0.999, early_stopping=False, epsilon=1e-100,\n",
       "             hidden_layer_sizes=(100,), learning_rate='constant',\n",
       "             learning_rate_init=0.001, max_fun=15000, max_iter=10000,\n",
       "             momentum=0.9, n_iter_no_change=10, nesterovs_momentum=True,\n",
       "             power_t=0.5, random_state=1, shuffle=True, solver='adam',\n",
       "             tol=1e-100, validation_fraction=0.1, verbose=False,\n",
       "             warm_start=False)"
      ]
     },
     "execution_count": 274,
     "metadata": {},
     "output_type": "execute_result"
    }
   ],
   "source": [
    "regr.fit(X_train_p, y_train)"
   ]
  },
  {
   "cell_type": "code",
   "execution_count": 275,
   "metadata": {},
   "outputs": [
    {
     "data": {
      "text/plain": [
       "array([8.91836261, 8.91992131, 8.80830725, 8.82249557, 8.84065973,\n",
       "       8.81008627, 8.92376262, 8.86939933, 8.88516737, 8.78387318,\n",
       "       8.80922976, 8.88403374, 8.87769505, 8.88955872, 8.99584875,\n",
       "       8.91379096, 8.92303831, 8.81972319, 8.89794182, 8.82808251])"
      ]
     },
     "execution_count": 275,
     "metadata": {},
     "output_type": "execute_result"
    }
   ],
   "source": [
    "regr.predict(X_test_p[:20])"
   ]
  },
  {
   "cell_type": "code",
   "execution_count": 276,
   "metadata": {},
   "outputs": [
    {
     "data": {
      "text/plain": [
       "0.9997698018156511"
      ]
     },
     "execution_count": 276,
     "metadata": {},
     "output_type": "execute_result"
    }
   ],
   "source": [
    "regr.score(X_test_p, y_test)"
   ]
  },
  {
   "cell_type": "code",
   "execution_count": 277,
   "metadata": {},
   "outputs": [
    {
     "data": {
      "text/plain": [
       "array([8.917912, 8.920503, 8.808109, 8.82227 , 8.840487, 8.80983 ,\n",
       "       8.925825, 8.86954 , 8.885374, 8.784202, 8.80832 , 8.884178,\n",
       "       8.878104, 8.890569, 8.996152, 8.914208, 8.923754, 8.818915,\n",
       "       8.897967, 8.828483])"
      ]
     },
     "execution_count": 277,
     "metadata": {},
     "output_type": "execute_result"
    }
   ],
   "source": [
    "y_test[:20]"
   ]
  },
  {
   "cell_type": "code",
   "execution_count": null,
   "metadata": {},
   "outputs": [],
   "source": []
  },
  {
   "cell_type": "code",
   "execution_count": 278,
   "metadata": {},
   "outputs": [],
   "source": [
    "def phi_lambda_two(p,lamb1,lamb2,r):\n",
    "    \n",
    "    slopes = []\n",
    "    \n",
    "    deriv2 = 0\n",
    "    phi2 = r * -1\n",
    "    \n",
    "    deriv1 = 0\n",
    "    phi1 = r * -1\n",
    "\n",
    "    x2 = []\n",
    "    x1 = []\n",
    "    \n",
    "    for i in range(p.n):\n",
    "        \n",
    "        slopes.append((p.b[i]/p.d[i])*p.b[i])\n",
    "        \n",
    "        x1.append( (p.b[i] * lamb1 + p.a[i])/p.d[i])\n",
    "\n",
    "        if x1[i] < p.low[i]:\n",
    "            x1[i] = p.low[i]\n",
    "        elif x1[i] > p.up[i]:\n",
    "            x1[i] = p.up[i]\n",
    "        else:\n",
    "            deriv1 = deriv1 + slopes[i];\n",
    "        phi1 = phi1 + p.b[i] * x1[i];\n",
    "        \n",
    "#         ########\n",
    "        \n",
    "        x2.append( (p.b[i] * lamb2 + p.a[i])/p.d[i])\n",
    "\n",
    "        if x2[i] < p.low[i]:\n",
    "            x2[i] = p.low[i]\n",
    "        elif x2[i] > p.up[i]:\n",
    "            x2[i] = p.up[i]\n",
    "        else:\n",
    "            deriv2 = deriv2 + slopes[i];\n",
    "        phi2 = phi2 + p.b[i] * x2[i];\n",
    "        \n",
    "        #########\n",
    "        \n",
    "#         x3.append( (p.b[i] * lamb3 + p.a[i])/p.d[i])\n",
    "\n",
    "#         if x3[i] < p.low[i]:\n",
    "#             x3[i] = p.low[i]\n",
    "#         elif x3[i] > p.up[i]:\n",
    "#             x3[i] = p.up[i]\n",
    "#         else:\n",
    "#             deriv3 = deriv3 + slopes[i];\n",
    "#         phi3 = phi3 + p.b[i] * x3[i];\n",
    "\n",
    "            \n",
    "    return deriv1,phi1,deriv2,phi2,slopes"
   ]
  },
  {
   "cell_type": "code",
   "execution_count": 185,
   "metadata": {},
   "outputs": [
    {
     "name": "stdout",
     "output_type": "stream",
     "text": [
      "CPU times: user 1.16 s, sys: 18.9 ms, total: 1.18 s\n",
      "Wall time: 1.18 s\n"
     ]
    }
   ],
   "source": [
    "%%time\n",
    "n = 100000\n",
    "pp = generate_cqk_problem_uncorrelated(n)\n",
    "itt,lambss, derivss, phiss,slopess = newton(pp)\n"
   ]
  },
  {
   "cell_type": "code",
   "execution_count": 186,
   "metadata": {},
   "outputs": [
    {
     "data": {
      "text/plain": [
       "(5,\n",
       " [7.079128137133873,\n",
       "  8.64758357658087,\n",
       "  8.846770538026858,\n",
       "  8.85007127780266,\n",
       "  8.85007233000119],\n",
       " [-1084716.902796639,\n",
       "  -110189.02511160079,\n",
       "  -1768.2848997277817,\n",
       "  -0.5633393140714134,\n",
       "  -8.684102681399963e-08])"
      ]
     },
     "execution_count": 186,
     "metadata": {},
     "output_type": "execute_result"
    }
   ],
   "source": [
    "itt,lambss, phiss"
   ]
  },
  {
   "cell_type": "code",
   "execution_count": 187,
   "metadata": {},
   "outputs": [
    {
     "name": "stdout",
     "output_type": "stream",
     "text": [
      "CPU times: user 744 ms, sys: 10.4 ms, total: 754 ms\n",
      "Wall time: 757 ms\n"
     ]
    }
   ],
   "source": [
    "%%time\n",
    "deriv1, phi1,deriv2,phi2,slopess= phi_lambda_two(pp,8.65,9,pp.r)\n",
    "\n",
    "\n",
    "\n",
    "result = regr.predict(scaler.transform(np.asarray([[phi1/10,phi2/10]])))[0]\n",
    "\n",
    "itt,lambss, derivss, phiss,slopess = newton_new_lamb(pp,result,deriv1, phi1,slopess)\n"
   ]
  },
  {
   "cell_type": "code",
   "execution_count": 188,
   "metadata": {},
   "outputs": [
    {
     "data": {
      "text/plain": [
       "(540052.4456611348,\n",
       " -26916.86175528933,\n",
       " 522337.8687502952,\n",
       " 79293.86441992896,\n",
       " 8.850185254414571)"
      ]
     },
     "execution_count": 188,
     "metadata": {},
     "output_type": "execute_result"
    }
   ],
   "source": [
    "deriv1, phi1,deriv2,phi2,result"
   ]
  },
  {
   "cell_type": "code",
   "execution_count": 189,
   "metadata": {},
   "outputs": [
    {
     "data": {
      "text/plain": [
       "[8.850185254414571, 8.850072330001243]"
      ]
     },
     "execution_count": 189,
     "metadata": {},
     "output_type": "execute_result"
    }
   ],
   "source": [
    "lambss"
   ]
  },
  {
   "cell_type": "code",
   "execution_count": 191,
   "metadata": {},
   "outputs": [
    {
     "data": {
      "text/plain": [
       "-0.9997968845512765"
      ]
     },
     "execution_count": 191,
     "metadata": {},
     "output_type": "execute_result"
    }
   ],
   "source": [
    "dataset['8.8'].corr(dataset['final_lamb'])"
   ]
  },
  {
   "cell_type": "code",
   "execution_count": 192,
   "metadata": {},
   "outputs": [
    {
     "data": {
      "image/png": "[encoded data removed]",
      "text/plain": [
       "<Figure size 1080x1080 with 2 Axes>"
      ]
     },
     "metadata": {
      "needs_background": "light"
     },
     "output_type": "display_data"
    }
   ],
   "source": [
    "train_data = dataset.iloc[:,:-1]\n",
    "train_data['Target'] = dataset['final_lamb']\n",
    "# train_data = dataset[8]\n",
    "# train_data['Target'] = target\n",
    "\n",
    "C_mat = train_data.corr()\n",
    "fig = plt.figure(figsize = (15,15))\n",
    "\n",
    "sb.heatmap(C_mat, vmax = .8, square = False)\n",
    "plt.show()"
   ]
  },
  {
   "cell_type": "code",
   "execution_count": 193,
   "metadata": {},
   "outputs": [
    {
     "data": {
      "image/png": "[encoded data removed]",
      "text/plain": [
       "<Figure size 1152x720 with 2 Axes>"
      ]
     },
     "metadata": {
      "needs_background": "light"
     },
     "output_type": "display_data"
    }
   ],
   "source": [
    "plt.figure(figsize=(16,10))\n",
    "sb.heatmap(dataset.corr(), annot=True, annot_kws={\"size\":14})\n",
    "# sns.set_style('white')\n",
    "plt.xticks(fontsize=14)\n",
    "plt.yticks(fontsize=14)\n",
    "plt.show()"
   ]
  },
  {
   "cell_type": "code",
   "execution_count": null,
   "metadata": {},
   "outputs": [],
   "source": []
  },
  {
   "cell_type": "code",
   "execution_count": 195,
   "metadata": {},
   "outputs": [
    {
     "data": {
      "image/png": "[encoded data removed]",
      "text/plain": [
       "<Figure size 720x432 with 1 Axes>"
      ]
     },
     "metadata": {
      "needs_background": "light"
     },
     "output_type": "display_data"
    }
   ],
   "source": [
    "data = {'t': dataset['8.8'],\n",
    "        'y': dataset['final_lamb'],\n",
    "       }\n",
    "\n",
    "df = pd.DataFrame (data, columns = ['t','y'])\n",
    "\n",
    "Xx = DataFrame(data,columns=['t'])\n",
    "yy = DataFrame(data,columns=['y'])\n",
    "\n",
    "plt.figure(figsize=(10,6))\n",
    "plt.scatter(Xx,yy,s=1)\n",
    "plt.xlabel('y')\n",
    "plt.ylabel('t(y)')\n",
    "plt.show()"
   ]
  },
  {
   "cell_type": "code",
   "execution_count": 210,
   "metadata": {},
   "outputs": [
    {
     "data": {
      "text/html": [
       "<div>\n",
       "<style scoped>\n",
       "    .dataframe tbody tr th:only-of-type {\n",
       "        vertical-align: middle;\n",
       "    }\n",
       "\n",
       "    .dataframe tbody tr th {\n",
       "        vertical-align: top;\n",
       "    }\n",
       "\n",
       "    .dataframe thead th {\n",
       "        text-align: right;\n",
       "    }\n",
       "</style>\n",
       "<table border=\"1\" class=\"dataframe\">\n",
       "  <thead>\n",
       "    <tr style=\"text-align: right;\">\n",
       "      <th></th>\n",
       "      <th>8.8</th>\n",
       "      <th>9</th>\n",
       "      <th>final_lamb</th>\n",
       "    </tr>\n",
       "  </thead>\n",
       "  <tbody>\n",
       "    <tr>\n",
       "      <th>0</th>\n",
       "      <td>998.939432</td>\n",
       "      <td>11516.765565</td>\n",
       "      <td>8.781304</td>\n",
       "    </tr>\n",
       "    <tr>\n",
       "      <th>1</th>\n",
       "      <td>433.817675</td>\n",
       "      <td>10788.134706</td>\n",
       "      <td>8.791802</td>\n",
       "    </tr>\n",
       "    <tr>\n",
       "      <th>2</th>\n",
       "      <td>-1274.833885</td>\n",
       "      <td>9360.533744</td>\n",
       "      <td>8.823496</td>\n",
       "    </tr>\n",
       "    <tr>\n",
       "      <th>3</th>\n",
       "      <td>1349.016643</td>\n",
       "      <td>12169.717208</td>\n",
       "      <td>8.775503</td>\n",
       "    </tr>\n",
       "    <tr>\n",
       "      <th>4</th>\n",
       "      <td>-2120.130726</td>\n",
       "      <td>8595.188800</td>\n",
       "      <td>8.839068</td>\n",
       "    </tr>\n",
       "    <tr>\n",
       "      <th>...</th>\n",
       "      <td>...</td>\n",
       "      <td>...</td>\n",
       "      <td>...</td>\n",
       "    </tr>\n",
       "    <tr>\n",
       "      <th>9995</th>\n",
       "      <td>3458.912349</td>\n",
       "      <td>13763.245923</td>\n",
       "      <td>8.734889</td>\n",
       "    </tr>\n",
       "    <tr>\n",
       "      <th>9996</th>\n",
       "      <td>-2379.431462</td>\n",
       "      <td>7966.956837</td>\n",
       "      <td>8.845568</td>\n",
       "    </tr>\n",
       "    <tr>\n",
       "      <th>9997</th>\n",
       "      <td>-7367.160706</td>\n",
       "      <td>3240.113655</td>\n",
       "      <td>8.938663</td>\n",
       "    </tr>\n",
       "    <tr>\n",
       "      <th>9998</th>\n",
       "      <td>-6796.679985</td>\n",
       "      <td>3974.820355</td>\n",
       "      <td>8.925512</td>\n",
       "    </tr>\n",
       "    <tr>\n",
       "      <th>9999</th>\n",
       "      <td>-2597.441305</td>\n",
       "      <td>7768.755107</td>\n",
       "      <td>8.849752</td>\n",
       "    </tr>\n",
       "  </tbody>\n",
       "</table>\n",
       "<p>10000 rows × 3 columns</p>\n",
       "</div>"
      ],
      "text/plain": [
       "              8.8             9  final_lamb\n",
       "0      998.939432  11516.765565    8.781304\n",
       "1      433.817675  10788.134706    8.791802\n",
       "2    -1274.833885   9360.533744    8.823496\n",
       "3     1349.016643  12169.717208    8.775503\n",
       "4    -2120.130726   8595.188800    8.839068\n",
       "...           ...           ...         ...\n",
       "9995  3458.912349  13763.245923    8.734889\n",
       "9996 -2379.431462   7966.956837    8.845568\n",
       "9997 -7367.160706   3240.113655    8.938663\n",
       "9998 -6796.679985   3974.820355    8.925512\n",
       "9999 -2597.441305   7768.755107    8.849752\n",
       "\n",
       "[10000 rows x 3 columns]"
      ]
     },
     "execution_count": 210,
     "metadata": {},
     "output_type": "execute_result"
    }
   ],
   "source": [
    "dataset"
   ]
  },
  {
   "cell_type": "code",
   "execution_count": 211,
   "metadata": {},
   "outputs": [],
   "source": [
    "from sklearn import linear_model"
   ]
  },
  {
   "cell_type": "code",
   "execution_count": 212,
   "metadata": {},
   "outputs": [],
   "source": [
    "modelo = linear_model.LinearRegression(normalize = False, fit_intercept = True)"
   ]
  },
  {
   "cell_type": "code",
   "execution_count": 223,
   "metadata": {},
   "outputs": [
    {
     "data": {
      "text/html": [
       "<div>\n",
       "<style scoped>\n",
       "    .dataframe tbody tr th:only-of-type {\n",
       "        vertical-align: middle;\n",
       "    }\n",
       "\n",
       "    .dataframe tbody tr th {\n",
       "        vertical-align: top;\n",
       "    }\n",
       "\n",
       "    .dataframe thead th {\n",
       "        text-align: right;\n",
       "    }\n",
       "</style>\n",
       "<table border=\"1\" class=\"dataframe\">\n",
       "  <thead>\n",
       "    <tr style=\"text-align: right;\">\n",
       "      <th></th>\n",
       "      <th>8.8</th>\n",
       "    </tr>\n",
       "  </thead>\n",
       "  <tbody>\n",
       "    <tr>\n",
       "      <th>6612</th>\n",
       "      <td>-4503.337392</td>\n",
       "    </tr>\n",
       "    <tr>\n",
       "      <th>3418</th>\n",
       "      <td>-3128.407894</td>\n",
       "    </tr>\n",
       "    <tr>\n",
       "      <th>3800</th>\n",
       "      <td>-5214.531697</td>\n",
       "    </tr>\n",
       "    <tr>\n",
       "      <th>2550</th>\n",
       "      <td>-2359.668885</td>\n",
       "    </tr>\n",
       "    <tr>\n",
       "      <th>4911</th>\n",
       "      <td>-2736.533906</td>\n",
       "    </tr>\n",
       "    <tr>\n",
       "      <th>...</th>\n",
       "      <td>...</td>\n",
       "    </tr>\n",
       "    <tr>\n",
       "      <th>125</th>\n",
       "      <td>-6771.544480</td>\n",
       "    </tr>\n",
       "    <tr>\n",
       "      <th>2683</th>\n",
       "      <td>-2390.499197</td>\n",
       "    </tr>\n",
       "    <tr>\n",
       "      <th>114</th>\n",
       "      <td>273.152985</td>\n",
       "    </tr>\n",
       "    <tr>\n",
       "      <th>7996</th>\n",
       "      <td>-6976.464518</td>\n",
       "    </tr>\n",
       "    <tr>\n",
       "      <th>3083</th>\n",
       "      <td>-4264.149505</td>\n",
       "    </tr>\n",
       "  </tbody>\n",
       "</table>\n",
       "<p>7500 rows × 1 columns</p>\n",
       "</div>"
      ],
      "text/plain": [
       "              8.8\n",
       "6612 -4503.337392\n",
       "3418 -3128.407894\n",
       "3800 -5214.531697\n",
       "2550 -2359.668885\n",
       "4911 -2736.533906\n",
       "...           ...\n",
       "125  -6771.544480\n",
       "2683 -2390.499197\n",
       "114    273.152985\n",
       "7996 -6976.464518\n",
       "3083 -4264.149505\n",
       "\n",
       "[7500 rows x 1 columns]"
      ]
     },
     "execution_count": 223,
     "metadata": {},
     "output_type": "execute_result"
    }
   ],
   "source": [
    "X_train"
   ]
  },
  {
   "cell_type": "code",
   "execution_count": 225,
   "metadata": {},
   "outputs": [],
   "source": [
    "# Define os valores de x e y\n",
    "num_observ = len(X_train)\n",
    "X = X_train['8.8'].values.reshape((num_observ, 1)) # X deve sempre ser uma matriz e nunca um vetor\n",
    "y = y_train # y pode ser um vetor"
   ]
  },
  {
   "cell_type": "code",
   "execution_count": 226,
   "metadata": {},
   "outputs": [
    {
     "data": {
      "text/plain": [
       "LinearRegression(copy_X=True, fit_intercept=True, n_jobs=None, normalize=False)"
      ]
     },
     "execution_count": 226,
     "metadata": {},
     "output_type": "execute_result"
    }
   ],
   "source": [
    "# Aplica o modelo - fit()\n",
    "modelo.fit(X,y)"
   ]
  },
  {
   "cell_type": "code",
   "execution_count": 227,
   "metadata": {},
   "outputs": [
    {
     "name": "stdout",
     "output_type": "stream",
     "text": [
      "[-1.86894287e-05]\n",
      "8.800023206638496\n"
     ]
    }
   ],
   "source": [
    "# Imprime os coeficientes\n",
    "print (modelo.coef_)\n",
    "print (modelo.intercept_)"
   ]
  },
  {
   "cell_type": "code",
   "execution_count": 232,
   "metadata": {},
   "outputs": [
    {
     "name": "stdout",
     "output_type": "stream",
     "text": [
      "[8.94444812 8.90174749 8.84202032 8.82572719 8.88624282 8.80740456\n",
      " 8.89122898 8.84421848 8.8718007  8.86789322]\n"
     ]
    }
   ],
   "source": [
    "# Imprime as previsões\n",
    "\n",
    "X_train, X_test, y_train, y_test\n",
    "\n",
    "print (modelo.predict(X_test)[:10])"
   ]
  },
  {
   "cell_type": "code",
   "execution_count": 231,
   "metadata": {},
   "outputs": [
    {
     "data": {
      "text/plain": [
       "array([8.946693, 8.899553, 8.842027, 8.826188, 8.884848, 8.807297,\n",
       "       8.888021, 8.844302, 8.870469, 8.867642])"
      ]
     },
     "execution_count": 231,
     "metadata": {},
     "output_type": "execute_result"
    }
   ],
   "source": [
    "y_test[:10]"
   ]
  },
  {
   "cell_type": "code",
   "execution_count": 233,
   "metadata": {},
   "outputs": [
    {
     "data": {
      "text/plain": [
       "0.9995957516156395"
      ]
     },
     "execution_count": 233,
     "metadata": {},
     "output_type": "execute_result"
    }
   ],
   "source": [
    "modelo.score(X, y)"
   ]
  },
  {
   "cell_type": "code",
   "execution_count": null,
   "metadata": {},
   "outputs": [],
   "source": []
  },
  {
   "cell_type": "code",
   "execution_count": null,
   "metadata": {},
   "outputs": [],
   "source": []
  },
  {
   "cell_type": "code",
   "execution_count": 220,
   "metadata": {},
   "outputs": [
    {
     "data": {
      "text/html": [
       "<div>\n",
       "<style scoped>\n",
       "    .dataframe tbody tr th:only-of-type {\n",
       "        vertical-align: middle;\n",
       "    }\n",
       "\n",
       "    .dataframe tbody tr th {\n",
       "        vertical-align: top;\n",
       "    }\n",
       "\n",
       "    .dataframe thead th {\n",
       "        text-align: right;\n",
       "    }\n",
       "</style>\n",
       "<table border=\"1\" class=\"dataframe\">\n",
       "  <thead>\n",
       "    <tr style=\"text-align: right;\">\n",
       "      <th></th>\n",
       "      <th>8.8</th>\n",
       "      <th>9</th>\n",
       "      <th>final_lamb</th>\n",
       "    </tr>\n",
       "  </thead>\n",
       "  <tbody>\n",
       "    <tr>\n",
       "      <th>0</th>\n",
       "      <td>998.939432</td>\n",
       "      <td>11516.765565</td>\n",
       "      <td>8.781304</td>\n",
       "    </tr>\n",
       "    <tr>\n",
       "      <th>1</th>\n",
       "      <td>433.817675</td>\n",
       "      <td>10788.134706</td>\n",
       "      <td>8.791802</td>\n",
       "    </tr>\n",
       "    <tr>\n",
       "      <th>2</th>\n",
       "      <td>-1274.833885</td>\n",
       "      <td>9360.533744</td>\n",
       "      <td>8.823496</td>\n",
       "    </tr>\n",
       "    <tr>\n",
       "      <th>3</th>\n",
       "      <td>1349.016643</td>\n",
       "      <td>12169.717208</td>\n",
       "      <td>8.775503</td>\n",
       "    </tr>\n",
       "    <tr>\n",
       "      <th>4</th>\n",
       "      <td>-2120.130726</td>\n",
       "      <td>8595.188800</td>\n",
       "      <td>8.839068</td>\n",
       "    </tr>\n",
       "    <tr>\n",
       "      <th>...</th>\n",
       "      <td>...</td>\n",
       "      <td>...</td>\n",
       "      <td>...</td>\n",
       "    </tr>\n",
       "    <tr>\n",
       "      <th>9995</th>\n",
       "      <td>3458.912349</td>\n",
       "      <td>13763.245923</td>\n",
       "      <td>8.734889</td>\n",
       "    </tr>\n",
       "    <tr>\n",
       "      <th>9996</th>\n",
       "      <td>-2379.431462</td>\n",
       "      <td>7966.956837</td>\n",
       "      <td>8.845568</td>\n",
       "    </tr>\n",
       "    <tr>\n",
       "      <th>9997</th>\n",
       "      <td>-7367.160706</td>\n",
       "      <td>3240.113655</td>\n",
       "      <td>8.938663</td>\n",
       "    </tr>\n",
       "    <tr>\n",
       "      <th>9998</th>\n",
       "      <td>-6796.679985</td>\n",
       "      <td>3974.820355</td>\n",
       "      <td>8.925512</td>\n",
       "    </tr>\n",
       "    <tr>\n",
       "      <th>9999</th>\n",
       "      <td>-2597.441305</td>\n",
       "      <td>7768.755107</td>\n",
       "      <td>8.849752</td>\n",
       "    </tr>\n",
       "  </tbody>\n",
       "</table>\n",
       "<p>10000 rows × 3 columns</p>\n",
       "</div>"
      ],
      "text/plain": [
       "              8.8             9  final_lamb\n",
       "0      998.939432  11516.765565    8.781304\n",
       "1      433.817675  10788.134706    8.791802\n",
       "2    -1274.833885   9360.533744    8.823496\n",
       "3     1349.016643  12169.717208    8.775503\n",
       "4    -2120.130726   8595.188800    8.839068\n",
       "...           ...           ...         ...\n",
       "9995  3458.912349  13763.245923    8.734889\n",
       "9996 -2379.431462   7966.956837    8.845568\n",
       "9997 -7367.160706   3240.113655    8.938663\n",
       "9998 -6796.679985   3974.820355    8.925512\n",
       "9999 -2597.441305   7768.755107    8.849752\n",
       "\n",
       "[10000 rows x 3 columns]"
      ]
     },
     "execution_count": 220,
     "metadata": {},
     "output_type": "execute_result"
    }
   ],
   "source": [
    "dataset"
   ]
  },
  {
   "cell_type": "code",
   "execution_count": 157,
   "metadata": {},
   "outputs": [],
   "source": [
    "final = 0\n",
    "for index, row in dataset.iterrows():\n",
    "    final += row['final_lamb']"
   ]
  },
  {
   "cell_type": "code",
   "execution_count": 160,
   "metadata": {},
   "outputs": [
    {
     "data": {
      "text/plain": [
       "88493.13098800003"
      ]
     },
     "execution_count": 160,
     "metadata": {},
     "output_type": "execute_result"
    }
   ],
   "source": [
    "final"
   ]
  },
  {
   "cell_type": "code",
   "execution_count": null,
   "metadata": {},
   "outputs": [],
   "source": []
  }
 ],
 "metadata": {
  "kernelspec": {
   "display_name": "Python 3",
   "language": "python",
   "name": "python3"
  },
  "language_info": {
   "codemirror_mode": {
    "name": "ipython",
    "version": 3
   },
   "file_extension": ".py",
   "mimetype": "text/x-python",
   "name": "python",
   "nbconvert_exporter": "python",
   "pygments_lexer": "ipython3",
   "version": "3.7.3"
  }
 },
 "nbformat": 4,
 "nbformat_minor": 4
}
