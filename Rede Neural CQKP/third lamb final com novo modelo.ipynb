{
 "cells": [
  {
   "cell_type": "code",
   "execution_count": 390,
   "metadata": {},
   "outputs": [],
   "source": [
    "import random\n",
    "\n",
    "# StringIO behaves like a file object \n",
    "from io import StringIO \n",
    "\n",
    "import numpy as np\n",
    "import pandas as pd\n",
    "import matplotlib.pyplot as plt\n",
    "import matplotlib as mpl\n",
    "from sklearn.datasets import load_boston\n",
    "from sklearn import linear_model\n",
    "from sklearn.metrics import r2_score\n",
    "from sklearn.pipeline import make_pipeline\n",
    "from sklearn.preprocessing import PolynomialFeatures\n",
    "from sklearn.preprocessing import StandardScaler\n",
    "import statsmodels.api as sm\n",
    "import statsmodels.formula.api as smf\n",
    "\n",
    "import copy\n",
    "\n",
    "\n",
    "from sklearn.datasets import load_breast_cancer\n",
    "from sklearn.model_selection import train_test_split\n",
    "from sklearn.preprocessing import StandardScaler\n",
    "\n",
    "# from sklearn.neural_network import MLPClassifier\n",
    "from sklearn.neural_network import MLPRegressor\n",
    "\n",
    "import joblib\n",
    "\n",
    "%matplotlib inline "
   ]
  },
  {
   "cell_type": "code",
   "execution_count": 391,
   "metadata": {},
   "outputs": [],
   "source": [
    "class CqkProblem:\n",
    "    def __init__(self, r, n, d, a, b, low, up):\n",
    "        self.n = n\n",
    "        self.r = r\n",
    "        self.d = list(d)\n",
    "        self.a = list(a)\n",
    "        self.b = list(b)\n",
    "        self.low = list(low)\n",
    "        self.up = list(up)"
   ]
  },
  {
   "cell_type": "code",
   "execution_count": 392,
   "metadata": {},
   "outputs": [],
   "source": [
    "def generate_cqk_problem(n):\n",
    "    d = []\n",
    "    low = []\n",
    "    up = []\n",
    "    b = []\n",
    "    a = []\n",
    "    temp = 0\n",
    "    lb = 0.0\n",
    "    ub = 0.0\n",
    "    lower = 10\n",
    "    upper = 25\n",
    "    r = 0\n",
    "\n",
    "    for i in range(n):\n",
    "        \n",
    "        b.append(10 + 14*random.random())\n",
    "        low.append(1 + 14*random.random())\n",
    "        up.append(1 + 14*random.random())\n",
    "        if low[i] > up[i]:\n",
    "            temp = low[i]\n",
    "            low[i] = up[i]\n",
    "            up[i] = temp\n",
    "        \n",
    "        lb = lb + b[i]*low[i];\n",
    "        ub = ub + b[i]*up[i];\n",
    "        \n",
    "        #Uncorrelated\n",
    "        d.append(random.randint(10,25))\n",
    "        a.append(random.randint(10,25))\n",
    "        \n",
    "    r = lb + (ub - lb)*0.7;\n",
    "    \n",
    "    return CqkProblem( r, n, d, a, b, low, up)"
   ]
  },
  {
   "cell_type": "code",
   "execution_count": 393,
   "metadata": {},
   "outputs": [],
   "source": [
    "\n",
    "def initial_lambda(p, lamb):\n",
    "    s0=0.0\n",
    "    q0=0.0\n",
    "    slopes = []\n",
    "    for i in range(p.n):\n",
    "        slopes.append((p.b[i]/p.d[i])*p.b[i])\n",
    "        s0 = s0 + (p.a[i] * p.b[i]) / p.d[i]\n",
    "        q0 = q0 + (p.b[i] * p.b[i]) / p.d[i]\n",
    "    lamb = (p.r-s0)/q0\n",
    "    return lamb, slopes"
   ]
  },
  {
   "cell_type": "code",
   "execution_count": 394,
   "metadata": {},
   "outputs": [],
   "source": [
    "def phi_lambda(p,lamb,phi,deriv,slopes,r):\n",
    "    deriv = 0.0\n",
    "    phi = r * -1\n",
    "    x = []\n",
    "    \n",
    "    for i in range(p.n):\n",
    "        x.append( (p.b[i] * lamb + p.a[i])/p.d[i])\n",
    "\n",
    "        if x[i] < p.low[i]:\n",
    "            x[i] = p.low[i]\n",
    "        elif x[i] > p.up[i]:\n",
    "            x[i] = p.up[i]\n",
    "        else:\n",
    "            deriv = deriv + slopes[i];\n",
    "        phi = phi + p.b[i] * x[i];\n",
    "    return deriv, phi, x"
   ]
  },
  {
   "cell_type": "code",
   "execution_count": 395,
   "metadata": {},
   "outputs": [],
   "source": [
    "MAX_IT = 10\n",
    "INFINITO_NEGATIVO = -999999999;\n",
    "INFINITO_POSITIVO = 999999999;\n",
    "\n",
    "def newton(p):\n",
    "    lambs = [] \n",
    "    derivs = []\n",
    "    phis = []\n",
    "    phi = 0\n",
    "    lamb = 0\n",
    "    alfa = INFINITO_NEGATIVO;\n",
    "    beta = INFINITO_POSITIVO;\n",
    "    phi_alfa = 0.0;\n",
    "    phi_beta = 0.0;\n",
    "    deriv = 0\n",
    "    x = []\n",
    "    r = p.r\n",
    "    \n",
    "    lamb, slopes = initial_lambda(p,lamb)\n",
    "    deriv, phi, x = phi_lambda(p,lamb,phi,deriv,slopes,r)\n",
    "    lambs.append(lamb)\n",
    "    derivs.append(deriv)\n",
    "    phis.append(phi)\n",
    "    \n",
    "    it = 1\n",
    "    \n",
    "    while phi != 0.0 and it <= MAX_IT:\n",
    "        if phi > 0:\n",
    "#             print(\"positivo\")\n",
    "            beta = lamb\n",
    "            lambda_n = 0.0\n",
    "            if deriv > 0.0:\n",
    "                \n",
    "                lambda_n = lamb - (phi/deriv)\n",
    "                if abs(lambda_n - lamb) <= 0.00000000001:\n",
    "                    phi = 0.0\n",
    "                    break\n",
    "                if lambda_n > alfa:\n",
    "                    lamb = lambda_n\n",
    "                else:\n",
    "#                     print(\"aqui\")\n",
    "                    phi_beta = phi;\n",
    "#                     lamb = secant(p,x,alfa,beta,phi_alfa,phi_beta,r);\n",
    "#             if deriv == 0.0:\n",
    "#                 lamb = breakpoint_to_the_left(p,lamb);\n",
    "#                 if lamb <= INFINITO_NEGATIVO or lamb >= INFINITO_POSITIVO:\n",
    "#                     break\n",
    "                \n",
    "        else:\n",
    "            if it == 1:\n",
    "                negativo = True\n",
    "#             print(\"negativo\")\n",
    "            alfa = lamb;\n",
    "            lambda_n = 0.0;\n",
    "\n",
    "            if deriv > 0.0:\n",
    "                lambda_n = lamb - (phi/deriv)\n",
    "                if abs(lambda_n - lamb) <= 0.00000000001:\n",
    "                    phi = 0.0\n",
    "                    break\n",
    "                \n",
    "                if lambda_n < beta:\n",
    "                    lamb = lambda_n\n",
    "                else:\n",
    "#                     print(\"aqui\")\n",
    "                    phi_alfa = phi;\n",
    "#                     lamb = secant(p,x,alfa,beta,phi_alfa,phi_beta,r);\n",
    "#             if deriv == 0.0:\n",
    "#                 lamb = breakpoint_to_the_right(p,lamb)\n",
    "#                 if lamb <= INFINITO_NEGATIVO or lamb >= INFINITO_POSITIVO:\n",
    "#                     break\n",
    "        \n",
    "        \n",
    "        deriv, phi, x = phi_lambda(p,lamb,phi,deriv,slopes,r)\n",
    "        it = it + 1\n",
    "        lambs.append(lamb)\n",
    "        derivs.append(deriv)\n",
    "        phis.append(phi)\n",
    "        sum_slopes = sum(slopes)\n",
    "        \n",
    "    if phi == 0.0:\n",
    "        return it,lambs,derivs,phis,sum_slopes\n",
    "    elif alfa == beta:\n",
    "        return -1,lambs,derivs,phis,sum_slopes\n",
    "    else:\n",
    "        return -2,lambs,derivs,phis,sum_slopes"
   ]
  },
  {
   "cell_type": "code",
   "execution_count": 396,
   "metadata": {},
   "outputs": [],
   "source": [
    "MAX_IT = 10\n",
    "INFINITO_NEGATIVO = -999999999;\n",
    "INFINITO_POSITIVO = 999999999;\n",
    "\n",
    "def new_newton(p,slopes):\n",
    "    lambs = [] \n",
    "    derivs = []\n",
    "    phis = []\n",
    "    alfa = INFINITO_NEGATIVO;\n",
    "    beta = INFINITO_POSITIVO;\n",
    "    phi_alfa = 0.0;\n",
    "    phi_beta = 0.0;\n",
    "    x = []\n",
    "    r = p.r\n",
    "    \n",
    "    lamb = 8.88138793613069\n",
    "    deriv = 26525.250920050636\n",
    "    phi = -100.90696513877992\n",
    "    \n",
    "    deriv, phi, x = phi_lambda(p,lamb,phi,deriv,slopes,r)\n",
    "\n",
    "    it = 1\n",
    "    \n",
    "    while phi != 0.0 and it <= MAX_IT:\n",
    "        if phi > 0:\n",
    "#             print(\"positivo\")\n",
    "            beta = lamb\n",
    "            lambda_n = 0.0\n",
    "            if deriv > 0.0:\n",
    "                \n",
    "                lambda_n = lamb - (phi/deriv)\n",
    "                if abs(lambda_n - lamb) <= 0.00000000001:\n",
    "                    phi = 0.0\n",
    "                    break\n",
    "                if lambda_n > alfa:\n",
    "                    lamb = lambda_n\n",
    "                else:\n",
    "#                     print(\"aqui\")\n",
    "                    phi_beta = phi;\n",
    "#                     lamb = secant(p,x,alfa,beta,phi_alfa,phi_beta,r);\n",
    "#             if deriv == 0.0:\n",
    "#                 lamb = breakpoint_to_the_left(p,lamb);\n",
    "#                 if lamb <= INFINITO_NEGATIVO or lamb >= INFINITO_POSITIVO:\n",
    "#                     break\n",
    "                \n",
    "        else:\n",
    "            if it == 1:\n",
    "                negativo = True\n",
    "#             print(\"negativo\")\n",
    "            alfa = lamb;\n",
    "            lambda_n = 0.0;\n",
    "\n",
    "            if deriv > 0.0:\n",
    "                lambda_n = lamb - (phi/deriv)\n",
    "                if abs(lambda_n - lamb) <= 0.00000000001:\n",
    "                    phi = 0.0\n",
    "                    break\n",
    "                \n",
    "                if lambda_n < beta:\n",
    "                    lamb = lambda_n\n",
    "                else:\n",
    "#                     print(\"aqui\")\n",
    "                    phi_alfa = phi;\n",
    "#                     lamb = secant(p,x,alfa,beta,phi_alfa,phi_beta,r);\n",
    "#             if deriv == 0.0:\n",
    "#                 lamb = breakpoint_to_the_right(p,lamb)\n",
    "#                 if lamb <= INFINITO_NEGATIVO or lamb >= INFINITO_POSITIVO:\n",
    "#                     break\n",
    "        \n",
    "        \n",
    "        deriv, phi, x = phi_lambda(p,lamb,phi,deriv,slopes,r)\n",
    "        it = it + 1\n",
    "        lambs.append(lamb)\n",
    "        derivs.append(deriv)\n",
    "        phis.append(phi)\n",
    "        sum_slopes = sum(slopes)\n",
    "        \n",
    "    if phi == 0.0:\n",
    "        return it,lambs,derivs,phis,sum_slopes\n",
    "    elif alfa == beta:\n",
    "        return -1,lambs,derivs,phis,sum_slopes\n",
    "    else:\n",
    "        return -2,lambs,derivs,phis,sum_slopes"
   ]
  },
  {
   "cell_type": "code",
   "execution_count": 362,
   "metadata": {},
   "outputs": [],
   "source": [
    "\n",
    "c = ''\n",
    "with open(\"instance_test_1000x20000_edited_init_lamb.txt\", \"r\") as fd:\n",
    "    c = StringIO(fd.read())\n",
    "    \n",
    "d = c.read()\n",
    "c = StringIO(d) \n",
    "d = np.loadtxt(c) \n",
    "\n",
    "feature_names = ['a','b','d','r','inicital_lamb','init_phi','init_deriv','sum_slopes','second_lambda','third_lamb','fourth_lamb','second_phi','second_deriv','final_lamb']\n",
    "\n",
    "\n"
   ]
  },
  {
   "cell_type": "code",
   "execution_count": 363,
   "metadata": {},
   "outputs": [],
   "source": [
    "knapsack = {\"data\":d, \"feature_names\": feature_names}\n",
    "dataset = pd.DataFrame(knapsack['data'], columns = knapsack['feature_names'])"
   ]
  },
  {
   "cell_type": "code",
   "execution_count": 369,
   "metadata": {},
   "outputs": [],
   "source": [
    "# Coletando x e y\n",
    "\n",
    "X_lamb_init = dataset.iloc[:,:-9]\n",
    "y_lamb_init = dataset['second_lambda'].values\n"
   ]
  },
  {
   "cell_type": "code",
   "execution_count": 367,
   "metadata": {},
   "outputs": [],
   "source": [
    "del dataset['inicital_lamb']"
   ]
  },
  {
   "cell_type": "code",
   "execution_count": 385,
   "metadata": {},
   "outputs": [],
   "source": [
    "scaler=joblib.load('scaler_initial_lamb.bin')\n",
    "loaded_model = joblib.load('finalized_model_initial_lamb.sav')\n",
    "list_init_lamb = []\n",
    "for index, row in X_lamb_init.iterrows():\n",
    "    x_values_lamb_init = scaler.transform(np.asarray([row]))\n",
    "    list_init_lamb.append(loaded_model.predict(x_values_lamb_init)[0])"
   ]
  },
  {
   "cell_type": "code",
   "execution_count": 388,
   "metadata": {},
   "outputs": [],
   "source": [
    "dataset.insert(4, \"initial_lamb\", list_init_lamb, True)"
   ]
  },
  {
   "cell_type": "code",
   "execution_count": 389,
   "metadata": {},
   "outputs": [
    {
     "data": {
      "text/html": [
       "<div>\n",
       "<style scoped>\n",
       "    .dataframe tbody tr th:only-of-type {\n",
       "        vertical-align: middle;\n",
       "    }\n",
       "\n",
       "    .dataframe tbody tr th {\n",
       "        vertical-align: top;\n",
       "    }\n",
       "\n",
       "    .dataframe thead th {\n",
       "        text-align: right;\n",
       "    }\n",
       "</style>\n",
       "<table border=\"1\" class=\"dataframe\">\n",
       "  <thead>\n",
       "    <tr style=\"text-align: right;\">\n",
       "      <th></th>\n",
       "      <th>a</th>\n",
       "      <th>b</th>\n",
       "      <th>d</th>\n",
       "      <th>r</th>\n",
       "      <th>initial_lamb</th>\n",
       "      <th>init_phi</th>\n",
       "      <th>init_deriv</th>\n",
       "      <th>sum_slopes</th>\n",
       "      <th>second_lambda</th>\n",
       "      <th>third_lamb</th>\n",
       "      <th>fourth_lamb</th>\n",
       "      <th>second_phi</th>\n",
       "      <th>second_deriv</th>\n",
       "      <th>final_lamb</th>\n",
       "    </tr>\n",
       "  </thead>\n",
       "  <tbody>\n",
       "    <tr>\n",
       "      <th>0</th>\n",
       "      <td>17.563</td>\n",
       "      <td>17.137339</td>\n",
       "      <td>17.040</td>\n",
       "      <td>153.789637</td>\n",
       "      <td>6.842696</td>\n",
       "      <td>-10980.003494</td>\n",
       "      <td>6519.650825</td>\n",
       "      <td>19633.199608</td>\n",
       "      <td>8.545164</td>\n",
       "      <td>8.699830</td>\n",
       "      <td>8.702720</td>\n",
       "      <td>-819.579639</td>\n",
       "      <td>5299.040793</td>\n",
       "      <td>8.702723</td>\n",
       "    </tr>\n",
       "    <tr>\n",
       "      <th>1</th>\n",
       "      <td>17.693</td>\n",
       "      <td>16.860005</td>\n",
       "      <td>17.378</td>\n",
       "      <td>152.173745</td>\n",
       "      <td>7.154606</td>\n",
       "      <td>-10733.790555</td>\n",
       "      <td>6209.600581</td>\n",
       "      <td>18705.260923</td>\n",
       "      <td>8.874408</td>\n",
       "      <td>9.058557</td>\n",
       "      <td>9.062409</td>\n",
       "      <td>-939.632669</td>\n",
       "      <td>5102.561985</td>\n",
       "      <td>9.062409</td>\n",
       "    </tr>\n",
       "    <tr>\n",
       "      <th>2</th>\n",
       "      <td>17.427</td>\n",
       "      <td>17.091528</td>\n",
       "      <td>17.568</td>\n",
       "      <td>154.809150</td>\n",
       "      <td>7.206331</td>\n",
       "      <td>-12648.973495</td>\n",
       "      <td>7183.312077</td>\n",
       "      <td>19052.168439</td>\n",
       "      <td>8.922230</td>\n",
       "      <td>9.252729</td>\n",
       "      <td>9.263391</td>\n",
       "      <td>-1803.698408</td>\n",
       "      <td>5457.502063</td>\n",
       "      <td>9.263391</td>\n",
       "    </tr>\n",
       "    <tr>\n",
       "      <th>3</th>\n",
       "      <td>17.586</td>\n",
       "      <td>17.111238</td>\n",
       "      <td>17.412</td>\n",
       "      <td>155.648969</td>\n",
       "      <td>7.147207</td>\n",
       "      <td>-11665.257903</td>\n",
       "      <td>7289.355120</td>\n",
       "      <td>19248.063742</td>\n",
       "      <td>8.715292</td>\n",
       "      <td>8.917252</td>\n",
       "      <td>8.922372</td>\n",
       "      <td>-1172.620970</td>\n",
       "      <td>5806.202783</td>\n",
       "      <td>8.922369</td>\n",
       "    </tr>\n",
       "    <tr>\n",
       "      <th>4</th>\n",
       "      <td>17.582</td>\n",
       "      <td>17.216332</td>\n",
       "      <td>17.283</td>\n",
       "      <td>154.783176</td>\n",
       "      <td>6.948409</td>\n",
       "      <td>-10668.697650</td>\n",
       "      <td>6876.022142</td>\n",
       "      <td>19428.736025</td>\n",
       "      <td>8.545581</td>\n",
       "      <td>8.788623</td>\n",
       "      <td>8.794218</td>\n",
       "      <td>-1321.161360</td>\n",
       "      <td>5435.941733</td>\n",
       "      <td>8.794218</td>\n",
       "    </tr>\n",
       "    <tr>\n",
       "      <th>...</th>\n",
       "      <td>...</td>\n",
       "      <td>...</td>\n",
       "      <td>...</td>\n",
       "      <td>...</td>\n",
       "      <td>...</td>\n",
       "      <td>...</td>\n",
       "      <td>...</td>\n",
       "      <td>...</td>\n",
       "      <td>...</td>\n",
       "      <td>...</td>\n",
       "      <td>...</td>\n",
       "      <td>...</td>\n",
       "      <td>...</td>\n",
       "      <td>...</td>\n",
       "    </tr>\n",
       "    <tr>\n",
       "      <th>19989</th>\n",
       "      <td>17.411</td>\n",
       "      <td>17.016685</td>\n",
       "      <td>17.556</td>\n",
       "      <td>152.326709</td>\n",
       "      <td>7.134725</td>\n",
       "      <td>-11114.647829</td>\n",
       "      <td>7196.731251</td>\n",
       "      <td>18856.980521</td>\n",
       "      <td>8.655831</td>\n",
       "      <td>8.911568</td>\n",
       "      <td>8.912931</td>\n",
       "      <td>-1367.302879</td>\n",
       "      <td>5346.505145</td>\n",
       "      <td>8.912931</td>\n",
       "    </tr>\n",
       "    <tr>\n",
       "      <th>19990</th>\n",
       "      <td>17.353</td>\n",
       "      <td>16.815114</td>\n",
       "      <td>17.340</td>\n",
       "      <td>151.900359</td>\n",
       "      <td>7.176845</td>\n",
       "      <td>-10269.059269</td>\n",
       "      <td>7059.747514</td>\n",
       "      <td>18550.279684</td>\n",
       "      <td>8.660109</td>\n",
       "      <td>8.825953</td>\n",
       "      <td>8.829031</td>\n",
       "      <td>-971.013709</td>\n",
       "      <td>5854.988059</td>\n",
       "      <td>8.829031</td>\n",
       "    </tr>\n",
       "    <tr>\n",
       "      <th>19991</th>\n",
       "      <td>17.500</td>\n",
       "      <td>16.873401</td>\n",
       "      <td>17.507</td>\n",
       "      <td>152.081341</td>\n",
       "      <td>7.214224</td>\n",
       "      <td>-10496.290822</td>\n",
       "      <td>7170.427011</td>\n",
       "      <td>18524.373004</td>\n",
       "      <td>8.690782</td>\n",
       "      <td>8.927505</td>\n",
       "      <td>8.931318</td>\n",
       "      <td>-1337.699584</td>\n",
       "      <td>5650.902346</td>\n",
       "      <td>8.931323</td>\n",
       "    </tr>\n",
       "    <tr>\n",
       "      <th>19992</th>\n",
       "      <td>17.582</td>\n",
       "      <td>17.116986</td>\n",
       "      <td>17.458</td>\n",
       "      <td>149.919828</td>\n",
       "      <td>6.862662</td>\n",
       "      <td>-12707.758254</td>\n",
       "      <td>7378.410411</td>\n",
       "      <td>19187.950882</td>\n",
       "      <td>8.562879</td>\n",
       "      <td>8.892406</td>\n",
       "      <td>8.909531</td>\n",
       "      <td>-1769.309063</td>\n",
       "      <td>5369.248407</td>\n",
       "      <td>8.909558</td>\n",
       "    </tr>\n",
       "    <tr>\n",
       "      <th>19993</th>\n",
       "      <td>17.473</td>\n",
       "      <td>17.088098</td>\n",
       "      <td>17.375</td>\n",
       "      <td>151.246204</td>\n",
       "      <td>6.923087</td>\n",
       "      <td>-9801.254993</td>\n",
       "      <td>7487.451197</td>\n",
       "      <td>19190.326418</td>\n",
       "      <td>8.225945</td>\n",
       "      <td>8.375939</td>\n",
       "      <td>8.378781</td>\n",
       "      <td>-931.619193</td>\n",
       "      <td>6211.034798</td>\n",
       "      <td>8.378781</td>\n",
       "    </tr>\n",
       "  </tbody>\n",
       "</table>\n",
       "<p>19994 rows × 14 columns</p>\n",
       "</div>"
      ],
      "text/plain": [
       "            a          b       d           r  initial_lamb      init_phi  \\\n",
       "0      17.563  17.137339  17.040  153.789637      6.842696 -10980.003494   \n",
       "1      17.693  16.860005  17.378  152.173745      7.154606 -10733.790555   \n",
       "2      17.427  17.091528  17.568  154.809150      7.206331 -12648.973495   \n",
       "3      17.586  17.111238  17.412  155.648969      7.147207 -11665.257903   \n",
       "4      17.582  17.216332  17.283  154.783176      6.948409 -10668.697650   \n",
       "...       ...        ...     ...         ...           ...           ...   \n",
       "19989  17.411  17.016685  17.556  152.326709      7.134725 -11114.647829   \n",
       "19990  17.353  16.815114  17.340  151.900359      7.176845 -10269.059269   \n",
       "19991  17.500  16.873401  17.507  152.081341      7.214224 -10496.290822   \n",
       "19992  17.582  17.116986  17.458  149.919828      6.862662 -12707.758254   \n",
       "19993  17.473  17.088098  17.375  151.246204      6.923087  -9801.254993   \n",
       "\n",
       "        init_deriv    sum_slopes  second_lambda  third_lamb  fourth_lamb  \\\n",
       "0      6519.650825  19633.199608       8.545164    8.699830     8.702720   \n",
       "1      6209.600581  18705.260923       8.874408    9.058557     9.062409   \n",
       "2      7183.312077  19052.168439       8.922230    9.252729     9.263391   \n",
       "3      7289.355120  19248.063742       8.715292    8.917252     8.922372   \n",
       "4      6876.022142  19428.736025       8.545581    8.788623     8.794218   \n",
       "...            ...           ...            ...         ...          ...   \n",
       "19989  7196.731251  18856.980521       8.655831    8.911568     8.912931   \n",
       "19990  7059.747514  18550.279684       8.660109    8.825953     8.829031   \n",
       "19991  7170.427011  18524.373004       8.690782    8.927505     8.931318   \n",
       "19992  7378.410411  19187.950882       8.562879    8.892406     8.909531   \n",
       "19993  7487.451197  19190.326418       8.225945    8.375939     8.378781   \n",
       "\n",
       "        second_phi  second_deriv  final_lamb  \n",
       "0      -819.579639   5299.040793    8.702723  \n",
       "1      -939.632669   5102.561985    9.062409  \n",
       "2     -1803.698408   5457.502063    9.263391  \n",
       "3     -1172.620970   5806.202783    8.922369  \n",
       "4     -1321.161360   5435.941733    8.794218  \n",
       "...            ...           ...         ...  \n",
       "19989 -1367.302879   5346.505145    8.912931  \n",
       "19990  -971.013709   5854.988059    8.829031  \n",
       "19991 -1337.699584   5650.902346    8.931323  \n",
       "19992 -1769.309063   5369.248407    8.909558  \n",
       "19993  -931.619193   6211.034798    8.378781  \n",
       "\n",
       "[19994 rows x 14 columns]"
      ]
     },
     "execution_count": 389,
     "metadata": {},
     "output_type": "execute_result"
    }
   ],
   "source": [
    "dataset"
   ]
  },
  {
   "cell_type": "code",
   "execution_count": 308,
   "metadata": {},
   "outputs": [],
   "source": [
    "X_train_lamb_init, X_test_lamb_init, y_train_lamb_init, y_test_lamb_init = train_test_split(X_lamb_init, y_lamb_init)"
   ]
  },
  {
   "cell_type": "code",
   "execution_count": 309,
   "metadata": {},
   "outputs": [],
   "source": [
    "# Padronização\n",
    "scaler = StandardScaler()\n",
    "scaler.fit(X_train_lamb_init)\n",
    "\n",
    "# Aplicando a padronização aos dados\n",
    "X_train_p = scaler.transform(X_train_lamb_init)\n",
    "X_test_p = scaler.transform(X_test_lamb_init)"
   ]
  },
  {
   "cell_type": "code",
   "execution_count": 315,
   "metadata": {},
   "outputs": [
    {
     "data": {
      "text/plain": [
       "['scaler_second_lamb.bin']"
      ]
     },
     "execution_count": 315,
     "metadata": {},
     "output_type": "execute_result"
    }
   ],
   "source": [
    "joblib.dump(scaler, 'scaler_second_lamb.bin', compress=True)"
   ]
  },
  {
   "cell_type": "code",
   "execution_count": 316,
   "metadata": {},
   "outputs": [],
   "source": [
    "# mlp = MLPClassifier(hidden_layer_sizes = (30,30,30))\n",
    "regr_lamb_second = MLPRegressor(activation='logistic',random_state=1, max_iter=10000).fit(X_train_p, y_train_lamb_init)"
   ]
  },
  {
   "cell_type": "code",
   "execution_count": 333,
   "metadata": {},
   "outputs": [
    {
     "data": {
      "text/plain": [
       "MLPRegressor(activation='logistic', alpha=0.0001, batch_size='auto', beta_1=0.9,\n",
       "             beta_2=0.999, early_stopping=False, epsilon=1e-08,\n",
       "             hidden_layer_sizes=(100,), learning_rate='constant',\n",
       "             learning_rate_init=0.001, max_fun=15000, max_iter=10000,\n",
       "             momentum=0.9, n_iter_no_change=10, nesterovs_momentum=True,\n",
       "             power_t=0.5, random_state=1, shuffle=True, solver='adam',\n",
       "             tol=0.0001, validation_fraction=0.1, verbose=False,\n",
       "             warm_start=False)"
      ]
     },
     "execution_count": 333,
     "metadata": {},
     "output_type": "execute_result"
    }
   ],
   "source": [
    "regr_lamb_second.fit(X_train_p, y_train_lamb_init)"
   ]
  },
  {
   "cell_type": "code",
   "execution_count": 334,
   "metadata": {},
   "outputs": [
    {
     "data": {
      "text/plain": [
       "['finalized_model_second_lamb.sav']"
      ]
     },
     "execution_count": 334,
     "metadata": {},
     "output_type": "execute_result"
    }
   ],
   "source": [
    "finalized_model = 'finalized_model_second_lamb.sav'\n",
    "joblib.dump(regr_lamb_second, finalized_model)"
   ]
  },
  {
   "cell_type": "code",
   "execution_count": 335,
   "metadata": {},
   "outputs": [
    {
     "data": {
      "text/plain": [
       "0.9967608303295321"
      ]
     },
     "execution_count": 335,
     "metadata": {},
     "output_type": "execute_result"
    }
   ],
   "source": [
    "model = joblib.load('finalized_model_second_lamb.sav') \n",
    "model.score(X_test_p, y_test_lamb_init)"
   ]
  },
  {
   "cell_type": "code",
   "execution_count": 319,
   "metadata": {},
   "outputs": [
    {
     "data": {
      "text/plain": [
       "array([8.53990286, 8.63960156, 8.64482309, 8.67526504, 8.59986872,\n",
       "       8.70223379, 8.71827128, 8.62117701, 8.76436515, 8.57692405])"
      ]
     },
     "execution_count": 319,
     "metadata": {},
     "output_type": "execute_result"
    }
   ],
   "source": [
    "regr_lamb_init.predict(X_test_p[:10])"
   ]
  },
  {
   "cell_type": "code",
   "execution_count": 323,
   "metadata": {},
   "outputs": [
    {
     "data": {
      "text/plain": [
       "array([8.540671, 8.635876, 8.647532, 8.673911, 8.599964, 8.702917,\n",
       "       8.71377 , 8.622853, 8.762779, 8.574168])"
      ]
     },
     "execution_count": 323,
     "metadata": {},
     "output_type": "execute_result"
    }
   ],
   "source": [
    "y_test_lamb_init[:10]"
   ]
  },
  {
   "cell_type": "code",
   "execution_count": null,
   "metadata": {},
   "outputs": [],
   "source": []
  },
  {
   "cell_type": "code",
   "execution_count": null,
   "metadata": {},
   "outputs": [],
   "source": []
  },
  {
   "cell_type": "code",
   "execution_count": 124,
   "metadata": {},
   "outputs": [
    {
     "data": {
      "text/html": [
       "<div>\n",
       "<style scoped>\n",
       "    .dataframe tbody tr th:only-of-type {\n",
       "        vertical-align: middle;\n",
       "    }\n",
       "\n",
       "    .dataframe tbody tr th {\n",
       "        vertical-align: top;\n",
       "    }\n",
       "\n",
       "    .dataframe thead th {\n",
       "        text-align: right;\n",
       "    }\n",
       "</style>\n",
       "<table border=\"1\" class=\"dataframe\">\n",
       "  <thead>\n",
       "    <tr style=\"text-align: right;\">\n",
       "      <th></th>\n",
       "      <th>a</th>\n",
       "      <th>b</th>\n",
       "      <th>d</th>\n",
       "      <th>r</th>\n",
       "      <th>inicital_lamb</th>\n",
       "      <th>init_phi</th>\n",
       "      <th>init_deriv</th>\n",
       "      <th>sum_slopes</th>\n",
       "    </tr>\n",
       "  </thead>\n",
       "  <tbody>\n",
       "    <tr>\n",
       "      <th>0</th>\n",
       "      <td>17.4940</td>\n",
       "      <td>17.029666</td>\n",
       "      <td>17.5942</td>\n",
       "      <td>152.885619</td>\n",
       "      <td>7.161592</td>\n",
       "      <td>-54687.558901</td>\n",
       "      <td>35106.292801</td>\n",
       "      <td>93999.049662</td>\n",
       "    </tr>\n",
       "    <tr>\n",
       "      <th>1</th>\n",
       "      <td>17.4562</td>\n",
       "      <td>16.978139</td>\n",
       "      <td>17.5174</td>\n",
       "      <td>152.332254</td>\n",
       "      <td>7.145984</td>\n",
       "      <td>-54264.307048</td>\n",
       "      <td>35022.668258</td>\n",
       "      <td>93817.521347</td>\n",
       "    </tr>\n",
       "    <tr>\n",
       "      <th>2</th>\n",
       "      <td>17.5278</td>\n",
       "      <td>16.992513</td>\n",
       "      <td>17.4684</td>\n",
       "      <td>152.854383</td>\n",
       "      <td>7.133927</td>\n",
       "      <td>-54269.736971</td>\n",
       "      <td>34861.587275</td>\n",
       "      <td>94248.309884</td>\n",
       "    </tr>\n",
       "    <tr>\n",
       "      <th>3</th>\n",
       "      <td>17.5012</td>\n",
       "      <td>17.034433</td>\n",
       "      <td>17.4804</td>\n",
       "      <td>152.194909</td>\n",
       "      <td>7.046928</td>\n",
       "      <td>-54017.708919</td>\n",
       "      <td>34860.245225</td>\n",
       "      <td>94866.566281</td>\n",
       "    </tr>\n",
       "    <tr>\n",
       "      <th>4</th>\n",
       "      <td>17.4994</td>\n",
       "      <td>16.924226</td>\n",
       "      <td>17.5592</td>\n",
       "      <td>151.461236</td>\n",
       "      <td>7.139020</td>\n",
       "      <td>-53643.567519</td>\n",
       "      <td>34297.676209</td>\n",
       "      <td>93311.216624</td>\n",
       "    </tr>\n",
       "    <tr>\n",
       "      <th>...</th>\n",
       "      <td>...</td>\n",
       "      <td>...</td>\n",
       "      <td>...</td>\n",
       "      <td>...</td>\n",
       "      <td>...</td>\n",
       "      <td>...</td>\n",
       "      <td>...</td>\n",
       "      <td>...</td>\n",
       "    </tr>\n",
       "    <tr>\n",
       "      <th>9988</th>\n",
       "      <td>17.5362</td>\n",
       "      <td>17.029213</td>\n",
       "      <td>17.5334</td>\n",
       "      <td>151.224695</td>\n",
       "      <td>7.036200</td>\n",
       "      <td>-52336.987119</td>\n",
       "      <td>35305.604760</td>\n",
       "      <td>94416.033391</td>\n",
       "    </tr>\n",
       "    <tr>\n",
       "      <th>9989</th>\n",
       "      <td>17.6030</td>\n",
       "      <td>17.039789</td>\n",
       "      <td>17.5520</td>\n",
       "      <td>152.282310</td>\n",
       "      <td>7.080079</td>\n",
       "      <td>-55609.928752</td>\n",
       "      <td>34310.654507</td>\n",
       "      <td>94504.400377</td>\n",
       "    </tr>\n",
       "    <tr>\n",
       "      <th>9990</th>\n",
       "      <td>17.4690</td>\n",
       "      <td>17.107762</td>\n",
       "      <td>17.6414</td>\n",
       "      <td>151.084173</td>\n",
       "      <td>7.023715</td>\n",
       "      <td>-55532.227707</td>\n",
       "      <td>34416.401995</td>\n",
       "      <td>94541.681598</td>\n",
       "    </tr>\n",
       "    <tr>\n",
       "      <th>9991</th>\n",
       "      <td>17.5060</td>\n",
       "      <td>17.094586</td>\n",
       "      <td>17.5394</td>\n",
       "      <td>151.827955</td>\n",
       "      <td>7.028284</td>\n",
       "      <td>-54231.369650</td>\n",
       "      <td>35286.391565</td>\n",
       "      <td>94923.053496</td>\n",
       "    </tr>\n",
       "    <tr>\n",
       "      <th>9992</th>\n",
       "      <td>17.5510</td>\n",
       "      <td>16.938757</td>\n",
       "      <td>17.5566</td>\n",
       "      <td>150.704754</td>\n",
       "      <td>7.076231</td>\n",
       "      <td>-57194.463688</td>\n",
       "      <td>33279.137134</td>\n",
       "      <td>93554.503772</td>\n",
       "    </tr>\n",
       "  </tbody>\n",
       "</table>\n",
       "<p>9993 rows × 8 columns</p>\n",
       "</div>"
      ],
      "text/plain": [
       "            a          b        d           r  inicital_lamb      init_phi  \\\n",
       "0     17.4940  17.029666  17.5942  152.885619       7.161592 -54687.558901   \n",
       "1     17.4562  16.978139  17.5174  152.332254       7.145984 -54264.307048   \n",
       "2     17.5278  16.992513  17.4684  152.854383       7.133927 -54269.736971   \n",
       "3     17.5012  17.034433  17.4804  152.194909       7.046928 -54017.708919   \n",
       "4     17.4994  16.924226  17.5592  151.461236       7.139020 -53643.567519   \n",
       "...       ...        ...      ...         ...            ...           ...   \n",
       "9988  17.5362  17.029213  17.5334  151.224695       7.036200 -52336.987119   \n",
       "9989  17.6030  17.039789  17.5520  152.282310       7.080079 -55609.928752   \n",
       "9990  17.4690  17.107762  17.6414  151.084173       7.023715 -55532.227707   \n",
       "9991  17.5060  17.094586  17.5394  151.827955       7.028284 -54231.369650   \n",
       "9992  17.5510  16.938757  17.5566  150.704754       7.076231 -57194.463688   \n",
       "\n",
       "        init_deriv    sum_slopes  \n",
       "0     35106.292801  93999.049662  \n",
       "1     35022.668258  93817.521347  \n",
       "2     34861.587275  94248.309884  \n",
       "3     34860.245225  94866.566281  \n",
       "4     34297.676209  93311.216624  \n",
       "...            ...           ...  \n",
       "9988  35305.604760  94416.033391  \n",
       "9989  34310.654507  94504.400377  \n",
       "9990  34416.401995  94541.681598  \n",
       "9991  35286.391565  94923.053496  \n",
       "9992  33279.137134  93554.503772  \n",
       "\n",
       "[9993 rows x 8 columns]"
      ]
     },
     "execution_count": 124,
     "metadata": {},
     "output_type": "execute_result"
    }
   ],
   "source": [
    "# Coletando x e y\n",
    "\n",
    "X_lamb_final = dataset.iloc[:,:-4]\n",
    "y_lamb_final = dataset['final_lamb'].values\n",
    "\n",
    "X_lamb_final"
   ]
  },
  {
   "cell_type": "code",
   "execution_count": 125,
   "metadata": {},
   "outputs": [],
   "source": [
    "X_train_lamb_final, X_test_lamb_final, y_train_lamb_final, y_test_lamb_final = train_test_split(X_lamb_final, y_lamb_final)"
   ]
  },
  {
   "cell_type": "code",
   "execution_count": 126,
   "metadata": {},
   "outputs": [],
   "source": [
    "# Padronização\n",
    "scaler_final = StandardScaler()\n",
    "scaler_final.fit(X_train_lamb_final)\n",
    "\n",
    "# Aplicando a padronização aos dados\n",
    "X_train_p_final = scaler_final.transform(X_train_lamb_final)\n",
    "X_test_p_final = scaler_final.transform(X_test_lamb_final)"
   ]
  },
  {
   "cell_type": "code",
   "execution_count": 127,
   "metadata": {},
   "outputs": [],
   "source": [
    "# mlp = MLPClassifier(hidden_layer_sizes = (30,30,30))\n",
    "regr_lamb_final = MLPRegressor(activation='logistic',random_state=1, max_iter=10000).fit(X_train_p_final, y_train_lamb_final)"
   ]
  },
  {
   "cell_type": "code",
   "execution_count": 128,
   "metadata": {},
   "outputs": [
    {
     "data": {
      "text/plain": [
       "MLPRegressor(activation='logistic', alpha=0.0001, batch_size='auto', beta_1=0.9,\n",
       "             beta_2=0.999, early_stopping=False, epsilon=1e-08,\n",
       "             hidden_layer_sizes=(100,), learning_rate='constant',\n",
       "             learning_rate_init=0.001, max_fun=15000, max_iter=10000,\n",
       "             momentum=0.9, n_iter_no_change=10, nesterovs_momentum=True,\n",
       "             power_t=0.5, random_state=1, shuffle=True, solver='adam',\n",
       "             tol=0.0001, validation_fraction=0.1, verbose=False,\n",
       "             warm_start=False)"
      ]
     },
     "execution_count": 128,
     "metadata": {},
     "output_type": "execute_result"
    }
   ],
   "source": [
    "regr_lamb_final.fit(X_train_p_final, y_train_lamb_final)"
   ]
  },
  {
   "cell_type": "code",
   "execution_count": 131,
   "metadata": {},
   "outputs": [
    {
     "data": {
      "text/plain": [
       "0.9465677502698139"
      ]
     },
     "execution_count": 131,
     "metadata": {},
     "output_type": "execute_result"
    }
   ],
   "source": [
    "regr_lamb_final.score(X_test_p_final, y_test_lamb_final)"
   ]
  },
  {
   "cell_type": "code",
   "execution_count": null,
   "metadata": {},
   "outputs": [],
   "source": []
  },
  {
   "cell_type": "code",
   "execution_count": 139,
   "metadata": {},
   "outputs": [],
   "source": [
    "n = 5000\n",
    "p = generate_cqk_problem(n)"
   ]
  },
  {
   "cell_type": "code",
   "execution_count": 279,
   "metadata": {},
   "outputs": [
    {
     "name": "stdout",
     "output_type": "stream",
     "text": [
      "CPU times: user 36.7 ms, sys: 2.28 ms, total: 38.9 ms\n",
      "Wall time: 37.6 ms\n"
     ]
    },
    {
     "data": {
      "text/plain": [
       "(5,\n",
       " [7.109283902249071,\n",
       "  8.68877391425142,\n",
       "  8.887313754588348,\n",
       "  8.890987896434018,\n",
       "  8.890989911913914],\n",
       " [33505.547648770495,\n",
       "  26525.250920050636,\n",
       "  25558.88397434641,\n",
       "  25531.41635363121,\n",
       "  25531.41635363121],\n",
       " [-52921.677857901836,\n",
       "  -5266.3190825638,\n",
       "  -93.90696513877992,\n",
       "  -0.051458056391680884,\n",
       "  1.6692069948476274e-10])"
      ]
     },
     "execution_count": 279,
     "metadata": {},
     "output_type": "execute_result"
    }
   ],
   "source": [
    "%%time\n",
    "\n",
    "it,lambs, derivs,phis,sum_slopes = newton(p)\n",
    "\n",
    "it, lambs, derivs, phis"
   ]
  },
  {
   "cell_type": "code",
   "execution_count": 213,
   "metadata": {},
   "outputs": [],
   "source": [
    "def phi_lambda_predicted(p,lamb,r):\n",
    "    deriv = 0.0\n",
    "    phi = r * -1\n",
    "    x = []\n",
    "    sum_slope = 0\n",
    "    slopes = []\n",
    "    for i in range(p.n):\n",
    "        slope = (p.b[i]/p.d[i])*p.b[i]\n",
    "        sum_slope = sum_slope + slope\n",
    "        slopes.append(slope)\n",
    "        x.append( (p.b[i] * lamb + p.a[i])/p.d[i])\n",
    "\n",
    "        if x[i] < p.low[i]:\n",
    "            x[i] = p.low[i]\n",
    "        elif x[i] > p.up[i]:\n",
    "            x[i] = p.up[i]\n",
    "        else:\n",
    "            deriv = deriv + slope\n",
    "        phi = phi + p.b[i] * x[i];\n",
    "    return deriv, phi,sum_slope, slopes"
   ]
  },
  {
   "cell_type": "code",
   "execution_count": 274,
   "metadata": {},
   "outputs": [
    {
     "name": "stdout",
     "output_type": "stream",
     "text": [
      "CPU times: user 4.01 ms, sys: 142 µs, total: 4.15 ms\n",
      "Wall time: 4.1 ms\n"
     ]
    }
   ],
   "source": [
    "%%time\n",
    "\n",
    "som_a = 0\n",
    "som_b = 0\n",
    "som_d = 0\n",
    "\n",
    "for i in range(p.n):\n",
    "    som_a = som_a + p.a[i]\n",
    "    som_b = som_b + p.b[i]\n",
    "    som_d = som_d + p.d[i]\n",
    "\n",
    "new_a = som_a/p.n\n",
    "new_b = som_b/p.n\n",
    "new_d = som_d/p.n\n",
    "rn = p.r/p.n\n",
    "\n",
    "x_values_lamb_init = scaler.transform(np.asarray([[new_a, new_b, new_d,rn ]]))\n",
    "first_lamb = regr_lamb_init.predict(x_values_lamb_init)[0]\n",
    "# first_lamb = 7.109283902249071"
   ]
  },
  {
   "cell_type": "code",
   "execution_count": 276,
   "metadata": {},
   "outputs": [
    {
     "name": "stdout",
     "output_type": "stream",
     "text": [
      "CPU times: user 18.6 ms, sys: 1.15 ms, total: 19.7 ms\n",
      "Wall time: 19.6 ms\n"
     ]
    }
   ],
   "source": [
    "%%time\n",
    "first_deriv, first_phi, sum_slope,slopes = phi_lambda_predicted(p,first_lamb,p.r)\n",
    "\n",
    "x_values_lamb_final = scaler_final.transform(np.asarray([[new_a, new_b, new_d,rn,first_lamb,first_phi, first_deriv, sum_slope]]))\n",
    "\n",
    "predicted_lamb = regr_lamb_final.predict(x_values_lamb_final)[0]\n"
   ]
  },
  {
   "cell_type": "code",
   "execution_count": 277,
   "metadata": {},
   "outputs": [
    {
     "name": "stdout",
     "output_type": "stream",
     "text": [
      "CPU times: user 23.8 ms, sys: 1.25 ms, total: 25.1 ms\n",
      "Wall time: 27.3 ms\n"
     ]
    },
    {
     "data": {
      "text/plain": [
       "(3,\n",
       " [8.890978398843256, 8.890989911913945],\n",
       " [25531.41635363121, 25531.41635363121],\n",
       " [-0.2939450012458451, 5.994138518872205e-10],\n",
       " 93523.62732712529)"
      ]
     },
     "execution_count": 277,
     "metadata": {},
     "output_type": "execute_result"
    }
   ],
   "source": [
    "%%time\n",
    "\n",
    "new_newton(p,slopes)"
   ]
  },
  {
   "cell_type": "code",
   "execution_count": null,
   "metadata": {},
   "outputs": [],
   "source": []
  },
  {
   "cell_type": "code",
   "execution_count": null,
   "metadata": {},
   "outputs": [],
   "source": []
  },
  {
   "cell_type": "code",
   "execution_count": null,
   "metadata": {},
   "outputs": [],
   "source": []
  },
  {
   "cell_type": "code",
   "execution_count": null,
   "metadata": {},
   "outputs": [],
   "source": []
  }
 ],
 "metadata": {
  "kernelspec": {
   "display_name": "Python 3",
   "language": "python",
   "name": "python3"
  },
  "language_info": {
   "codemirror_mode": {
    "name": "ipython",
    "version": 3
   },
   "file_extension": ".py",
   "mimetype": "text/x-python",
   "name": "python",
   "nbconvert_exporter": "python",
   "pygments_lexer": "ipython3",
   "version": "3.7.3"
  }
 },
 "nbformat": 4,
 "nbformat_minor": 4
}
