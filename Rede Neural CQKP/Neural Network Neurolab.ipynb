{
 "cells": [
  {
   "cell_type": "code",
   "execution_count": 1,
   "metadata": {},
   "outputs": [
    {
     "name": "stdout",
     "output_type": "stream",
     "text": [
      "Collecting neurolab\n",
      "\u001b[?25l  Downloading https://files.pythonhosted.org/packages/46/fd/47a9a39158b461b6b862d64c0ad7f679b08ed6d316744299f0db89066342/neurolab-0.3.5.tar.gz (645kB)\n",
      "\u001b[K     |████████████████████████████████| 655kB 526kB/s eta 0:00:01\n",
      "\u001b[?25hBuilding wheels for collected packages: neurolab\n",
      "  Building wheel for neurolab (setup.py) ... \u001b[?25ldone\n",
      "\u001b[?25h  Stored in directory: /Users/jonatasilva/Library/Caches/pip/wheels/c6/8f/37/32ab1cf4d601dc0bc49d7241012a4292db4b343bebff5b68e6\n",
      "Successfully built neurolab\n",
      "Installing collected packages: neurolab\n",
      "Successfully installed neurolab-0.3.5\n",
      "\u001b[33mWARNING: You are using pip version 19.1.1, however version 20.1.1 is available.\n",
      "You should consider upgrading via the 'pip install --upgrade pip' command.\u001b[0m\n"
     ]
    }
   ],
   "source": [
    "!pip install neurolab"
   ]
  },
  {
   "cell_type": "code",
   "execution_count": 2,
   "metadata": {},
   "outputs": [],
   "source": [
    "import neurolab as nl\n",
    "import numpy as np\n",
    "from sklearn import preprocessing\n",
    "import matplotlib.pyplot as plt\n",
    "plt.style.use('ggplot')\n",
    "\n",
    "# StringIO behaves like a file object \n",
    "from io import StringIO \n",
    "\n",
    "import numpy as np\n",
    "import pandas as pd\n",
    "\n",
    "%matplotlib inline"
   ]
  },
  {
   "cell_type": "code",
   "execution_count": 3,
   "metadata": {},
   "outputs": [],
   "source": [
    "# Criando datasets de treino\n",
    "x = np.linspace(-10,10, 60)\n",
    "y = np.cos(x) * 0.9\n",
    "size = len(x)\n",
    "x_train = x.reshape(size,1)\n",
    "y_train = y.reshape(size,1)"
   ]
  },
  {
   "cell_type": "code",
   "execution_count": 4,
   "metadata": {},
   "outputs": [],
   "source": [
    "c = ''\n",
    "with open(\"instance_test.txt\", \"r\") as fd:\n",
    "    c = StringIO(fd.read())"
   ]
  },
  {
   "cell_type": "code",
   "execution_count": 5,
   "metadata": {},
   "outputs": [
    {
     "ename": "ValueError",
     "evalue": "Shape of passed values is (79645, 18), indices imply (79645, 8)",
     "output_type": "error",
     "traceback": [
      "\u001b[0;31m---------------------------------------------------------------------------\u001b[0m",
      "\u001b[0;31mValueError\u001b[0m                                Traceback (most recent call last)",
      "\u001b[0;32m~/Documents/ProjetosPython/python/venv37/lib/python3.7/site-packages/pandas/core/internals/managers.py\u001b[0m in \u001b[0;36mcreate_block_manager_from_blocks\u001b[0;34m(blocks, axes)\u001b[0m\n\u001b[1;32m   1653\u001b[0m                 blocks = [\n\u001b[0;32m-> 1654\u001b[0;31m                     \u001b[0mmake_block\u001b[0m\u001b[0;34m(\u001b[0m\u001b[0mvalues\u001b[0m\u001b[0;34m=\u001b[0m\u001b[0mblocks\u001b[0m\u001b[0;34m[\u001b[0m\u001b[0;36m0\u001b[0m\u001b[0;34m]\u001b[0m\u001b[0;34m,\u001b[0m \u001b[0mplacement\u001b[0m\u001b[0;34m=\u001b[0m\u001b[0mslice\u001b[0m\u001b[0;34m(\u001b[0m\u001b[0;36m0\u001b[0m\u001b[0;34m,\u001b[0m \u001b[0mlen\u001b[0m\u001b[0;34m(\u001b[0m\u001b[0maxes\u001b[0m\u001b[0;34m[\u001b[0m\u001b[0;36m0\u001b[0m\u001b[0;34m]\u001b[0m\u001b[0;34m)\u001b[0m\u001b[0;34m)\u001b[0m\u001b[0;34m)\u001b[0m\u001b[0;34m\u001b[0m\u001b[0;34m\u001b[0m\u001b[0m\n\u001b[0m\u001b[1;32m   1655\u001b[0m                 ]\n",
      "\u001b[0;32m~/Documents/ProjetosPython/python/venv37/lib/python3.7/site-packages/pandas/core/internals/blocks.py\u001b[0m in \u001b[0;36mmake_block\u001b[0;34m(values, placement, klass, ndim, dtype)\u001b[0m\n\u001b[1;32m   3046\u001b[0m \u001b[0;34m\u001b[0m\u001b[0m\n\u001b[0;32m-> 3047\u001b[0;31m     \u001b[0;32mreturn\u001b[0m \u001b[0mklass\u001b[0m\u001b[0;34m(\u001b[0m\u001b[0mvalues\u001b[0m\u001b[0;34m,\u001b[0m \u001b[0mndim\u001b[0m\u001b[0;34m=\u001b[0m\u001b[0mndim\u001b[0m\u001b[0;34m,\u001b[0m \u001b[0mplacement\u001b[0m\u001b[0;34m=\u001b[0m\u001b[0mplacement\u001b[0m\u001b[0;34m)\u001b[0m\u001b[0;34m\u001b[0m\u001b[0;34m\u001b[0m\u001b[0m\n\u001b[0m\u001b[1;32m   3048\u001b[0m \u001b[0;34m\u001b[0m\u001b[0m\n",
      "\u001b[0;32m~/Documents/ProjetosPython/python/venv37/lib/python3.7/site-packages/pandas/core/internals/blocks.py\u001b[0m in \u001b[0;36m__init__\u001b[0;34m(self, values, placement, ndim)\u001b[0m\n\u001b[1;32m    124\u001b[0m             raise ValueError(\n\u001b[0;32m--> 125\u001b[0;31m                 \u001b[0;34mf\"Wrong number of items passed {len(self.values)}, \"\u001b[0m\u001b[0;34m\u001b[0m\u001b[0;34m\u001b[0m\u001b[0m\n\u001b[0m\u001b[1;32m    126\u001b[0m                 \u001b[0;34mf\"placement implies {len(self.mgr_locs)}\"\u001b[0m\u001b[0;34m\u001b[0m\u001b[0;34m\u001b[0m\u001b[0m\n",
      "\u001b[0;31mValueError\u001b[0m: Wrong number of items passed 18, placement implies 8",
      "\nDuring handling of the above exception, another exception occurred:\n",
      "\u001b[0;31mValueError\u001b[0m                                Traceback (most recent call last)",
      "\u001b[0;32m<ipython-input-5-073eec665fdb>\u001b[0m in \u001b[0;36m<module>\u001b[0;34m\u001b[0m\n\u001b[1;32m      5\u001b[0m \u001b[0;34m\u001b[0m\u001b[0m\n\u001b[1;32m      6\u001b[0m \u001b[0mknapsack\u001b[0m \u001b[0;34m=\u001b[0m \u001b[0;34m{\u001b[0m\u001b[0;34m\"data\"\u001b[0m\u001b[0;34m:\u001b[0m\u001b[0md\u001b[0m\u001b[0;34m,\u001b[0m \u001b[0;34m\"feature_names\"\u001b[0m\u001b[0;34m:\u001b[0m \u001b[0mfeature_names\u001b[0m\u001b[0;34m}\u001b[0m\u001b[0;34m\u001b[0m\u001b[0;34m\u001b[0m\u001b[0m\n\u001b[0;32m----> 7\u001b[0;31m \u001b[0mdataset\u001b[0m \u001b[0;34m=\u001b[0m \u001b[0mpd\u001b[0m\u001b[0;34m.\u001b[0m\u001b[0mDataFrame\u001b[0m\u001b[0;34m(\u001b[0m\u001b[0mknapsack\u001b[0m\u001b[0;34m[\u001b[0m\u001b[0;34m'data'\u001b[0m\u001b[0;34m]\u001b[0m\u001b[0;34m,\u001b[0m \u001b[0mcolumns\u001b[0m \u001b[0;34m=\u001b[0m \u001b[0mknapsack\u001b[0m\u001b[0;34m[\u001b[0m\u001b[0;34m'feature_names'\u001b[0m\u001b[0;34m]\u001b[0m\u001b[0;34m)\u001b[0m\u001b[0;34m\u001b[0m\u001b[0;34m\u001b[0m\u001b[0m\n\u001b[0m\u001b[1;32m      8\u001b[0m \u001b[0;34m\u001b[0m\u001b[0m\n",
      "\u001b[0;32m~/Documents/ProjetosPython/python/venv37/lib/python3.7/site-packages/pandas/core/frame.py\u001b[0m in \u001b[0;36m__init__\u001b[0;34m(self, data, index, columns, dtype, copy)\u001b[0m\n\u001b[1;32m    462\u001b[0m                 \u001b[0mmgr\u001b[0m \u001b[0;34m=\u001b[0m \u001b[0minit_dict\u001b[0m\u001b[0;34m(\u001b[0m\u001b[0;34m{\u001b[0m\u001b[0mdata\u001b[0m\u001b[0;34m.\u001b[0m\u001b[0mname\u001b[0m\u001b[0;34m:\u001b[0m \u001b[0mdata\u001b[0m\u001b[0;34m}\u001b[0m\u001b[0;34m,\u001b[0m \u001b[0mindex\u001b[0m\u001b[0;34m,\u001b[0m \u001b[0mcolumns\u001b[0m\u001b[0;34m,\u001b[0m \u001b[0mdtype\u001b[0m\u001b[0;34m=\u001b[0m\u001b[0mdtype\u001b[0m\u001b[0;34m)\u001b[0m\u001b[0;34m\u001b[0m\u001b[0;34m\u001b[0m\u001b[0m\n\u001b[1;32m    463\u001b[0m             \u001b[0;32melse\u001b[0m\u001b[0;34m:\u001b[0m\u001b[0;34m\u001b[0m\u001b[0;34m\u001b[0m\u001b[0m\n\u001b[0;32m--> 464\u001b[0;31m                 \u001b[0mmgr\u001b[0m \u001b[0;34m=\u001b[0m \u001b[0minit_ndarray\u001b[0m\u001b[0;34m(\u001b[0m\u001b[0mdata\u001b[0m\u001b[0;34m,\u001b[0m \u001b[0mindex\u001b[0m\u001b[0;34m,\u001b[0m \u001b[0mcolumns\u001b[0m\u001b[0;34m,\u001b[0m \u001b[0mdtype\u001b[0m\u001b[0;34m=\u001b[0m\u001b[0mdtype\u001b[0m\u001b[0;34m,\u001b[0m \u001b[0mcopy\u001b[0m\u001b[0;34m=\u001b[0m\u001b[0mcopy\u001b[0m\u001b[0;34m)\u001b[0m\u001b[0;34m\u001b[0m\u001b[0;34m\u001b[0m\u001b[0m\n\u001b[0m\u001b[1;32m    465\u001b[0m \u001b[0;34m\u001b[0m\u001b[0m\n\u001b[1;32m    466\u001b[0m         \u001b[0;31m# For data is list-like, or Iterable (will consume into list)\u001b[0m\u001b[0;34m\u001b[0m\u001b[0;34m\u001b[0m\u001b[0;34m\u001b[0m\u001b[0m\n",
      "\u001b[0;32m~/Documents/ProjetosPython/python/venv37/lib/python3.7/site-packages/pandas/core/internals/construction.py\u001b[0m in \u001b[0;36minit_ndarray\u001b[0;34m(values, index, columns, dtype, copy)\u001b[0m\n\u001b[1;32m    208\u001b[0m         \u001b[0mblock_values\u001b[0m \u001b[0;34m=\u001b[0m \u001b[0;34m[\u001b[0m\u001b[0mvalues\u001b[0m\u001b[0;34m]\u001b[0m\u001b[0;34m\u001b[0m\u001b[0;34m\u001b[0m\u001b[0m\n\u001b[1;32m    209\u001b[0m \u001b[0;34m\u001b[0m\u001b[0m\n\u001b[0;32m--> 210\u001b[0;31m     \u001b[0;32mreturn\u001b[0m \u001b[0mcreate_block_manager_from_blocks\u001b[0m\u001b[0;34m(\u001b[0m\u001b[0mblock_values\u001b[0m\u001b[0;34m,\u001b[0m \u001b[0;34m[\u001b[0m\u001b[0mcolumns\u001b[0m\u001b[0;34m,\u001b[0m \u001b[0mindex\u001b[0m\u001b[0;34m]\u001b[0m\u001b[0;34m)\u001b[0m\u001b[0;34m\u001b[0m\u001b[0;34m\u001b[0m\u001b[0m\n\u001b[0m\u001b[1;32m    211\u001b[0m \u001b[0;34m\u001b[0m\u001b[0m\n\u001b[1;32m    212\u001b[0m \u001b[0;34m\u001b[0m\u001b[0m\n",
      "\u001b[0;32m~/Documents/ProjetosPython/python/venv37/lib/python3.7/site-packages/pandas/core/internals/managers.py\u001b[0m in \u001b[0;36mcreate_block_manager_from_blocks\u001b[0;34m(blocks, axes)\u001b[0m\n\u001b[1;32m   1662\u001b[0m         \u001b[0mblocks\u001b[0m \u001b[0;34m=\u001b[0m \u001b[0;34m[\u001b[0m\u001b[0mgetattr\u001b[0m\u001b[0;34m(\u001b[0m\u001b[0mb\u001b[0m\u001b[0;34m,\u001b[0m \u001b[0;34m\"values\"\u001b[0m\u001b[0;34m,\u001b[0m \u001b[0mb\u001b[0m\u001b[0;34m)\u001b[0m \u001b[0;32mfor\u001b[0m \u001b[0mb\u001b[0m \u001b[0;32min\u001b[0m \u001b[0mblocks\u001b[0m\u001b[0;34m]\u001b[0m\u001b[0;34m\u001b[0m\u001b[0;34m\u001b[0m\u001b[0m\n\u001b[1;32m   1663\u001b[0m         \u001b[0mtot_items\u001b[0m \u001b[0;34m=\u001b[0m \u001b[0msum\u001b[0m\u001b[0;34m(\u001b[0m\u001b[0mb\u001b[0m\u001b[0;34m.\u001b[0m\u001b[0mshape\u001b[0m\u001b[0;34m[\u001b[0m\u001b[0;36m0\u001b[0m\u001b[0;34m]\u001b[0m \u001b[0;32mfor\u001b[0m \u001b[0mb\u001b[0m \u001b[0;32min\u001b[0m \u001b[0mblocks\u001b[0m\u001b[0;34m)\u001b[0m\u001b[0;34m\u001b[0m\u001b[0;34m\u001b[0m\u001b[0m\n\u001b[0;32m-> 1664\u001b[0;31m         \u001b[0mconstruction_error\u001b[0m\u001b[0;34m(\u001b[0m\u001b[0mtot_items\u001b[0m\u001b[0;34m,\u001b[0m \u001b[0mblocks\u001b[0m\u001b[0;34m[\u001b[0m\u001b[0;36m0\u001b[0m\u001b[0;34m]\u001b[0m\u001b[0;34m.\u001b[0m\u001b[0mshape\u001b[0m\u001b[0;34m[\u001b[0m\u001b[0;36m1\u001b[0m\u001b[0;34m:\u001b[0m\u001b[0;34m]\u001b[0m\u001b[0;34m,\u001b[0m \u001b[0maxes\u001b[0m\u001b[0;34m,\u001b[0m \u001b[0me\u001b[0m\u001b[0;34m)\u001b[0m\u001b[0;34m\u001b[0m\u001b[0;34m\u001b[0m\u001b[0m\n\u001b[0m\u001b[1;32m   1665\u001b[0m \u001b[0;34m\u001b[0m\u001b[0m\n\u001b[1;32m   1666\u001b[0m \u001b[0;34m\u001b[0m\u001b[0m\n",
      "\u001b[0;32m~/Documents/ProjetosPython/python/venv37/lib/python3.7/site-packages/pandas/core/internals/managers.py\u001b[0m in \u001b[0;36mconstruction_error\u001b[0;34m(tot_items, block_shape, axes, e)\u001b[0m\n\u001b[1;32m   1692\u001b[0m     \u001b[0;32mif\u001b[0m \u001b[0mblock_shape\u001b[0m\u001b[0;34m[\u001b[0m\u001b[0;36m0\u001b[0m\u001b[0;34m]\u001b[0m \u001b[0;34m==\u001b[0m \u001b[0;36m0\u001b[0m\u001b[0;34m:\u001b[0m\u001b[0;34m\u001b[0m\u001b[0;34m\u001b[0m\u001b[0m\n\u001b[1;32m   1693\u001b[0m         \u001b[0;32mraise\u001b[0m \u001b[0mValueError\u001b[0m\u001b[0;34m(\u001b[0m\u001b[0;34m\"Empty data passed with indices specified.\"\u001b[0m\u001b[0;34m)\u001b[0m\u001b[0;34m\u001b[0m\u001b[0;34m\u001b[0m\u001b[0m\n\u001b[0;32m-> 1694\u001b[0;31m     \u001b[0;32mraise\u001b[0m \u001b[0mValueError\u001b[0m\u001b[0;34m(\u001b[0m\u001b[0;34mf\"Shape of passed values is {passed}, indices imply {implied}\"\u001b[0m\u001b[0;34m)\u001b[0m\u001b[0;34m\u001b[0m\u001b[0;34m\u001b[0m\u001b[0m\n\u001b[0m\u001b[1;32m   1695\u001b[0m \u001b[0;34m\u001b[0m\u001b[0m\n\u001b[1;32m   1696\u001b[0m \u001b[0;34m\u001b[0m\u001b[0m\n",
      "\u001b[0;31mValueError\u001b[0m: Shape of passed values is (79645, 18), indices imply (79645, 8)"
     ]
    }
   ],
   "source": [
    "d = c.read()\n",
    "c = StringIO(d) \n",
    "d = np.loadtxt(c) \n",
    "feature_names = ['a', 'b', 'low', 'up', 'd', 'r', 'lamb_initial', 'target']\n",
    "\n",
    "knapsack = {\"data\":d, \"feature_names\": feature_names}\n",
    "dataset = pd.DataFrame(knapsack['data'], columns = knapsack['feature_names'])\n",
    "\n"
   ]
  },
  {
   "cell_type": "code",
   "execution_count": 116,
   "metadata": {},
   "outputs": [],
   "source": [
    "size = 500\n",
    "\n",
    "x_train = dataset.iloc[:,:-1]\n",
    "x_train = x_train.values\n",
    "\n",
    "x = dataset['lamb_initial'].values\n",
    "y = dataset['target'].values\n",
    "\n",
    "x_train = x.reshape(size,1)\n",
    "y_train = y.reshape(size,1)"
   ]
  },
  {
   "cell_type": "code",
   "execution_count": 117,
   "metadata": {},
   "outputs": [
    {
     "data": {
      "text/plain": [
       "array([7.387146, 6.446908, 6.442768, 7.105935, 7.864088, 7.526051,\n",
       "       7.446503, 7.021477, 6.556314, 6.354028, 6.462048, 6.631865,\n",
       "       7.2733  , 7.487878, 7.038277, 6.954369, 7.545249, 6.439624,\n",
       "       7.136722, 7.222885, 7.202725, 7.053731, 6.841061, 7.104021,\n",
       "       6.781141, 7.144833, 6.81867 , 6.683864, 6.91271 , 6.733153,\n",
       "       7.527549, 6.952919, 7.150525, 7.475066, 6.810334, 7.15066 ,\n",
       "       6.949323, 7.23471 , 6.314744, 6.337766, 6.969872, 7.389188,\n",
       "       7.040751, 6.959647, 7.456355, 6.895865, 6.97928 , 7.220283,\n",
       "       7.116862, 7.173503, 7.303475, 6.276869, 6.420582, 6.488612,\n",
       "       6.811593, 7.444763, 7.780504, 7.026531, 6.886618, 7.813326,\n",
       "       8.032857, 7.27258 , 6.933053, 6.5509  , 7.258989, 6.581697,\n",
       "       6.728931, 7.427017, 7.688842, 7.504999, 6.941596, 6.258853,\n",
       "       6.71114 , 7.299328, 6.499169, 6.947533, 6.515124, 7.501226,\n",
       "       8.465196, 7.391237, 6.975976, 6.785137, 6.878839, 7.907744,\n",
       "       7.271908, 6.738923, 7.928721, 7.233907, 7.053144, 7.214355,\n",
       "       7.459925, 7.17299 , 7.797469, 6.542387, 6.62973 , 7.712111,\n",
       "       7.015248, 7.435371, 7.540949, 6.989176, 7.260787, 6.582658,\n",
       "       7.607915, 7.322966, 6.806321, 6.990251, 6.91607 , 7.700422,\n",
       "       6.626737, 6.562105, 7.212769, 7.20973 , 7.505834, 7.169598,\n",
       "       7.709171, 6.204952, 6.951011, 7.264671, 6.99879 , 6.551841,\n",
       "       7.232577, 6.506683, 6.782861, 7.102746, 7.256602, 7.015889,\n",
       "       5.977233, 6.813987, 7.118008, 7.445386, 6.83964 , 7.307708,\n",
       "       6.69006 , 6.68589 , 6.798562, 7.111162, 7.25802 , 7.068834,\n",
       "       7.35459 , 7.794394, 7.902991, 6.869695, 7.381518, 7.095214,\n",
       "       7.065009, 7.12085 , 6.169632, 7.200103, 7.361794, 7.495732,\n",
       "       7.14301 , 6.596276, 7.164281, 6.624834, 7.571113, 6.882879,\n",
       "       6.164806, 7.205861, 7.522267, 7.446819, 6.582922, 6.812937,\n",
       "       7.758062, 7.395249, 6.501576, 7.526437, 7.124779, 7.789594,\n",
       "       7.486959, 7.342756, 6.363002, 7.173097, 6.937549, 7.157553,\n",
       "       6.606939, 7.065976, 6.755666, 7.702043, 7.428895, 7.478806,\n",
       "       6.51152 , 7.203622, 6.880518, 6.464452, 7.309699, 7.51517 ,\n",
       "       7.548908, 7.374943, 7.226452, 7.38432 , 7.365376, 7.06575 ,\n",
       "       7.23579 , 6.360855, 7.467882, 7.366882, 6.810348, 7.374138,\n",
       "       7.088603, 7.344494, 6.719551, 7.227043, 6.145028, 7.191258,\n",
       "       6.622856, 7.238313, 6.911193, 7.068117, 6.580444, 7.084901,\n",
       "       7.06033 , 7.64507 , 7.660204, 7.411837, 6.844102, 7.240248,\n",
       "       6.383705, 6.981077, 7.00672 , 7.016113, 7.441558, 7.461906,\n",
       "       6.934499, 6.820293, 7.602699, 7.365979, 7.80442 , 7.161999,\n",
       "       7.207657, 7.191622, 7.234861, 6.8108  , 6.814703, 7.434735,\n",
       "       7.38159 , 7.803526, 6.979181, 7.666696, 6.780993, 7.454953,\n",
       "       7.128036, 7.153623, 7.389024, 8.150125, 6.814747, 6.594354,\n",
       "       7.058997, 7.313655, 6.244085, 6.629732, 7.646247, 6.791184,\n",
       "       7.276724, 7.363678, 6.522749, 7.322715, 7.199611, 7.324666,\n",
       "       7.948286, 6.555953, 7.310766, 7.191824, 6.732874, 7.118595,\n",
       "       7.087668, 7.222173, 7.290319, 6.799309, 7.555237, 6.959077,\n",
       "       7.291011, 6.959635, 7.518425, 6.858566, 6.967383, 7.317175,\n",
       "       6.348377, 6.890313, 7.29815 , 6.693325, 7.046429, 7.48765 ,\n",
       "       7.167962, 7.261592, 7.193508, 7.00778 , 6.249449, 7.04221 ,\n",
       "       6.310321, 7.00674 , 6.782114, 7.911418, 6.991633, 7.023135,\n",
       "       7.056842, 6.632312, 7.46636 , 7.365925, 7.006487, 7.613352,\n",
       "       6.601032, 7.695787, 7.403386, 6.483545, 6.929872, 6.835895,\n",
       "       7.287788, 6.982842, 6.632128, 6.704734, 6.985661, 6.961362,\n",
       "       7.230331, 7.094549, 6.954617, 6.854161, 6.874972, 6.985037,\n",
       "       7.020385, 7.069925, 7.254534, 6.957028, 7.243328, 7.188811,\n",
       "       7.19833 , 6.746218, 7.259233, 6.849314, 7.138566, 6.911419,\n",
       "       6.971154, 7.18118 , 7.202298, 6.625142, 7.482938, 6.821035,\n",
       "       6.696283, 6.908417, 6.978141, 6.774194, 6.222222, 7.364151,\n",
       "       6.950646, 6.645756, 7.191889, 7.221703, 6.770343, 6.196875,\n",
       "       6.787319, 6.990376, 6.966825, 7.058581, 6.752042, 6.77448 ,\n",
       "       7.365135, 7.161072, 6.613979, 6.803301, 7.316528, 7.092553,\n",
       "       7.283503, 7.224195, 6.864704, 6.378841, 7.455731, 7.066946,\n",
       "       7.010633, 7.248318, 7.257036, 7.450043, 7.142277, 7.282346,\n",
       "       6.604318, 7.152767, 6.707773, 8.064017, 7.061766, 6.566993,\n",
       "       6.631704, 7.290968, 7.207763, 7.278364, 7.622881, 6.479211,\n",
       "       7.656003, 7.614893, 7.017213, 6.989693, 7.447894, 7.874022,\n",
       "       7.275179, 7.103107, 6.779285, 7.062573, 6.988706, 7.124252,\n",
       "       7.070708, 7.104673, 6.735976, 6.939911, 7.056311, 6.39254 ,\n",
       "       7.373181, 7.537992, 7.248976, 7.137617, 6.575724, 6.645585,\n",
       "       7.212426, 6.752157, 6.995366, 7.268044, 7.093484, 7.220494,\n",
       "       7.180465, 7.810407, 7.246275, 6.913806, 6.704255, 6.631509,\n",
       "       6.989427, 6.896712, 6.535092, 7.93048 , 6.742291, 7.413442,\n",
       "       7.422789, 6.67866 , 6.971994, 7.948288, 7.358538, 7.378634,\n",
       "       7.079239, 7.015642, 7.138728, 7.693613, 7.052339, 6.569669,\n",
       "       7.035617, 6.852447, 6.80706 , 6.832468, 7.308586, 6.730801,\n",
       "       7.262848, 6.207374, 7.511946, 6.915269, 7.234912, 7.005492,\n",
       "       7.512337, 7.572846, 6.835677, 7.695074, 6.890909, 7.611604,\n",
       "       7.56654 , 7.02128 , 7.113426, 6.959042, 7.110856, 6.899855,\n",
       "       7.016574, 6.333374, 6.739211, 6.966974, 7.572759, 7.795269,\n",
       "       7.050328, 7.290732, 6.810987, 7.290013, 7.497515, 6.987816,\n",
       "       7.083487, 6.942682, 7.055613, 6.702282, 7.798138, 7.427439,\n",
       "       6.96376 , 7.079422, 6.995156, 7.323191, 7.368826, 6.776061,\n",
       "       6.57379 , 7.121654, 7.028144, 8.004975, 6.982206, 7.224103,\n",
       "       7.32951 , 7.065496, 7.632182, 7.273291, 7.115787, 6.856907,\n",
       "       6.727805, 6.743835])"
      ]
     },
     "execution_count": 117,
     "metadata": {},
     "output_type": "execute_result"
    }
   ],
   "source": [
    "x"
   ]
  },
  {
   "cell_type": "code",
   "execution_count": 119,
   "metadata": {
    "scrolled": true
   },
   "outputs": [
    {
     "name": "stdout",
     "output_type": "stream",
     "text": [
      "Epoch: 100; Error: 15585.428228514167;\n",
      "Epoch: 200; Error: 15585.428228514167;\n",
      "Epoch: 300; Error: 15585.428228514167;\n",
      "Epoch: 400; Error: 15585.428228514167;\n",
      "Epoch: 500; Error: 15585.428228514167;\n",
      "Epoch: 600; Error: 15585.428228514167;\n",
      "Epoch: 700; Error: 15585.428228514167;\n",
      "Epoch: 800; Error: 15585.428228514167;\n",
      "Epoch: 900; Error: 15585.428228514167;\n",
      "Epoch: 1000; Error: 15585.428228514167;\n",
      "The maximum number of train epochs is reached\n"
     ]
    },
    {
     "data": {
      "image/png": "[encoded data removed]",
      "text/plain": [
       "<Figure size 432x288 with 2 Axes>"
      ]
     },
     "metadata": {
      "needs_background": "light"
     },
     "output_type": "display_data"
    },
    {
     "ename": "IndexError",
     "evalue": "list index out of range",
     "output_type": "error",
     "traceback": [
      "\u001b[0;31m---------------------------------------------------------------------------\u001b[0m",
      "\u001b[0;31mIndexError\u001b[0m                                Traceback (most recent call last)",
      "\u001b[0;32m<ipython-input-119-c0c1c7c33473>\u001b[0m in \u001b[0;36m<module>\u001b[0;34m\u001b[0m\n\u001b[1;32m      5\u001b[0m \u001b[0;34m\u001b[0m\u001b[0m\n\u001b[1;32m      6\u001b[0m \u001b[0;32mfor\u001b[0m \u001b[0mi\u001b[0m \u001b[0;32min\u001b[0m \u001b[0mrange\u001b[0m\u001b[0;34m(\u001b[0m\u001b[0;36m4\u001b[0m\u001b[0;34m)\u001b[0m\u001b[0;34m:\u001b[0m\u001b[0;34m\u001b[0m\u001b[0;34m\u001b[0m\u001b[0m\n\u001b[0;32m----> 7\u001b[0;31m     \u001b[0mnet\u001b[0m \u001b[0;34m=\u001b[0m \u001b[0mnl\u001b[0m\u001b[0;34m.\u001b[0m\u001b[0mnet\u001b[0m\u001b[0;34m.\u001b[0m\u001b[0mnewff\u001b[0m\u001b[0;34m(\u001b[0m\u001b[0;34m[\u001b[0m\u001b[0;34m[\u001b[0m\u001b[0;34m-\u001b[0m\u001b[0;36m10\u001b[0m\u001b[0;34m,\u001b[0m \u001b[0;36m10\u001b[0m\u001b[0;34m]\u001b[0m\u001b[0;34m]\u001b[0m\u001b[0;34m,\u001b[0m\u001b[0md\u001b[0m\u001b[0;34m[\u001b[0m\u001b[0mi\u001b[0m\u001b[0;34m]\u001b[0m\u001b[0;34m)\u001b[0m\u001b[0;34m\u001b[0m\u001b[0;34m\u001b[0m\u001b[0m\n\u001b[0m\u001b[1;32m      8\u001b[0m     \u001b[0mtrain_net\u001b[0m \u001b[0;34m=\u001b[0m \u001b[0mnl\u001b[0m\u001b[0;34m.\u001b[0m\u001b[0mtrain\u001b[0m\u001b[0;34m.\u001b[0m\u001b[0mtrain_gd\u001b[0m\u001b[0;34m(\u001b[0m\u001b[0mnet\u001b[0m\u001b[0;34m,\u001b[0m \u001b[0mx_train\u001b[0m\u001b[0;34m,\u001b[0m \u001b[0my_train\u001b[0m\u001b[0;34m,\u001b[0m \u001b[0mepochs\u001b[0m \u001b[0;34m=\u001b[0m \u001b[0;36m1000\u001b[0m\u001b[0;34m,\u001b[0m \u001b[0mshow\u001b[0m \u001b[0;34m=\u001b[0m \u001b[0;36m100\u001b[0m\u001b[0;34m)\u001b[0m\u001b[0;34m\u001b[0m\u001b[0;34m\u001b[0m\u001b[0m\n\u001b[1;32m      9\u001b[0m     \u001b[0moutp\u001b[0m \u001b[0;34m=\u001b[0m \u001b[0mnet\u001b[0m\u001b[0;34m.\u001b[0m\u001b[0msim\u001b[0m\u001b[0;34m(\u001b[0m\u001b[0mx_train\u001b[0m\u001b[0;34m)\u001b[0m\u001b[0;34m\u001b[0m\u001b[0;34m\u001b[0m\u001b[0m\n",
      "\u001b[0;31mIndexError\u001b[0m: list index out of range"
     ]
    }
   ],
   "source": [
    "# Criando 4 redes com 0, 1, 2, e 3 camadas e randomizando a inicialização\n",
    "# d = [[1,1000],[45,1],[45,45,1],[45,45,45,1]]\n",
    "\n",
    "d = [[45,1]]\n",
    "\n",
    "for i in range(4):\n",
    "    net = nl.net.newff([[-10, 10]],d[i])\n",
    "    train_net = nl.train.train_gd(net, x_train, y_train, epochs = 1000, show = 100)\n",
    "    outp = net.sim(x_train)\n",
    "    \n",
    "    # Plot \n",
    "    plt.subplot(2, 1, 1)\n",
    "    plt.plot(train_net)\n",
    "    plt.xlabel('Epochs')\n",
    "    plt.ylabel('Squared error')\n",
    "    x2 = np.linspace(-10.0,10.0,150)\n",
    "    y2 = net.sim(x2.reshape(x2.size,1)).reshape(x2.size)\n",
    "    y3 = outp.reshape(size)\n",
    "    plt.subplot(2, 1, 2)\n",
    "\n",
    "    plt.suptitle([i ,'Camadas Ocultas'])\n",
    "    plt.plot(x2, y2, '-',x , y, '.', x, y3, 'p')\n",
    "    plt.legend(['Y previsto', 'Y observado'])\n",
    "    plt.show()"
   ]
  },
  {
   "cell_type": "code",
   "execution_count": null,
   "metadata": {},
   "outputs": [],
   "source": []
  }
 ],
 "metadata": {
  "kernelspec": {
   "display_name": "Python 3",
   "language": "python",
   "name": "python3"
  },
  "language_info": {
   "codemirror_mode": {
    "name": "ipython",
    "version": 3
   },
   "file_extension": ".py",
   "mimetype": "text/x-python",
   "name": "python",
   "nbconvert_exporter": "python",
   "pygments_lexer": "ipython3",
   "version": "3.7.3"
  }
 },
 "nbformat": 4,
 "nbformat_minor": 4
}
