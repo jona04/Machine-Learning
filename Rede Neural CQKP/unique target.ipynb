{
 "cells": [
  {
   "cell_type": "code",
   "execution_count": 3019,
   "metadata": {},
   "outputs": [],
   "source": [
    "import random\n",
    "\n",
    "# StringIO behaves like a file object \n",
    "from io import StringIO \n",
    "\n",
    "import numpy as np\n",
    "import pandas as pd\n",
    "import matplotlib.pyplot as plt\n",
    "import matplotlib as mpl\n",
    "from sklearn.datasets import load_boston\n",
    "from sklearn import linear_model\n",
    "from sklearn.metrics import r2_score\n",
    "from sklearn.pipeline import make_pipeline\n",
    "from sklearn.preprocessing import PolynomialFeatures\n",
    "from sklearn.preprocessing import StandardScaler\n",
    "import statsmodels.api as sm\n",
    "import statsmodels.formula.api as smf\n",
    "\n",
    "import copy\n",
    "\n",
    "\n",
    "from sklearn.datasets import load_breast_cancer\n",
    "from sklearn.model_selection import train_test_split\n",
    "from sklearn.preprocessing import StandardScaler\n",
    "\n",
    "\n",
    "%matplotlib inline "
   ]
  },
  {
   "cell_type": "code",
   "execution_count": 3020,
   "metadata": {},
   "outputs": [],
   "source": [
    "def median(a,b,c):\n",
    "    if a > b:\n",
    "        if a < c:\n",
    "            return a\n",
    "        elif b > c:\n",
    "            return b\n",
    "        else:\n",
    "            return c\n",
    "    else:\n",
    "        if a > c:\n",
    "            return a\n",
    "        elif b < c:\n",
    "            return b\n",
    "        else:\n",
    "            return c"
   ]
  },
  {
   "cell_type": "code",
   "execution_count": 3021,
   "metadata": {},
   "outputs": [],
   "source": [
    "class CqkProblem:\n",
    "    def __init__(self, r, n, d, a, b, low, up):\n",
    "        self.n = n\n",
    "        self.r = r\n",
    "        self.d = list(d)\n",
    "        self.a = list(a)\n",
    "        self.b = list(b)\n",
    "        self.low = list(low)\n",
    "        self.up = list(up)"
   ]
  },
  {
   "cell_type": "code",
   "execution_count": 3022,
   "metadata": {},
   "outputs": [],
   "source": [
    "def generate_cqk_problem(n):\n",
    "    d = []\n",
    "    low = []\n",
    "    up = []\n",
    "    b = []\n",
    "    a = []\n",
    "    temp = 0\n",
    "    lb = 0.0\n",
    "    ub = 0.0\n",
    "    lower = 10\n",
    "    upper = 25\n",
    "    r = 0\n",
    "\n",
    "    for i in range(n):\n",
    "        \n",
    "        b.append(10 + 14*random.random())\n",
    "        low.append(1 + 14*random.random())\n",
    "        up.append(1 + 14*random.random())\n",
    "        if low[i] > up[i]:\n",
    "            temp = low[i]\n",
    "            low[i] = up[i]\n",
    "            up[i] = temp\n",
    "        \n",
    "        lb = lb + b[i]*low[i];\n",
    "        ub = ub + b[i]*up[i];\n",
    "        \n",
    "        #Uncorrelated\n",
    "        d.append(random.randint(10,25))\n",
    "        a.append(random.randint(10,25))\n",
    "        \n",
    "    r = lb + (ub - lb)*0.7;\n",
    "    \n",
    "    return CqkProblem( r, n, d, a, b, low, up)"
   ]
  },
  {
   "cell_type": "code",
   "execution_count": 3023,
   "metadata": {},
   "outputs": [],
   "source": [
    "\n",
    "def initial_lambda(p, lamb):\n",
    "    s0=0.0\n",
    "    q0=0.0\n",
    "    slopes = []\n",
    "    for i in range(p.n):\n",
    "        slopes.append((p.b[i]/p.d[i])*p.b[i])\n",
    "        s0 = s0 + (p.a[i] * p.b[i]) / p.d[i]\n",
    "        q0 = q0 + (p.b[i] * p.b[i]) / p.d[i]\n",
    "    lamb = (p.r-s0)/q0\n",
    "    return lamb, slopes"
   ]
  },
  {
   "cell_type": "code",
   "execution_count": 3024,
   "metadata": {},
   "outputs": [],
   "source": [
    "def phi_lambda(p,lamb,phi,deriv,slopes,r):\n",
    "    deriv = 0.0\n",
    "    phi = r * -1\n",
    "    x = []\n",
    "    \n",
    "    for i in range(p.n):\n",
    "        \n",
    "        x.append( (p.b[i] * lamb + p.a[i])/p.d[i])\n",
    "\n",
    "        if x[i] < p.low[i]:\n",
    "            x[i] = p.low[i]\n",
    "        elif x[i] > p.up[i]:\n",
    "            x[i] = p.up[i]\n",
    "        else:\n",
    "            deriv = deriv + slopes[i];\n",
    "        phi = phi + p.b[i] * x[i];\n",
    "    return deriv, phi, x"
   ]
  },
  {
   "cell_type": "code",
   "execution_count": 3025,
   "metadata": {},
   "outputs": [],
   "source": [
    "MAX_IT = 10\n",
    "INFINITO_NEGATIVO = -999999999;\n",
    "INFINITO_POSITIVO = 999999999;\n",
    "\n",
    "def newton(p):\n",
    "    lambs = [] \n",
    "    derivs = []\n",
    "    phis = []\n",
    "    phi = 0\n",
    "    lamb = 0\n",
    "    alfa = INFINITO_NEGATIVO;\n",
    "    beta = INFINITO_POSITIVO;\n",
    "    phi_alfa = 0.0;\n",
    "    phi_beta = 0.0;\n",
    "    deriv = 0\n",
    "    x = []\n",
    "    r = p.r\n",
    "    \n",
    "    lamb, slopes = initial_lambda(p,lamb)\n",
    "    deriv, phi, x = phi_lambda(p,lamb,phi,deriv,slopes,r)\n",
    "    lambs.append(lamb)\n",
    "    derivs.append(deriv)\n",
    "    phis.append(phi)\n",
    "    \n",
    "    it = 1\n",
    "    \n",
    "    while phi != 0.0 and it <= MAX_IT:\n",
    "        if phi > 0:\n",
    "#             print(\"positivo\")\n",
    "            beta = lamb\n",
    "            lambda_n = 0.0\n",
    "            if deriv > 0.0:\n",
    "                \n",
    "                lambda_n = lamb - (phi/deriv)\n",
    "                if abs(lambda_n - lamb) <= 0.00000000001:\n",
    "                    phi = 0.0\n",
    "                    break\n",
    "                if lambda_n > alfa:\n",
    "                    lamb = lambda_n\n",
    "                else:\n",
    "#                     print(\"aqui\")\n",
    "                    phi_beta = phi;\n",
    "#                     lamb = secant(p,x,alfa,beta,phi_alfa,phi_beta,r);\n",
    "#             if deriv == 0.0:\n",
    "#                 lamb = breakpoint_to_the_left(p,lamb);\n",
    "#                 if lamb <= INFINITO_NEGATIVO or lamb >= INFINITO_POSITIVO:\n",
    "#                     break\n",
    "                \n",
    "        else:\n",
    "            if it == 1:\n",
    "                negativo = True\n",
    "#             print(\"negativo\")\n",
    "            alfa = lamb;\n",
    "            lambda_n = 0.0;\n",
    "\n",
    "            if deriv > 0.0:\n",
    "                lambda_n = lamb - (phi/deriv)\n",
    "                if abs(lambda_n - lamb) <= 0.00000000001:\n",
    "                    phi = 0.0\n",
    "                    break\n",
    "                \n",
    "                if lambda_n < beta:\n",
    "                    lamb = lambda_n\n",
    "                else:\n",
    "#                     print(\"aqui\")\n",
    "                    phi_alfa = phi;\n",
    "#                     lamb = secant(p,x,alfa,beta,phi_alfa,phi_beta,r);\n",
    "#             if deriv == 0.0:\n",
    "#                 lamb = breakpoint_to_the_right(p,lamb)\n",
    "#                 if lamb <= INFINITO_NEGATIVO or lamb >= INFINITO_POSITIVO:\n",
    "#                     break\n",
    "        \n",
    "        \n",
    "        deriv, phi, x = phi_lambda(p,lamb,phi,deriv,slopes,r)\n",
    "        it = it + 1\n",
    "        lambs.append(lamb)\n",
    "        derivs.append(deriv)\n",
    "        phis.append(phi)\n",
    "        \n",
    "    if phi == 0.0:\n",
    "        return it,lambs,derivs,phis\n",
    "    elif alfa == beta:\n",
    "        return -1,lambs,derivs,phis\n",
    "    else:\n",
    "        return -2,lambs,derivs,phis"
   ]
  },
  {
   "cell_type": "code",
   "execution_count": 3026,
   "metadata": {},
   "outputs": [],
   "source": [
    "def func_ty(p):\n",
    "    t = np.arange(0, 15, 0.5).tolist()\n",
    "    y = copy.deepcopy(t)\n",
    "    for j in range(len(t)):\n",
    "        lamb = t[j]\n",
    "\n",
    "        soma = 0\n",
    "\n",
    "        for i in range(n):\n",
    "            soma = soma + p.b[i] * median(p.low[i], (p.b[i] *lamb + p.a[i]) / p.d[i], p.up[i])\n",
    "\n",
    "        y[j] = soma\n",
    "    return y"
   ]
  },
  {
   "cell_type": "markdown",
   "metadata": {},
   "source": [
    "# Geramos modelo para lambda inicial"
   ]
  },
  {
   "cell_type": "code",
   "execution_count": 3118,
   "metadata": {},
   "outputs": [],
   "source": [
    "lista = []\n",
    "for i in range(5000):\n",
    "    n = 100\n",
    "    p = generate_cqk_problem(n)\n",
    "    it,lambs, derivs,phis = newton(p)\n",
    "    soma_a = 0\n",
    "    soma_b = 0\n",
    "    soma_low = 0\n",
    "    soma_d = 0\n",
    "    soma_up = 0\n",
    "    for i in range(n):\n",
    "        soma_a += p.a[i]\n",
    "        soma_b += p.b[i]\n",
    "        soma_low += p.low[i]\n",
    "        soma_d += p.d[i]\n",
    "        soma_up += p.up[i]\n",
    "    \n",
    "    soma_a = soma_a/n\n",
    "    soma_b = soma_b/n\n",
    "    soma_low = soma_low/n\n",
    "    soma_d = soma_d/n\n",
    "    soma_up = soma_up/n\n",
    "    r = p.r/n\n",
    "    deriv = derivs[0]/n\n",
    "#     l_rs = [soma_a, soma_b, soma_low, soma_up, soma_d, p.r, lambs[0], lambs[-1]]\n",
    "    if it > 3 and it < 6:\n",
    "        l_rs = [soma_a, soma_b, soma_d, r,lambs[0]]\n",
    "#         l_rs = [p.a[0],p.a[1],p.a[2], p.b[0], p.b[1], p.b[2],p.d[0],p.d[1],p.d[2],p.r,lambs[0],derivs[0],phis[0],lambs[1],lambs[-1]]\n",
    "\n",
    "#         l_rs = [p.a[0],p.a[1],p.a[2], p.b[0], p.b[1], p.b[2],p.low[0],p.low[1],p.low[2],p.d[0],p.d[1],p.d[2],p.up[0],p.up[1],p.up[2],p.r,lambs[0],lambs[1],lambs[-1]]\n",
    "\n",
    "        lista.append(l_rs)\n",
    "        if len(lista) == 1000:\n",
    "            break"
   ]
  },
  {
   "cell_type": "code",
   "execution_count": 3119,
   "metadata": {},
   "outputs": [],
   "source": [
    "np.savetxt('instance_test.txt', lista, delimiter = ' ',newline='\\n', fmt=\"%f\")"
   ]
  },
  {
   "cell_type": "code",
   "execution_count": 3120,
   "metadata": {},
   "outputs": [],
   "source": [
    "c = ''\n",
    "with open(\"instance_test.txt\", \"r\") as fd:\n",
    "    c = StringIO(fd.read())"
   ]
  },
  {
   "cell_type": "code",
   "execution_count": 3121,
   "metadata": {},
   "outputs": [],
   "source": [
    "d = c.read()\n",
    "c = StringIO(d) \n",
    "d = np.loadtxt(c) \n",
    "feature_names = ['a','b','d','r','inicital_lamb']\n",
    "\n",
    "\n",
    "# feature_names = ['a','b','d','r','inicital_lamb','init_phi','init_deriv','second_lambda','third_lambda','fourth_lambda','final_lamb']\n",
    "# feature_names = ['a1','a2','a3', 'b1','b2','b3', 'd1','d2','d3', 'r','inicital_lamb','init_deriv','init_phi','second_lambda','final_lamb']\n",
    "# feature_names = ['a1','a2','a3', 'b1','b2','b3', 'low1','low2','low3', 'd1','d2','d3','up1','up2','up3', 'r','inicital_lamb','second_lambda', 'final_lamb']"
   ]
  },
  {
   "cell_type": "code",
   "execution_count": 3122,
   "metadata": {},
   "outputs": [],
   "source": [
    "knapsack = {\"data\":d, \"feature_names\": feature_names}\n",
    "dataset = pd.DataFrame(knapsack['data'], columns = knapsack['feature_names'])"
   ]
  },
  {
   "cell_type": "code",
   "execution_count": 3123,
   "metadata": {},
   "outputs": [],
   "source": [
    "# Coletando x e y\n",
    "\n",
    "X = dataset.iloc[:,:-1]\n",
    "y = dataset['inicital_lamb'].values"
   ]
  },
  {
   "cell_type": "code",
   "execution_count": 3124,
   "metadata": {},
   "outputs": [],
   "source": [
    "X_train, X_test, y_train, y_test = train_test_split(X, y)"
   ]
  },
  {
   "cell_type": "code",
   "execution_count": 3125,
   "metadata": {},
   "outputs": [
    {
     "data": {
      "text/plain": [
       "StandardScaler(copy=True, with_mean=True, with_std=True)"
      ]
     },
     "execution_count": 3125,
     "metadata": {},
     "output_type": "execute_result"
    }
   ],
   "source": [
    "# Padronização\n",
    "scaler = StandardScaler()\n",
    "scaler.fit(X_train)"
   ]
  },
  {
   "cell_type": "code",
   "execution_count": 3126,
   "metadata": {},
   "outputs": [],
   "source": [
    "# Aplicando a padronização aos dados\n",
    "X_train_p = scaler.transform(X_train)\n",
    "X_test_p = scaler.transform(X_test)"
   ]
  },
  {
   "cell_type": "code",
   "execution_count": 3127,
   "metadata": {},
   "outputs": [],
   "source": [
    "# from sklearn.neural_network import MLPClassifier\n",
    "from sklearn.neural_network import MLPRegressor"
   ]
  },
  {
   "cell_type": "code",
   "execution_count": 3128,
   "metadata": {},
   "outputs": [],
   "source": [
    "# mlp = MLPClassifier(hidden_layer_sizes = (30,30,30))\n",
    "regr = MLPRegressor(activation='logistic',random_state=1, max_iter=5000).fit(X_train_p, y_train)"
   ]
  },
  {
   "cell_type": "code",
   "execution_count": 3129,
   "metadata": {},
   "outputs": [
    {
     "data": {
      "text/plain": [
       "MLPRegressor(activation='logistic', alpha=0.0001, batch_size='auto', beta_1=0.9,\n",
       "             beta_2=0.999, early_stopping=False, epsilon=1e-08,\n",
       "             hidden_layer_sizes=(100,), learning_rate='constant',\n",
       "             learning_rate_init=0.001, max_fun=15000, max_iter=5000,\n",
       "             momentum=0.9, n_iter_no_change=10, nesterovs_momentum=True,\n",
       "             power_t=0.5, random_state=1, shuffle=True, solver='adam',\n",
       "             tol=0.0001, validation_fraction=0.1, verbose=False,\n",
       "             warm_start=False)"
      ]
     },
     "execution_count": 3129,
     "metadata": {},
     "output_type": "execute_result"
    }
   ],
   "source": [
    "regr.fit(X_train_p, y_train)"
   ]
  },
  {
   "cell_type": "code",
   "execution_count": 3130,
   "metadata": {},
   "outputs": [
    {
     "data": {
      "text/plain": [
       "array([6.22748911, 6.1094987 , 7.30196276, 6.81242267, 6.8591698 ])"
      ]
     },
     "execution_count": 3130,
     "metadata": {},
     "output_type": "execute_result"
    }
   ],
   "source": [
    "regr.predict(X_test_p[:5])"
   ]
  },
  {
   "cell_type": "code",
   "execution_count": 3131,
   "metadata": {},
   "outputs": [
    {
     "data": {
      "text/plain": [
       "0.9247306630895714"
      ]
     },
     "execution_count": 3131,
     "metadata": {},
     "output_type": "execute_result"
    }
   ],
   "source": [
    "regr.score(X_test_p, y_test)"
   ]
  },
  {
   "cell_type": "markdown",
   "metadata": {},
   "source": [
    "# Geramos modelo para segundo lambda\n"
   ]
  },
  {
   "cell_type": "code",
   "execution_count": 3204,
   "metadata": {},
   "outputs": [],
   "source": [
    "def initial_lambda_regr(p):\n",
    "    \n",
    "    soma_a = 0\n",
    "    soma_b = 0\n",
    "    soma_d = 0\n",
    "    slopes = []\n",
    "    for i in range(n):\n",
    "        soma_a += p.a[i]\n",
    "        soma_b += p.b[i]\n",
    "        soma_d += p.d[i]\n",
    "        slopes.append((p.b[i]/p.d[i])*p.b[i])\n",
    "\n",
    "    soma_a = soma_a/n\n",
    "    soma_b = soma_b/n\n",
    "    soma_d = soma_d/n\n",
    "    r = p.r/n\n",
    "    lamb = (p.r-s0)/q0\n",
    "    return lamb, slopes\n",
    "#     return regr.predict(scaler.transform(np.asarray([[soma_a,soma_b,soma_d,r]]))),slopes\n"
   ]
  },
  {
   "cell_type": "code",
   "execution_count": 3205,
   "metadata": {},
   "outputs": [],
   "source": [
    "def phi_lambda_model(p,lamb,phi,deriv,slopes,r):\n",
    "    deriv = 0.0\n",
    "    phi = r * -1\n",
    "    x = []\n",
    "    \n",
    "    for i in range(p.n):\n",
    "        \n",
    "        x.append( (p.b[i] * lamb + p.a[i])/p.d[i])\n",
    "\n",
    "        if x[i] < p.low[i]:\n",
    "            x[i] = p.low[i]\n",
    "        elif x[i] > p.up[i]:\n",
    "            x[i] = p.up[i]\n",
    "        else:\n",
    "            deriv = deriv + slopes[i];\n",
    "        phi = phi + p.b[i] * x[i];\n",
    "    return deriv, phi, x"
   ]
  },
  {
   "cell_type": "code",
   "execution_count": 3206,
   "metadata": {},
   "outputs": [],
   "source": [
    "MAX_IT = 10\n",
    "INFINITO_NEGATIVO = -999999999;\n",
    "INFINITO_POSITIVO = 999999999;\n",
    "\n",
    "def newton_primeiro_lambda(p):\n",
    "    lambs = [] \n",
    "    derivs = []\n",
    "    phis = []\n",
    "    phi = 0\n",
    "    lamb = 0\n",
    "    alfa = INFINITO_NEGATIVO;\n",
    "    beta = INFINITO_POSITIVO;\n",
    "    phi_alfa = 0.0;\n",
    "    phi_beta = 0.0;\n",
    "    deriv = 0\n",
    "    x = []\n",
    "    r = p.r\n",
    "    \n",
    "    lamb, slopes = initial_lambda(p,lamb)\n",
    "    deriv, phi, x = phi_lambda_model(p,lamb,phi,deriv,slopes,r)\n",
    "    lambs.append(lamb)\n",
    "    derivs.append(deriv)\n",
    "    phis.append(phi)\n",
    "    \n",
    "    it = 1\n",
    "    \n",
    "    while phi != 0.0 and it <= MAX_IT:\n",
    "        if phi > 0:\n",
    "#             print(\"positivo\")\n",
    "            beta = lamb\n",
    "            lambda_n = 0.0\n",
    "            if deriv > 0.0:\n",
    "                \n",
    "                lambda_n = lamb - (phi/deriv)\n",
    "                if abs(lambda_n - lamb) <= 0.00000000001:\n",
    "                    phi = 0.0\n",
    "                    break\n",
    "                if lambda_n > alfa:\n",
    "                    lamb = lambda_n\n",
    "                else:\n",
    "#                     print(\"aqui\")\n",
    "                    phi_beta = phi;\n",
    "#                     lamb = secant(p,x,alfa,beta,phi_alfa,phi_beta,r);\n",
    "#             if deriv == 0.0:\n",
    "#                 lamb = breakpoint_to_the_left(p,lamb);\n",
    "#                 if lamb <= INFINITO_NEGATIVO or lamb >= INFINITO_POSITIVO:\n",
    "#                     break\n",
    "                \n",
    "        else:\n",
    "            if it == 1:\n",
    "                negativo = True\n",
    "#             print(\"negativo\")\n",
    "            alfa = lamb;\n",
    "            lambda_n = 0.0;\n",
    "\n",
    "            if deriv > 0.0:\n",
    "                lambda_n = lamb - (phi/deriv)\n",
    "                if abs(lambda_n - lamb) <= 0.00000000001:\n",
    "                    phi = 0.0\n",
    "                    break\n",
    "                \n",
    "                if lambda_n < beta:\n",
    "                    lamb = lambda_n\n",
    "                else:\n",
    "#                     print(\"aqui\")\n",
    "                    phi_alfa = phi;\n",
    "#                     lamb = secant(p,x,alfa,beta,phi_alfa,phi_beta,r);\n",
    "#             if deriv == 0.0:\n",
    "#                 lamb = breakpoint_to_the_right(p,lamb)\n",
    "#                 if lamb <= INFINITO_NEGATIVO or lamb >= INFINITO_POSITIVO:\n",
    "#                     break\n",
    "        \n",
    "        \n",
    "        deriv, phi, x = phi_lambda(p,lamb,phi,deriv,slopes,r)\n",
    "        it = it + 1\n",
    "        lambs.append(lamb)\n",
    "        derivs.append(deriv)\n",
    "        phis.append(phi)\n",
    "        \n",
    "    if phi == 0.0:\n",
    "        return it,lambs,derivs,phis\n",
    "    elif alfa == beta:\n",
    "        return -1,lambs,derivs,phis\n",
    "    else:\n",
    "        return -2,lambs,derivs,phis"
   ]
  },
  {
   "cell_type": "code",
   "execution_count": 3207,
   "metadata": {},
   "outputs": [],
   "source": [
    "lista = []\n",
    "for i in range(20000):\n",
    "    n = 100\n",
    "    p = generate_cqk_problem(n)\n",
    "    it,lambs,derivs,phis = newton_primeiro_lambda(p)\n",
    "    soma_a = 0\n",
    "    soma_b = 0\n",
    "    soma_d = 0\n",
    "    for i in range(n):\n",
    "        soma_a += p.a[i]\n",
    "        soma_b += p.b[i]\n",
    "        soma_d += p.d[i]\n",
    "    \n",
    "    soma_a = soma_a/n\n",
    "    soma_b = soma_b/n\n",
    "    soma_d = soma_d/n\n",
    "    r = p.r/n\n",
    "#     l_rs = [soma_a, soma_b, soma_low, soma_up, soma_d, p.r, lambs[0], lambs[-1]]\n",
    "    if it > 0 and it < 5:\n",
    "        l_rs = [soma_a, soma_b, soma_d, r,lambs[0],phis[0],derivs[0],phis[1],lambs[1],lambs[-1]]\n",
    "\n",
    "#         l_rs = [p.a[0],p.a[1],p.a[2], p.b[0], p.b[1], p.b[2],p.d[0],p.d[1],p.d[2],p.r,lambs[0],derivs[0],phis[0],lambs[1],lambs[-1]]\n",
    "\n",
    "#         l_rs = [p.a[0],p.a[1],p.a[2], p.b[0], p.b[1], p.b[2],p.low[0],p.low[1],p.low[2],p.d[0],p.d[1],p.d[2],p.up[0],p.up[1],p.up[2],p.r,lambs[0],lambs[1],lambs[-1]]\n",
    "\n",
    "        lista.append(l_rs)\n",
    "        if len(lista) == 10000:\n",
    "            break"
   ]
  },
  {
   "cell_type": "code",
   "execution_count": 3208,
   "metadata": {},
   "outputs": [],
   "source": [
    "np.savetxt('instance_test.txt', lista, delimiter = ' ',newline='\\n', fmt=\"%f\")"
   ]
  },
  {
   "cell_type": "code",
   "execution_count": 3209,
   "metadata": {},
   "outputs": [],
   "source": [
    "c = ''\n",
    "with open(\"instance_test.txt\", \"r\") as fd:\n",
    "    c = StringIO(fd.read())\n",
    "\n",
    "d = c.read()\n",
    "c = StringIO(d) \n",
    "d = np.loadtxt(c) \n",
    "feature_names = ['a','b','d','r','inicital_lamb','phi_initial','deriv_initial','second_phi','second_lamb','final_lamb']   \n",
    "\n"
   ]
  },
  {
   "cell_type": "code",
   "execution_count": 3215,
   "metadata": {},
   "outputs": [],
   "source": [
    "knapsack_second = {\"data\":d, \"feature_names\": feature_names}\n",
    "dataset_second = pd.DataFrame(knapsack_second['data'], columns = knapsack_second['feature_names'])\n",
    "\n",
    "\n",
    "# Coletando x e y\n",
    "\n",
    "X_second = dataset_second.iloc[:,:-3]\n",
    "y_second = dataset_second['second_lamb'].values"
   ]
  },
  {
   "cell_type": "code",
   "execution_count": 3291,
   "metadata": {},
   "outputs": [
    {
     "data": {
      "text/html": [
       "<div>\n",
       "<style scoped>\n",
       "    .dataframe tbody tr th:only-of-type {\n",
       "        vertical-align: middle;\n",
       "    }\n",
       "\n",
       "    .dataframe tbody tr th {\n",
       "        vertical-align: top;\n",
       "    }\n",
       "\n",
       "    .dataframe thead th {\n",
       "        text-align: right;\n",
       "    }\n",
       "</style>\n",
       "<table border=\"1\" class=\"dataframe\">\n",
       "  <thead>\n",
       "    <tr style=\"text-align: right;\">\n",
       "      <th></th>\n",
       "      <th>a</th>\n",
       "      <th>b</th>\n",
       "      <th>d</th>\n",
       "      <th>r</th>\n",
       "      <th>inicital_lamb</th>\n",
       "      <th>phi_initial</th>\n",
       "      <th>deriv_initial</th>\n",
       "      <th>second_phi</th>\n",
       "      <th>second_lamb</th>\n",
       "      <th>final_lamb</th>\n",
       "    </tr>\n",
       "  </thead>\n",
       "  <tbody>\n",
       "    <tr>\n",
       "      <th>0</th>\n",
       "      <td>17.52</td>\n",
       "      <td>16.515474</td>\n",
       "      <td>17.53</td>\n",
       "      <td>156.078163</td>\n",
       "      <td>7.866380</td>\n",
       "      <td>-891.288454</td>\n",
       "      <td>761.860351</td>\n",
       "      <td>-38.823544</td>\n",
       "      <td>9.036264</td>\n",
       "      <td>9.095324</td>\n",
       "    </tr>\n",
       "    <tr>\n",
       "      <th>1</th>\n",
       "      <td>17.54</td>\n",
       "      <td>16.951509</td>\n",
       "      <td>16.61</td>\n",
       "      <td>152.801912</td>\n",
       "      <td>6.755693</td>\n",
       "      <td>-1207.598407</td>\n",
       "      <td>755.518723</td>\n",
       "      <td>21.007378</td>\n",
       "      <td>8.354063</td>\n",
       "      <td>8.316486</td>\n",
       "    </tr>\n",
       "    <tr>\n",
       "      <th>2</th>\n",
       "      <td>17.31</td>\n",
       "      <td>17.119538</td>\n",
       "      <td>17.05</td>\n",
       "      <td>142.245602</td>\n",
       "      <td>6.463221</td>\n",
       "      <td>-957.658400</td>\n",
       "      <td>776.926362</td>\n",
       "      <td>-87.361606</td>\n",
       "      <td>7.695845</td>\n",
       "      <td>7.845849</td>\n",
       "    </tr>\n",
       "    <tr>\n",
       "      <th>3</th>\n",
       "      <td>17.73</td>\n",
       "      <td>16.706896</td>\n",
       "      <td>17.41</td>\n",
       "      <td>144.512202</td>\n",
       "      <td>6.763771</td>\n",
       "      <td>-1041.331428</td>\n",
       "      <td>523.260341</td>\n",
       "      <td>-68.527982</td>\n",
       "      <td>8.753854</td>\n",
       "      <td>8.899579</td>\n",
       "    </tr>\n",
       "    <tr>\n",
       "      <th>4</th>\n",
       "      <td>17.10</td>\n",
       "      <td>17.138578</td>\n",
       "      <td>17.53</td>\n",
       "      <td>152.563926</td>\n",
       "      <td>7.094160</td>\n",
       "      <td>-1200.718662</td>\n",
       "      <td>702.072582</td>\n",
       "      <td>-87.235078</td>\n",
       "      <td>8.804409</td>\n",
       "      <td>8.973913</td>\n",
       "    </tr>\n",
       "    <tr>\n",
       "      <th>...</th>\n",
       "      <td>...</td>\n",
       "      <td>...</td>\n",
       "      <td>...</td>\n",
       "      <td>...</td>\n",
       "      <td>...</td>\n",
       "      <td>...</td>\n",
       "      <td>...</td>\n",
       "      <td>...</td>\n",
       "      <td>...</td>\n",
       "      <td>...</td>\n",
       "    </tr>\n",
       "    <tr>\n",
       "      <th>9995</th>\n",
       "      <td>17.33</td>\n",
       "      <td>17.138600</td>\n",
       "      <td>17.30</td>\n",
       "      <td>146.567360</td>\n",
       "      <td>6.564720</td>\n",
       "      <td>-1226.325975</td>\n",
       "      <td>596.733014</td>\n",
       "      <td>-92.700780</td>\n",
       "      <td>8.619787</td>\n",
       "      <td>8.782494</td>\n",
       "    </tr>\n",
       "    <tr>\n",
       "      <th>9996</th>\n",
       "      <td>16.62</td>\n",
       "      <td>16.667576</td>\n",
       "      <td>17.32</td>\n",
       "      <td>150.086351</td>\n",
       "      <td>7.323448</td>\n",
       "      <td>-1061.697094</td>\n",
       "      <td>732.720571</td>\n",
       "      <td>-184.042877</td>\n",
       "      <td>8.772428</td>\n",
       "      <td>9.131766</td>\n",
       "    </tr>\n",
       "    <tr>\n",
       "      <th>9997</th>\n",
       "      <td>18.11</td>\n",
       "      <td>17.071313</td>\n",
       "      <td>18.09</td>\n",
       "      <td>149.331722</td>\n",
       "      <td>7.128118</td>\n",
       "      <td>-1533.810382</td>\n",
       "      <td>768.802581</td>\n",
       "      <td>-111.905781</td>\n",
       "      <td>9.123182</td>\n",
       "      <td>9.310151</td>\n",
       "    </tr>\n",
       "    <tr>\n",
       "      <th>9998</th>\n",
       "      <td>17.62</td>\n",
       "      <td>16.863073</td>\n",
       "      <td>17.34</td>\n",
       "      <td>149.465798</td>\n",
       "      <td>6.846563</td>\n",
       "      <td>-1165.266232</td>\n",
       "      <td>639.700687</td>\n",
       "      <td>-91.226711</td>\n",
       "      <td>8.668143</td>\n",
       "      <td>8.860779</td>\n",
       "    </tr>\n",
       "    <tr>\n",
       "      <th>9999</th>\n",
       "      <td>17.51</td>\n",
       "      <td>17.142830</td>\n",
       "      <td>17.65</td>\n",
       "      <td>148.891636</td>\n",
       "      <td>6.945308</td>\n",
       "      <td>-1171.326448</td>\n",
       "      <td>920.235812</td>\n",
       "      <td>-164.251304</td>\n",
       "      <td>8.218163</td>\n",
       "      <td>8.449989</td>\n",
       "    </tr>\n",
       "  </tbody>\n",
       "</table>\n",
       "<p>10000 rows × 10 columns</p>\n",
       "</div>"
      ],
      "text/plain": [
       "          a          b      d           r  inicital_lamb  phi_initial  \\\n",
       "0     17.52  16.515474  17.53  156.078163       7.866380  -891.288454   \n",
       "1     17.54  16.951509  16.61  152.801912       6.755693 -1207.598407   \n",
       "2     17.31  17.119538  17.05  142.245602       6.463221  -957.658400   \n",
       "3     17.73  16.706896  17.41  144.512202       6.763771 -1041.331428   \n",
       "4     17.10  17.138578  17.53  152.563926       7.094160 -1200.718662   \n",
       "...     ...        ...    ...         ...            ...          ...   \n",
       "9995  17.33  17.138600  17.30  146.567360       6.564720 -1226.325975   \n",
       "9996  16.62  16.667576  17.32  150.086351       7.323448 -1061.697094   \n",
       "9997  18.11  17.071313  18.09  149.331722       7.128118 -1533.810382   \n",
       "9998  17.62  16.863073  17.34  149.465798       6.846563 -1165.266232   \n",
       "9999  17.51  17.142830  17.65  148.891636       6.945308 -1171.326448   \n",
       "\n",
       "      deriv_initial  second_phi  second_lamb  final_lamb  \n",
       "0        761.860351  -38.823544     9.036264    9.095324  \n",
       "1        755.518723   21.007378     8.354063    8.316486  \n",
       "2        776.926362  -87.361606     7.695845    7.845849  \n",
       "3        523.260341  -68.527982     8.753854    8.899579  \n",
       "4        702.072582  -87.235078     8.804409    8.973913  \n",
       "...             ...         ...          ...         ...  \n",
       "9995     596.733014  -92.700780     8.619787    8.782494  \n",
       "9996     732.720571 -184.042877     8.772428    9.131766  \n",
       "9997     768.802581 -111.905781     9.123182    9.310151  \n",
       "9998     639.700687  -91.226711     8.668143    8.860779  \n",
       "9999     920.235812 -164.251304     8.218163    8.449989  \n",
       "\n",
       "[10000 rows x 10 columns]"
      ]
     },
     "execution_count": 3291,
     "metadata": {},
     "output_type": "execute_result"
    }
   ],
   "source": [
    "dataset_second"
   ]
  },
  {
   "cell_type": "code",
   "execution_count": 3217,
   "metadata": {},
   "outputs": [],
   "source": [
    "X_train_second, X_test_second, y_train_second, y_test_second = train_test_split(X_second, y_second)\n",
    "\n",
    "# Padronização\n",
    "scaler_second = StandardScaler()\n",
    "scaler_second.fit(X_train_second)\n",
    "\n",
    "# Aplicando a padronização aos dados\n",
    "X_train_p_second = scaler_second.transform(X_train_second)\n",
    "X_test_p_second = scaler_second.transform(X_test_second)"
   ]
  },
  {
   "cell_type": "code",
   "execution_count": 3218,
   "metadata": {},
   "outputs": [],
   "source": [
    "regr_second_lambda = MLPRegressor(activation='logistic',random_state=1, max_iter=5000).fit(X_train_p_second, y_train_second)"
   ]
  },
  {
   "cell_type": "code",
   "execution_count": 3219,
   "metadata": {},
   "outputs": [
    {
     "data": {
      "text/plain": [
       "MLPRegressor(activation='logistic', alpha=0.0001, batch_size='auto', beta_1=0.9,\n",
       "             beta_2=0.999, early_stopping=False, epsilon=1e-08,\n",
       "             hidden_layer_sizes=(100,), learning_rate='constant',\n",
       "             learning_rate_init=0.001, max_fun=15000, max_iter=5000,\n",
       "             momentum=0.9, n_iter_no_change=10, nesterovs_momentum=True,\n",
       "             power_t=0.5, random_state=1, shuffle=True, solver='adam',\n",
       "             tol=0.0001, validation_fraction=0.1, verbose=False,\n",
       "             warm_start=False)"
      ]
     },
     "execution_count": 3219,
     "metadata": {},
     "output_type": "execute_result"
    }
   ],
   "source": [
    "regr_second_lambda.fit(X_train_p_second, y_train_second)"
   ]
  },
  {
   "cell_type": "code",
   "execution_count": 3284,
   "metadata": {},
   "outputs": [
    {
     "data": {
      "text/plain": [
       "0.9827192189904328"
      ]
     },
     "execution_count": 3284,
     "metadata": {},
     "output_type": "execute_result"
    }
   ],
   "source": [
    "regr_second_lambda.score(X_test_p_second, y_test_second)"
   ]
  },
  {
   "cell_type": "code",
   "execution_count": 3285,
   "metadata": {},
   "outputs": [
    {
     "data": {
      "text/plain": [
       "array([8.78111221, 6.61563923, 8.094837  , 9.05991923, 8.59636432,\n",
       "       7.86643674, 7.82502797, 7.94006535, 9.24479003, 9.34992004])"
      ]
     },
     "execution_count": 3285,
     "metadata": {},
     "output_type": "execute_result"
    }
   ],
   "source": [
    "# print(X_test_p_second[:1])\n",
    "regr_second_lambda.predict(X_test_p_second[:10])"
   ]
  },
  {
   "cell_type": "code",
   "execution_count": 3286,
   "metadata": {},
   "outputs": [
    {
     "data": {
      "text/plain": [
       "array([8.816307, 6.876359, 8.03368 , 9.008379, 8.586252, 7.804226,\n",
       "       7.887314, 8.000323, 9.23473 , 9.365615])"
      ]
     },
     "execution_count": 3286,
     "metadata": {},
     "output_type": "execute_result"
    }
   ],
   "source": [
    "y_test_second[:10]"
   ]
  },
  {
   "cell_type": "markdown",
   "metadata": {},
   "source": [
    "# Predicao para lambda final"
   ]
  },
  {
   "cell_type": "code",
   "execution_count": 3287,
   "metadata": {},
   "outputs": [],
   "source": [
    "def initial_lambda_regr_terceiro(p):\n",
    "    s0=0.0\n",
    "    q0=0.0\n",
    "    \n",
    "    soma_a = 0\n",
    "    soma_b = 0\n",
    "    soma_d = 0\n",
    "    slopes = []\n",
    "    for i in range(n):\n",
    "        soma_a += p.a[i]\n",
    "        soma_b += p.b[i]\n",
    "        soma_d += p.d[i]\n",
    "        slopes.append((p.b[i]/p.d[i])*p.b[i])\n",
    "        s0 = s0 + (p.a[i] * p.b[i]) / p.d[i]\n",
    "        q0 = q0 + (p.b[i] * p.b[i]) / p.d[i]\n",
    "\n",
    "    soma_a = soma_a/n\n",
    "    soma_b = soma_b/n\n",
    "    soma_d = soma_d/n\n",
    "    rn = p.r/n\n",
    "    lamb = (p.r-s0)/q0\n",
    "\n",
    "    return lamb, slopes,soma_a,soma_b,soma_d,rn\n",
    "#     return regr.predict(scaler.transform(np.asarray([[soma_a,soma_b,soma_d,r]])))[0],slopes,soma_a,soma_b,soma_d,rn"
   ]
  },
  {
   "cell_type": "code",
   "execution_count": 3288,
   "metadata": {},
   "outputs": [],
   "source": [
    "def phi_lambda_model(p,lamb,phi,deriv,slopes,r):\n",
    "    deriv = 0.0\n",
    "    phi = r * -1\n",
    "    x = []\n",
    "    \n",
    "    for i in range(p.n):\n",
    "        \n",
    "        x.append( (p.b[i] * lamb + p.a[i])/p.d[i])\n",
    "\n",
    "        if x[i] < p.low[i]:\n",
    "            x[i] = p.low[i]\n",
    "        elif x[i] > p.up[i]:\n",
    "            x[i] = p.up[i]\n",
    "        else:\n",
    "            deriv = deriv + slopes[i];\n",
    "        phi = phi + p.b[i] * x[i];\n",
    "    return deriv, phi, x"
   ]
  },
  {
   "cell_type": "code",
   "execution_count": 3305,
   "metadata": {},
   "outputs": [],
   "source": [
    "MAX_IT = 10\n",
    "INFINITO_NEGATIVO = -999999999;\n",
    "INFINITO_POSITIVO = 999999999;\n",
    "\n",
    "def newton_segundo_lambda(p):\n",
    "    lambs = [] \n",
    "    phis = []\n",
    "    derivs = []\n",
    "    phi = 0\n",
    "    alfa = INFINITO_NEGATIVO;\n",
    "    beta = INFINITO_POSITIVO;\n",
    "    phi_alfa = 0.0;\n",
    "    phi_beta = 0.0;\n",
    "    x = []\n",
    "    r = p.r\n",
    "    deriv = 0\n",
    "    slopes = []\n",
    "    lamb = 0\n",
    "    \n",
    "    lamb,slopes,soma_a,soma_b,soma_d,rn = initial_lambda_regr_terceiro(p)\n",
    "#     deriv, phi, x = phi_lambda_model(p,lamb,phi,deriv,slopes,r)\n",
    "\n",
    "    lambs.append(lamb)\n",
    "    \n",
    "    \n",
    "    test = regr_second_lambda.predict(scaler_second.transform(np.asarray([[soma_a,soma_b,soma_d,rn,lamb,phi,deriv]])))[0]\n",
    "    print(test)\n",
    "#     lambs.append(lamb)\n",
    "    \n",
    "#     lamb, slopes = initial_lambda(p,lamb)\n",
    "    deriv, phi, x = phi_lambda_model(p,lamb,phi,deriv,slopes,r)\n",
    "    derivs.append(deriv)\n",
    "    phis.append(phi)\n",
    "    \n",
    "    \n",
    "    it = 1\n",
    "   \n",
    "    while phi != 0.0 and it <= MAX_IT:\n",
    "        if phi > 0:\n",
    "            print(\"positivo\")\n",
    "            beta = lamb\n",
    "            lambda_n = 0.0\n",
    "            if deriv > 0.0:\n",
    "                \n",
    "                lambda_n = lamb - (phi/deriv)\n",
    "                if abs(lambda_n - lamb) <= 0.00000000001:\n",
    "                    phi = 0.0\n",
    "                    break\n",
    "                if lambda_n > alfa:\n",
    "                    lamb = lambda_n\n",
    "                else:\n",
    "#                     print(\"aqui\")\n",
    "                    phi_beta = phi;\n",
    "#                     lamb = secant(p,x,alfa,beta,phi_alfa,phi_beta,r);\n",
    "#             if deriv == 0.0:\n",
    "#                 lamb = breakpoint_to_the_left(p,lamb);\n",
    "#                 if lamb <= INFINITO_NEGATIVO or lamb >= INFINITO_POSITIVO:\n",
    "#                     break\n",
    "                \n",
    "        else:\n",
    "            print(\"negativo\")\n",
    "            alfa = lamb;\n",
    "            lambda_n = 0.0;\n",
    "\n",
    "            if deriv > 0.0:\n",
    "                lambda_n = lamb - (phi/deriv)\n",
    "                if abs(lambda_n - lamb) <= 0.00000000001:\n",
    "                    phi = 0.0\n",
    "                    break\n",
    "                \n",
    "                if lambda_n < beta:\n",
    "                    lamb = lambda_n\n",
    "                else:\n",
    "#                     print(\"aqui\")\n",
    "                    phi_alfa = phi;\n",
    "#                     lamb = secant(p,x,alfa,beta,phi_alfa,phi_beta,r);\n",
    "#             if deriv == 0.0:\n",
    "#                 lamb = breakpoint_to_the_right(p,lamb)\n",
    "#                 if lamb <= INFINITO_NEGATIVO or lamb >= INFINITO_POSITIVO:\n",
    "#                     break\n",
    "        \n",
    "        \n",
    "        deriv, phi, x = phi_lambda_model(p,lamb,phi,deriv,slopes,r)\n",
    "        it = it + 1\n",
    "        lambs.append(lamb)\n",
    "        derivs.append(deriv)\n",
    "        phis.append(phi)\n",
    "        \n",
    "    if phi == 0.0:\n",
    "        return it,lambs,phis,derivs\n",
    "    elif alfa == beta:\n",
    "        return -1,lambs,phis,derivs\n",
    "    else:\n",
    "        return -2,lambs,phis,derivs\n",
    "    \n",
    "\n"
   ]
  },
  {
   "cell_type": "code",
   "execution_count": 3306,
   "metadata": {},
   "outputs": [
    {
     "name": "stdout",
     "output_type": "stream",
     "text": [
      "8.533035951339594\n",
      "negativo\n",
      "negativo\n",
      "positivo\n",
      "3\n",
      "8.479545428557918\n",
      "negativo\n",
      "negativo\n",
      "negativo\n",
      "negativo\n",
      "4\n",
      "7.875061014480469\n",
      "negativo\n",
      "negativo\n",
      "negativo\n",
      "negativo\n",
      "4\n",
      "8.52295401467521\n",
      "negativo\n",
      "negativo\n",
      "positivo\n",
      "negativo\n",
      "4\n",
      "8.368005374432595\n",
      "negativo\n",
      "negativo\n",
      "negativo\n",
      "negativo\n",
      "4\n"
     ]
    }
   ],
   "source": [
    "lista = []\n",
    "for i in range(5):\n",
    "    n = 100\n",
    "    p = generate_cqk_problem(n)\n",
    "    it,lambs,phis,derivs = newton_segundo_lambda(p)\n",
    "    print(it)\n",
    "    soma_a = 0\n",
    "    soma_b = 0\n",
    "    soma_d = 0\n",
    "    for i in range(n):\n",
    "        soma_a += p.a[i]\n",
    "        soma_b += p.b[i]\n",
    "        soma_d += p.d[i]\n",
    "    \n",
    "    soma_a = soma_a/n\n",
    "    soma_b = soma_b/n\n",
    "    soma_d = soma_d/n\n",
    "    r = p.r/n\n",
    "#     l_rs = [soma_a, soma_b, soma_low, soma_up, soma_d, p.r, lambs[0], lambs[-1]]\n",
    "    if it > 0 and it < 5:\n",
    "        l_rs = [soma_a, soma_b, soma_d, r,lambs[0],phis[0],derivs[0],phis[1],lambs[1],lambs[-1]]\n",
    "#         l_rs = [p.a[0],p.a[1],p.a[2], p.b[0], p.b[1], p.b[2],p.d[0],p.d[1],p.d[2],p.r,lambs[0],derivs[0],phis[0],lambs[1],lambs[-1]]\n",
    "\n",
    "#         l_rs = [p.a[0],p.a[1],p.a[2], p.b[0], p.b[1], p.b[2],p.low[0],p.low[1],p.low[2],p.d[0],p.d[1],p.d[2],p.up[0],p.up[1],p.up[2],p.r,lambs[0],lambs[1],lambs[-1]]\n",
    "\n",
    "        lista.append(l_rs)\n",
    "        if len(lista) == 10000:\n",
    "            break"
   ]
  },
  {
   "cell_type": "code",
   "execution_count": 3307,
   "metadata": {},
   "outputs": [],
   "source": [
    "np.savetxt('instance_test.txt', lista, delimiter = ' ',newline='\\n', fmt=\"%f\")"
   ]
  },
  {
   "cell_type": "code",
   "execution_count": 3308,
   "metadata": {},
   "outputs": [],
   "source": [
    "c = ''\n",
    "with open(\"instance_test.txt\", \"r\") as fd:\n",
    "    c = StringIO(fd.read())\n",
    "\n",
    "d = c.read()\n",
    "c = StringIO(d) \n",
    "d = np.loadtxt(c) \n",
    "feature_names = ['a','b','d','r','inicital_lamb','phi_initial','deriv_initial','second_phi','second_lamb','final_lamb']   \n",
    "\n",
    "knapsack_third = {\"data\":d, \"feature_names\": feature_names}\n",
    "dataset_third = pd.DataFrame(knapsack_third['data'], columns = knapsack_third['feature_names'])\n",
    "\n",
    "\n",
    "# Coletando x e y\n",
    "\n",
    "X_third = dataset_third.iloc[:,:-1]\n",
    "y_third = dataset_third['final_lamb'].values"
   ]
  },
  {
   "cell_type": "code",
   "execution_count": 3309,
   "metadata": {},
   "outputs": [
    {
     "data": {
      "text/html": [
       "<div>\n",
       "<style scoped>\n",
       "    .dataframe tbody tr th:only-of-type {\n",
       "        vertical-align: middle;\n",
       "    }\n",
       "\n",
       "    .dataframe tbody tr th {\n",
       "        vertical-align: top;\n",
       "    }\n",
       "\n",
       "    .dataframe thead th {\n",
       "        text-align: right;\n",
       "    }\n",
       "</style>\n",
       "<table border=\"1\" class=\"dataframe\">\n",
       "  <thead>\n",
       "    <tr style=\"text-align: right;\">\n",
       "      <th></th>\n",
       "      <th>a</th>\n",
       "      <th>b</th>\n",
       "      <th>d</th>\n",
       "      <th>r</th>\n",
       "      <th>inicital_lamb</th>\n",
       "      <th>phi_initial</th>\n",
       "      <th>deriv_initial</th>\n",
       "      <th>second_phi</th>\n",
       "      <th>second_lamb</th>\n",
       "      <th>final_lamb</th>\n",
       "    </tr>\n",
       "  </thead>\n",
       "  <tbody>\n",
       "    <tr>\n",
       "      <th>0</th>\n",
       "      <td>17.76</td>\n",
       "      <td>17.025510</td>\n",
       "      <td>17.73</td>\n",
       "      <td>150.412081</td>\n",
       "      <td>6.969957</td>\n",
       "      <td>-1514.030800</td>\n",
       "      <td>717.533679</td>\n",
       "      <td>-89.631159</td>\n",
       "      <td>9.080006</td>\n",
       "      <td>9.229499</td>\n",
       "    </tr>\n",
       "    <tr>\n",
       "      <th>1</th>\n",
       "      <td>18.15</td>\n",
       "      <td>17.307834</td>\n",
       "      <td>16.86</td>\n",
       "      <td>158.776057</td>\n",
       "      <td>6.963048</td>\n",
       "      <td>-1143.907435</td>\n",
       "      <td>882.162495</td>\n",
       "      <td>-130.666025</td>\n",
       "      <td>8.259756</td>\n",
       "      <td>8.458947</td>\n",
       "    </tr>\n",
       "    <tr>\n",
       "      <th>2</th>\n",
       "      <td>18.03</td>\n",
       "      <td>17.109323</td>\n",
       "      <td>17.09</td>\n",
       "      <td>143.299188</td>\n",
       "      <td>6.298711</td>\n",
       "      <td>-964.922682</td>\n",
       "      <td>685.627402</td>\n",
       "      <td>-73.946997</td>\n",
       "      <td>7.706068</td>\n",
       "      <td>7.835231</td>\n",
       "    </tr>\n",
       "    <tr>\n",
       "      <th>3</th>\n",
       "      <td>17.40</td>\n",
       "      <td>16.965988</td>\n",
       "      <td>18.09</td>\n",
       "      <td>145.469193</td>\n",
       "      <td>6.964585</td>\n",
       "      <td>-991.683179</td>\n",
       "      <td>638.031011</td>\n",
       "      <td>-211.082107</td>\n",
       "      <td>8.518871</td>\n",
       "      <td>8.997597</td>\n",
       "    </tr>\n",
       "    <tr>\n",
       "      <th>4</th>\n",
       "      <td>18.37</td>\n",
       "      <td>16.667807</td>\n",
       "      <td>16.89</td>\n",
       "      <td>148.848228</td>\n",
       "      <td>6.808125</td>\n",
       "      <td>-1033.452220</td>\n",
       "      <td>827.793447</td>\n",
       "      <td>-81.466408</td>\n",
       "      <td>8.056567</td>\n",
       "      <td>8.177303</td>\n",
       "    </tr>\n",
       "  </tbody>\n",
       "</table>\n",
       "</div>"
      ],
      "text/plain": [
       "       a          b      d           r  inicital_lamb  phi_initial  \\\n",
       "0  17.76  17.025510  17.73  150.412081       6.969957 -1514.030800   \n",
       "1  18.15  17.307834  16.86  158.776057       6.963048 -1143.907435   \n",
       "2  18.03  17.109323  17.09  143.299188       6.298711  -964.922682   \n",
       "3  17.40  16.965988  18.09  145.469193       6.964585  -991.683179   \n",
       "4  18.37  16.667807  16.89  148.848228       6.808125 -1033.452220   \n",
       "\n",
       "   deriv_initial  second_phi  second_lamb  final_lamb  \n",
       "0     717.533679  -89.631159     9.080006    9.229499  \n",
       "1     882.162495 -130.666025     8.259756    8.458947  \n",
       "2     685.627402  -73.946997     7.706068    7.835231  \n",
       "3     638.031011 -211.082107     8.518871    8.997597  \n",
       "4     827.793447  -81.466408     8.056567    8.177303  "
      ]
     },
     "execution_count": 3309,
     "metadata": {},
     "output_type": "execute_result"
    }
   ],
   "source": [
    "dataset_third"
   ]
  },
  {
   "cell_type": "code",
   "execution_count": 3089,
   "metadata": {},
   "outputs": [],
   "source": [
    "X_train_third, X_test_third, y_train_third, y_test_third = train_test_split(X_third, y_third)\n",
    "\n",
    "# Padronização\n",
    "scaler_third = StandardScaler()\n",
    "scaler_third.fit(X_train_third)\n",
    "\n",
    "# Aplicando a padronização aos dados\n",
    "X_train_p_third = scaler_third.transform(X_train_third)\n",
    "X_test_p_third = scaler_third.transform(X_test_third)"
   ]
  },
  {
   "cell_type": "code",
   "execution_count": 3090,
   "metadata": {},
   "outputs": [],
   "source": [
    "regr_third_lambda = MLPRegressor(activation='logistic',random_state=1, max_iter=5000).fit(X_train_p_third, y_train_third)"
   ]
  },
  {
   "cell_type": "code",
   "execution_count": 3091,
   "metadata": {},
   "outputs": [
    {
     "data": {
      "text/plain": [
       "MLPRegressor(activation='logistic', alpha=0.0001, batch_size='auto', beta_1=0.9,\n",
       "             beta_2=0.999, early_stopping=False, epsilon=1e-08,\n",
       "             hidden_layer_sizes=(100,), learning_rate='constant',\n",
       "             learning_rate_init=0.001, max_fun=15000, max_iter=5000,\n",
       "             momentum=0.9, n_iter_no_change=10, nesterovs_momentum=True,\n",
       "             power_t=0.5, random_state=1, shuffle=True, solver='adam',\n",
       "             tol=0.0001, validation_fraction=0.1, verbose=False,\n",
       "             warm_start=False)"
      ]
     },
     "execution_count": 3091,
     "metadata": {},
     "output_type": "execute_result"
    }
   ],
   "source": [
    "regr_third_lambda.fit(X_train_p_third, y_train_third)"
   ]
  },
  {
   "cell_type": "code",
   "execution_count": 3092,
   "metadata": {},
   "outputs": [
    {
     "data": {
      "text/plain": [
       "0.993079224004893"
      ]
     },
     "execution_count": 3092,
     "metadata": {},
     "output_type": "execute_result"
    }
   ],
   "source": [
    "regr_third_lambda.score(X_test_p_third, y_test_third)"
   ]
  },
  {
   "cell_type": "code",
   "execution_count": 3093,
   "metadata": {},
   "outputs": [
    {
     "data": {
      "text/plain": [
       "array([8.56861492, 9.33599095, 8.85081437, 8.63613154, 8.62460186,\n",
       "       8.37241868, 7.92555192, 9.34852908, 8.65482519, 7.80956563,\n",
       "       8.77641947, 9.60625718, 8.55126625, 9.14596024, 8.76606819,\n",
       "       8.83954137, 9.03676938, 9.53639663, 8.35275554, 8.72673584])"
      ]
     },
     "execution_count": 3093,
     "metadata": {},
     "output_type": "execute_result"
    }
   ],
   "source": [
    "regr_third_lambda.predict(X_test_p_third[:20])"
   ]
  },
  {
   "cell_type": "markdown",
   "metadata": {},
   "source": [
    "# Predição de lambda incial oficial"
   ]
  },
  {
   "cell_type": "code",
   "execution_count": 3094,
   "metadata": {},
   "outputs": [],
   "source": [
    "def initial_lambda_oficial(p):\n",
    "    \n",
    "    soma_a = 0\n",
    "    soma_b = 0\n",
    "    soma_d = 0\n",
    "    slopes = []\n",
    "    for i in range(p.n):\n",
    "        soma_a += p.a[i]\n",
    "        soma_b += p.b[i]\n",
    "        soma_d += p.d[i]\n",
    "        slopes.append((p.b[i]/p.d[i])*p.b[i])\n",
    "        \n",
    "    soma_a = soma_a/p.n\n",
    "    soma_b = soma_b/p.n\n",
    "    soma_d = soma_d/p.n\n",
    "    rn = p.r/p.n\n",
    "    return regr.predict(scaler.transform(np.asarray([[soma_a,soma_b,soma_d,r]])))[0],slopes,soma_a,soma_b,soma_d,rn"
   ]
  },
  {
   "cell_type": "code",
   "execution_count": 3095,
   "metadata": {},
   "outputs": [],
   "source": [
    "def just_phi_oficial(p,lamb,r):\n",
    "    phi = r * -1\n",
    "    x = []\n",
    "    \n",
    "    for i in range(p.n):\n",
    "        \n",
    "        x.append( (p.b[i] * lamb + p.a[i])/p.d[i])\n",
    "\n",
    "        if x[i] < p.low[i]:\n",
    "            x[i] = p.low[i]\n",
    "        elif x[i] > p.up[i]:\n",
    "            x[i] = p.up[i]\n",
    "        phi = phi + p.b[i] * x[i];\n",
    "    return phi"
   ]
  },
  {
   "cell_type": "code",
   "execution_count": 3096,
   "metadata": {},
   "outputs": [],
   "source": [
    "MAX_IT = 10\n",
    "INFINITO_NEGATIVO = -999999999;\n",
    "INFINITO_POSITIVO = 999999999;\n",
    "\n",
    "def newton_new_lamb_init(p,lamb,phi,slopes):\n",
    "    lambs = []\n",
    "    alfa = INFINITO_NEGATIVO;\n",
    "    beta = INFINITO_POSITIVO;\n",
    "    phi_alfa = 0.0;\n",
    "    phi_beta = 0.0;\n",
    "    x = []\n",
    "    r = p.r\n",
    "    deriv = 0\n",
    "    \n",
    "    deriv, phi, x = phi_lambda(p,lamb,phi,deriv,slopes,r)\n",
    "    lambs.append(lamb)\n",
    "    it = 1\n",
    "\n",
    "    while phi != 0.0 and it <= MAX_IT:\n",
    "        if phi > 0:\n",
    "#             print(\"positivo\")\n",
    "            beta = lamb\n",
    "            lambda_n = 0.0\n",
    "            if deriv > 0.0:\n",
    "                \n",
    "                lambda_n = lamb - (phi/deriv)\n",
    "                if abs(lambda_n - lamb) <= 0.00000000001:\n",
    "                    phi = 0.0\n",
    "                    break\n",
    "                if lambda_n > alfa:\n",
    "                    lamb = lambda_n\n",
    "                else:\n",
    "#                     print(\"aqui\")\n",
    "                    phi_beta = phi;\n",
    "#                     lamb = secant(p,x,alfa,beta,phi_alfa,phi_beta,r);\n",
    "#             if deriv == 0.0:\n",
    "#                 lamb = breakpoint_to_the_left(p,lamb);\n",
    "#                 if lamb <= INFINITO_NEGATIVO or lamb >= INFINITO_POSITIVO:\n",
    "#                     break\n",
    "                \n",
    "        else:\n",
    "#             print(\"negativo\")\n",
    "            alfa = lamb;\n",
    "            lambda_n = 0.0;\n",
    "\n",
    "            if deriv > 0.0:\n",
    "                lambda_n = lamb - (phi/deriv)\n",
    "                if abs(lambda_n - lamb) <= 0.00000000001:\n",
    "                    phi = 0.0\n",
    "                    break\n",
    "                \n",
    "                if lambda_n < beta:\n",
    "                    lamb = lambda_n\n",
    "                else:\n",
    "#                     print(\"aqui\")\n",
    "                    phi_alfa = phi;\n",
    "#                     lamb = secant(p,x,alfa,beta,phi_alfa,phi_beta,r);\n",
    "#             if deriv == 0.0:\n",
    "#                 lamb = breakpoint_to_the_right(p,lamb)\n",
    "#                 if lamb <= INFINITO_NEGATIVO or lamb >= INFINITO_POSITIVO:\n",
    "#                     break\n",
    "        \n",
    "        \n",
    "        deriv, phi, x = phi_lambda(p,lamb,phi,deriv,slopes,r)\n",
    "        it = it + 1\n",
    "        lambs.append(lamb)\n",
    "        \n",
    "    if phi == 0.0:\n",
    "        return it,lambs\n",
    "    elif alfa == beta:\n",
    "        return -1,lambs\n",
    "    else:\n",
    "        return -2,lambs"
   ]
  },
  {
   "cell_type": "code",
   "execution_count": 3115,
   "metadata": {},
   "outputs": [],
   "source": [
    "n = 100\n",
    "p = generate_cqk_problem(n)"
   ]
  },
  {
   "cell_type": "code",
   "execution_count": 3116,
   "metadata": {},
   "outputs": [
    {
     "name": "stdout",
     "output_type": "stream",
     "text": [
      "[6.713950529945758, 8.199574407921991] [-1303.720727299362, -339.86251733151903] 9.231108188542343\n",
      "CPU times: user 4.7 ms, sys: 2.73 ms, total: 7.42 ms\n",
      "Wall time: 6.96 ms\n"
     ]
    },
    {
     "data": {
      "text/plain": [
       "(3, [9.231108188542343, 8.718883047771524, 8.755446022815812])"
      ]
     },
     "execution_count": 3116,
     "metadata": {},
     "output_type": "execute_result"
    }
   ],
   "source": [
    "%%time \n",
    "\n",
    "lambs11 = []\n",
    "phis11 = []\n",
    "\n",
    "lamb,slopes,soma_a,soma_b,soma_d,rn = initial_lambda_oficial(p)\n",
    "lambs11.append(lamb)\n",
    "\n",
    "phi_ficial = just_phi_oficial(p,lamb,p.r)\n",
    "phis11.append(phi_ficial)\n",
    "\n",
    "lamb = regr_second_lambda.predict(scaler_second.transform(np.asarray([[soma_a,soma_b,soma_d,rn,lamb,phi]])))[0]\n",
    "lambs11.append(lamb)\n",
    "\n",
    "phi_ficial = just_phi_oficial(p,lamb,p.r)\n",
    "phis11.append(phi_ficial)\n",
    "\n",
    "test = regr_third_lambda.predict(scaler_third.transform(np.asarray([[soma_a,soma_b,soma_d,rn,lambs11[0],phis11[0],lambs11[1],phis11[1]]])))\n",
    "test = test[0]\n",
    "\n",
    "print(lambs11,phis11,test)\n",
    "\n",
    "phi_init = phis11[-1]\n",
    "\n",
    "\n",
    "\n",
    "newton_new_lamb_init(p,test,phi_init,slopes)"
   ]
  },
  {
   "cell_type": "code",
   "execution_count": 3117,
   "metadata": {},
   "outputs": [
    {
     "name": "stdout",
     "output_type": "stream",
     "text": [
      "CPU times: user 550 µs, sys: 0 ns, total: 550 µs\n",
      "Wall time: 555 µs\n"
     ]
    },
    {
     "data": {
      "text/plain": [
       "(4,\n",
       " [7.069643288517168, 8.514033349086409, 8.756860544740144, 8.755446022815823],\n",
       " [713.3417734668951, 626.0566614651611, 626.0566614651611, 626.0566614651611],\n",
       " [-1030.3437673844192,\n",
       "  -152.0235834239253,\n",
       "  0.8855708735096641,\n",
       "  -1.4495071809506044e-12])"
      ]
     },
     "execution_count": 3117,
     "metadata": {},
     "output_type": "execute_result"
    }
   ],
   "source": [
    "%%time \n",
    "newton(p)"
   ]
  },
  {
   "cell_type": "code",
   "execution_count": null,
   "metadata": {},
   "outputs": [],
   "source": [
    "tem que prever esse phi inicial pelo menos"
   ]
  }
 ],
 "metadata": {
  "kernelspec": {
   "display_name": "Python 3",
   "language": "python",
   "name": "python3"
  },
  "language_info": {
   "codemirror_mode": {
    "name": "ipython",
    "version": 3
   },
   "file_extension": ".py",
   "mimetype": "text/x-python",
   "name": "python",
   "nbconvert_exporter": "python",
   "pygments_lexer": "ipython3",
   "version": "3.7.3"
  }
 },
 "nbformat": 4,
 "nbformat_minor": 4
}
