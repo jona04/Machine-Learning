{
 "cells": [
  {
   "cell_type": "code",
   "execution_count": 3019,
   "metadata": {},
   "outputs": [],
   "source": [
    "import random\n",
    "\n",
    "# StringIO behaves like a file object \n",
    "from io import StringIO \n",
    "\n",
    "import numpy as np\n",
    "import pandas as pd\n",
    "import matplotlib.pyplot as plt\n",
    "import matplotlib as mpl\n",
    "from sklearn.datasets import load_boston\n",
    "from sklearn import linear_model\n",
    "from sklearn.metrics import r2_score\n",
    "from sklearn.pipeline import make_pipeline\n",
    "from sklearn.preprocessing import PolynomialFeatures\n",
    "from sklearn.preprocessing import StandardScaler\n",
    "import statsmodels.api as sm\n",
    "import statsmodels.formula.api as smf\n",
    "\n",
    "import copy\n",
    "\n",
    "\n",
    "from sklearn.datasets import load_breast_cancer\n",
    "from sklearn.model_selection import train_test_split\n",
    "from sklearn.preprocessing import StandardScaler\n",
    "\n",
    "\n",
    "%matplotlib inline "
   ]
  },
  {
   "cell_type": "code",
   "execution_count": 3020,
   "metadata": {},
   "outputs": [],
   "source": [
    "def median(a,b,c):\n",
    "    if a > b:\n",
    "        if a < c:\n",
    "            return a\n",
    "        elif b > c:\n",
    "            return b\n",
    "        else:\n",
    "            return c\n",
    "    else:\n",
    "        if a > c:\n",
    "            return a\n",
    "        elif b < c:\n",
    "            return b\n",
    "        else:\n",
    "            return c"
   ]
  },
  {
   "cell_type": "code",
   "execution_count": 3021,
   "metadata": {},
   "outputs": [],
   "source": [
    "class CqkProblem:\n",
    "    def __init__(self, r, n, d, a, b, low, up):\n",
    "        self.n = n\n",
    "        self.r = r\n",
    "        self.d = list(d)\n",
    "        self.a = list(a)\n",
    "        self.b = list(b)\n",
    "        self.low = list(low)\n",
    "        self.up = list(up)"
   ]
  },
  {
   "cell_type": "code",
   "execution_count": 3022,
   "metadata": {},
   "outputs": [],
   "source": [
    "def generate_cqk_problem(n):\n",
    "    d = []\n",
    "    low = []\n",
    "    up = []\n",
    "    b = []\n",
    "    a = []\n",
    "    temp = 0\n",
    "    lb = 0.0\n",
    "    ub = 0.0\n",
    "    lower = 10\n",
    "    upper = 25\n",
    "    r = 0\n",
    "\n",
    "    for i in range(n):\n",
    "        \n",
    "        b.append(10 + 14*random.random())\n",
    "        low.append(1 + 14*random.random())\n",
    "        up.append(1 + 14*random.random())\n",
    "        if low[i] > up[i]:\n",
    "            temp = low[i]\n",
    "            low[i] = up[i]\n",
    "            up[i] = temp\n",
    "        \n",
    "        lb = lb + b[i]*low[i];\n",
    "        ub = ub + b[i]*up[i];\n",
    "        \n",
    "        #Uncorrelated\n",
    "        d.append(random.randint(10,25))\n",
    "        a.append(random.randint(10,25))\n",
    "        \n",
    "    r = lb + (ub - lb)*0.7;\n",
    "    \n",
    "    return CqkProblem( r, n, d, a, b, low, up)"
   ]
  },
  {
   "cell_type": "code",
   "execution_count": 3023,
   "metadata": {},
   "outputs": [],
   "source": [
    "\n",
    "def initial_lambda(p, lamb):\n",
    "    s0=0.0\n",
    "    q0=0.0\n",
    "    slopes = []\n",
    "    for i in range(p.n):\n",
    "        slopes.append((p.b[i]/p.d[i])*p.b[i])\n",
    "        s0 = s0 + (p.a[i] * p.b[i]) / p.d[i]\n",
    "        q0 = q0 + (p.b[i] * p.b[i]) / p.d[i]\n",
    "    lamb = (p.r-s0)/q0\n",
    "    return lamb, slopes"
   ]
  },
  {
   "cell_type": "code",
   "execution_count": 3024,
   "metadata": {},
   "outputs": [],
   "source": [
    "def phi_lambda(p,lamb,phi,deriv,slopes,r):\n",
    "    deriv = 0.0\n",
    "    phi = r * -1\n",
    "    x = []\n",
    "    \n",
    "    for i in range(p.n):\n",
    "        \n",
    "        x.append( (p.b[i] * lamb + p.a[i])/p.d[i])\n",
    "\n",
    "        if x[i] < p.low[i]:\n",
    "            x[i] = p.low[i]\n",
    "        elif x[i] > p.up[i]:\n",
    "            x[i] = p.up[i]\n",
    "        else:\n",
    "            deriv = deriv + slopes[i];\n",
    "        phi = phi + p.b[i] * x[i];\n",
    "    return deriv, phi, x"
   ]
  },
  {
   "cell_type": "code",
   "execution_count": 3025,
   "metadata": {},
   "outputs": [],
   "source": [
    "MAX_IT = 10\n",
    "INFINITO_NEGATIVO = -999999999;\n",
    "INFINITO_POSITIVO = 999999999;\n",
    "\n",
    "def newton(p):\n",
    "    lambs = [] \n",
    "    derivs = []\n",
    "    phis = []\n",
    "    phi = 0\n",
    "    lamb = 0\n",
    "    alfa = INFINITO_NEGATIVO;\n",
    "    beta = INFINITO_POSITIVO;\n",
    "    phi_alfa = 0.0;\n",
    "    phi_beta = 0.0;\n",
    "    deriv = 0\n",
    "    x = []\n",
    "    r = p.r\n",
    "    \n",
    "    lamb, slopes = initial_lambda(p,lamb)\n",
    "    deriv, phi, x = phi_lambda(p,lamb,phi,deriv,slopes,r)\n",
    "    lambs.append(lamb)\n",
    "    derivs.append(deriv)\n",
    "    phis.append(phi)\n",
    "    \n",
    "    it = 1\n",
    "    \n",
    "    while phi != 0.0 and it <= MAX_IT:\n",
    "        if phi > 0:\n",
    "#             print(\"positivo\")\n",
    "            beta = lamb\n",
    "            lambda_n = 0.0\n",
    "            if deriv > 0.0:\n",
    "                \n",
    "                lambda_n = lamb - (phi/deriv)\n",
    "                if abs(lambda_n - lamb) <= 0.00000000001:\n",
    "                    phi = 0.0\n",
    "                    break\n",
    "                if lambda_n > alfa:\n",
    "                    lamb = lambda_n\n",
    "                else:\n",
    "#                     print(\"aqui\")\n",
    "                    phi_beta = phi;\n",
    "#                     lamb = secant(p,x,alfa,beta,phi_alfa,phi_beta,r);\n",
    "#             if deriv == 0.0:\n",
    "#                 lamb = breakpoint_to_the_left(p,lamb);\n",
    "#                 if lamb <= INFINITO_NEGATIVO or lamb >= INFINITO_POSITIVO:\n",
    "#                     break\n",
    "                \n",
    "        else:\n",
    "            if it == 1:\n",
    "                negativo = True\n",
    "#             print(\"negativo\")\n",
    "            alfa = lamb;\n",
    "            lambda_n = 0.0;\n",
    "\n",
    "            if deriv > 0.0:\n",
    "                lambda_n = lamb - (phi/deriv)\n",
    "                if abs(lambda_n - lamb) <= 0.00000000001:\n",
    "                    phi = 0.0\n",
    "                    break\n",
    "                \n",
    "                if lambda_n < beta:\n",
    "                    lamb = lambda_n\n",
    "                else:\n",
    "#                     print(\"aqui\")\n",
    "                    phi_alfa = phi;\n",
    "#                     lamb = secant(p,x,alfa,beta,phi_alfa,phi_beta,r);\n",
    "#             if deriv == 0.0:\n",
    "#                 lamb = breakpoint_to_the_right(p,lamb)\n",
    "#                 if lamb <= INFINITO_NEGATIVO or lamb >= INFINITO_POSITIVO:\n",
    "#                     break\n",
    "        \n",
    "        \n",
    "        deriv, phi, x = phi_lambda(p,lamb,phi,deriv,slopes,r)\n",
    "        it = it + 1\n",
    "        lambs.append(lamb)\n",
    "        derivs.append(deriv)\n",
    "        phis.append(phi)\n",
    "        \n",
    "    if phi == 0.0:\n",
    "        return it,lambs,derivs,phis\n",
    "    elif alfa == beta:\n",
    "        return -1,lambs,derivs,phis\n",
    "    else:\n",
    "        return -2,lambs,derivs,phis"
   ]
  },
  {
   "cell_type": "code",
   "execution_count": 3026,
   "metadata": {},
   "outputs": [],
   "source": [
    "def func_ty(p):\n",
    "    t = np.arange(0, 15, 0.5).tolist()\n",
    "    y = copy.deepcopy(t)\n",
    "    for j in range(len(t)):\n",
    "        lamb = t[j]\n",
    "\n",
    "        soma = 0\n",
    "\n",
    "        for i in range(n):\n",
    "            soma = soma + p.b[i] * median(p.low[i], (p.b[i] *lamb + p.a[i]) / p.d[i], p.up[i])\n",
    "\n",
    "        y[j] = soma\n",
    "    return y"
   ]
  },
  {
   "cell_type": "markdown",
   "metadata": {},
   "source": [
    "# Geramos modelo para lambda inicial"
   ]
  },
  {
   "cell_type": "code",
   "execution_count": 3118,
   "metadata": {},
   "outputs": [],
   "source": [
    "lista = []\n",
    "for i in range(5000):\n",
    "    n = 100\n",
    "    p = generate_cqk_problem(n)\n",
    "    it,lambs, derivs,phis = newton(p)\n",
    "    soma_a = 0\n",
    "    soma_b = 0\n",
    "    soma_low = 0\n",
    "    soma_d = 0\n",
    "    soma_up = 0\n",
    "    for i in range(n):\n",
    "        soma_a += p.a[i]\n",
    "        soma_b += p.b[i]\n",
    "        soma_low += p.low[i]\n",
    "        soma_d += p.d[i]\n",
    "        soma_up += p.up[i]\n",
    "    \n",
    "    soma_a = soma_a/n\n",
    "    soma_b = soma_b/n\n",
    "    soma_low = soma_low/n\n",
    "    soma_d = soma_d/n\n",
    "    soma_up = soma_up/n\n",
    "    r = p.r/n\n",
    "    deriv = derivs[0]/n\n",
    "#     l_rs = [soma_a, soma_b, soma_low, soma_up, soma_d, p.r, lambs[0], lambs[-1]]\n",
    "    if it > 3 and it < 6:\n",
    "        l_rs = [soma_a, soma_b, soma_d, r,lambs[0]]\n",
    "#         l_rs = [p.a[0],p.a[1],p.a[2], p.b[0], p.b[1], p.b[2],p.d[0],p.d[1],p.d[2],p.r,lambs[0],derivs[0],phis[0],lambs[1],lambs[-1]]\n",
    "\n",
    "#         l_rs = [p.a[0],p.a[1],p.a[2], p.b[0], p.b[1], p.b[2],p.low[0],p.low[1],p.low[2],p.d[0],p.d[1],p.d[2],p.up[0],p.up[1],p.up[2],p.r,lambs[0],lambs[1],lambs[-1]]\n",
    "\n",
    "        lista.append(l_rs)\n",
    "        if len(lista) == 1000:\n",
    "            break"
   ]
  },
  {
   "cell_type": "code",
   "execution_count": 3119,
   "metadata": {},
   "outputs": [],
   "source": [
    "np.savetxt('instance_test.txt', lista, delimiter = ' ',newline='\\n', fmt=\"%f\")"
   ]
  },
  {
   "cell_type": "code",
   "execution_count": 3120,
   "metadata": {},
   "outputs": [],
   "source": [
    "c = ''\n",
    "with open(\"instance_test.txt\", \"r\") as fd:\n",
    "    c = StringIO(fd.read())"
   ]
  },
  {
   "cell_type": "code",
   "execution_count": 3121,
   "metadata": {},
   "outputs": [],
   "source": [
    "d = c.read()\n",
    "c = StringIO(d) \n",
    "d = np.loadtxt(c) \n",
    "feature_names = ['a','b','d','r','inicital_lamb']\n",
    "\n",
    "\n",
    "# feature_names = ['a','b','d','r','inicital_lamb','init_phi','init_deriv','second_lambda','third_lambda','fourth_lambda','final_lamb']\n",
    "# feature_names = ['a1','a2','a3', 'b1','b2','b3', 'd1','d2','d3', 'r','inicital_lamb','init_deriv','init_phi','second_lambda','final_lamb']\n",
    "# feature_names = ['a1','a2','a3', 'b1','b2','b3', 'low1','low2','low3', 'd1','d2','d3','up1','up2','up3', 'r','inicital_lamb','second_lambda', 'final_lamb']"
   ]
  },
  {
   "cell_type": "code",
   "execution_count": 3122,
   "metadata": {},
   "outputs": [],
   "source": [
    "knapsack = {\"data\":d, \"feature_names\": feature_names}\n",
    "dataset = pd.DataFrame(knapsack['data'], columns = knapsack['feature_names'])"
   ]
  },
  {
   "cell_type": "code",
   "execution_count": 3123,
   "metadata": {},
   "outputs": [],
   "source": [
    "# Coletando x e y\n",
    "\n",
    "X = dataset.iloc[:,:-1]\n",
    "y = dataset['inicital_lamb'].values"
   ]
  },
  {
   "cell_type": "code",
   "execution_count": 3124,
   "metadata": {},
   "outputs": [],
   "source": [
    "X_train, X_test, y_train, y_test = train_test_split(X, y)"
   ]
  },
  {
   "cell_type": "code",
   "execution_count": 3125,
   "metadata": {},
   "outputs": [
    {
     "data": {
      "text/plain": [
       "StandardScaler(copy=True, with_mean=True, with_std=True)"
      ]
     },
     "execution_count": 3125,
     "metadata": {},
     "output_type": "execute_result"
    }
   ],
   "source": [
    "# Padronização\n",
    "scaler = StandardScaler()\n",
    "scaler.fit(X_train)"
   ]
  },
  {
   "cell_type": "code",
   "execution_count": 3126,
   "metadata": {},
   "outputs": [],
   "source": [
    "# Aplicando a padronização aos dados\n",
    "X_train_p = scaler.transform(X_train)\n",
    "X_test_p = scaler.transform(X_test)"
   ]
  },
  {
   "cell_type": "code",
   "execution_count": 3127,
   "metadata": {},
   "outputs": [],
   "source": [
    "# from sklearn.neural_network import MLPClassifier\n",
    "from sklearn.neural_network import MLPRegressor"
   ]
  },
  {
   "cell_type": "code",
   "execution_count": 3128,
   "metadata": {},
   "outputs": [],
   "source": [
    "# mlp = MLPClassifier(hidden_layer_sizes = (30,30,30))\n",
    "regr = MLPRegressor(activation='logistic',random_state=1, max_iter=5000).fit(X_train_p, y_train)"
   ]
  },
  {
   "cell_type": "code",
   "execution_count": 3129,
   "metadata": {},
   "outputs": [
    {
     "data": {
      "text/plain": [
       "MLPRegressor(activation='logistic', alpha=0.0001, batch_size='auto', beta_1=0.9,\n",
       "             beta_2=0.999, early_stopping=False, epsilon=1e-08,\n",
       "             hidden_layer_sizes=(100,), learning_rate='constant',\n",
       "             learning_rate_init=0.001, max_fun=15000, max_iter=5000,\n",
       "             momentum=0.9, n_iter_no_change=10, nesterovs_momentum=True,\n",
       "             power_t=0.5, random_state=1, shuffle=True, solver='adam',\n",
       "             tol=0.0001, validation_fraction=0.1, verbose=False,\n",
       "             warm_start=False)"
      ]
     },
     "execution_count": 3129,
     "metadata": {},
     "output_type": "execute_result"
    }
   ],
   "source": [
    "regr.fit(X_train_p, y_train)"
   ]
  },
  {
   "cell_type": "code",
   "execution_count": 3130,
   "metadata": {},
   "outputs": [
    {
     "data": {
      "text/plain": [
       "array([6.22748911, 6.1094987 , 7.30196276, 6.81242267, 6.8591698 ])"
      ]
     },
     "execution_count": 3130,
     "metadata": {},
     "output_type": "execute_result"
    }
   ],
   "source": [
    "regr.predict(X_test_p[:5])"
   ]
  },
  {
   "cell_type": "code",
   "execution_count": 3131,
   "metadata": {},
   "outputs": [
    {
     "data": {
      "text/plain": [
       "0.9247306630895714"
      ]
     },
     "execution_count": 3131,
     "metadata": {},
     "output_type": "execute_result"
    }
   ],
   "source": [
    "regr.score(X_test_p, y_test)"
   ]
  },
  {
   "cell_type": "markdown",
   "metadata": {},
   "source": [
    "# Geramos modelo para segundo lambda\n"
   ]
  },
  {
   "cell_type": "code",
   "execution_count": 3144,
   "metadata": {},
   "outputs": [],
   "source": [
    "def initial_lambda_regr(p):\n",
    "    \n",
    "    soma_a = 0\n",
    "    soma_b = 0\n",
    "    soma_d = 0\n",
    "    slopes = []\n",
    "    for i in range(n):\n",
    "        soma_a += p.a[i]\n",
    "        soma_b += p.b[i]\n",
    "        soma_d += p.d[i]\n",
    "        slopes.append((p.b[i]/p.d[i])*p.b[i])\n",
    "\n",
    "    soma_a = soma_a/n\n",
    "    soma_b = soma_b/n\n",
    "    soma_d = soma_d/n\n",
    "    r = p.r/n\n",
    "    lamb = (p.r-s0)/q0\n",
    "    return lamb, slopes\n",
    "#     return regr.predict(scaler.transform(np.asarray([[soma_a,soma_b,soma_d,r]]))),slopes\n"
   ]
  },
  {
   "cell_type": "code",
   "execution_count": 3145,
   "metadata": {},
   "outputs": [],
   "source": [
    "def phi_lambda_model(p,lamb,phi,deriv,slopes,r):\n",
    "    deriv = 0.0\n",
    "    phi = r * -1\n",
    "    x = []\n",
    "    \n",
    "    for i in range(p.n):\n",
    "        \n",
    "        x.append( (p.b[i] * lamb + p.a[i])/p.d[i])\n",
    "\n",
    "        if x[i] < p.low[i]:\n",
    "            x[i] = p.low[i]\n",
    "        elif x[i] > p.up[i]:\n",
    "            x[i] = p.up[i]\n",
    "        else:\n",
    "            deriv = deriv + slopes[i];\n",
    "        phi = phi + p.b[i] * x[i];\n",
    "    return deriv, phi, x"
   ]
  },
  {
   "cell_type": "code",
   "execution_count": 3146,
   "metadata": {},
   "outputs": [],
   "source": [
    "MAX_IT = 10\n",
    "INFINITO_NEGATIVO = -999999999;\n",
    "INFINITO_POSITIVO = 999999999;\n",
    "\n",
    "def newton_primeiro_lambda(p):\n",
    "    lambs = [] \n",
    "    derivs = []\n",
    "    phis = []\n",
    "    phi = 0\n",
    "    lamb = 0\n",
    "    alfa = INFINITO_NEGATIVO;\n",
    "    beta = INFINITO_POSITIVO;\n",
    "    phi_alfa = 0.0;\n",
    "    phi_beta = 0.0;\n",
    "    deriv = 0\n",
    "    x = []\n",
    "    r = p.r\n",
    "    \n",
    "    lamb, slopes = initial_lambda(p,lamb)\n",
    "    deriv, phi, x = phi_lambda(p,lamb,phi,deriv,slopes,r)\n",
    "    lambs.append(lamb)\n",
    "    derivs.append(deriv)\n",
    "    phis.append(phi)\n",
    "    \n",
    "    it = 1\n",
    "    \n",
    "    while phi != 0.0 and it <= MAX_IT:\n",
    "        if phi > 0:\n",
    "#             print(\"positivo\")\n",
    "            beta = lamb\n",
    "            lambda_n = 0.0\n",
    "            if deriv > 0.0:\n",
    "                \n",
    "                lambda_n = lamb - (phi/deriv)\n",
    "                if abs(lambda_n - lamb) <= 0.00000000001:\n",
    "                    phi = 0.0\n",
    "                    break\n",
    "                if lambda_n > alfa:\n",
    "                    lamb = lambda_n\n",
    "                else:\n",
    "#                     print(\"aqui\")\n",
    "                    phi_beta = phi;\n",
    "#                     lamb = secant(p,x,alfa,beta,phi_alfa,phi_beta,r);\n",
    "#             if deriv == 0.0:\n",
    "#                 lamb = breakpoint_to_the_left(p,lamb);\n",
    "#                 if lamb <= INFINITO_NEGATIVO or lamb >= INFINITO_POSITIVO:\n",
    "#                     break\n",
    "                \n",
    "        else:\n",
    "            if it == 1:\n",
    "                negativo = True\n",
    "#             print(\"negativo\")\n",
    "            alfa = lamb;\n",
    "            lambda_n = 0.0;\n",
    "\n",
    "            if deriv > 0.0:\n",
    "                lambda_n = lamb - (phi/deriv)\n",
    "                if abs(lambda_n - lamb) <= 0.00000000001:\n",
    "                    phi = 0.0\n",
    "                    break\n",
    "                \n",
    "                if lambda_n < beta:\n",
    "                    lamb = lambda_n\n",
    "                else:\n",
    "#                     print(\"aqui\")\n",
    "                    phi_alfa = phi;\n",
    "#                     lamb = secant(p,x,alfa,beta,phi_alfa,phi_beta,r);\n",
    "#             if deriv == 0.0:\n",
    "#                 lamb = breakpoint_to_the_right(p,lamb)\n",
    "#                 if lamb <= INFINITO_NEGATIVO or lamb >= INFINITO_POSITIVO:\n",
    "#                     break\n",
    "        \n",
    "        \n",
    "        deriv, phi, x = phi_lambda(p,lamb,phi,deriv,slopes,r)\n",
    "        it = it + 1\n",
    "        lambs.append(lamb)\n",
    "        derivs.append(deriv)\n",
    "        phis.append(phi)\n",
    "        \n",
    "    if phi == 0.0:\n",
    "        return it,lambs,derivs,phis\n",
    "    elif alfa == beta:\n",
    "        return -1,lambs,derivs,phis\n",
    "    else:\n",
    "        return -2,lambs,derivs,phis"
   ]
  },
  {
   "cell_type": "code",
   "execution_count": 3182,
   "metadata": {},
   "outputs": [],
   "source": [
    "lista = []\n",
    "for i in range(20000):\n",
    "    n = 100\n",
    "    p = generate_cqk_problem(n)\n",
    "    it,lambs,derivs,phis = newton_primeiro_lambda(p)\n",
    "    soma_a = 0\n",
    "    soma_b = 0\n",
    "    soma_d = 0\n",
    "    for i in range(n):\n",
    "        soma_a += p.a[i]\n",
    "        soma_b += p.b[i]\n",
    "        soma_d += p.d[i]\n",
    "    \n",
    "    soma_a = soma_a/n\n",
    "    soma_b = soma_b/n\n",
    "    soma_d = soma_d/n\n",
    "    r = p.r/n\n",
    "#     l_rs = [soma_a, soma_b, soma_low, soma_up, soma_d, p.r, lambs[0], lambs[-1]]\n",
    "    if it > 0 and it < 5:\n",
    "        l_rs = [soma_a, soma_b, soma_d, r,lambs[0],phis[0],derivs[0],phis[1],lambs[1],lambs[-1]]\n",
    "\n",
    "#         l_rs = [p.a[0],p.a[1],p.a[2], p.b[0], p.b[1], p.b[2],p.d[0],p.d[1],p.d[2],p.r,lambs[0],derivs[0],phis[0],lambs[1],lambs[-1]]\n",
    "\n",
    "#         l_rs = [p.a[0],p.a[1],p.a[2], p.b[0], p.b[1], p.b[2],p.low[0],p.low[1],p.low[2],p.d[0],p.d[1],p.d[2],p.up[0],p.up[1],p.up[2],p.r,lambs[0],lambs[1],lambs[-1]]\n",
    "\n",
    "        lista.append(l_rs)\n",
    "        if len(lista) == 10000:\n",
    "            break"
   ]
  },
  {
   "cell_type": "code",
   "execution_count": 3183,
   "metadata": {},
   "outputs": [],
   "source": [
    "np.savetxt('instance_test.txt', lista, delimiter = ' ',newline='\\n', fmt=\"%f\")"
   ]
  },
  {
   "cell_type": "code",
   "execution_count": 3184,
   "metadata": {},
   "outputs": [],
   "source": [
    "c = ''\n",
    "with open(\"instance_test.txt\", \"r\") as fd:\n",
    "    c = StringIO(fd.read())\n",
    "\n",
    "d = c.read()\n",
    "c = StringIO(d) \n",
    "d = np.loadtxt(c) \n",
    "feature_names = ['a','b','d','r','inicital_lamb','phi_initial','deriv_initial','second_phi','second_lamb','final_lamb']   \n",
    "\n"
   ]
  },
  {
   "cell_type": "code",
   "execution_count": 3191,
   "metadata": {},
   "outputs": [],
   "source": [
    "knapsack_second = {\"data\":d, \"feature_names\": feature_names}\n",
    "dataset_second = pd.DataFrame(knapsack_second['data'], columns = knapsack_second['feature_names'])\n",
    "\n",
    "\n",
    "# Coletando x e y\n",
    "\n",
    "X_second = dataset_second.iloc[:,:-3]\n",
    "y_second = dataset_second['second_lamb'].values"
   ]
  },
  {
   "cell_type": "code",
   "execution_count": 3192,
   "metadata": {},
   "outputs": [
    {
     "data": {
      "text/html": [
       "<div>\n",
       "<style scoped>\n",
       "    .dataframe tbody tr th:only-of-type {\n",
       "        vertical-align: middle;\n",
       "    }\n",
       "\n",
       "    .dataframe tbody tr th {\n",
       "        vertical-align: top;\n",
       "    }\n",
       "\n",
       "    .dataframe thead th {\n",
       "        text-align: right;\n",
       "    }\n",
       "</style>\n",
       "<table border=\"1\" class=\"dataframe\">\n",
       "  <thead>\n",
       "    <tr style=\"text-align: right;\">\n",
       "      <th></th>\n",
       "      <th>a</th>\n",
       "      <th>b</th>\n",
       "      <th>d</th>\n",
       "      <th>r</th>\n",
       "      <th>inicital_lamb</th>\n",
       "      <th>phi_initial</th>\n",
       "      <th>deriv_initial</th>\n",
       "    </tr>\n",
       "  </thead>\n",
       "  <tbody>\n",
       "    <tr>\n",
       "      <th>0</th>\n",
       "      <td>17.88</td>\n",
       "      <td>16.622366</td>\n",
       "      <td>17.13</td>\n",
       "      <td>147.304985</td>\n",
       "      <td>7.008968</td>\n",
       "      <td>-1055.022951</td>\n",
       "      <td>759.860171</td>\n",
       "    </tr>\n",
       "    <tr>\n",
       "      <th>1</th>\n",
       "      <td>17.93</td>\n",
       "      <td>17.063973</td>\n",
       "      <td>17.13</td>\n",
       "      <td>154.623906</td>\n",
       "      <td>6.881373</td>\n",
       "      <td>-1091.616821</td>\n",
       "      <td>571.621560</td>\n",
       "    </tr>\n",
       "    <tr>\n",
       "      <th>2</th>\n",
       "      <td>16.88</td>\n",
       "      <td>17.016874</td>\n",
       "      <td>17.41</td>\n",
       "      <td>146.896948</td>\n",
       "      <td>6.746745</td>\n",
       "      <td>-1390.371208</td>\n",
       "      <td>753.636619</td>\n",
       "    </tr>\n",
       "    <tr>\n",
       "      <th>3</th>\n",
       "      <td>17.17</td>\n",
       "      <td>16.855251</td>\n",
       "      <td>17.20</td>\n",
       "      <td>151.355131</td>\n",
       "      <td>7.098672</td>\n",
       "      <td>-842.998583</td>\n",
       "      <td>884.623052</td>\n",
       "    </tr>\n",
       "    <tr>\n",
       "      <th>4</th>\n",
       "      <td>16.88</td>\n",
       "      <td>17.443800</td>\n",
       "      <td>17.15</td>\n",
       "      <td>160.076495</td>\n",
       "      <td>7.115346</td>\n",
       "      <td>-1512.421795</td>\n",
       "      <td>794.310120</td>\n",
       "    </tr>\n",
       "    <tr>\n",
       "      <th>...</th>\n",
       "      <td>...</td>\n",
       "      <td>...</td>\n",
       "      <td>...</td>\n",
       "      <td>...</td>\n",
       "      <td>...</td>\n",
       "      <td>...</td>\n",
       "      <td>...</td>\n",
       "    </tr>\n",
       "    <tr>\n",
       "      <th>9995</th>\n",
       "      <td>17.88</td>\n",
       "      <td>17.370078</td>\n",
       "      <td>17.06</td>\n",
       "      <td>158.186648</td>\n",
       "      <td>6.944091</td>\n",
       "      <td>-1031.719379</td>\n",
       "      <td>706.291183</td>\n",
       "    </tr>\n",
       "    <tr>\n",
       "      <th>9996</th>\n",
       "      <td>17.39</td>\n",
       "      <td>17.278147</td>\n",
       "      <td>17.12</td>\n",
       "      <td>154.412535</td>\n",
       "      <td>6.778243</td>\n",
       "      <td>-1071.879953</td>\n",
       "      <td>725.916788</td>\n",
       "    </tr>\n",
       "    <tr>\n",
       "      <th>9997</th>\n",
       "      <td>17.81</td>\n",
       "      <td>17.335503</td>\n",
       "      <td>17.15</td>\n",
       "      <td>149.542170</td>\n",
       "      <td>6.447355</td>\n",
       "      <td>-859.833578</td>\n",
       "      <td>666.803068</td>\n",
       "    </tr>\n",
       "    <tr>\n",
       "      <th>9998</th>\n",
       "      <td>17.44</td>\n",
       "      <td>17.067272</td>\n",
       "      <td>16.72</td>\n",
       "      <td>152.423954</td>\n",
       "      <td>6.604516</td>\n",
       "      <td>-1161.232554</td>\n",
       "      <td>603.923675</td>\n",
       "    </tr>\n",
       "    <tr>\n",
       "      <th>9999</th>\n",
       "      <td>17.66</td>\n",
       "      <td>17.314323</td>\n",
       "      <td>18.20</td>\n",
       "      <td>150.847717</td>\n",
       "      <td>7.078107</td>\n",
       "      <td>-1206.177994</td>\n",
       "      <td>775.973202</td>\n",
       "    </tr>\n",
       "  </tbody>\n",
       "</table>\n",
       "<p>10000 rows × 7 columns</p>\n",
       "</div>"
      ],
      "text/plain": [
       "          a          b      d           r  inicital_lamb  phi_initial  \\\n",
       "0     17.88  16.622366  17.13  147.304985       7.008968 -1055.022951   \n",
       "1     17.93  17.063973  17.13  154.623906       6.881373 -1091.616821   \n",
       "2     16.88  17.016874  17.41  146.896948       6.746745 -1390.371208   \n",
       "3     17.17  16.855251  17.20  151.355131       7.098672  -842.998583   \n",
       "4     16.88  17.443800  17.15  160.076495       7.115346 -1512.421795   \n",
       "...     ...        ...    ...         ...            ...          ...   \n",
       "9995  17.88  17.370078  17.06  158.186648       6.944091 -1031.719379   \n",
       "9996  17.39  17.278147  17.12  154.412535       6.778243 -1071.879953   \n",
       "9997  17.81  17.335503  17.15  149.542170       6.447355  -859.833578   \n",
       "9998  17.44  17.067272  16.72  152.423954       6.604516 -1161.232554   \n",
       "9999  17.66  17.314323  18.20  150.847717       7.078107 -1206.177994   \n",
       "\n",
       "      deriv_initial  \n",
       "0        759.860171  \n",
       "1        571.621560  \n",
       "2        753.636619  \n",
       "3        884.623052  \n",
       "4        794.310120  \n",
       "...             ...  \n",
       "9995     706.291183  \n",
       "9996     725.916788  \n",
       "9997     666.803068  \n",
       "9998     603.923675  \n",
       "9999     775.973202  \n",
       "\n",
       "[10000 rows x 7 columns]"
      ]
     },
     "execution_count": 3192,
     "metadata": {},
     "output_type": "execute_result"
    }
   ],
   "source": [
    "X_second"
   ]
  },
  {
   "cell_type": "code",
   "execution_count": 3193,
   "metadata": {},
   "outputs": [],
   "source": [
    "X_train_second, X_test_second, y_train_second, y_test_second = train_test_split(X_second, y_second)\n",
    "\n",
    "# Padronização\n",
    "scaler_second = StandardScaler()\n",
    "scaler_second.fit(X_train_second)\n",
    "\n",
    "# Aplicando a padronização aos dados\n",
    "X_train_p_second = scaler_second.transform(X_train_second)\n",
    "X_test_p_second = scaler_second.transform(X_test_second)"
   ]
  },
  {
   "cell_type": "code",
   "execution_count": 3194,
   "metadata": {},
   "outputs": [],
   "source": [
    "regr_second_lambda = MLPRegressor(activation='logistic',random_state=1, max_iter=5000).fit(X_train_p_second, y_train_second)"
   ]
  },
  {
   "cell_type": "code",
   "execution_count": 3195,
   "metadata": {},
   "outputs": [
    {
     "data": {
      "text/plain": [
       "MLPRegressor(activation='logistic', alpha=0.0001, batch_size='auto', beta_1=0.9,\n",
       "             beta_2=0.999, early_stopping=False, epsilon=1e-08,\n",
       "             hidden_layer_sizes=(100,), learning_rate='constant',\n",
       "             learning_rate_init=0.001, max_fun=15000, max_iter=5000,\n",
       "             momentum=0.9, n_iter_no_change=10, nesterovs_momentum=True,\n",
       "             power_t=0.5, random_state=1, shuffle=True, solver='adam',\n",
       "             tol=0.0001, validation_fraction=0.1, verbose=False,\n",
       "             warm_start=False)"
      ]
     },
     "execution_count": 3195,
     "metadata": {},
     "output_type": "execute_result"
    }
   ],
   "source": [
    "regr_second_lambda.fit(X_train_p_second, y_train_second)"
   ]
  },
  {
   "cell_type": "code",
   "execution_count": 3196,
   "metadata": {},
   "outputs": [
    {
     "data": {
      "text/plain": [
       "0.983620119144763"
      ]
     },
     "execution_count": 3196,
     "metadata": {},
     "output_type": "execute_result"
    }
   ],
   "source": [
    "regr_second_lambda.score(X_test_p_second, y_test_second)"
   ]
  },
  {
   "cell_type": "code",
   "execution_count": 3197,
   "metadata": {},
   "outputs": [
    {
     "data": {
      "text/plain": [
       "array([8.1038883 , 8.89296117, 8.62151039, 8.78504381, 7.80380823,\n",
       "       9.22799755, 9.00239332, 8.59869   , 8.48011725, 8.69918507])"
      ]
     },
     "execution_count": 3197,
     "metadata": {},
     "output_type": "execute_result"
    }
   ],
   "source": [
    "# print(X_test_p_second[:1])\n",
    "regr_second_lambda.predict(X_test_p_second[:10])"
   ]
  },
  {
   "cell_type": "code",
   "execution_count": 3198,
   "metadata": {},
   "outputs": [
    {
     "data": {
      "text/plain": [
       "array([8.041382, 8.921383, 8.649547, 8.765257, 7.818025, 9.232515,\n",
       "       8.945467, 8.515227, 8.377071, 8.618156])"
      ]
     },
     "execution_count": 3198,
     "metadata": {},
     "output_type": "execute_result"
    }
   ],
   "source": [
    "y_test_second[:10]"
   ]
  },
  {
   "cell_type": "markdown",
   "metadata": {},
   "source": [
    "# Predicao para lambda final"
   ]
  },
  {
   "cell_type": "code",
   "execution_count": 3081,
   "metadata": {},
   "outputs": [],
   "source": [
    "def initial_lambda_regr(p):\n",
    "    \n",
    "    soma_a = 0\n",
    "    soma_b = 0\n",
    "    soma_d = 0\n",
    "    slopes = []\n",
    "    for i in range(n):\n",
    "        soma_a += p.a[i]\n",
    "        soma_b += p.b[i]\n",
    "        soma_d += p.d[i]\n",
    "        slopes.append((p.b[i]/p.d[i])*p.b[i])\n",
    "\n",
    "    soma_a = soma_a/n\n",
    "    soma_b = soma_b/n\n",
    "    soma_d = soma_d/n\n",
    "    r = p.r/n\n",
    "    lamb = (p.r-s0)/q0\n",
    "    return lamb, slopes\n",
    "#     return regr.predict(scaler.transform(np.asarray([[soma_a,soma_b,soma_d,r]])))[0],slopes,soma_a,soma_b,soma_d,rn"
   ]
  },
  {
   "cell_type": "code",
   "execution_count": 3082,
   "metadata": {},
   "outputs": [],
   "source": [
    "def just_phi(p,lamb,phi,r):\n",
    "    phi = r * -1\n",
    "    x = []\n",
    "    \n",
    "    for i in range(p.n):\n",
    "        \n",
    "        x.append( (p.b[i] * lamb + p.a[i])/p.d[i])\n",
    "\n",
    "        if x[i] < p.low[i]:\n",
    "            x[i] = p.low[i]\n",
    "        elif x[i] > p.up[i]:\n",
    "            x[i] = p.up[i]\n",
    "        phi = phi + p.b[i] * x[i];\n",
    "    return phi"
   ]
  },
  {
   "cell_type": "code",
   "execution_count": 3083,
   "metadata": {},
   "outputs": [],
   "source": [
    "def phi_lambda_model_terceiro(p,lamb,phi,r,slopes):\n",
    "    deriv = 0.0\n",
    "    phi = r * -1\n",
    "    x = []\n",
    "    \n",
    "    for i in range(p.n):\n",
    "        \n",
    "        x.append( (p.b[i] * lamb + p.a[i])/p.d[i])\n",
    "\n",
    "        if x[i] < p.low[i]:\n",
    "            x[i] = p.low[i]\n",
    "        elif x[i] > p.up[i]:\n",
    "            x[i] = p.up[i]\n",
    "        else:\n",
    "            deriv = deriv + slopes[i];\n",
    "        phi = phi + p.b[i] * x[i];\n",
    "    return phi,deriv"
   ]
  },
  {
   "cell_type": "code",
   "execution_count": 3084,
   "metadata": {},
   "outputs": [],
   "source": [
    "MAX_IT = 6\n",
    "INFINITO_NEGATIVO = -999999999;\n",
    "INFINITO_POSITIVO = 999999999;\n",
    "\n",
    "def newton_segundo_lambda(p):\n",
    "    lambs = [] \n",
    "    phis = []\n",
    "    phi = 0\n",
    "    alfa = INFINITO_NEGATIVO;\n",
    "    beta = INFINITO_POSITIVO;\n",
    "    phi_alfa = 0.0;\n",
    "    phi_beta = 0.0;\n",
    "    x = []\n",
    "    r = p.r\n",
    "    deriv = 0\n",
    "    slopes = []\n",
    "    \n",
    "    lamb,slopes,soma_a,soma_b,soma_d,rn = initial_lambda_regr_terceiro(p)\n",
    "    lambs.append(lamb)\n",
    "    phi = just_phi(p,lamb,phi,r)\n",
    "    \n",
    "    lamb = regr_second_lambda.predict(scaler_second.transform(np.asarray([[soma_a,soma_b,soma_d,rn,lamb,phi]])))[0]\n",
    "    \n",
    "    phis.append(phi)\n",
    "    lambs.append(lamb)\n",
    "    \n",
    "    it = 1\n",
    "   \n",
    "    while phi != 0.0 and it <= MAX_IT:\n",
    "        if phi > 0:\n",
    "#             print(\"positivo\")\n",
    "            beta = lamb\n",
    "            lambda_n = 0.0\n",
    "            if deriv > 0.0:\n",
    "                \n",
    "                lambda_n = lamb - (phi/deriv)\n",
    "                if abs(lambda_n - lamb) <= 0.00000000001:\n",
    "                    phi = 0.0\n",
    "                    break\n",
    "                if lambda_n > alfa:\n",
    "                    lamb = lambda_n\n",
    "                else:\n",
    "#                     print(\"aqui\")\n",
    "                    phi_beta = phi;\n",
    "#                     lamb = secant(p,x,alfa,beta,phi_alfa,phi_beta,r);\n",
    "#             if deriv == 0.0:\n",
    "#                 lamb = breakpoint_to_the_left(p,lamb);\n",
    "#                 if lamb <= INFINITO_NEGATIVO or lamb >= INFINITO_POSITIVO:\n",
    "#                     break\n",
    "                \n",
    "        else:\n",
    "#             print(\"negativo\")\n",
    "            alfa = lamb;\n",
    "            lambda_n = 0.0;\n",
    "\n",
    "            if deriv > 0.0:\n",
    "                lambda_n = lamb - (phi/deriv)\n",
    "                if abs(lambda_n - lamb) <= 0.00000000001:\n",
    "                    phi = 0.0\n",
    "                    break\n",
    "                \n",
    "                if lambda_n < beta:\n",
    "                    lamb = lambda_n\n",
    "                else:\n",
    "#                     print(\"aqui\")\n",
    "                    phi_alfa = phi;\n",
    "#                     lamb = secant(p,x,alfa,beta,phi_alfa,phi_beta,r);\n",
    "#             if deriv == 0.0:\n",
    "#                 lamb = breakpoint_to_the_right(p,lamb)\n",
    "#                 if lamb <= INFINITO_NEGATIVO or lamb >= INFINITO_POSITIVO:\n",
    "#                     break\n",
    "        \n",
    "        \n",
    "        phi,deriv = phi_lambda_model_terceiro(p,lamb,phi,r,slopes)\n",
    "        it = it + 1\n",
    "        lambs.append(lamb)\n",
    "        phis.append(phi)\n",
    "        \n",
    "    if phi == 0.0:\n",
    "        return it,lambs,phis\n",
    "    elif alfa == beta:\n",
    "        return -1,lambs,phis\n",
    "    else:\n",
    "        return -2,lambs,phis\n",
    "    \n",
    "\n"
   ]
  },
  {
   "cell_type": "code",
   "execution_count": 3085,
   "metadata": {},
   "outputs": [],
   "source": [
    "lista = []\n",
    "for i in range(2000):\n",
    "    n = 100\n",
    "    p = generate_cqk_problem(n)\n",
    "    it,lambs,phis = newton_segundo_lambda(p)\n",
    "    soma_a = 0\n",
    "    soma_b = 0\n",
    "    soma_d = 0\n",
    "    for i in range(n):\n",
    "        soma_a += p.a[i]\n",
    "        soma_b += p.b[i]\n",
    "        soma_d += p.d[i]\n",
    "    \n",
    "    soma_a = soma_a/n\n",
    "    soma_b = soma_b/n\n",
    "    soma_d = soma_d/n\n",
    "    r = p.r/n\n",
    "#     l_rs = [soma_a, soma_b, soma_low, soma_up, soma_d, p.r, lambs[0], lambs[-1]]\n",
    "    if it > 0 and it < 5:\n",
    "        l_rs = [soma_a, soma_b, soma_d, r,lambs[0],phis[0],lambs[1],phis[1],lambs[-1]]\n",
    "\n",
    "#         l_rs = [p.a[0],p.a[1],p.a[2], p.b[0], p.b[1], p.b[2],p.d[0],p.d[1],p.d[2],p.r,lambs[0],derivs[0],phis[0],lambs[1],lambs[-1]]\n",
    "\n",
    "#         l_rs = [p.a[0],p.a[1],p.a[2], p.b[0], p.b[1], p.b[2],p.low[0],p.low[1],p.low[2],p.d[0],p.d[1],p.d[2],p.up[0],p.up[1],p.up[2],p.r,lambs[0],lambs[1],lambs[-1]]\n",
    "\n",
    "        lista.append(l_rs)\n",
    "        if len(lista) == 1000:\n",
    "            break"
   ]
  },
  {
   "cell_type": "code",
   "execution_count": 3086,
   "metadata": {},
   "outputs": [],
   "source": [
    "np.savetxt('instance_test.txt', lista, delimiter = ' ',newline='\\n', fmt=\"%f\")"
   ]
  },
  {
   "cell_type": "code",
   "execution_count": 3087,
   "metadata": {},
   "outputs": [],
   "source": [
    "c = ''\n",
    "with open(\"instance_test.txt\", \"r\") as fd:\n",
    "    c = StringIO(fd.read())\n",
    "\n",
    "d = c.read()\n",
    "c = StringIO(d) \n",
    "d = np.loadtxt(c) \n",
    "feature_names = ['a','b','d','r','inicital_lamb','phi_initial','second_lamb','second_phi','final_lamb']   \n",
    "\n",
    "\n",
    "knapsack_third = {\"data\":d, \"feature_names\": feature_names}\n",
    "dataset_third = pd.DataFrame(knapsack_third['data'], columns = knapsack_third['feature_names'])\n",
    "\n",
    "\n",
    "# Coletando x e y\n",
    "\n",
    "X_third = dataset_third.iloc[:,:-1]\n",
    "y_third = dataset_third['final_lamb'].values"
   ]
  },
  {
   "cell_type": "code",
   "execution_count": 3088,
   "metadata": {},
   "outputs": [
    {
     "data": {
      "text/html": [
       "<div>\n",
       "<style scoped>\n",
       "    .dataframe tbody tr th:only-of-type {\n",
       "        vertical-align: middle;\n",
       "    }\n",
       "\n",
       "    .dataframe tbody tr th {\n",
       "        vertical-align: top;\n",
       "    }\n",
       "\n",
       "    .dataframe thead th {\n",
       "        text-align: right;\n",
       "    }\n",
       "</style>\n",
       "<table border=\"1\" class=\"dataframe\">\n",
       "  <thead>\n",
       "    <tr style=\"text-align: right;\">\n",
       "      <th></th>\n",
       "      <th>a</th>\n",
       "      <th>b</th>\n",
       "      <th>d</th>\n",
       "      <th>r</th>\n",
       "      <th>inicital_lamb</th>\n",
       "      <th>phi_initial</th>\n",
       "      <th>second_lamb</th>\n",
       "      <th>second_phi</th>\n",
       "    </tr>\n",
       "  </thead>\n",
       "  <tbody>\n",
       "    <tr>\n",
       "      <th>0</th>\n",
       "      <td>16.63</td>\n",
       "      <td>16.174093</td>\n",
       "      <td>17.61</td>\n",
       "      <td>137.064673</td>\n",
       "      <td>7.871923</td>\n",
       "      <td>-843.542198</td>\n",
       "      <td>9.019794</td>\n",
       "      <td>-232.565539</td>\n",
       "    </tr>\n",
       "    <tr>\n",
       "      <th>1</th>\n",
       "      <td>17.53</td>\n",
       "      <td>16.906936</td>\n",
       "      <td>17.46</td>\n",
       "      <td>143.659420</td>\n",
       "      <td>7.133242</td>\n",
       "      <td>-850.362162</td>\n",
       "      <td>8.286406</td>\n",
       "      <td>-253.663518</td>\n",
       "    </tr>\n",
       "    <tr>\n",
       "      <th>2</th>\n",
       "      <td>17.08</td>\n",
       "      <td>16.610952</td>\n",
       "      <td>17.23</td>\n",
       "      <td>154.080014</td>\n",
       "      <td>6.890891</td>\n",
       "      <td>-1222.667998</td>\n",
       "      <td>8.877598</td>\n",
       "      <td>-163.652899</td>\n",
       "    </tr>\n",
       "    <tr>\n",
       "      <th>3</th>\n",
       "      <td>17.52</td>\n",
       "      <td>17.164171</td>\n",
       "      <td>17.29</td>\n",
       "      <td>148.771760</td>\n",
       "      <td>6.968987</td>\n",
       "      <td>-1168.104049</td>\n",
       "      <td>8.525602</td>\n",
       "      <td>-143.854716</td>\n",
       "    </tr>\n",
       "    <tr>\n",
       "      <th>4</th>\n",
       "      <td>17.21</td>\n",
       "      <td>16.783537</td>\n",
       "      <td>17.30</td>\n",
       "      <td>145.465298</td>\n",
       "      <td>7.035404</td>\n",
       "      <td>-507.886625</td>\n",
       "      <td>7.798015</td>\n",
       "      <td>-70.629940</td>\n",
       "    </tr>\n",
       "    <tr>\n",
       "      <th>...</th>\n",
       "      <td>...</td>\n",
       "      <td>...</td>\n",
       "      <td>...</td>\n",
       "      <td>...</td>\n",
       "      <td>...</td>\n",
       "      <td>...</td>\n",
       "      <td>...</td>\n",
       "      <td>...</td>\n",
       "    </tr>\n",
       "    <tr>\n",
       "      <th>995</th>\n",
       "      <td>16.56</td>\n",
       "      <td>17.265789</td>\n",
       "      <td>18.04</td>\n",
       "      <td>157.004727</td>\n",
       "      <td>7.428684</td>\n",
       "      <td>-935.783753</td>\n",
       "      <td>8.814644</td>\n",
       "      <td>-147.820456</td>\n",
       "    </tr>\n",
       "    <tr>\n",
       "      <th>996</th>\n",
       "      <td>18.30</td>\n",
       "      <td>16.715790</td>\n",
       "      <td>17.02</td>\n",
       "      <td>148.382873</td>\n",
       "      <td>7.295547</td>\n",
       "      <td>-301.226999</td>\n",
       "      <td>7.715445</td>\n",
       "      <td>-58.700043</td>\n",
       "    </tr>\n",
       "    <tr>\n",
       "      <th>997</th>\n",
       "      <td>17.43</td>\n",
       "      <td>16.622042</td>\n",
       "      <td>17.16</td>\n",
       "      <td>152.210763</td>\n",
       "      <td>7.243817</td>\n",
       "      <td>-610.977183</td>\n",
       "      <td>8.233733</td>\n",
       "      <td>-94.431852</td>\n",
       "    </tr>\n",
       "    <tr>\n",
       "      <th>998</th>\n",
       "      <td>17.13</td>\n",
       "      <td>16.274914</td>\n",
       "      <td>16.74</td>\n",
       "      <td>152.292962</td>\n",
       "      <td>7.267458</td>\n",
       "      <td>-1146.777169</td>\n",
       "      <td>9.012632</td>\n",
       "      <td>-126.549258</td>\n",
       "    </tr>\n",
       "    <tr>\n",
       "      <th>999</th>\n",
       "      <td>17.23</td>\n",
       "      <td>16.168902</td>\n",
       "      <td>17.75</td>\n",
       "      <td>140.923072</td>\n",
       "      <td>8.145830</td>\n",
       "      <td>-346.398583</td>\n",
       "      <td>8.658591</td>\n",
       "      <td>-7.350970</td>\n",
       "    </tr>\n",
       "  </tbody>\n",
       "</table>\n",
       "<p>1000 rows × 8 columns</p>\n",
       "</div>"
      ],
      "text/plain": [
       "         a          b      d           r  inicital_lamb  phi_initial  \\\n",
       "0    16.63  16.174093  17.61  137.064673       7.871923  -843.542198   \n",
       "1    17.53  16.906936  17.46  143.659420       7.133242  -850.362162   \n",
       "2    17.08  16.610952  17.23  154.080014       6.890891 -1222.667998   \n",
       "3    17.52  17.164171  17.29  148.771760       6.968987 -1168.104049   \n",
       "4    17.21  16.783537  17.30  145.465298       7.035404  -507.886625   \n",
       "..     ...        ...    ...         ...            ...          ...   \n",
       "995  16.56  17.265789  18.04  157.004727       7.428684  -935.783753   \n",
       "996  18.30  16.715790  17.02  148.382873       7.295547  -301.226999   \n",
       "997  17.43  16.622042  17.16  152.210763       7.243817  -610.977183   \n",
       "998  17.13  16.274914  16.74  152.292962       7.267458 -1146.777169   \n",
       "999  17.23  16.168902  17.75  140.923072       8.145830  -346.398583   \n",
       "\n",
       "     second_lamb  second_phi  \n",
       "0       9.019794 -232.565539  \n",
       "1       8.286406 -253.663518  \n",
       "2       8.877598 -163.652899  \n",
       "3       8.525602 -143.854716  \n",
       "4       7.798015  -70.629940  \n",
       "..           ...         ...  \n",
       "995     8.814644 -147.820456  \n",
       "996     7.715445  -58.700043  \n",
       "997     8.233733  -94.431852  \n",
       "998     9.012632 -126.549258  \n",
       "999     8.658591   -7.350970  \n",
       "\n",
       "[1000 rows x 8 columns]"
      ]
     },
     "execution_count": 3088,
     "metadata": {},
     "output_type": "execute_result"
    }
   ],
   "source": [
    "X_third"
   ]
  },
  {
   "cell_type": "code",
   "execution_count": 3089,
   "metadata": {},
   "outputs": [],
   "source": [
    "X_train_third, X_test_third, y_train_third, y_test_third = train_test_split(X_third, y_third)\n",
    "\n",
    "# Padronização\n",
    "scaler_third = StandardScaler()\n",
    "scaler_third.fit(X_train_third)\n",
    "\n",
    "# Aplicando a padronização aos dados\n",
    "X_train_p_third = scaler_third.transform(X_train_third)\n",
    "X_test_p_third = scaler_third.transform(X_test_third)"
   ]
  },
  {
   "cell_type": "code",
   "execution_count": 3090,
   "metadata": {},
   "outputs": [],
   "source": [
    "regr_third_lambda = MLPRegressor(activation='logistic',random_state=1, max_iter=5000).fit(X_train_p_third, y_train_third)"
   ]
  },
  {
   "cell_type": "code",
   "execution_count": 3091,
   "metadata": {},
   "outputs": [
    {
     "data": {
      "text/plain": [
       "MLPRegressor(activation='logistic', alpha=0.0001, batch_size='auto', beta_1=0.9,\n",
       "             beta_2=0.999, early_stopping=False, epsilon=1e-08,\n",
       "             hidden_layer_sizes=(100,), learning_rate='constant',\n",
       "             learning_rate_init=0.001, max_fun=15000, max_iter=5000,\n",
       "             momentum=0.9, n_iter_no_change=10, nesterovs_momentum=True,\n",
       "             power_t=0.5, random_state=1, shuffle=True, solver='adam',\n",
       "             tol=0.0001, validation_fraction=0.1, verbose=False,\n",
       "             warm_start=False)"
      ]
     },
     "execution_count": 3091,
     "metadata": {},
     "output_type": "execute_result"
    }
   ],
   "source": [
    "regr_third_lambda.fit(X_train_p_third, y_train_third)"
   ]
  },
  {
   "cell_type": "code",
   "execution_count": 3092,
   "metadata": {},
   "outputs": [
    {
     "data": {
      "text/plain": [
       "0.993079224004893"
      ]
     },
     "execution_count": 3092,
     "metadata": {},
     "output_type": "execute_result"
    }
   ],
   "source": [
    "regr_third_lambda.score(X_test_p_third, y_test_third)"
   ]
  },
  {
   "cell_type": "code",
   "execution_count": 3093,
   "metadata": {},
   "outputs": [
    {
     "data": {
      "text/plain": [
       "array([8.56861492, 9.33599095, 8.85081437, 8.63613154, 8.62460186,\n",
       "       8.37241868, 7.92555192, 9.34852908, 8.65482519, 7.80956563,\n",
       "       8.77641947, 9.60625718, 8.55126625, 9.14596024, 8.76606819,\n",
       "       8.83954137, 9.03676938, 9.53639663, 8.35275554, 8.72673584])"
      ]
     },
     "execution_count": 3093,
     "metadata": {},
     "output_type": "execute_result"
    }
   ],
   "source": [
    "regr_third_lambda.predict(X_test_p_third[:20])"
   ]
  },
  {
   "cell_type": "markdown",
   "metadata": {},
   "source": [
    "# Predição de lambda incial oficial"
   ]
  },
  {
   "cell_type": "code",
   "execution_count": 3094,
   "metadata": {},
   "outputs": [],
   "source": [
    "def initial_lambda_oficial(p):\n",
    "    \n",
    "    soma_a = 0\n",
    "    soma_b = 0\n",
    "    soma_d = 0\n",
    "    slopes = []\n",
    "    for i in range(p.n):\n",
    "        soma_a += p.a[i]\n",
    "        soma_b += p.b[i]\n",
    "        soma_d += p.d[i]\n",
    "        slopes.append((p.b[i]/p.d[i])*p.b[i])\n",
    "        \n",
    "    soma_a = soma_a/p.n\n",
    "    soma_b = soma_b/p.n\n",
    "    soma_d = soma_d/p.n\n",
    "    rn = p.r/p.n\n",
    "    return regr.predict(scaler.transform(np.asarray([[soma_a,soma_b,soma_d,r]])))[0],slopes,soma_a,soma_b,soma_d,rn"
   ]
  },
  {
   "cell_type": "code",
   "execution_count": 3095,
   "metadata": {},
   "outputs": [],
   "source": [
    "def just_phi_oficial(p,lamb,r):\n",
    "    phi = r * -1\n",
    "    x = []\n",
    "    \n",
    "    for i in range(p.n):\n",
    "        \n",
    "        x.append( (p.b[i] * lamb + p.a[i])/p.d[i])\n",
    "\n",
    "        if x[i] < p.low[i]:\n",
    "            x[i] = p.low[i]\n",
    "        elif x[i] > p.up[i]:\n",
    "            x[i] = p.up[i]\n",
    "        phi = phi + p.b[i] * x[i];\n",
    "    return phi"
   ]
  },
  {
   "cell_type": "code",
   "execution_count": 3096,
   "metadata": {},
   "outputs": [],
   "source": [
    "MAX_IT = 10\n",
    "INFINITO_NEGATIVO = -999999999;\n",
    "INFINITO_POSITIVO = 999999999;\n",
    "\n",
    "def newton_new_lamb_init(p,lamb,phi,slopes):\n",
    "    lambs = []\n",
    "    alfa = INFINITO_NEGATIVO;\n",
    "    beta = INFINITO_POSITIVO;\n",
    "    phi_alfa = 0.0;\n",
    "    phi_beta = 0.0;\n",
    "    x = []\n",
    "    r = p.r\n",
    "    deriv = 0\n",
    "    \n",
    "    deriv, phi, x = phi_lambda(p,lamb,phi,deriv,slopes,r)\n",
    "    lambs.append(lamb)\n",
    "    it = 1\n",
    "\n",
    "    while phi != 0.0 and it <= MAX_IT:\n",
    "        if phi > 0:\n",
    "#             print(\"positivo\")\n",
    "            beta = lamb\n",
    "            lambda_n = 0.0\n",
    "            if deriv > 0.0:\n",
    "                \n",
    "                lambda_n = lamb - (phi/deriv)\n",
    "                if abs(lambda_n - lamb) <= 0.00000000001:\n",
    "                    phi = 0.0\n",
    "                    break\n",
    "                if lambda_n > alfa:\n",
    "                    lamb = lambda_n\n",
    "                else:\n",
    "#                     print(\"aqui\")\n",
    "                    phi_beta = phi;\n",
    "#                     lamb = secant(p,x,alfa,beta,phi_alfa,phi_beta,r);\n",
    "#             if deriv == 0.0:\n",
    "#                 lamb = breakpoint_to_the_left(p,lamb);\n",
    "#                 if lamb <= INFINITO_NEGATIVO or lamb >= INFINITO_POSITIVO:\n",
    "#                     break\n",
    "                \n",
    "        else:\n",
    "#             print(\"negativo\")\n",
    "            alfa = lamb;\n",
    "            lambda_n = 0.0;\n",
    "\n",
    "            if deriv > 0.0:\n",
    "                lambda_n = lamb - (phi/deriv)\n",
    "                if abs(lambda_n - lamb) <= 0.00000000001:\n",
    "                    phi = 0.0\n",
    "                    break\n",
    "                \n",
    "                if lambda_n < beta:\n",
    "                    lamb = lambda_n\n",
    "                else:\n",
    "#                     print(\"aqui\")\n",
    "                    phi_alfa = phi;\n",
    "#                     lamb = secant(p,x,alfa,beta,phi_alfa,phi_beta,r);\n",
    "#             if deriv == 0.0:\n",
    "#                 lamb = breakpoint_to_the_right(p,lamb)\n",
    "#                 if lamb <= INFINITO_NEGATIVO or lamb >= INFINITO_POSITIVO:\n",
    "#                     break\n",
    "        \n",
    "        \n",
    "        deriv, phi, x = phi_lambda(p,lamb,phi,deriv,slopes,r)\n",
    "        it = it + 1\n",
    "        lambs.append(lamb)\n",
    "        \n",
    "    if phi == 0.0:\n",
    "        return it,lambs\n",
    "    elif alfa == beta:\n",
    "        return -1,lambs\n",
    "    else:\n",
    "        return -2,lambs"
   ]
  },
  {
   "cell_type": "code",
   "execution_count": 3115,
   "metadata": {},
   "outputs": [],
   "source": [
    "n = 100\n",
    "p = generate_cqk_problem(n)"
   ]
  },
  {
   "cell_type": "code",
   "execution_count": 3116,
   "metadata": {},
   "outputs": [
    {
     "name": "stdout",
     "output_type": "stream",
     "text": [
      "[6.713950529945758, 8.199574407921991] [-1303.720727299362, -339.86251733151903] 9.231108188542343\n",
      "CPU times: user 4.7 ms, sys: 2.73 ms, total: 7.42 ms\n",
      "Wall time: 6.96 ms\n"
     ]
    },
    {
     "data": {
      "text/plain": [
       "(3, [9.231108188542343, 8.718883047771524, 8.755446022815812])"
      ]
     },
     "execution_count": 3116,
     "metadata": {},
     "output_type": "execute_result"
    }
   ],
   "source": [
    "%%time \n",
    "\n",
    "lambs11 = []\n",
    "phis11 = []\n",
    "\n",
    "lamb,slopes,soma_a,soma_b,soma_d,rn = initial_lambda_oficial(p)\n",
    "lambs11.append(lamb)\n",
    "\n",
    "phi_ficial = just_phi_oficial(p,lamb,p.r)\n",
    "phis11.append(phi_ficial)\n",
    "\n",
    "lamb = regr_second_lambda.predict(scaler_second.transform(np.asarray([[soma_a,soma_b,soma_d,rn,lamb,phi]])))[0]\n",
    "lambs11.append(lamb)\n",
    "\n",
    "phi_ficial = just_phi_oficial(p,lamb,p.r)\n",
    "phis11.append(phi_ficial)\n",
    "\n",
    "test = regr_third_lambda.predict(scaler_third.transform(np.asarray([[soma_a,soma_b,soma_d,rn,lambs11[0],phis11[0],lambs11[1],phis11[1]]])))\n",
    "test = test[0]\n",
    "\n",
    "print(lambs11,phis11,test)\n",
    "\n",
    "phi_init = phis11[-1]\n",
    "\n",
    "\n",
    "\n",
    "newton_new_lamb_init(p,test,phi_init,slopes)"
   ]
  },
  {
   "cell_type": "code",
   "execution_count": 3117,
   "metadata": {},
   "outputs": [
    {
     "name": "stdout",
     "output_type": "stream",
     "text": [
      "CPU times: user 550 µs, sys: 0 ns, total: 550 µs\n",
      "Wall time: 555 µs\n"
     ]
    },
    {
     "data": {
      "text/plain": [
       "(4,\n",
       " [7.069643288517168, 8.514033349086409, 8.756860544740144, 8.755446022815823],\n",
       " [713.3417734668951, 626.0566614651611, 626.0566614651611, 626.0566614651611],\n",
       " [-1030.3437673844192,\n",
       "  -152.0235834239253,\n",
       "  0.8855708735096641,\n",
       "  -1.4495071809506044e-12])"
      ]
     },
     "execution_count": 3117,
     "metadata": {},
     "output_type": "execute_result"
    }
   ],
   "source": [
    "%%time \n",
    "newton(p)"
   ]
  },
  {
   "cell_type": "code",
   "execution_count": null,
   "metadata": {},
   "outputs": [],
   "source": [
    "tem que prever esse phi inicial pelo menos"
   ]
  }
 ],
 "metadata": {
  "kernelspec": {
   "display_name": "Python 3",
   "language": "python",
   "name": "python3"
  },
  "language_info": {
   "codemirror_mode": {
    "name": "ipython",
    "version": 3
   },
   "file_extension": ".py",
   "mimetype": "text/x-python",
   "name": "python",
   "nbconvert_exporter": "python",
   "pygments_lexer": "ipython3",
   "version": "3.7.3"
  }
 },
 "nbformat": 4,
 "nbformat_minor": 4
}
