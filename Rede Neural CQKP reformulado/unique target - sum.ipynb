{
 "cells": [
  {
   "cell_type": "code",
   "execution_count": 53,
   "metadata": {},
   "outputs": [],
   "source": [
    "import random\n",
    "\n",
    "# StringIO behaves like a file object \n",
    "from io import StringIO \n",
    "\n",
    "import numpy as np\n",
    "import pandas as pd\n",
    "import matplotlib.pyplot as plt\n",
    "import matplotlib as mpl\n",
    "from sklearn.datasets import load_boston\n",
    "from sklearn import linear_model\n",
    "from sklearn.metrics import r2_score\n",
    "from sklearn.pipeline import make_pipeline\n",
    "from sklearn.preprocessing import PolynomialFeatures\n",
    "from sklearn.preprocessing import StandardScaler\n",
    "import statsmodels.api as sm\n",
    "import statsmodels.formula.api as smf\n",
    "\n",
    "import copy\n",
    "\n",
    "%matplotlib inline "
   ]
  },
  {
   "cell_type": "code",
   "execution_count": 54,
   "metadata": {},
   "outputs": [],
   "source": [
    "class CqkProblem:\n",
    "    def __init__(self, r, n, d, a, b, up):\n",
    "        self.n = n\n",
    "        self.r = r\n",
    "        self.d = list(d)\n",
    "        self.a = list(a)\n",
    "        self.b = list(b)\n",
    "        self.up = list(up)"
   ]
  },
  {
   "cell_type": "code",
   "execution_count": 55,
   "metadata": {},
   "outputs": [],
   "source": [
    "def generate_cqk_problem(n):\n",
    "    d = []\n",
    "    low = []\n",
    "    up = []\n",
    "    b = []\n",
    "    a = []\n",
    "    temp = 0\n",
    "    lb = 0.0\n",
    "    ub = 0.0\n",
    "    lower = 10\n",
    "    upper = 25\n",
    "    r = 0\n",
    "\n",
    "    for i in range(n):\n",
    "        \n",
    "        b.append(10 + 14*random.random())\n",
    "        up.append(1 + 14*random.random())\n",
    "        \n",
    "        ub = ub + b[i]*up[i];\n",
    "        \n",
    "        #Uncorrelated\n",
    "        d.append(random.randint(10,25))\n",
    "        a.append(random.randint(10,25))\n",
    "        \n",
    "    r = ub*0.7;\n",
    "    \n",
    "    return CqkProblem( r, n, d, a, b, up)"
   ]
  },
  {
   "cell_type": "code",
   "execution_count": 56,
   "metadata": {},
   "outputs": [],
   "source": [
    "\n",
    "def initial_lambda(p, lamb):\n",
    "    s0=0.0\n",
    "    q0=0.0\n",
    "    slopes = []\n",
    "    for i in range(p.n):\n",
    "        slopes.append((p.b[i]/p.d[i])*p.b[i])\n",
    "        s0 = s0 + (p.a[i] * p.b[i]) / p.d[i]\n",
    "        q0 = q0 + (p.b[i] * p.b[i]) / p.d[i]\n",
    "    lamb = (p.r-s0)/q0\n",
    "    return lamb, slopes"
   ]
  },
  {
   "cell_type": "code",
   "execution_count": 57,
   "metadata": {},
   "outputs": [],
   "source": [
    "def phi_lambda(p,lamb,phi,deriv,slopes,r):\n",
    "    deriv = 0.0\n",
    "    phi = r * -1\n",
    "    x = []\n",
    "    \n",
    "    for i in range(p.n):\n",
    "        \n",
    "        x.append( (p.b[i] * lamb + p.a[i])/p.d[i])\n",
    "\n",
    "        if x[i] > p.up[i]:\n",
    "            x[i] = p.up[i]\n",
    "        else:\n",
    "            deriv = deriv + slopes[i];\n",
    "        phi = phi + p.b[i] * x[i];\n",
    "    return deriv, phi, x"
   ]
  },
  {
   "cell_type": "code",
   "execution_count": 58,
   "metadata": {},
   "outputs": [],
   "source": [
    "def phi_lambda_two(p,lamb1,r):\n",
    "    \n",
    "    slopes = []\n",
    "    \n",
    "    deriv1 = 0\n",
    "    phi1 = r * -1\n",
    "\n",
    "    x2 = []\n",
    "    x1 = []\n",
    "    \n",
    "    for i in range(p.n):\n",
    "        \n",
    "        slopes.append((p.b[i]/p.d[i])*p.b[i])\n",
    "        \n",
    "        x1.append( (p.b[i] * lamb1 + p.a[i])/p.d[i])\n",
    "\n",
    "        if x1[i] > p.up[i]:\n",
    "            x1[i] = p.up[i]\n",
    "        else:\n",
    "            deriv1 = deriv1 + slopes[i];\n",
    "        phi1 = phi1 + p.b[i] * x1[i];\n",
    "        \n",
    "\n",
    "            \n",
    "    return deriv1,phi1"
   ]
  },
  {
   "cell_type": "code",
   "execution_count": 59,
   "metadata": {},
   "outputs": [],
   "source": [
    "MAX_IT = 20\n",
    "INFINITO_NEGATIVO = -999999999;\n",
    "INFINITO_POSITIVO = 999999999;\n",
    "\n",
    "def newton(p):\n",
    "    lambs = [] \n",
    "    phis = []\n",
    "    derivs = []\n",
    "    phi = 0\n",
    "    lamb = 0\n",
    "    alfa = INFINITO_NEGATIVO;\n",
    "    beta = INFINITO_POSITIVO;\n",
    "    phi_alfa = 0.0;\n",
    "    phi_beta = 0.0;\n",
    "    deriv = 0\n",
    "    x = []\n",
    "    r = p.r\n",
    "    \n",
    "#     lamb1 = 5.52\n",
    "#     deriv1,phi1 = phi_lambda_two(p,lamb1,r)\n",
    "    \n",
    "    lamb, slopes = initial_lambda(p,lamb)\n",
    "    deriv, phi, x = phi_lambda(p,lamb,phi,deriv,slopes,r)\n",
    "    lambs.append(lamb)\n",
    "    derivs.append(deriv)\n",
    "    phis.append(phi)\n",
    "    it = 1\n",
    "#     print(it, deriv, phi,lamb)\n",
    "    negativo = False\n",
    "    while phi != 0.0 and it <= MAX_IT:\n",
    "        if phi > 0:\n",
    "#             print(\"positivo\")\n",
    "            beta = lamb\n",
    "            lambda_n = 0.0\n",
    "            if deriv > 0.0:\n",
    "                \n",
    "                lambda_n = lamb - (phi/deriv)\n",
    "                if abs(lambda_n - lamb) <= 1e-10:\n",
    "                    phi = 0.0\n",
    "                    break\n",
    "                if lambda_n > alfa:\n",
    "                    lamb = lambda_n\n",
    "                else:\n",
    "#                     print(\"aqui\")\n",
    "                    phi_beta = phi;\n",
    "#                     lamb = secant(p,x,alfa,beta,phi_alfa,phi_beta,r);\n",
    "#             if deriv == 0.0:\n",
    "#                 lamb = breakpoint_to_the_left(p,lamb);\n",
    "#                 if lamb <= INFINITO_NEGATIVO or lamb >= INFINITO_POSITIVO:\n",
    "#                     break\n",
    "                \n",
    "        else:\n",
    "            if it == 1:\n",
    "                negativo = True\n",
    "#             print(\"negativo\")\n",
    "            alfa = lamb;\n",
    "            lambda_n = 0.0;\n",
    "\n",
    "            if deriv > 0.0:\n",
    "                lambda_n = lamb - (phi/deriv)\n",
    "                if abs(lambda_n - lamb) <= 1e-10:\n",
    "                    phi = 0.0\n",
    "                    break\n",
    "                \n",
    "                if lambda_n < beta:\n",
    "                    lamb = lambda_n\n",
    "                else:\n",
    "#                     print(\"aqui\")\n",
    "                    phi_alfa = phi;\n",
    "#                     lamb = secant(p,x,alfa,beta,phi_alfa,phi_beta,r);\n",
    "#             if deriv == 0.0:\n",
    "#                 lamb = breakpoint_to_the_right(p,lamb)\n",
    "#                 if lamb <= INFINITO_NEGATIVO or lamb >= INFINITO_POSITIVO:\n",
    "#                     break\n",
    "        \n",
    "        \n",
    "        deriv, phi, x = phi_lambda(p,lamb,phi,deriv,slopes,r)\n",
    "        it = it + 1\n",
    "        lambs.append(lamb)\n",
    "        derivs.append(deriv)\n",
    "        phis.append(phi)\n",
    "        \n",
    "    if phi == 0.0:\n",
    "        return it,lambs, derivs, phis,slopes,phi1\n",
    "    elif alfa == beta:\n",
    "        return -1,lambs, derivs, phis,slopes,phi1\n",
    "    else:\n",
    "        return -2,lambs, derivs, phis,slopes,phi1"
   ]
  },
  {
   "cell_type": "code",
   "execution_count": 163,
   "metadata": {},
   "outputs": [],
   "source": [
    "MAX_IT = 20\n",
    "INFINITO_NEGATIVO = -999999999;\n",
    "INFINITO_POSITIVO = 999999999;\n",
    "\n",
    "def newton_new_lamb(p,lamb,phi,deriv,slopes):\n",
    "    lambs = [] \n",
    "    phis = []\n",
    "    derivs = []\n",
    "    alfa = INFINITO_NEGATIVO;\n",
    "    beta = INFINITO_POSITIVO;\n",
    "    phi_alfa = 0.0;\n",
    "    phi_beta = 0.0;\n",
    "    deriv = 0\n",
    "    x = []\n",
    "    r = p.r\n",
    "    \n",
    "    deriv, phi, x = phi_lambda(p,lamb,phi,deriv,slopes,r)\n",
    "    lambs.append(lamb)\n",
    "    derivs.append(deriv)\n",
    "    phis.append(phi)\n",
    "    it = 1\n",
    "#     print(it, deriv, phi,lamb)\n",
    "    while phi != 0.0 and it <= MAX_IT:\n",
    "        if phi > 0:\n",
    "#             print(\"positivo\")\n",
    "            beta = lamb\n",
    "            lambda_n = 0.0\n",
    "            if deriv > 0.0:\n",
    "                \n",
    "                lambda_n = lamb - (phi/deriv)\n",
    "                if abs(lambda_n - lamb) <= 0.00000000001:\n",
    "                    phi = 0.0\n",
    "                    break\n",
    "                if lambda_n > alfa:\n",
    "                    lamb = lambda_n\n",
    "                else:\n",
    "#                     print(\"aqui\")\n",
    "                    phi_beta = phi;\n",
    "#                     lamb = secant(p,x,alfa,beta,phi_alfa,phi_beta,r);\n",
    "#             if deriv == 0.0:\n",
    "#                 lamb = breakpoint_to_the_left(p,lamb);\n",
    "#                 if lamb <= INFINITO_NEGATIVO or lamb >= INFINITO_POSITIVO:\n",
    "#                     break\n",
    "                \n",
    "        else:\n",
    "#             print(\"negativo\")\n",
    "            alfa = lamb;\n",
    "            lambda_n = 0.0;\n",
    "\n",
    "            if deriv > 0.0:\n",
    "                lambda_n = lamb - (phi/deriv)\n",
    "                if abs(lambda_n - lamb) <= 0.00000000001:\n",
    "                    phi = 0.0\n",
    "                    break\n",
    "                \n",
    "                if lambda_n < beta:\n",
    "                    lamb = lambda_n\n",
    "                else:\n",
    "#                     print(\"aqui\")\n",
    "                    phi_alfa = phi;\n",
    "#                     lamb = secant(p,x,alfa,beta,phi_alfa,phi_beta,r);\n",
    "#             if deriv == 0.0:\n",
    "#                 lamb = breakpoint_to_the_right(p,lamb)\n",
    "#                 if lamb <= INFINITO_NEGATIVO or lamb >= INFINITO_POSITIVO:\n",
    "#                     break\n",
    "        \n",
    "        \n",
    "        deriv, phi, x = phi_lambda(p,lamb,phi,deriv,slopes,r)\n",
    "        it = it + 1\n",
    "        lambs.append(lamb)\n",
    "        derivs.append(deriv)\n",
    "        phis.append(phi)\n",
    "        \n",
    "    if phi == 0.0:\n",
    "        return it,lambs, derivs, phis,slopes\n",
    "    elif alfa == beta:\n",
    "        return -1,lambs, derivs, phis,slopes\n",
    "    else:\n",
    "        return -2,lambs, derivs, phis,slopes"
   ]
  },
  {
   "cell_type": "code",
   "execution_count": 60,
   "metadata": {},
   "outputs": [],
   "source": [
    "def func_ty(p):\n",
    "    t = np.arange(0, 15, 0.5).tolist()\n",
    "    y = copy.deepcopy(t)\n",
    "    for j in range(len(t)):\n",
    "        lamb = t[j]\n",
    "\n",
    "        soma = 0\n",
    "\n",
    "        for i in range(n):\n",
    "            soma = soma + p.b[i] * median(p.low[i], (p.b[i] *lamb + p.a[i]) / p.d[i], p.up[i])\n",
    "\n",
    "        y[j] = soma\n",
    "    return y"
   ]
  },
  {
   "cell_type": "code",
   "execution_count": 174,
   "metadata": {},
   "outputs": [],
   "source": [
    "lista = []\n",
    "for i in range(1000):\n",
    "    n = 1000\n",
    "    p = generate_cqk_problem(n)\n",
    "    it,lambs, derivs, phis,slopes,phi1 = newton(p)\n",
    "    soma_a = 0\n",
    "    soma_b = 0\n",
    "    soma_d = 0\n",
    "    soma_up = 0\n",
    "    for i in range(n):\n",
    "        soma_a += p.a[i]\n",
    "        soma_b += p.b[i]\n",
    "        soma_d += p.d[i]\n",
    "        soma_up += p.up[i]\n",
    "    \n",
    "    soma_a = soma_a/n\n",
    "    soma_b = soma_b/n\n",
    "    soma_d = soma_d/n\n",
    "    soma_up = soma_up/n\n",
    "    r = p.r/n\n",
    "    sum_slopes = sum(slopes)\n",
    "    if it > 2:\n",
    "        l_rs = [phi1,lambs[-1]]\n",
    "#         l_rs = [soma_a, soma_b, soma_d, r,lambs[0],lambs[1],lambs[2],lambs[3],lambs[-1]]\n",
    "\n",
    "\n",
    "        lista.append(l_rs)"
   ]
  },
  {
   "cell_type": "code",
   "execution_count": 175,
   "metadata": {},
   "outputs": [],
   "source": [
    "np.savetxt('instance_test.txt', lista, delimiter = ' ',newline='\\n', fmt=\"%f\")"
   ]
  },
  {
   "cell_type": "code",
   "execution_count": 176,
   "metadata": {},
   "outputs": [],
   "source": [
    "c = ''\n",
    "with open(\"instance_test.txt\", \"r\") as fd:\n",
    "    c = StringIO(fd.read())"
   ]
  },
  {
   "cell_type": "code",
   "execution_count": 177,
   "metadata": {},
   "outputs": [],
   "source": [
    "d = c.read()\n",
    "c = StringIO(d) \n",
    "d = np.loadtxt(c) \n",
    "feature_names = ['phi1','final_lamb']\n",
    "# feature_names = ['a','b','d','r','initial_lamb','second_lamb','third_lamb','fourth_lamb','final_lamb']\n",
    "\n"
   ]
  },
  {
   "cell_type": "code",
   "execution_count": 178,
   "metadata": {},
   "outputs": [],
   "source": [
    "knapsack = {\"data\":d, \"feature_names\": feature_names}\n",
    "dataset = pd.DataFrame(knapsack['data'], columns = knapsack['feature_names'])"
   ]
  },
  {
   "cell_type": "code",
   "execution_count": 179,
   "metadata": {},
   "outputs": [],
   "source": [
    "# Coletando x e y\n",
    "\n",
    "X = dataset.iloc[:,:-1]\n",
    "y = dataset['final_lamb'].values"
   ]
  },
  {
   "cell_type": "code",
   "execution_count": 180,
   "metadata": {},
   "outputs": [
    {
     "data": {
      "text/html": [
       "<div>\n",
       "<style scoped>\n",
       "    .dataframe tbody tr th:only-of-type {\n",
       "        vertical-align: middle;\n",
       "    }\n",
       "\n",
       "    .dataframe tbody tr th {\n",
       "        vertical-align: top;\n",
       "    }\n",
       "\n",
       "    .dataframe thead th {\n",
       "        text-align: right;\n",
       "    }\n",
       "</style>\n",
       "<table border=\"1\" class=\"dataframe\">\n",
       "  <thead>\n",
       "    <tr style=\"text-align: right;\">\n",
       "      <th></th>\n",
       "      <th>phi1</th>\n",
       "      <th>final_lamb</th>\n",
       "    </tr>\n",
       "  </thead>\n",
       "  <tbody>\n",
       "    <tr>\n",
       "      <th>0</th>\n",
       "      <td>-625.987924</td>\n",
       "      <td>5.587579</td>\n",
       "    </tr>\n",
       "    <tr>\n",
       "      <th>1</th>\n",
       "      <td>-1888.403768</td>\n",
       "      <td>5.722995</td>\n",
       "    </tr>\n",
       "    <tr>\n",
       "      <th>2</th>\n",
       "      <td>-1042.519754</td>\n",
       "      <td>5.632295</td>\n",
       "    </tr>\n",
       "    <tr>\n",
       "      <th>3</th>\n",
       "      <td>1366.631950</td>\n",
       "      <td>5.373075</td>\n",
       "    </tr>\n",
       "    <tr>\n",
       "      <th>4</th>\n",
       "      <td>792.268623</td>\n",
       "      <td>5.437751</td>\n",
       "    </tr>\n",
       "    <tr>\n",
       "      <th>...</th>\n",
       "      <td>...</td>\n",
       "      <td>...</td>\n",
       "    </tr>\n",
       "    <tr>\n",
       "      <th>995</th>\n",
       "      <td>2319.734392</td>\n",
       "      <td>5.279063</td>\n",
       "    </tr>\n",
       "    <tr>\n",
       "      <th>996</th>\n",
       "      <td>674.451252</td>\n",
       "      <td>5.449832</td>\n",
       "    </tr>\n",
       "    <tr>\n",
       "      <th>997</th>\n",
       "      <td>-1155.202591</td>\n",
       "      <td>5.642949</td>\n",
       "    </tr>\n",
       "    <tr>\n",
       "      <th>998</th>\n",
       "      <td>-788.897743</td>\n",
       "      <td>5.601763</td>\n",
       "    </tr>\n",
       "    <tr>\n",
       "      <th>999</th>\n",
       "      <td>-48.500296</td>\n",
       "      <td>5.525058</td>\n",
       "    </tr>\n",
       "  </tbody>\n",
       "</table>\n",
       "<p>1000 rows × 2 columns</p>\n",
       "</div>"
      ],
      "text/plain": [
       "            phi1  final_lamb\n",
       "0    -625.987924    5.587579\n",
       "1   -1888.403768    5.722995\n",
       "2   -1042.519754    5.632295\n",
       "3    1366.631950    5.373075\n",
       "4     792.268623    5.437751\n",
       "..           ...         ...\n",
       "995  2319.734392    5.279063\n",
       "996   674.451252    5.449832\n",
       "997 -1155.202591    5.642949\n",
       "998  -788.897743    5.601763\n",
       "999   -48.500296    5.525058\n",
       "\n",
       "[1000 rows x 2 columns]"
      ]
     },
     "execution_count": 180,
     "metadata": {},
     "output_type": "execute_result"
    }
   ],
   "source": [
    "dataset"
   ]
  },
  {
   "cell_type": "code",
   "execution_count": 181,
   "metadata": {},
   "outputs": [],
   "source": [
    "from sklearn.datasets import load_breast_cancer\n",
    "from sklearn.model_selection import train_test_split\n",
    "from sklearn.preprocessing import StandardScaler"
   ]
  },
  {
   "cell_type": "code",
   "execution_count": 182,
   "metadata": {},
   "outputs": [],
   "source": [
    "X_train, X_test, y_train, y_test = train_test_split(X, y)"
   ]
  },
  {
   "cell_type": "code",
   "execution_count": 183,
   "metadata": {},
   "outputs": [
    {
     "data": {
      "text/plain": [
       "StandardScaler(copy=True, with_mean=True, with_std=True)"
      ]
     },
     "execution_count": 183,
     "metadata": {},
     "output_type": "execute_result"
    }
   ],
   "source": [
    "# Padronização\n",
    "scaler = StandardScaler()\n",
    "scaler.fit(X_train)"
   ]
  },
  {
   "cell_type": "code",
   "execution_count": 184,
   "metadata": {},
   "outputs": [],
   "source": [
    "# Aplicando a padronização aos dados\n",
    "X_train_p = scaler.transform(X_train)\n",
    "X_test_p = scaler.transform(X_test)"
   ]
  },
  {
   "cell_type": "code",
   "execution_count": 185,
   "metadata": {},
   "outputs": [],
   "source": [
    "\n",
    "# from sklearn.neural_network import MLPClassifier\n",
    "from sklearn.neural_network import MLPRegressor"
   ]
  },
  {
   "cell_type": "code",
   "execution_count": 186,
   "metadata": {},
   "outputs": [],
   "source": [
    "# mlp = MLPClassifier(hidden_layer_sizes = (30,30,30))\n",
    "regr = MLPRegressor(activation='identity',random_state=1, max_iter=5000).fit(X_train_p, y_train)"
   ]
  },
  {
   "cell_type": "code",
   "execution_count": 187,
   "metadata": {},
   "outputs": [
    {
     "data": {
      "text/plain": [
       "MLPRegressor(activation='identity', alpha=0.0001, batch_size='auto', beta_1=0.9,\n",
       "             beta_2=0.999, early_stopping=False, epsilon=1e-08,\n",
       "             hidden_layer_sizes=(100,), learning_rate='constant',\n",
       "             learning_rate_init=0.001, max_fun=15000, max_iter=5000,\n",
       "             momentum=0.9, n_iter_no_change=10, nesterovs_momentum=True,\n",
       "             power_t=0.5, random_state=1, shuffle=True, solver='adam',\n",
       "             tol=0.0001, validation_fraction=0.1, verbose=False,\n",
       "             warm_start=False)"
      ]
     },
     "execution_count": 187,
     "metadata": {},
     "output_type": "execute_result"
    }
   ],
   "source": [
    "regr.fit(X_train_p, y_train)"
   ]
  },
  {
   "cell_type": "code",
   "execution_count": 188,
   "metadata": {},
   "outputs": [
    {
     "data": {
      "text/plain": [
       "array([5.61142963, 5.44637305, 5.56040144, 5.62900336, 5.23210031,\n",
       "       5.48372454, 5.63426193, 5.62571078, 5.45043625, 5.58547191])"
      ]
     },
     "execution_count": 188,
     "metadata": {},
     "output_type": "execute_result"
    }
   ],
   "source": [
    "regr.predict(X_test_p[:10])"
   ]
  },
  {
   "cell_type": "code",
   "execution_count": 189,
   "metadata": {},
   "outputs": [
    {
     "data": {
      "text/plain": [
       "0.9990401494704526"
      ]
     },
     "execution_count": 189,
     "metadata": {},
     "output_type": "execute_result"
    }
   ],
   "source": [
    "regr.score(X_test_p, y_test)"
   ]
  },
  {
   "cell_type": "code",
   "execution_count": 190,
   "metadata": {},
   "outputs": [
    {
     "data": {
      "text/plain": [
       "array([5.607716, 5.444965, 5.558342, 5.628674, 5.237346, 5.484706,\n",
       "       5.635623, 5.627639, 5.45087 , 5.58466 ])"
      ]
     },
     "execution_count": 190,
     "metadata": {},
     "output_type": "execute_result"
    }
   ],
   "source": [
    "y_test[:10]"
   ]
  },
  {
   "cell_type": "code",
   "execution_count": 221,
   "metadata": {},
   "outputs": [
    {
     "name": "stdout",
     "output_type": "stream",
     "text": [
      "CPU times: user 56.3 ms, sys: 16.9 ms, total: 73.2 ms\n",
      "Wall time: 77.9 ms\n"
     ]
    }
   ],
   "source": [
    "%%time\n",
    "n = 1000\n",
    "pp = generate_cqk_problem(n)\n",
    "itt,lambss, derivss, phiss,slopess,phi11 = newton(pp)"
   ]
  },
  {
   "cell_type": "code",
   "execution_count": 222,
   "metadata": {},
   "outputs": [
    {
     "data": {
      "text/plain": [
       "(4,\n",
       " [4.093463052413391, 5.248027096449932, 5.376832157643845, 5.378840707264723],\n",
       " [-14163.45150754815,\n",
       "  -1300.147029210405,\n",
       "  -19.657047513155504,\n",
       "  -2.076916416626773e-11])"
      ]
     },
     "execution_count": 222,
     "metadata": {},
     "output_type": "execute_result"
    }
   ],
   "source": [
    "itt,lambss, phiss"
   ]
  },
  {
   "cell_type": "code",
   "execution_count": 225,
   "metadata": {},
   "outputs": [
    {
     "name": "stdout",
     "output_type": "stream",
     "text": [
      "CPU times: user 8.92 ms, sys: 158 µs, total: 9.07 ms\n",
      "Wall time: 9 ms\n"
     ]
    }
   ],
   "source": [
    "%%time\n",
    "deriv1,phi1 = phi_lambda_two(pp,5.52,pp.r)\n",
    "\n",
    "\n",
    "\n",
    "result = regr.predict(scaler.transform(np.asarray([[phi1]])))[0]\n",
    "\n",
    "itt,lambss, derivss, phiss,slopess = newton_new_lamb(pp,result,deriv1, phi1,slopess)\n"
   ]
  },
  {
   "cell_type": "code",
   "execution_count": 226,
   "metadata": {},
   "outputs": [
    {
     "data": {
      "text/plain": [
       "(5.371928258362982,\n",
       " 3,\n",
       " [5.371928258362982, 5.37881622402116, 5.378840707264727])"
      ]
     },
     "execution_count": 226,
     "metadata": {},
     "output_type": "execute_result"
    }
   ],
   "source": [
    "result, itt, lambss"
   ]
  },
  {
   "cell_type": "code",
   "execution_count": null,
   "metadata": {},
   "outputs": [],
   "source": []
  }
 ],
 "metadata": {
  "kernelspec": {
   "display_name": "Python 3",
   "language": "python",
   "name": "python3"
  },
  "language_info": {
   "codemirror_mode": {
    "name": "ipython",
    "version": 3
   },
   "file_extension": ".py",
   "mimetype": "text/x-python",
   "name": "python",
   "nbconvert_exporter": "python",
   "pygments_lexer": "ipython3",
   "version": "3.7.3"
  }
 },
 "nbformat": 4,
 "nbformat_minor": 4
}
