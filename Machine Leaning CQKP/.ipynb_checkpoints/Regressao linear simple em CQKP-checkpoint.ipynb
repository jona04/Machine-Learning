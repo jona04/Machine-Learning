{
 "cells": [
  {
   "cell_type": "code",
   "execution_count": 2,
   "metadata": {},
   "outputs": [],
   "source": [
    "import random\n",
    "\n",
    "# StringIO behaves like a file object \n",
    "from io import StringIO \n",
    "\n",
    "import numpy as np\n",
    "import pandas as pd\n",
    "import matplotlib.pyplot as plt\n",
    "import matplotlib as mpl\n",
    "from sklearn.datasets import load_boston\n",
    "from sklearn import linear_model\n",
    "from sklearn.metrics import r2_score\n",
    "from sklearn.pipeline import make_pipeline\n",
    "from sklearn.preprocessing import PolynomialFeatures\n",
    "from sklearn.preprocessing import StandardScaler\n",
    "import statsmodels.api as sm\n",
    "import statsmodels.formula.api as smf\n",
    "%matplotlib inline "
   ]
  },
  {
   "cell_type": "code",
   "execution_count": 3,
   "metadata": {},
   "outputs": [],
   "source": [
    "class CqkProblem:\n",
    "    def __init__(self, r, n, d, a, b, low, up):\n",
    "        self.n = n\n",
    "        self.r = r\n",
    "        self.d = list(d)\n",
    "        self.a = list(a)\n",
    "        self.b = list(b)\n",
    "        self.low = list(low)\n",
    "        self.up = list(up)"
   ]
  },
  {
   "cell_type": "code",
   "execution_count": 4,
   "metadata": {},
   "outputs": [],
   "source": [
    "def generate_cqk_problem(n):\n",
    "    d = []\n",
    "    low = []\n",
    "    up = []\n",
    "    b = []\n",
    "    a = []\n",
    "    temp = 0\n",
    "    lb = 0.0\n",
    "    ub = 0.0\n",
    "    lower = 10\n",
    "    upper = 25\n",
    "    r = 0\n",
    "\n",
    "    for i in range(n):\n",
    "        \n",
    "        b.append(10 + 14*random.random())\n",
    "        low.append(1 + 14*random.random())\n",
    "        up.append(1 + 14*random.random())\n",
    "        if low[i] > up[i]:\n",
    "            temp = low[i]\n",
    "            low[i] = up[i]\n",
    "            up[i] = temp\n",
    "        \n",
    "        lb = lb + b[i]*low[i];\n",
    "        ub = ub + b[i]*up[i];\n",
    "        \n",
    "        #Uncorrelated\n",
    "        d.append(random.randint(10,25))\n",
    "        a.append(random.randint(10,25))\n",
    "        \n",
    "    r = lb + (ub - lb)*0.7;\n",
    "    \n",
    "    return CqkProblem( r, n, d, a, b, low, up)"
   ]
  },
  {
   "cell_type": "code",
   "execution_count": 5,
   "metadata": {},
   "outputs": [],
   "source": [
    "\n",
    "def initial_lambda(p, lamb):\n",
    "    s0=0.0\n",
    "    q0=0.0\n",
    "    slopes = []\n",
    "    for i in range(p.n):\n",
    "        slopes.append((p.b[i]/p.d[i])*p.b[i])\n",
    "        s0 = s0 + (p.a[i] * p.b[i]) / p.d[i]\n",
    "        q0 = q0 + (p.b[i] * p.b[i]) / p.d[i]\n",
    "    lamb = (p.r-s0)/q0\n",
    "    return lamb, slopes"
   ]
  },
  {
   "cell_type": "code",
   "execution_count": 6,
   "metadata": {},
   "outputs": [],
   "source": [
    "def phi_lambda(p,lamb,phi,deriv,slopes,r):\n",
    "    deriv = 0.0\n",
    "    phi = r * -1\n",
    "    x = []\n",
    "    \n",
    "    for i in range(p.n):\n",
    "        \n",
    "        x.append( (p.b[i] * lamb + p.a[i])/p.d[i])\n",
    "\n",
    "        if x[i] < p.low[i]:\n",
    "            x[i] = p.low[i]\n",
    "        elif x[i] > p.up[i]:\n",
    "            x[i] = p.up[i]\n",
    "        else:\n",
    "            deriv = deriv + slopes[i];\n",
    "        phi = phi + p.b[i] * x[i];\n",
    "    return deriv, phi, x"
   ]
  },
  {
   "cell_type": "code",
   "execution_count": 40,
   "metadata": {},
   "outputs": [],
   "source": [
    "MAX_IT = 20\n",
    "INFINITO_NEGATIVO = -999999999;\n",
    "INFINITO_POSITIVO = 999999999;\n",
    "\n",
    "def newton(p):\n",
    "    lambs = [] \n",
    "    phi = 0\n",
    "    lamb = 0\n",
    "    alfa = INFINITO_NEGATIVO;\n",
    "    beta = INFINITO_POSITIVO;\n",
    "    phi_alfa = 0.0;\n",
    "    phi_beta = 0.0;\n",
    "    deriv = 0\n",
    "    x = []\n",
    "    r = p.r\n",
    "    \n",
    "    lamb, slopes = initial_lambda(p,lamb)\n",
    "    deriv, phi, x = phi_lambda(p,lamb,phi,deriv,slopes,r)\n",
    "    lambs.append(lamb)\n",
    "    it = 1\n",
    "#     print(it, deriv, phi,lamb)\n",
    "    while phi != 0.0 and it <= MAX_IT:\n",
    "        if phi > 0:\n",
    "#             print(\"positivo\")\n",
    "            beta = lamb\n",
    "            lambda_n = 0.0\n",
    "            if deriv > 0.0:\n",
    "                \n",
    "                lambda_n = lamb - (phi/deriv)\n",
    "                if abs(lambda_n - lamb) <= 0.00000000001:\n",
    "                    phi = 0.0\n",
    "                    break\n",
    "                if lambda_n > alfa:\n",
    "                    lamb = lambda_n\n",
    "                else:\n",
    "                    print(\"aqui\")\n",
    "                    phi_beta = phi;\n",
    "#                     lamb = secant(p,x,alfa,beta,phi_alfa,phi_beta,r);\n",
    "#             if deriv == 0.0:\n",
    "#                 lamb = breakpoint_to_the_left(p,lamb);\n",
    "#                 if lamb <= INFINITO_NEGATIVO or lamb >= INFINITO_POSITIVO:\n",
    "#                     break\n",
    "                \n",
    "        else:\n",
    "#             print(\"negativo\")\n",
    "            alfa = lamb;\n",
    "            lambda_n = 0.0;\n",
    "\n",
    "            if deriv > 0.0:\n",
    "                lambda_n = lamb - (phi/deriv)\n",
    "                if abs(lambda_n - lamb) <= 0.00000000001:\n",
    "                    phi = 0.0\n",
    "                    break\n",
    "                \n",
    "                if lambda_n < beta:\n",
    "                    lamb = lambda_n\n",
    "                else:\n",
    "                    print(\"aqui\")\n",
    "                    phi_alfa = phi;\n",
    "#                     lamb = secant(p,x,alfa,beta,phi_alfa,phi_beta,r);\n",
    "#             if deriv == 0.0:\n",
    "#                 lamb = breakpoint_to_the_right(p,lamb)\n",
    "#                 if lamb <= INFINITO_NEGATIVO or lamb >= INFINITO_POSITIVO:\n",
    "#                     break\n",
    "        \n",
    "        \n",
    "        deriv, phi, x = phi_lambda(p,lamb,phi,deriv,slopes,r)\n",
    "        it = it + 1\n",
    "        lambs.append(lamb)\n",
    "        \n",
    "    if phi == 0.0:\n",
    "        return it, lambs\n",
    "    elif alfa == beta:\n",
    "        return -1\n",
    "    else:\n",
    "        return -2"
   ]
  },
  {
   "cell_type": "code",
   "execution_count": 76,
   "metadata": {},
   "outputs": [],
   "source": [
    "lista = []\n",
    "for i in range(100):\n",
    "    n = 100\n",
    "    p = generate_cqk_problem(n)\n",
    "    p = generate_cqk_problem(n)\n",
    "    it, lambs = newton(p)\n",
    "    soma_a = 0\n",
    "    soma_b = 0\n",
    "    soma_low = 0\n",
    "    soma_d = 0\n",
    "    soma_up = 0\n",
    "    for i in range(n):\n",
    "        soma_a += p.a[i]\n",
    "        soma_b += p.b[i]\n",
    "        soma_low += p.low[i]\n",
    "        soma_d += p.d[i]\n",
    "        soma_up += p.up[i]\n",
    "    \n",
    "    soma_a = soma_a/n\n",
    "    soma_b = soma_b/n\n",
    "    soma_low = soma_low/n\n",
    "    soma_d = soma_d/n\n",
    "    soma_up = soma_up/n\n",
    "    \n",
    "    l_rs = [soma_a, soma_b, soma_low, soma_up, soma_d, p.r, lambs[0], lambs[-1]]\n",
    "    lista.append(l_rs)"
   ]
  },
  {
   "cell_type": "code",
   "execution_count": 77,
   "metadata": {},
   "outputs": [],
   "source": [
    "np.savetxt('instance_test.txt', lista, delimiter = ' ',newline='\\n', fmt=\"%f\")"
   ]
  },
  {
   "cell_type": "code",
   "execution_count": 78,
   "metadata": {},
   "outputs": [],
   "source": [
    "c = ''\n",
    "with open(\"instance_test.txt\", \"r\") as fd:\n",
    "    c = StringIO(fd.read())"
   ]
  },
  {
   "cell_type": "code",
   "execution_count": 79,
   "metadata": {},
   "outputs": [],
   "source": [
    "d = c.read()\n",
    "c = StringIO(d) \n",
    "d = np.loadtxt(c) \n",
    "feature_names = ['a', 'b', 'low', 'up', 'd', 'r', 'lamb_initial', 'target']"
   ]
  },
  {
   "cell_type": "code",
   "execution_count": 80,
   "metadata": {},
   "outputs": [],
   "source": [
    "knapsack = {\"data\":d, \"feature_names\": feature_names}\n",
    "dataset = pd.DataFrame(knapsack['data'], columns = knapsack['feature_names'])"
   ]
  },
  {
   "cell_type": "code",
   "execution_count": 81,
   "metadata": {},
   "outputs": [],
   "source": [
    "# Gerando número de observações e variáveis\n",
    "observations = len(dataset)\n",
    "variables = dataset.columns[:-1]"
   ]
  },
  {
   "cell_type": "code",
   "execution_count": 82,
   "metadata": {},
   "outputs": [],
   "source": [
    "# Coletando x e y\n",
    "X = dataset.iloc[:,:-1]\n",
    "y = dataset['target'].values"
   ]
  },
  {
   "cell_type": "code",
   "execution_count": 83,
   "metadata": {},
   "outputs": [
    {
     "data": {
      "text/html": [
       "<div>\n",
       "<style scoped>\n",
       "    .dataframe tbody tr th:only-of-type {\n",
       "        vertical-align: middle;\n",
       "    }\n",
       "\n",
       "    .dataframe tbody tr th {\n",
       "        vertical-align: top;\n",
       "    }\n",
       "\n",
       "    .dataframe thead th {\n",
       "        text-align: right;\n",
       "    }\n",
       "</style>\n",
       "<table border=\"1\" class=\"dataframe\">\n",
       "  <thead>\n",
       "    <tr style=\"text-align: right;\">\n",
       "      <th></th>\n",
       "      <th>a</th>\n",
       "      <th>b</th>\n",
       "      <th>low</th>\n",
       "      <th>up</th>\n",
       "      <th>d</th>\n",
       "      <th>r</th>\n",
       "      <th>lamb_initial</th>\n",
       "    </tr>\n",
       "  </thead>\n",
       "  <tbody>\n",
       "    <tr>\n",
       "      <th>0</th>\n",
       "      <td>18.14</td>\n",
       "      <td>17.012027</td>\n",
       "      <td>5.603039</td>\n",
       "      <td>10.400276</td>\n",
       "      <td>17.73</td>\n",
       "      <td>15243.249914</td>\n",
       "      <td>7.099222</td>\n",
       "    </tr>\n",
       "    <tr>\n",
       "      <th>1</th>\n",
       "      <td>17.46</td>\n",
       "      <td>16.698368</td>\n",
       "      <td>5.644848</td>\n",
       "      <td>10.017037</td>\n",
       "      <td>17.79</td>\n",
       "      <td>14837.336099</td>\n",
       "      <td>7.453859</td>\n",
       "    </tr>\n",
       "    <tr>\n",
       "      <th>2</th>\n",
       "      <td>17.13</td>\n",
       "      <td>17.598181</td>\n",
       "      <td>5.740635</td>\n",
       "      <td>10.519203</td>\n",
       "      <td>17.48</td>\n",
       "      <td>15813.616825</td>\n",
       "      <td>6.976450</td>\n",
       "    </tr>\n",
       "    <tr>\n",
       "      <th>3</th>\n",
       "      <td>18.03</td>\n",
       "      <td>16.784163</td>\n",
       "      <td>5.482906</td>\n",
       "      <td>9.965156</td>\n",
       "      <td>17.23</td>\n",
       "      <td>14509.408788</td>\n",
       "      <td>6.635398</td>\n",
       "    </tr>\n",
       "    <tr>\n",
       "      <th>4</th>\n",
       "      <td>17.58</td>\n",
       "      <td>17.776474</td>\n",
       "      <td>5.743613</td>\n",
       "      <td>10.465335</td>\n",
       "      <td>17.68</td>\n",
       "      <td>16141.519795</td>\n",
       "      <td>6.875935</td>\n",
       "    </tr>\n",
       "  </tbody>\n",
       "</table>\n",
       "</div>"
      ],
      "text/plain": [
       "       a          b       low         up      d             r  lamb_initial\n",
       "0  18.14  17.012027  5.603039  10.400276  17.73  15243.249914      7.099222\n",
       "1  17.46  16.698368  5.644848  10.017037  17.79  14837.336099      7.453859\n",
       "2  17.13  17.598181  5.740635  10.519203  17.48  15813.616825      6.976450\n",
       "3  18.03  16.784163  5.482906   9.965156  17.23  14509.408788      6.635398\n",
       "4  17.58  17.776474  5.743613  10.465335  17.68  16141.519795      6.875935"
      ]
     },
     "execution_count": 83,
     "metadata": {},
     "output_type": "execute_result"
    }
   ],
   "source": [
    "X.head()"
   ]
  },
  {
   "cell_type": "code",
   "execution_count": 84,
   "metadata": {},
   "outputs": [
    {
     "data": {
      "text/plain": [
       "array([ 9.63217 ,  8.775021,  9.045012,  8.01404 ,  9.495464,  8.607241,\n",
       "        9.330738,  9.877733,  9.926938,  9.140697,  8.449334,  8.201144,\n",
       "        9.57698 ,  8.652143,  7.874489,  8.761736,  9.63198 ,  8.099598,\n",
       "        8.34995 ,  8.217017, 10.273317,  8.148493,  9.75681 ,  9.687643,\n",
       "        9.032207,  9.90175 ,  9.628905,  8.186009,  9.018603,  8.278439,\n",
       "        8.356911,  9.55486 ,  9.310486,  9.062901,  8.533272,  8.074507,\n",
       "        9.222527,  8.694232,  9.304064,  7.529207,  8.49308 ,  9.501005,\n",
       "        7.540786,  9.732754,  9.693245,  8.717733,  8.039416,  9.420592,\n",
       "        9.656753,  8.607541,  9.290229,  9.081246,  8.429017, 10.079075,\n",
       "        7.761677, 10.119012,  9.641121,  8.804331,  9.221448,  9.198568,\n",
       "        8.774342,  9.043576,  8.54456 ,  8.805849,  9.304954,  8.772969,\n",
       "        8.814585, 10.215041,  8.482063,  9.263693,  9.46848 ,  8.617531,\n",
       "        8.647929,  8.785275,  9.246512,  9.252085,  8.439508,  9.082282,\n",
       "        9.085229,  7.762696,  8.501829,  8.62069 ,  9.516955,  8.871593,\n",
       "        8.208853,  8.768248,  8.755769,  8.67944 ,  9.210387,  8.55181 ,\n",
       "        8.385712,  9.888505,  9.272423,  8.777322,  9.41929 ,  9.101956,\n",
       "        8.833739,  8.193787,  8.863818,  9.145756])"
      ]
     },
     "execution_count": 84,
     "metadata": {},
     "output_type": "execute_result"
    }
   ],
   "source": [
    "y"
   ]
  },
  {
   "cell_type": "markdown",
   "metadata": {},
   "source": [
    "## Usando Múltiplos Atributos com StatsModels"
   ]
  },
  {
   "cell_type": "code",
   "execution_count": 85,
   "metadata": {},
   "outputs": [],
   "source": [
    "Xc = sm.add_constant(X)\n",
    "modelo_v1 = sm.OLS(y, Xc)\n",
    "modelo_v2 = modelo_v1.fit()"
   ]
  },
  {
   "cell_type": "code",
   "execution_count": 86,
   "metadata": {},
   "outputs": [
    {
     "data": {
      "text/html": [
       "<table class=\"simpletable\">\n",
       "<caption>OLS Regression Results</caption>\n",
       "<tr>\n",
       "  <th>Dep. Variable:</th>            <td>y</td>        <th>  R-squared:         </th> <td>   0.489</td>\n",
       "</tr>\n",
       "<tr>\n",
       "  <th>Model:</th>                   <td>OLS</td>       <th>  Adj. R-squared:    </th> <td>   0.450</td>\n",
       "</tr>\n",
       "<tr>\n",
       "  <th>Method:</th>             <td>Least Squares</td>  <th>  F-statistic:       </th> <td>   12.58</td>\n",
       "</tr>\n",
       "<tr>\n",
       "  <th>Date:</th>             <td>Thu, 18 Jun 2020</td> <th>  Prob (F-statistic):</th> <td>3.22e-11</td>\n",
       "</tr>\n",
       "<tr>\n",
       "  <th>Time:</th>                 <td>18:50:59</td>     <th>  Log-Likelihood:    </th> <td> -59.124</td>\n",
       "</tr>\n",
       "<tr>\n",
       "  <th>No. Observations:</th>      <td>   100</td>      <th>  AIC:               </th> <td>   134.2</td>\n",
       "</tr>\n",
       "<tr>\n",
       "  <th>Df Residuals:</th>          <td>    92</td>      <th>  BIC:               </th> <td>   155.1</td>\n",
       "</tr>\n",
       "<tr>\n",
       "  <th>Df Model:</th>              <td>     7</td>      <th>                     </th>     <td> </td>   \n",
       "</tr>\n",
       "<tr>\n",
       "  <th>Covariance Type:</th>      <td>nonrobust</td>    <th>                     </th>     <td> </td>   \n",
       "</tr>\n",
       "</table>\n",
       "<table class=\"simpletable\">\n",
       "<tr>\n",
       "        <td></td>          <th>coef</th>     <th>std err</th>      <th>t</th>      <th>P>|t|</th>  <th>[0.025</th>    <th>0.975]</th>  \n",
       "</tr>\n",
       "<tr>\n",
       "  <th>const</th>        <td>  -11.7894</td> <td>    7.831</td> <td>   -1.505</td> <td> 0.136</td> <td>  -27.343</td> <td>    3.764</td>\n",
       "</tr>\n",
       "<tr>\n",
       "  <th>a</th>            <td>    0.1487</td> <td>    0.099</td> <td>    1.508</td> <td> 0.135</td> <td>   -0.047</td> <td>    0.345</td>\n",
       "</tr>\n",
       "<tr>\n",
       "  <th>b</th>            <td>   -0.1459</td> <td>    0.500</td> <td>   -0.292</td> <td> 0.771</td> <td>   -1.139</td> <td>    0.847</td>\n",
       "</tr>\n",
       "<tr>\n",
       "  <th>low</th>          <td>    0.5352</td> <td>    0.252</td> <td>    2.124</td> <td> 0.036</td> <td>    0.035</td> <td>    1.036</td>\n",
       "</tr>\n",
       "<tr>\n",
       "  <th>up</th>           <td>    1.3949</td> <td>    0.546</td> <td>    2.556</td> <td> 0.012</td> <td>    0.311</td> <td>    2.479</td>\n",
       "</tr>\n",
       "<tr>\n",
       "  <th>d</th>            <td>    0.6855</td> <td>    0.206</td> <td>    3.322</td> <td> 0.001</td> <td>    0.276</td> <td>    1.095</td>\n",
       "</tr>\n",
       "<tr>\n",
       "  <th>r</th>            <td>   -0.0005</td> <td>    0.000</td> <td>   -1.062</td> <td> 0.291</td> <td>   -0.001</td> <td>    0.000</td>\n",
       "</tr>\n",
       "<tr>\n",
       "  <th>lamb_initial</th> <td>   -0.2247</td> <td>    0.388</td> <td>   -0.579</td> <td> 0.564</td> <td>   -0.996</td> <td>    0.547</td>\n",
       "</tr>\n",
       "</table>\n",
       "<table class=\"simpletable\">\n",
       "<tr>\n",
       "  <th>Omnibus:</th>       <td> 5.099</td> <th>  Durbin-Watson:     </th> <td>   2.090</td>\n",
       "</tr>\n",
       "<tr>\n",
       "  <th>Prob(Omnibus):</th> <td> 0.078</td> <th>  Jarque-Bera (JB):  </th> <td>   5.037</td>\n",
       "</tr>\n",
       "<tr>\n",
       "  <th>Skew:</th>          <td>-0.548</td> <th>  Prob(JB):          </th> <td>  0.0806</td>\n",
       "</tr>\n",
       "<tr>\n",
       "  <th>Kurtosis:</th>      <td> 2.908</td> <th>  Cond. No.          </th> <td>2.61e+06</td>\n",
       "</tr>\n",
       "</table><br/><br/>Warnings:<br/>[1] Standard Errors assume that the covariance matrix of the errors is correctly specified.<br/>[2] The condition number is large, 2.61e+06. This might indicate that there are<br/>strong multicollinearity or other numerical problems."
      ],
      "text/plain": [
       "<class 'statsmodels.iolib.summary.Summary'>\n",
       "\"\"\"\n",
       "                            OLS Regression Results                            \n",
       "==============================================================================\n",
       "Dep. Variable:                      y   R-squared:                       0.489\n",
       "Model:                            OLS   Adj. R-squared:                  0.450\n",
       "Method:                 Least Squares   F-statistic:                     12.58\n",
       "Date:                Thu, 18 Jun 2020   Prob (F-statistic):           3.22e-11\n",
       "Time:                        18:50:59   Log-Likelihood:                -59.124\n",
       "No. Observations:                 100   AIC:                             134.2\n",
       "Df Residuals:                      92   BIC:                             155.1\n",
       "Df Model:                           7                                         \n",
       "Covariance Type:            nonrobust                                         \n",
       "================================================================================\n",
       "                   coef    std err          t      P>|t|      [0.025      0.975]\n",
       "--------------------------------------------------------------------------------\n",
       "const          -11.7894      7.831     -1.505      0.136     -27.343       3.764\n",
       "a                0.1487      0.099      1.508      0.135      -0.047       0.345\n",
       "b               -0.1459      0.500     -0.292      0.771      -1.139       0.847\n",
       "low              0.5352      0.252      2.124      0.036       0.035       1.036\n",
       "up               1.3949      0.546      2.556      0.012       0.311       2.479\n",
       "d                0.6855      0.206      3.322      0.001       0.276       1.095\n",
       "r               -0.0005      0.000     -1.062      0.291      -0.001       0.000\n",
       "lamb_initial    -0.2247      0.388     -0.579      0.564      -0.996       0.547\n",
       "==============================================================================\n",
       "Omnibus:                        5.099   Durbin-Watson:                   2.090\n",
       "Prob(Omnibus):                  0.078   Jarque-Bera (JB):                5.037\n",
       "Skew:                          -0.548   Prob(JB):                       0.0806\n",
       "Kurtosis:                       2.908   Cond. No.                     2.61e+06\n",
       "==============================================================================\n",
       "\n",
       "Warnings:\n",
       "[1] Standard Errors assume that the covariance matrix of the errors is correctly specified.\n",
       "[2] The condition number is large, 2.61e+06. This might indicate that there are\n",
       "strong multicollinearity or other numerical problems.\n",
       "\"\"\""
      ]
     },
     "execution_count": 86,
     "metadata": {},
     "output_type": "execute_result"
    }
   ],
   "source": [
    "modelo_v2.summary()"
   ]
  },
  {
   "cell_type": "markdown",
   "metadata": {},
   "source": [
    "### Matriz de Correlação"
   ]
  },
  {
   "cell_type": "code",
   "execution_count": 73,
   "metadata": {},
   "outputs": [
    {
     "name": "stdout",
     "output_type": "stream",
     "text": [
      "                     a         b       low        up         d         r  \\\n",
      "a             1.000000  0.121959 -0.018328 -0.072360 -0.111045 -0.012495   \n",
      "b             0.121959  1.000000 -0.142159 -0.108235  0.046994  0.489445   \n",
      "low          -0.018328 -0.142159  1.000000  0.596229  0.002703  0.613025   \n",
      "up           -0.072360 -0.108235  0.596229  1.000000 -0.067201  0.761052   \n",
      "d            -0.111045  0.046994  0.002703 -0.067201  1.000000 -0.017803   \n",
      "r            -0.012495  0.489445  0.613025  0.761052 -0.017803  1.000000   \n",
      "lamb_initial -0.287944 -0.511583  0.571995  0.622891  0.483701  0.286087   \n",
      "\n",
      "              lamb_initial  \n",
      "a                -0.287944  \n",
      "b                -0.511583  \n",
      "low               0.571995  \n",
      "up                0.622891  \n",
      "d                 0.483701  \n",
      "r                 0.286087  \n",
      "lamb_initial      1.000000  \n"
     ]
    }
   ],
   "source": [
    "# Gerando a matriz\n",
    "X = dataset.iloc[:,:-1]\n",
    "matriz_corr = X.corr()\n",
    "print (matriz_corr)"
   ]
  },
  {
   "cell_type": "code",
   "execution_count": 74,
   "metadata": {},
   "outputs": [],
   "source": [
    "# Criando um Correlation Plot\n",
    "def visualize_correlation_matrix(data, hurdle = 0.0):\n",
    "    R = np.corrcoef(data, rowvar = 0)\n",
    "    R[np.where(np.abs(R) < hurdle)] = 0.0\n",
    "    heatmap = plt.pcolor(R, cmap = mpl.cm.coolwarm, alpha = 0.8)\n",
    "    heatmap.axes.set_frame_on(False)\n",
    "    heatmap.axes.set_yticks(np.arange(R.shape[0]) + 0.5, minor = False)\n",
    "    heatmap.axes.set_xticks(np.arange(R.shape[1]) + 0.5, minor = False)\n",
    "    heatmap.axes.set_xticklabels(variables, minor = False)\n",
    "    plt.xticks(rotation=90)\n",
    "    heatmap.axes.set_yticklabels(variables, minor = False)\n",
    "    plt.tick_params(axis = 'both', which = 'both', bottom = 'off', top = 'off', left = 'off', right = 'off') \n",
    "    plt.colorbar()\n",
    "    plt.show()"
   ]
  },
  {
   "cell_type": "code",
   "execution_count": 75,
   "metadata": {},
   "outputs": [
    {
     "data": {
      "image/png": "[encoded data removed]",
      "text/plain": [
       "<Figure size 432x288 with 2 Axes>"
      ]
     },
     "metadata": {
      "needs_background": "light"
     },
     "output_type": "display_data"
    }
   ],
   "source": [
    "# Visualizando o Plot\n",
    "visualize_correlation_matrix(X, hurdle = 0.5)"
   ]
  },
  {
   "cell_type": "markdown",
   "metadata": {},
   "source": [
    "## Avaliando a Multicolinearidade"
   ]
  },
  {
   "cell_type": "markdown",
   "metadata": {},
   "source": [
    "## Gradiente Descendente"
   ]
  },
  {
   "cell_type": "code",
   "execution_count": 189,
   "metadata": {},
   "outputs": [],
   "source": [
    "# Gerando os dados\n",
    "observations = len(dataset)\n",
    "variables = dataset.columns"
   ]
  },
  {
   "cell_type": "code",
   "execution_count": 190,
   "metadata": {},
   "outputs": [],
   "source": [
    "# Aplicando Padronização\n",
    "standardization = StandardScaler()\n",
    "Xst = standardization.fit_transform(X)\n",
    "original_means = standardization.mean_\n",
    "originanal_stds = standardization.scale_"
   ]
  },
  {
   "cell_type": "code",
   "execution_count": 191,
   "metadata": {},
   "outputs": [],
   "source": [
    "# Gerando X e Y\n",
    "Xst = np.column_stack((Xst,np.ones(observations)))\n",
    "y  = dataset['target'].values"
   ]
  },
  {
   "cell_type": "code",
   "execution_count": 192,
   "metadata": {},
   "outputs": [],
   "source": [
    "import random\n",
    "import numpy as np\n",
    "\n",
    "def random_w( p ):\n",
    "    return np.array([np.random.normal() for j in range(p)])\n",
    "\n",
    "def hypothesis(X,w):\n",
    "    return np.dot(X,w)\n",
    "\n",
    "def loss(X,w,y):\n",
    "    return hypothesis(X,w) - y\n",
    "\n",
    "def squared_loss(X,w,y):\n",
    "    return loss(X,w,y)**2\n",
    "\n",
    "def gradient(X,w,y):\n",
    "    gradients = list()\n",
    "    n = float(len( y ))\n",
    "    for j in range(len(w)):\n",
    "        gradients.append(np.sum(loss(X,w,y) * X[:,j]) / n)\n",
    "    return gradients\n",
    "\n",
    "def update(X,w,y, alpha = 0.01):\n",
    "    return [t - alpha*g for t, g in zip(w, gradient(X,w,y))]\n",
    "\n",
    "def optimize(X,y, alpha = 0.01, eta = 10**-12, iterations = 1000):\n",
    "    w = random_w(X.shape[1])\n",
    "    path = list()\n",
    "    for k in range(iterations):\n",
    "        SSL = np.sum(squared_loss(X,w,y))\n",
    "        new_w = update(X,w,y, alpha = alpha)\n",
    "        new_SSL = np.sum(squared_loss(X,new_w,y))\n",
    "        w = new_w\n",
    "        if k>=5 and (new_SSL - SSL <= eta and new_SSL - SSL >= -eta):\n",
    "            path.append(new_SSL)\n",
    "            return w, path\n",
    "        if k % (iterations / 20) == 0:\n",
    "            path.append(new_SSL)\n",
    "    return w, path   "
   ]
  },
  {
   "cell_type": "code",
   "execution_count": 196,
   "metadata": {},
   "outputs": [
    {
     "name": "stdout",
     "output_type": "stream",
     "text": [
      "Coeficientes finais padronizados: 0.0465, 0.0934, 0.2236, 0.3612, 0.3018, -0.3878, 2.1049, 8.9029\n"
     ]
    }
   ],
   "source": [
    "# Imprimindo o resultado                           \n",
    "alpha = 0.01\n",
    "w, path = optimize(Xst, y, alpha, eta = 10**-12, iterations = 20000)\n",
    "print (\"Coeficientes finais padronizados: \" + ', '.join(map(lambda x: \"%0.4f\" % x, w)))            "
   ]
  },
  {
   "cell_type": "code",
   "execution_count": 197,
   "metadata": {},
   "outputs": [],
   "source": [
    "# Desfazendo a Padronização\n",
    "unstandardized_betas = w[:-1] / originanal_stds\n",
    "unstandardized_bias  = w[-1]-np.sum((original_means / originanal_stds) * w[:-1])"
   ]
  },
  {
   "cell_type": "code",
   "execution_count": 198,
   "metadata": {},
   "outputs": [
    {
     "name": "stdout",
     "output_type": "stream",
     "text": [
      "    bias: -224.1490\n",
      "       a:   0.0011\n",
      "       b:   0.0023\n",
      "     low:   0.0066\n",
      "      up:   0.0107\n",
      "       d:   0.0062\n",
      "       r:  -0.0006\n",
      "       n:   2.1049\n"
     ]
    }
   ],
   "source": [
    "# Imprimindo o resultado\n",
    "print ('%8s: %8.4f' % ('bias', unstandardized_bias))\n",
    "for beta,varname in zip(unstandardized_betas, variables):\n",
    "    print ('%8s: %8.4f' % (varname, beta))"
   ]
  },
  {
   "cell_type": "code",
   "execution_count": null,
   "metadata": {},
   "outputs": [],
   "source": []
  }
 ],
 "metadata": {
  "kernelspec": {
   "display_name": "Python 3",
   "language": "python",
   "name": "python3"
  },
  "language_info": {
   "codemirror_mode": {
    "name": "ipython",
    "version": 3
   },
   "file_extension": ".py",
   "mimetype": "text/x-python",
   "name": "python",
   "nbconvert_exporter": "python",
   "pygments_lexer": "ipython3",
   "version": "3.7.3"
  }
 },
 "nbformat": 4,
 "nbformat_minor": 4
}
