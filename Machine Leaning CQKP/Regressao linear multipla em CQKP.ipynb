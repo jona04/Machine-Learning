{
 "cells": [
  {
   "cell_type": "code",
   "execution_count": 2,
   "metadata": {},
   "outputs": [],
   "source": [
    "import random\n",
    "\n",
    "# StringIO behaves like a file object \n",
    "from io import StringIO \n",
    "\n",
    "import numpy as np\n",
    "import pandas as pd\n",
    "import matplotlib.pyplot as plt\n",
    "import matplotlib as mpl\n",
    "from sklearn.datasets import load_boston\n",
    "from sklearn import linear_model\n",
    "from sklearn.metrics import r2_score\n",
    "from sklearn.pipeline import make_pipeline\n",
    "from sklearn.preprocessing import PolynomialFeatures\n",
    "from sklearn.preprocessing import StandardScaler\n",
    "import statsmodels.api as sm\n",
    "import statsmodels.formula.api as smf\n",
    "%matplotlib inline "
   ]
  },
  {
   "cell_type": "code",
   "execution_count": 3,
   "metadata": {},
   "outputs": [],
   "source": [
    "class CqkProblem:\n",
    "    def __init__(self, r, n, d, a, b, low, up):\n",
    "        self.n = n\n",
    "        self.r = r\n",
    "        self.d = list(d)\n",
    "        self.a = list(a)\n",
    "        self.b = list(b)\n",
    "        self.low = list(low)\n",
    "        self.up = list(up)"
   ]
  },
  {
   "cell_type": "code",
   "execution_count": 4,
   "metadata": {},
   "outputs": [],
   "source": [
    "def generate_cqk_problem(n):\n",
    "    d = []\n",
    "    low = []\n",
    "    up = []\n",
    "    b = []\n",
    "    a = []\n",
    "    temp = 0\n",
    "    lb = 0.0\n",
    "    ub = 0.0\n",
    "    lower = 10\n",
    "    upper = 25\n",
    "    r = 0\n",
    "\n",
    "    for i in range(n):\n",
    "        \n",
    "        b.append(10 + 14*random.random())\n",
    "        low.append(1 + 14*random.random())\n",
    "        up.append(1 + 14*random.random())\n",
    "        if low[i] > up[i]:\n",
    "            temp = low[i]\n",
    "            low[i] = up[i]\n",
    "            up[i] = temp\n",
    "        \n",
    "        lb = lb + b[i]*low[i];\n",
    "        ub = ub + b[i]*up[i];\n",
    "        \n",
    "        #Uncorrelated\n",
    "        d.append(random.randint(10,25))\n",
    "        a.append(random.randint(10,25))\n",
    "        \n",
    "    r = lb + (ub - lb)*0.7;\n",
    "    \n",
    "    return CqkProblem( r, n, d, a, b, low, up)"
   ]
  },
  {
   "cell_type": "code",
   "execution_count": 5,
   "metadata": {},
   "outputs": [],
   "source": [
    "\n",
    "def initial_lambda(p, lamb):\n",
    "    s0=0.0\n",
    "    q0=0.0\n",
    "    slopes = []\n",
    "    for i in range(p.n):\n",
    "        slopes.append((p.b[i]/p.d[i])*p.b[i])\n",
    "        s0 = s0 + (p.a[i] * p.b[i]) / p.d[i]\n",
    "        q0 = q0 + (p.b[i] * p.b[i]) / p.d[i]\n",
    "    lamb = (p.r-s0)/q0\n",
    "    return lamb, slopes"
   ]
  },
  {
   "cell_type": "code",
   "execution_count": 6,
   "metadata": {},
   "outputs": [],
   "source": [
    "def phi_lambda(p,lamb,phi,deriv,slopes,r):\n",
    "    deriv = 0.0\n",
    "    phi = r * -1\n",
    "    x = []\n",
    "    \n",
    "    for i in range(p.n):\n",
    "        \n",
    "        x.append( (p.b[i] * lamb + p.a[i])/p.d[i])\n",
    "\n",
    "        if x[i] < p.low[i]:\n",
    "            x[i] = p.low[i]\n",
    "        elif x[i] > p.up[i]:\n",
    "            x[i] = p.up[i]\n",
    "        else:\n",
    "            deriv = deriv + slopes[i];\n",
    "        phi = phi + p.b[i] * x[i];\n",
    "    return deriv, phi, x"
   ]
  },
  {
   "cell_type": "code",
   "execution_count": 40,
   "metadata": {},
   "outputs": [],
   "source": [
    "MAX_IT = 20\n",
    "INFINITO_NEGATIVO = -999999999;\n",
    "INFINITO_POSITIVO = 999999999;\n",
    "\n",
    "def newton(p):\n",
    "    lambs = [] \n",
    "    phi = 0\n",
    "    lamb = 0\n",
    "    alfa = INFINITO_NEGATIVO;\n",
    "    beta = INFINITO_POSITIVO;\n",
    "    phi_alfa = 0.0;\n",
    "    phi_beta = 0.0;\n",
    "    deriv = 0\n",
    "    x = []\n",
    "    r = p.r\n",
    "    \n",
    "    lamb, slopes = initial_lambda(p,lamb)\n",
    "    deriv, phi, x = phi_lambda(p,lamb,phi,deriv,slopes,r)\n",
    "    lambs.append(lamb)\n",
    "    it = 1\n",
    "#     print(it, deriv, phi,lamb)\n",
    "    while phi != 0.0 and it <= MAX_IT:\n",
    "        if phi > 0:\n",
    "#             print(\"positivo\")\n",
    "            beta = lamb\n",
    "            lambda_n = 0.0\n",
    "            if deriv > 0.0:\n",
    "                \n",
    "                lambda_n = lamb - (phi/deriv)\n",
    "                if abs(lambda_n - lamb) <= 0.00000000001:\n",
    "                    phi = 0.0\n",
    "                    break\n",
    "                if lambda_n > alfa:\n",
    "                    lamb = lambda_n\n",
    "                else:\n",
    "                    print(\"aqui\")\n",
    "                    phi_beta = phi;\n",
    "#                     lamb = secant(p,x,alfa,beta,phi_alfa,phi_beta,r);\n",
    "#             if deriv == 0.0:\n",
    "#                 lamb = breakpoint_to_the_left(p,lamb);\n",
    "#                 if lamb <= INFINITO_NEGATIVO or lamb >= INFINITO_POSITIVO:\n",
    "#                     break\n",
    "                \n",
    "        else:\n",
    "#             print(\"negativo\")\n",
    "            alfa = lamb;\n",
    "            lambda_n = 0.0;\n",
    "\n",
    "            if deriv > 0.0:\n",
    "                lambda_n = lamb - (phi/deriv)\n",
    "                if abs(lambda_n - lamb) <= 0.00000000001:\n",
    "                    phi = 0.0\n",
    "                    break\n",
    "                \n",
    "                if lambda_n < beta:\n",
    "                    lamb = lambda_n\n",
    "                else:\n",
    "                    print(\"aqui\")\n",
    "                    phi_alfa = phi;\n",
    "#                     lamb = secant(p,x,alfa,beta,phi_alfa,phi_beta,r);\n",
    "#             if deriv == 0.0:\n",
    "#                 lamb = breakpoint_to_the_right(p,lamb)\n",
    "#                 if lamb <= INFINITO_NEGATIVO or lamb >= INFINITO_POSITIVO:\n",
    "#                     break\n",
    "        \n",
    "        \n",
    "        deriv, phi, x = phi_lambda(p,lamb,phi,deriv,slopes,r)\n",
    "        it = it + 1\n",
    "        lambs.append(lamb)\n",
    "        \n",
    "    if phi == 0.0:\n",
    "        return it, lambs\n",
    "    elif alfa == beta:\n",
    "        return -1\n",
    "    else:\n",
    "        return -2"
   ]
  },
  {
   "cell_type": "code",
   "execution_count": 124,
   "metadata": {},
   "outputs": [],
   "source": [
    "lista = []\n",
    "for i in range(1000):\n",
    "    n = 100\n",
    "    p = generate_cqk_problem(n)\n",
    "    p = generate_cqk_problem(n)\n",
    "    it, lambs = newton(p)\n",
    "    soma_a = 0\n",
    "    soma_b = 0\n",
    "    soma_low = 0\n",
    "    soma_d = 0\n",
    "    soma_up = 0\n",
    "    for i in range(n):\n",
    "        soma_a += p.a[i]\n",
    "        soma_b += p.b[i]\n",
    "        soma_low += p.low[i]\n",
    "        soma_d += p.d[i]\n",
    "        soma_up += p.up[i]\n",
    "    \n",
    "#     soma_a = soma_a/n\n",
    "#     soma_b = soma_b/n\n",
    "#     soma_low = soma_low/n\n",
    "#     soma_d = soma_d/n\n",
    "#     soma_up = soma_up/n\n",
    "    \n",
    "    l_rs = [soma_a, soma_b, soma_low, soma_up, soma_d, p.r, lambs[0], lambs[-1]]\n",
    "    lista.append(l_rs)"
   ]
  },
  {
   "cell_type": "code",
   "execution_count": 125,
   "metadata": {},
   "outputs": [],
   "source": [
    "np.savetxt('instance_test.txt', lista, delimiter = ' ',newline='\\n', fmt=\"%f\")"
   ]
  },
  {
   "cell_type": "code",
   "execution_count": 126,
   "metadata": {},
   "outputs": [],
   "source": [
    "c = ''\n",
    "with open(\"instance_test.txt\", \"r\") as fd:\n",
    "    c = StringIO(fd.read())"
   ]
  },
  {
   "cell_type": "code",
   "execution_count": 127,
   "metadata": {},
   "outputs": [],
   "source": [
    "d = c.read()\n",
    "c = StringIO(d) \n",
    "d = np.loadtxt(c) \n",
    "feature_names = ['a', 'b', 'low', 'up', 'd', 'r', 'lamb_initial', 'target']"
   ]
  },
  {
   "cell_type": "code",
   "execution_count": 128,
   "metadata": {},
   "outputs": [],
   "source": [
    "knapsack = {\"data\":d, \"feature_names\": feature_names}\n",
    "dataset = pd.DataFrame(knapsack['data'], columns = knapsack['feature_names'])"
   ]
  },
  {
   "cell_type": "code",
   "execution_count": 129,
   "metadata": {},
   "outputs": [],
   "source": [
    "# Gerando número de observações e variáveis\n",
    "observations = len(dataset)\n",
    "variables = dataset.columns[:-1]"
   ]
  },
  {
   "cell_type": "code",
   "execution_count": 130,
   "metadata": {},
   "outputs": [],
   "source": [
    "# Coletando x e y\n",
    "X = dataset.iloc[:,:-1]\n",
    "y = dataset['target'].values"
   ]
  },
  {
   "cell_type": "code",
   "execution_count": 131,
   "metadata": {},
   "outputs": [
    {
     "data": {
      "text/html": [
       "<div>\n",
       "<style scoped>\n",
       "    .dataframe tbody tr th:only-of-type {\n",
       "        vertical-align: middle;\n",
       "    }\n",
       "\n",
       "    .dataframe tbody tr th {\n",
       "        vertical-align: top;\n",
       "    }\n",
       "\n",
       "    .dataframe thead th {\n",
       "        text-align: right;\n",
       "    }\n",
       "</style>\n",
       "<table border=\"1\" class=\"dataframe\">\n",
       "  <thead>\n",
       "    <tr style=\"text-align: right;\">\n",
       "      <th></th>\n",
       "      <th>a</th>\n",
       "      <th>b</th>\n",
       "      <th>low</th>\n",
       "      <th>up</th>\n",
       "      <th>d</th>\n",
       "      <th>r</th>\n",
       "      <th>lamb_initial</th>\n",
       "    </tr>\n",
       "  </thead>\n",
       "  <tbody>\n",
       "    <tr>\n",
       "      <th>0</th>\n",
       "      <td>1802.0</td>\n",
       "      <td>1765.190341</td>\n",
       "      <td>638.291066</td>\n",
       "      <td>1046.537037</td>\n",
       "      <td>1715.0</td>\n",
       "      <td>16434.585844</td>\n",
       "      <td>6.852078</td>\n",
       "    </tr>\n",
       "    <tr>\n",
       "      <th>1</th>\n",
       "      <td>1749.0</td>\n",
       "      <td>1717.982193</td>\n",
       "      <td>550.920221</td>\n",
       "      <td>1016.201652</td>\n",
       "      <td>1753.0</td>\n",
       "      <td>15010.979282</td>\n",
       "      <td>6.797498</td>\n",
       "    </tr>\n",
       "    <tr>\n",
       "      <th>2</th>\n",
       "      <td>1724.0</td>\n",
       "      <td>1724.466043</td>\n",
       "      <td>520.424476</td>\n",
       "      <td>1072.263565</td>\n",
       "      <td>1791.0</td>\n",
       "      <td>15651.218052</td>\n",
       "      <td>7.300037</td>\n",
       "    </tr>\n",
       "    <tr>\n",
       "      <th>3</th>\n",
       "      <td>1704.0</td>\n",
       "      <td>1691.842244</td>\n",
       "      <td>565.500089</td>\n",
       "      <td>1019.704943</td>\n",
       "      <td>1775.0</td>\n",
       "      <td>14818.025110</td>\n",
       "      <td>7.098448</td>\n",
       "    </tr>\n",
       "    <tr>\n",
       "      <th>4</th>\n",
       "      <td>1675.0</td>\n",
       "      <td>1712.837116</td>\n",
       "      <td>582.703217</td>\n",
       "      <td>1008.118080</td>\n",
       "      <td>1720.0</td>\n",
       "      <td>15223.516548</td>\n",
       "      <td>6.962020</td>\n",
       "    </tr>\n",
       "  </tbody>\n",
       "</table>\n",
       "</div>"
      ],
      "text/plain": [
       "        a            b         low           up       d             r  \\\n",
       "0  1802.0  1765.190341  638.291066  1046.537037  1715.0  16434.585844   \n",
       "1  1749.0  1717.982193  550.920221  1016.201652  1753.0  15010.979282   \n",
       "2  1724.0  1724.466043  520.424476  1072.263565  1791.0  15651.218052   \n",
       "3  1704.0  1691.842244  565.500089  1019.704943  1775.0  14818.025110   \n",
       "4  1675.0  1712.837116  582.703217  1008.118080  1720.0  15223.516548   \n",
       "\n",
       "   lamb_initial  \n",
       "0      6.852078  \n",
       "1      6.797498  \n",
       "2      7.300037  \n",
       "3      7.098448  \n",
       "4      6.962020  "
      ]
     },
     "execution_count": 131,
     "metadata": {},
     "output_type": "execute_result"
    }
   ],
   "source": [
    "X.head()"
   ]
  },
  {
   "cell_type": "code",
   "execution_count": 132,
   "metadata": {},
   "outputs": [
    {
     "data": {
      "text/plain": [
       "array([ 8.72616 ,  9.029261,  8.847333,  8.510457,  8.710863,  7.964713,\n",
       "        8.619453,  8.429237,  8.968565,  8.344798,  8.967029,  9.347839,\n",
       "        9.007184,  9.626862,  7.923554,  8.781274,  9.358153,  9.908854,\n",
       "        9.081039,  8.7028  ,  9.178844,  8.467576,  8.599293,  8.114401,\n",
       "        9.597447,  8.843878,  8.54187 ,  9.515712,  8.473123,  9.500676,\n",
       "        9.4108  ,  9.049805,  9.17708 , 10.006508,  7.823682,  8.558032,\n",
       "        9.699997,  8.655337,  8.773047,  8.452175,  8.278395,  8.175354,\n",
       "        8.159699,  8.551207,  9.479596,  9.050189,  9.803157,  8.7924  ,\n",
       "        8.503985,  9.092497,  9.798849,  9.173162,  8.837881,  8.262292,\n",
       "        8.607777,  8.580854,  7.335161,  8.743305,  9.105424,  8.667079,\n",
       "        8.265931,  8.992558,  7.977309,  8.940771,  9.39441 ,  8.973097,\n",
       "        7.958862,  8.824726, 10.605731,  8.299727,  8.645402,  9.286368,\n",
       "        9.198529,  8.703465,  8.259708,  9.776429,  8.965483,  8.840923,\n",
       "        7.731855,  9.427795,  9.737713,  8.366527,  8.274774,  9.162256,\n",
       "        8.508015,  8.529032,  9.579098,  8.958088,  8.891546,  8.520546,\n",
       "        8.961849,  8.631626,  9.114116,  8.865009,  8.865685,  9.443856,\n",
       "        8.387563,  9.235735,  8.666201,  8.746325,  9.388172,  8.735583,\n",
       "        8.000362,  8.366607,  8.511379,  8.487825,  8.027379,  8.736186,\n",
       "        8.498305,  8.444679,  8.732701,  7.960371,  8.215364,  8.954074,\n",
       "        9.266689,  9.585374,  9.610599,  9.412235,  9.280282,  8.754316,\n",
       "        8.272935,  9.070716,  9.62151 ,  9.636251,  8.657126,  7.732055,\n",
       "        8.905693,  8.729795,  8.381735,  8.554693,  8.380995,  8.163465,\n",
       "        8.447398,  8.742783,  8.71346 ,  8.524542,  8.750692,  8.598809,\n",
       "        7.909671,  8.763687,  9.456981,  9.108443,  8.626664,  9.514575,\n",
       "        8.055219,  8.662876,  8.820421,  8.640517,  8.587066,  8.743097,\n",
       "        6.961412,  9.032117,  9.136688,  9.167825,  8.869625,  8.884594,\n",
       "        9.250559,  8.350518, 10.061694,  9.785554,  8.88134 ,  8.915658,\n",
       "        9.522919,  8.264985,  8.224022,  9.457782,  7.569811,  8.606542,\n",
       "        8.783198,  9.843641,  8.858436,  8.517861,  8.80671 ,  9.644605,\n",
       "        8.83674 ,  9.051338,  9.548218,  8.295617,  8.627385,  9.120365,\n",
       "        9.108828,  9.150295,  9.132891,  8.875126,  8.249548,  9.094407,\n",
       "        9.556445,  8.598882,  9.226278,  7.918894,  8.420364,  9.564158,\n",
       "        9.54214 ,  8.367959,  8.032028,  8.532806,  9.140265,  8.951474,\n",
       "        8.409406,  9.365522,  9.009683,  8.495778,  9.428124,  8.714314,\n",
       "        8.89849 ,  9.255162,  9.088387,  9.126634,  7.948449,  7.574598,\n",
       "        8.466959,  8.315358,  9.318218,  9.333789,  8.536241,  8.541434,\n",
       "        9.748235,  8.887704,  8.001252,  8.478587,  8.317742,  8.83159 ,\n",
       "        8.908265,  8.607773,  9.230313,  8.938543,  8.994239,  9.292406,\n",
       "        8.840201,  9.412347,  8.446479,  8.34224 ,  9.254595,  8.970894,\n",
       "        9.195061,  8.049338,  9.7172  ,  8.796596,  8.424751,  8.719399,\n",
       "        9.223732, 10.177742, 10.255723,  9.935828,  9.377529,  9.200772,\n",
       "        8.679923,  8.915635,  8.125834,  7.709437,  9.155287,  8.393667,\n",
       "        9.168664,  8.671464,  8.916957,  9.268747,  8.95747 ,  8.831012,\n",
       "        8.120813,  8.392034,  9.059804,  8.511835,  8.461988,  7.954624,\n",
       "        8.209069,  8.799185,  8.831413,  8.86556 ,  7.663022,  9.210653,\n",
       "        8.723553,  7.552613,  7.967339,  9.777778,  8.671785,  9.714369,\n",
       "        8.786377,  8.936974,  8.591052,  9.772797,  8.981298,  9.293209,\n",
       "        8.763066,  8.507568,  9.060237,  9.412821,  9.49319 ,  8.954418,\n",
       "        9.03341 ,  8.993895,  9.044879,  9.469716,  8.898044,  8.531873,\n",
       "        8.362893,  8.843208,  7.999756,  9.363853,  8.009745,  8.857209,\n",
       "        8.774382,  8.760887,  8.928183,  8.302686,  8.359196,  9.793043,\n",
       "        9.355297,  8.642504,  9.362769,  7.738999,  8.83319 ,  8.982697,\n",
       "        8.273088,  9.063863,  8.578994,  8.940248,  8.290095,  8.251473,\n",
       "        8.048622,  8.193889,  8.727758,  9.543843,  8.537645,  8.93237 ,\n",
       "        8.356106,  7.149897,  9.288212, 10.595854,  8.239966,  9.512156,\n",
       "        8.999987, 10.190229,  8.304133,  8.694609,  8.704188,  9.294698,\n",
       "        7.992418,  8.842263,  8.524152,  8.837688,  8.316707,  9.595768,\n",
       "        8.830598,  8.413621,  9.542709, 10.105143,  9.21175 ,  8.441957,\n",
       "        8.699416,  8.708054,  8.993565,  9.497844,  9.463171,  8.75362 ,\n",
       "        9.42931 ,  8.516929, 10.073785,  8.706135,  9.684929,  8.700263,\n",
       "        8.77283 ,  8.193356,  8.005829,  9.360448,  8.98359 ,  8.676494,\n",
       "        8.761604,  8.469418,  9.394955,  9.374457,  8.675232,  7.660432,\n",
       "        8.819291,  8.51698 ,  9.429753,  8.774857,  9.144827,  8.061719,\n",
       "        8.813263,  8.769993,  8.481749,  8.265251,  9.662401,  8.204994,\n",
       "        9.779294,  9.141409,  9.020392,  7.744178,  9.46209 ,  8.466333,\n",
       "        7.868517,  8.128893,  9.077774,  8.662808,  8.777834,  9.51224 ,\n",
       "        8.987333,  8.464522,  9.128839,  8.314047,  8.97539 ,  8.526961,\n",
       "        8.73209 ,  8.922491,  9.372871,  9.268736,  8.041275,  8.745431,\n",
       "        8.181493,  8.828458,  9.581413,  7.767304,  8.564014,  8.650128,\n",
       "        9.187672,  8.424586,  9.367187,  8.471871,  9.949838,  9.58303 ,\n",
       "        8.411802,  9.368827,  8.841548,  9.274376,  8.738387,  8.760041,\n",
       "        8.302323,  8.11295 ,  8.486717,  8.154207,  9.069174,  8.698529,\n",
       "        9.252359,  9.237168,  9.182203,  9.719786,  8.605744,  6.821087,\n",
       "        8.957726,  9.466931,  9.596443,  8.364573,  8.507578,  8.697297,\n",
       "        8.962468,  8.223446,  8.138673,  8.392913,  8.721195,  8.34078 ,\n",
       "        9.393085,  9.601354,  9.197832,  9.510652,  8.744879,  8.411374,\n",
       "        8.41605 ,  8.802173,  9.62596 ,  8.394112,  9.293399,  8.09449 ,\n",
       "        9.200794,  8.815564,  9.07256 ,  9.613975,  8.337681,  8.834373,\n",
       "        8.113308,  8.481185,  9.569956,  8.062008,  8.93931 ,  9.036059,\n",
       "        8.859861,  9.134135,  8.872698,  8.032155,  9.07889 ,  9.035212,\n",
       "       10.43947 ,  8.891608,  8.737009,  9.115135,  8.212994,  7.834981,\n",
       "        8.655318,  9.613464,  8.778001,  9.021761,  9.906563,  8.464332,\n",
       "        8.541361,  8.353095,  8.791764,  8.57655 ,  9.621611,  8.121325,\n",
       "        9.046697,  8.222512,  9.945047,  7.445951,  9.043943,  9.457042,\n",
       "       10.255898,  8.518812,  8.32202 ,  8.763891,  9.031458,  8.82443 ,\n",
       "        8.522492,  9.055782,  9.50524 ,  8.123755,  8.94704 ,  9.492009,\n",
       "        8.623531,  9.42093 ,  9.640512,  8.241221,  9.399658,  8.872904,\n",
       "        9.660619,  8.939102,  9.147893,  8.593189,  9.474565,  8.679043,\n",
       "        9.092442,  8.475415,  9.866144,  8.697535,  9.370122,  8.894663,\n",
       "        8.759294,  8.945651,  8.795277,  8.166967,  8.819254,  8.759758,\n",
       "        9.519866,  9.084816,  8.710139,  9.039999,  8.70649 ,  8.854909,\n",
       "        8.81166 ,  9.295246,  8.320066,  9.041574,  9.183416,  8.49782 ,\n",
       "        9.566218,  8.854072,  8.731095,  7.934329,  9.317929,  8.965042,\n",
       "        9.2942  ,  9.340141,  8.326567,  8.240382,  9.253446,  8.470716,\n",
       "        8.285746,  9.242043, 10.343409,  8.619678,  9.081716, 10.00117 ,\n",
       "        9.476485,  8.892396,  9.014067,  9.018026,  8.966096,  8.32445 ,\n",
       "        9.213078,  9.148721,  9.725107,  8.728576,  9.219598,  8.845513,\n",
       "        8.84182 ,  8.48941 ,  9.033234,  9.664818,  8.822189,  8.319487,\n",
       "        8.69483 ,  9.278425,  8.605793,  8.382083,  9.893964, 10.007956,\n",
       "        8.70372 ,  8.176619,  8.262152,  8.879092,  9.938728,  9.476545,\n",
       "        8.961423,  8.980955,  8.507435,  8.094526,  8.743528,  9.1555  ,\n",
       "        8.752282,  8.950713,  8.584467,  8.786483,  8.201853,  8.709443,\n",
       "        8.732097,  8.645725,  9.138323,  8.970377,  8.635636,  8.619785,\n",
       "        8.785408,  9.818814,  8.744057,  8.351908,  8.726123,  9.30023 ,\n",
       "        8.161134,  8.754324,  9.210925,  9.965497,  8.801578,  9.095829,\n",
       "        8.856533,  9.503748,  8.935213,  8.457243,  9.238956,  9.296484,\n",
       "        9.310022,  9.377231,  8.895181,  8.856823,  8.280442,  9.464516,\n",
       "        9.156446,  8.651141,  9.037848,  9.423097,  9.387892,  8.492414,\n",
       "        9.206859,  8.907435,  9.584081,  9.222985,  8.378294,  9.524966,\n",
       "        8.69212 ,  9.281011,  8.164607,  8.52863 , 10.003364,  9.979225,\n",
       "        8.33401 ,  8.7422  ,  9.229537,  9.165965,  9.371544,  8.412893,\n",
       "        8.632308,  9.541155,  9.3025  ,  9.563539,  9.262856,  9.38722 ,\n",
       "        8.882672,  9.120458,  7.584482,  8.151587,  8.399528,  8.967774,\n",
       "        9.295247,  8.028169,  8.768849,  9.211967,  8.246098,  8.131081,\n",
       "        9.287769,  8.830069,  9.284555,  8.316883,  8.50022 ,  9.333018,\n",
       "        9.260025,  7.949164,  8.982847,  8.453834,  8.491987,  9.987799,\n",
       "        8.553674,  8.219592,  8.499927,  9.119788,  9.12491 ,  8.805859,\n",
       "        8.498966,  8.755785,  8.927637,  8.48394 ,  9.253411,  8.471514,\n",
       "        8.377197,  7.873269,  8.223596,  9.271664,  8.524542,  8.200068,\n",
       "        8.625467,  9.041461,  8.692653,  8.603025, 10.29471 ,  8.368678,\n",
       "        8.505503,  8.389669,  8.640424,  8.317381,  9.47273 ,  8.392148,\n",
       "        8.542971,  9.412757,  8.305736,  9.661929,  8.875156,  9.399737,\n",
       "        9.49659 ,  9.677134,  8.019201,  8.444854,  8.571451,  8.570708,\n",
       "        8.12972 ,  9.327948,  8.694718,  9.223958,  9.182117,  9.254937,\n",
       "        9.383104,  8.166004,  8.509277,  7.868816,  8.75581 ,  8.749785,\n",
       "        8.730353,  8.713815,  9.008422,  8.982465,  8.112845,  9.48573 ,\n",
       "        8.571254,  9.632052,  8.370756, 10.283839,  8.946502,  8.102844,\n",
       "        9.160684, 10.489444,  9.006177,  9.199463,  7.971386,  9.847483,\n",
       "        8.828577,  8.193473,  8.590908,  9.123391,  8.997956,  8.50732 ,\n",
       "        8.682076,  7.445145,  9.373024, 10.113303,  9.092207,  8.918303,\n",
       "        8.774404,  8.689516,  8.152941,  9.22328 ,  7.92586 ,  9.334852,\n",
       "        8.576471,  9.641151,  8.656533,  9.024676,  8.840837,  9.720962,\n",
       "        8.218896,  8.727437,  8.873205,  9.180667,  8.241582,  8.817635,\n",
       "        8.694868,  8.176679,  8.614588,  8.832285,  9.078866,  8.494802,\n",
       "        8.592205,  9.614517,  8.788371,  8.167392,  8.418211,  8.440582,\n",
       "        8.585604,  8.670391,  7.95571 ,  9.889912,  9.402025,  8.73102 ,\n",
       "        8.002049, 10.462235,  8.006883,  9.35053 ,  8.660176,  9.19083 ,\n",
       "        9.018513,  8.42256 ,  9.201063,  8.893076,  8.617216,  8.611285,\n",
       "        9.419562,  9.964411,  8.537561,  9.248611,  8.432424,  9.393232,\n",
       "        8.102608,  7.532599,  7.911622,  8.786024,  9.181842,  8.761295,\n",
       "        8.897396,  8.653687,  9.015229,  8.686095,  8.986019,  9.599672,\n",
       "        9.305625,  8.488849,  9.719719,  9.014131,  8.516895,  8.64636 ,\n",
       "        9.172924,  8.909386,  8.115861,  9.39198 ,  8.806985,  8.93175 ,\n",
       "        9.053888,  9.838938,  8.892243,  8.55696 ,  9.141667,  8.789207,\n",
       "        9.26204 ,  8.397726,  7.867171,  8.090172,  8.73394 , 10.011091,\n",
       "        8.123155,  8.663299,  9.180025,  9.616191,  9.230236,  8.102761,\n",
       "        8.628881,  9.212925,  9.553227,  9.156012,  9.254696,  9.139118,\n",
       "        8.176249,  8.737922,  9.486132,  9.295989,  8.555074,  7.880291,\n",
       "        7.942562,  8.738301,  8.605212,  8.688907,  8.853197,  9.131129,\n",
       "        8.679818,  8.01597 ,  8.455947,  8.980453,  8.559963,  8.904806,\n",
       "        8.689136,  8.37376 ,  8.720511,  9.088554,  9.166479,  9.253213,\n",
       "        8.448419,  8.232163,  9.314733,  8.911653,  9.620296,  9.580887,\n",
       "        9.649255,  8.405033,  8.943067,  8.188347,  9.066372,  8.790006,\n",
       "        8.643303,  9.213009,  8.59196 ,  7.668513,  8.0088  ,  8.151807,\n",
       "        8.452737,  9.018822,  7.97328 , 10.075555,  8.077397,  9.098477,\n",
       "        8.768048,  8.400965,  8.981623,  8.480971,  8.637936,  8.871552,\n",
       "        9.618221,  8.938787,  9.035324,  8.275385,  7.882121,  9.683856,\n",
       "        8.78382 ,  7.97848 ,  9.067377,  9.194951,  8.832211,  9.211854,\n",
       "        8.548411,  9.504034,  8.976828,  8.671289,  9.193535,  8.320959,\n",
       "        8.617999,  8.943245,  8.469838,  8.225729,  9.752416,  8.812181,\n",
       "        7.937231,  9.326695,  8.642827,  9.048017,  8.818502,  9.018516,\n",
       "        8.715705,  8.366709,  8.798023,  9.80507 ,  8.184966,  9.884726,\n",
       "        8.948549,  8.934226,  9.657149,  8.67573 ,  8.99632 ,  8.412419,\n",
       "        9.28207 ,  8.965493,  8.027316,  9.071774,  8.296912,  9.808   ,\n",
       "       10.488372,  8.44789 ,  9.482516,  8.462868,  9.133829,  8.613907,\n",
       "        9.840203,  8.156391,  8.925432,  8.473185,  9.04634 ,  8.559618,\n",
       "        8.564059,  9.287673,  8.763147,  8.540568])"
      ]
     },
     "execution_count": 132,
     "metadata": {},
     "output_type": "execute_result"
    }
   ],
   "source": [
    "y"
   ]
  },
  {
   "cell_type": "markdown",
   "metadata": {},
   "source": [
    "## Usando Múltiplos Atributos com StatsModels"
   ]
  },
  {
   "cell_type": "code",
   "execution_count": 133,
   "metadata": {},
   "outputs": [],
   "source": [
    "Xc = sm.add_constant(X)\n",
    "modelo_v1 = sm.OLS(y, Xc)\n",
    "modelo_v2 = modelo_v1.fit()"
   ]
  },
  {
   "cell_type": "code",
   "execution_count": 134,
   "metadata": {},
   "outputs": [
    {
     "data": {
      "text/html": [
       "<table class=\"simpletable\">\n",
       "<caption>OLS Regression Results</caption>\n",
       "<tr>\n",
       "  <th>Dep. Variable:</th>            <td>y</td>        <th>  R-squared:         </th> <td>   0.530</td> \n",
       "</tr>\n",
       "<tr>\n",
       "  <th>Model:</th>                   <td>OLS</td>       <th>  Adj. R-squared:    </th> <td>   0.526</td> \n",
       "</tr>\n",
       "<tr>\n",
       "  <th>Method:</th>             <td>Least Squares</td>  <th>  F-statistic:       </th> <td>   159.5</td> \n",
       "</tr>\n",
       "<tr>\n",
       "  <th>Date:</th>             <td>Thu, 18 Jun 2020</td> <th>  Prob (F-statistic):</th> <td>1.20e-157</td>\n",
       "</tr>\n",
       "<tr>\n",
       "  <th>Time:</th>                 <td>19:33:03</td>     <th>  Log-Likelihood:    </th> <td> -437.83</td> \n",
       "</tr>\n",
       "<tr>\n",
       "  <th>No. Observations:</th>      <td>  1000</td>      <th>  AIC:               </th> <td>   891.7</td> \n",
       "</tr>\n",
       "<tr>\n",
       "  <th>Df Residuals:</th>          <td>   992</td>      <th>  BIC:               </th> <td>   930.9</td> \n",
       "</tr>\n",
       "<tr>\n",
       "  <th>Df Model:</th>              <td>     7</td>      <th>                     </th>     <td> </td>    \n",
       "</tr>\n",
       "<tr>\n",
       "  <th>Covariance Type:</th>      <td>nonrobust</td>    <th>                     </th>     <td> </td>    \n",
       "</tr>\n",
       "</table>\n",
       "<table class=\"simpletable\">\n",
       "<tr>\n",
       "        <td></td>          <th>coef</th>     <th>std err</th>      <th>t</th>      <th>P>|t|</th>  <th>[0.025</th>    <th>0.975]</th>  \n",
       "</tr>\n",
       "<tr>\n",
       "  <th>const</th>        <td>   -5.3153</td> <td>    1.853</td> <td>   -2.868</td> <td> 0.004</td> <td>   -8.952</td> <td>   -1.679</td>\n",
       "</tr>\n",
       "<tr>\n",
       "  <th>a</th>            <td> 6.831e-05</td> <td>    0.000</td> <td>    0.263</td> <td> 0.792</td> <td>   -0.000</td> <td>    0.001</td>\n",
       "</tr>\n",
       "<tr>\n",
       "  <th>b</th>            <td>    0.0002</td> <td>    0.001</td> <td>    0.143</td> <td> 0.886</td> <td>   -0.002</td> <td>    0.003</td>\n",
       "</tr>\n",
       "<tr>\n",
       "  <th>low</th>          <td>    0.0043</td> <td>    0.001</td> <td>    6.477</td> <td> 0.000</td> <td>    0.003</td> <td>    0.006</td>\n",
       "</tr>\n",
       "<tr>\n",
       "  <th>up</th>           <td>    0.0074</td> <td>    0.001</td> <td>    5.648</td> <td> 0.000</td> <td>    0.005</td> <td>    0.010</td>\n",
       "</tr>\n",
       "<tr>\n",
       "  <th>d</th>            <td>    0.0042</td> <td>    0.001</td> <td>    7.626</td> <td> 0.000</td> <td>    0.003</td> <td>    0.005</td>\n",
       "</tr>\n",
       "<tr>\n",
       "  <th>r</th>            <td>   -0.0004</td> <td>    0.000</td> <td>   -3.645</td> <td> 0.000</td> <td>   -0.001</td> <td>   -0.000</td>\n",
       "</tr>\n",
       "<tr>\n",
       "  <th>lamb_initial</th> <td>    0.3692</td> <td>    0.099</td> <td>    3.732</td> <td> 0.000</td> <td>    0.175</td> <td>    0.563</td>\n",
       "</tr>\n",
       "</table>\n",
       "<table class=\"simpletable\">\n",
       "<tr>\n",
       "  <th>Omnibus:</th>       <td> 0.491</td> <th>  Durbin-Watson:     </th> <td>   2.108</td>\n",
       "</tr>\n",
       "<tr>\n",
       "  <th>Prob(Omnibus):</th> <td> 0.782</td> <th>  Jarque-Bera (JB):  </th> <td>   0.536</td>\n",
       "</tr>\n",
       "<tr>\n",
       "  <th>Skew:</th>          <td> 0.052</td> <th>  Prob(JB):          </th> <td>   0.765</td>\n",
       "</tr>\n",
       "<tr>\n",
       "  <th>Kurtosis:</th>      <td> 2.953</td> <th>  Cond. No.          </th> <td>2.42e+06</td>\n",
       "</tr>\n",
       "</table><br/><br/>Warnings:<br/>[1] Standard Errors assume that the covariance matrix of the errors is correctly specified.<br/>[2] The condition number is large, 2.42e+06. This might indicate that there are<br/>strong multicollinearity or other numerical problems."
      ],
      "text/plain": [
       "<class 'statsmodels.iolib.summary.Summary'>\n",
       "\"\"\"\n",
       "                            OLS Regression Results                            \n",
       "==============================================================================\n",
       "Dep. Variable:                      y   R-squared:                       0.530\n",
       "Model:                            OLS   Adj. R-squared:                  0.526\n",
       "Method:                 Least Squares   F-statistic:                     159.5\n",
       "Date:                Thu, 18 Jun 2020   Prob (F-statistic):          1.20e-157\n",
       "Time:                        19:33:03   Log-Likelihood:                -437.83\n",
       "No. Observations:                1000   AIC:                             891.7\n",
       "Df Residuals:                     992   BIC:                             930.9\n",
       "Df Model:                           7                                         \n",
       "Covariance Type:            nonrobust                                         \n",
       "================================================================================\n",
       "                   coef    std err          t      P>|t|      [0.025      0.975]\n",
       "--------------------------------------------------------------------------------\n",
       "const           -5.3153      1.853     -2.868      0.004      -8.952      -1.679\n",
       "a             6.831e-05      0.000      0.263      0.792      -0.000       0.001\n",
       "b                0.0002      0.001      0.143      0.886      -0.002       0.003\n",
       "low              0.0043      0.001      6.477      0.000       0.003       0.006\n",
       "up               0.0074      0.001      5.648      0.000       0.005       0.010\n",
       "d                0.0042      0.001      7.626      0.000       0.003       0.005\n",
       "r               -0.0004      0.000     -3.645      0.000      -0.001      -0.000\n",
       "lamb_initial     0.3692      0.099      3.732      0.000       0.175       0.563\n",
       "==============================================================================\n",
       "Omnibus:                        0.491   Durbin-Watson:                   2.108\n",
       "Prob(Omnibus):                  0.782   Jarque-Bera (JB):                0.536\n",
       "Skew:                           0.052   Prob(JB):                        0.765\n",
       "Kurtosis:                       2.953   Cond. No.                     2.42e+06\n",
       "==============================================================================\n",
       "\n",
       "Warnings:\n",
       "[1] Standard Errors assume that the covariance matrix of the errors is correctly specified.\n",
       "[2] The condition number is large, 2.42e+06. This might indicate that there are\n",
       "strong multicollinearity or other numerical problems.\n",
       "\"\"\""
      ]
     },
     "execution_count": 134,
     "metadata": {},
     "output_type": "execute_result"
    }
   ],
   "source": [
    "modelo_v2.summary()"
   ]
  },
  {
   "cell_type": "markdown",
   "metadata": {},
   "source": [
    "### Matriz de Correlação"
   ]
  },
  {
   "cell_type": "code",
   "execution_count": 106,
   "metadata": {},
   "outputs": [
    {
     "name": "stdout",
     "output_type": "stream",
     "text": [
      "                     a         b       low        up         d         r  \\\n",
      "a             1.000000 -0.308087  0.092505 -0.029564  0.033896 -0.128303   \n",
      "b            -0.308087  1.000000 -0.007679 -0.046633 -0.152087  0.589481   \n",
      "low           0.092505 -0.007679  1.000000  0.390364 -0.139425  0.542334   \n",
      "up           -0.029564 -0.046633  0.390364  1.000000  0.013560  0.697243   \n",
      "d             0.033896 -0.152087 -0.139425  0.013560  1.000000 -0.126205   \n",
      "r            -0.128303  0.589481  0.542334  0.697243 -0.126205  1.000000   \n",
      "lamb_initial  0.098673 -0.502399  0.324362  0.585013  0.599896  0.176511   \n",
      "\n",
      "              lamb_initial  \n",
      "a                 0.098673  \n",
      "b                -0.502399  \n",
      "low               0.324362  \n",
      "up                0.585013  \n",
      "d                 0.599896  \n",
      "r                 0.176511  \n",
      "lamb_initial      1.000000  \n"
     ]
    }
   ],
   "source": [
    "# Gerando a matriz\n",
    "X = dataset.iloc[:,:-1]\n",
    "matriz_corr = X.corr()\n",
    "print (matriz_corr)"
   ]
  },
  {
   "cell_type": "code",
   "execution_count": 107,
   "metadata": {},
   "outputs": [],
   "source": [
    "# Criando um Correlation Plot\n",
    "def visualize_correlation_matrix(data, hurdle = 0.0):\n",
    "    R = np.corrcoef(data, rowvar = 0)\n",
    "    R[np.where(np.abs(R) < hurdle)] = 0.0\n",
    "    heatmap = plt.pcolor(R, cmap = mpl.cm.coolwarm, alpha = 0.8)\n",
    "    heatmap.axes.set_frame_on(False)\n",
    "    heatmap.axes.set_yticks(np.arange(R.shape[0]) + 0.5, minor = False)\n",
    "    heatmap.axes.set_xticks(np.arange(R.shape[1]) + 0.5, minor = False)\n",
    "    heatmap.axes.set_xticklabels(variables, minor = False)\n",
    "    plt.xticks(rotation=90)\n",
    "    heatmap.axes.set_yticklabels(variables, minor = False)\n",
    "    plt.tick_params(axis = 'both', which = 'both', bottom = 'off', top = 'off', left = 'off', right = 'off') \n",
    "    plt.colorbar()\n",
    "    plt.show()"
   ]
  },
  {
   "cell_type": "code",
   "execution_count": 108,
   "metadata": {},
   "outputs": [
    {
     "data": {
      "image/png": "[encoded data removed]",
      "text/plain": [
       "<Figure size 432x288 with 2 Axes>"
      ]
     },
     "metadata": {
      "needs_background": "light"
     },
     "output_type": "display_data"
    }
   ],
   "source": [
    "# Visualizando o Plot\n",
    "visualize_correlation_matrix(X, hurdle = 0.5)"
   ]
  },
  {
   "cell_type": "markdown",
   "metadata": {},
   "source": [
    "## Avaliando a Multicolinearidade"
   ]
  },
  {
   "cell_type": "markdown",
   "metadata": {},
   "source": [
    "## Gradiente Descendente"
   ]
  },
  {
   "cell_type": "code",
   "execution_count": 109,
   "metadata": {},
   "outputs": [],
   "source": [
    "# Gerando os dados\n",
    "observations = len(dataset)\n",
    "variables = dataset.columns"
   ]
  },
  {
   "cell_type": "code",
   "execution_count": 110,
   "metadata": {},
   "outputs": [],
   "source": [
    "# Aplicando Padronização\n",
    "standardization = StandardScaler()\n",
    "Xst = standardization.fit_transform(X)\n",
    "original_means = standardization.mean_\n",
    "originanal_stds = standardization.scale_"
   ]
  },
  {
   "cell_type": "code",
   "execution_count": 111,
   "metadata": {},
   "outputs": [],
   "source": [
    "# Gerando X e Y\n",
    "Xst = np.column_stack((Xst,np.ones(observations)))\n",
    "y  = dataset['target'].values"
   ]
  },
  {
   "cell_type": "code",
   "execution_count": 112,
   "metadata": {},
   "outputs": [],
   "source": [
    "import random\n",
    "import numpy as np\n",
    "\n",
    "def random_w( p ):\n",
    "    return np.array([np.random.normal() for j in range(p)])\n",
    "\n",
    "def hypothesis(X,w):\n",
    "    return np.dot(X,w)\n",
    "\n",
    "def loss(X,w,y):\n",
    "    return hypothesis(X,w) - y\n",
    "\n",
    "def squared_loss(X,w,y):\n",
    "    return loss(X,w,y)**2\n",
    "\n",
    "def gradient(X,w,y):\n",
    "    gradients = list()\n",
    "    n = float(len( y ))\n",
    "    for j in range(len(w)):\n",
    "        gradients.append(np.sum(loss(X,w,y) * X[:,j]) / n)\n",
    "    return gradients\n",
    "\n",
    "def update(X,w,y, alpha = 0.01):\n",
    "    return [t - alpha*g for t, g in zip(w, gradient(X,w,y))]\n",
    "\n",
    "def optimize(X,y, alpha = 0.01, eta = 10**-12, iterations = 1000):\n",
    "    w = random_w(X.shape[1])\n",
    "    path = list()\n",
    "    for k in range(iterations):\n",
    "        SSL = np.sum(squared_loss(X,w,y))\n",
    "        new_w = update(X,w,y, alpha = alpha)\n",
    "        new_SSL = np.sum(squared_loss(X,new_w,y))\n",
    "        w = new_w\n",
    "        if k>=5 and (new_SSL - SSL <= eta and new_SSL - SSL >= -eta):\n",
    "            path.append(new_SSL)\n",
    "            return w, path\n",
    "        if k % (iterations / 20) == 0:\n",
    "            path.append(new_SSL)\n",
    "    return w, path   "
   ]
  },
  {
   "cell_type": "code",
   "execution_count": 113,
   "metadata": {},
   "outputs": [
    {
     "name": "stdout",
     "output_type": "stream",
     "text": [
      "Coeficientes finais padronizados: -0.0163, -0.1181, 0.1445, 0.2459, 0.2504, -0.1662, -0.0377, 8.8577\n"
     ]
    }
   ],
   "source": [
    "# Imprimindo o resultado                           \n",
    "alpha = 0.01\n",
    "w, path = optimize(Xst, y, alpha, eta = 10**-12, iterations = 20000)\n",
    "print (\"Coeficientes finais padronizados: \" + ', '.join(map(lambda x: \"%0.4f\" % x, w)))            "
   ]
  },
  {
   "cell_type": "code",
   "execution_count": 114,
   "metadata": {},
   "outputs": [],
   "source": [
    "# Desfazendo a Padronização\n",
    "unstandardized_betas = w[:-1] / originanal_stds\n",
    "unstandardized_bias  = w[-1]-np.sum((original_means / originanal_stds) * w[:-1])"
   ]
  },
  {
   "cell_type": "code",
   "execution_count": 115,
   "metadata": {},
   "outputs": [
    {
     "name": "stdout",
     "output_type": "stream",
     "text": [
      "    bias:  -1.2250\n",
      "       a:  -0.0004\n",
      "       b:  -0.0031\n",
      "     low:   0.0043\n",
      "      up:   0.0087\n",
      "       d:   0.0055\n",
      "       r:  -0.0003\n",
      "lamb_initial:  -0.0938\n"
     ]
    }
   ],
   "source": [
    "# Imprimindo o resultado\n",
    "print ('%8s: %8.4f' % ('bias', unstandardized_bias))\n",
    "for beta,varname in zip(unstandardized_betas, variables):\n",
    "    print ('%8s: %8.4f' % (varname, beta))"
   ]
  },
  {
   "cell_type": "markdown",
   "metadata": {},
   "source": [
    "## Importância dos Atributos\n"
   ]
  },
  {
   "cell_type": "code",
   "execution_count": 116,
   "metadata": {},
   "outputs": [],
   "source": [
    "# Criando um modelo\n",
    "modelo = linear_model.LinearRegression(normalize = False, fit_intercept = True)"
   ]
  },
  {
   "cell_type": "code",
   "execution_count": 117,
   "metadata": {},
   "outputs": [
    {
     "name": "stdout",
     "output_type": "stream",
     "text": [
      " 0.113 lamb_initial\n",
      " 0.008 up\n",
      " 0.006 d\n",
      " 0.004 low\n",
      " 0.004 b\n",
      " 0.000 a\n",
      " 0.000 r\n"
     ]
    }
   ],
   "source": [
    "modelo.fit(X,y)\n",
    "for coef, var in sorted(zip(map(abs, modelo.coef_), dataset.columns[:-1]), reverse = True):\n",
    "    print (\"%6.3f %s\" % (coef,var))"
   ]
  },
  {
   "cell_type": "code",
   "execution_count": 118,
   "metadata": {},
   "outputs": [],
   "source": [
    "standardization = StandardScaler()\n",
    "Stand_coef_linear_reg = make_pipeline(standardization, modelo)"
   ]
  },
  {
   "cell_type": "code",
   "execution_count": 119,
   "metadata": {},
   "outputs": [
    {
     "name": "stdout",
     "output_type": "stream",
     "text": [
      " 0.255 d\n",
      " 0.237 up\n",
      " 0.145 r\n",
      " 0.140 low\n",
      " 0.135 b\n",
      " 0.046 lamb_initial\n",
      " 0.018 a\n"
     ]
    }
   ],
   "source": [
    "Stand_coef_linear_reg.fit(X,y)\n",
    "for coef, var in sorted(zip(map(abs, Stand_coef_linear_reg.steps[1][1].coef_), dataset.columns[:-1]), reverse = True):\n",
    "    print (\"%6.3f %s\" % (coef,var))"
   ]
  },
  {
   "cell_type": "markdown",
   "metadata": {},
   "source": [
    "### Usando o R Squared\n"
   ]
  },
  {
   "cell_type": "code",
   "execution_count": 120,
   "metadata": {},
   "outputs": [],
   "source": [
    "modelo = linear_model.LinearRegression(normalize = False, fit_intercept = True)"
   ]
  },
  {
   "cell_type": "code",
   "execution_count": 121,
   "metadata": {},
   "outputs": [],
   "source": [
    "def r2_est(X,y):\n",
    "    return r2_score(y, modelo.fit(X,y).predict(X))"
   ]
  },
  {
   "cell_type": "code",
   "execution_count": 122,
   "metadata": {},
   "outputs": [
    {
     "name": "stdout",
     "output_type": "stream",
     "text": [
      "Baseline R2: 0.544\n"
     ]
    }
   ],
   "source": [
    "print ('Baseline R2: %0.3f' %  r2_est(X,y))"
   ]
  },
  {
   "cell_type": "code",
   "execution_count": 123,
   "metadata": {},
   "outputs": [
    {
     "name": "stdout",
     "output_type": "stream",
     "text": [
      " 0.054 d\n",
      " 0.022 low\n",
      " 0.021 up\n",
      " 0.003 b\n",
      " 0.003 r\n",
      " 0.001 a\n",
      " 0.001 lamb_initial\n"
     ]
    }
   ],
   "source": [
    "# Gera o impacto de cada atributo no R2\n",
    "r2_impact = list()\n",
    "for j in range(X.shape[1]):\n",
    "    selection = [i for i in range(X.shape[1]) if i!=j]\n",
    "    r2_impact.append(((r2_est(X,y) - r2_est(X.values[:,selection],y)), dataset.columns[j]))\n",
    "    \n",
    "for imp, varname in sorted(r2_impact, reverse = True):\n",
    "    print ('%6.3f %s' %  (imp, varname))"
   ]
  },
  {
   "cell_type": "code",
   "execution_count": null,
   "metadata": {},
   "outputs": [],
   "source": []
  }
 ],
 "metadata": {
  "kernelspec": {
   "display_name": "Python 3",
   "language": "python",
   "name": "python3"
  },
  "language_info": {
   "codemirror_mode": {
    "name": "ipython",
    "version": 3
   },
   "file_extension": ".py",
   "mimetype": "text/x-python",
   "name": "python",
   "nbconvert_exporter": "python",
   "pygments_lexer": "ipython3",
   "version": "3.7.3"
  }
 },
 "nbformat": 4,
 "nbformat_minor": 4
}
