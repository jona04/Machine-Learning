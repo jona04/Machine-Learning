{
 "cells": [
  {
   "cell_type": "code",
   "execution_count": 3,
   "metadata": {},
   "outputs": [
    {
     "ename": "ModuleNotFoundError",
     "evalue": "No module named 'tensorflow.contrib'",
     "output_type": "error",
     "traceback": [
      "\u001b[0;31m---------------------------------------------------------------------------\u001b[0m",
      "\u001b[0;31mModuleNotFoundError\u001b[0m                       Traceback (most recent call last)",
      "\u001b[0;32m<ipython-input-3-54b4aeab8d96>\u001b[0m in \u001b[0;36m<module>\u001b[0;34m\u001b[0m\n\u001b[1;32m     11\u001b[0m \u001b[0;31m# para gráficos\u001b[0m\u001b[0;34m\u001b[0m\u001b[0;34m\u001b[0m\u001b[0;34m\u001b[0m\u001b[0m\n\u001b[1;32m     12\u001b[0m \u001b[0;34m\u001b[0m\u001b[0m\n\u001b[0;32m---> 13\u001b[0;31m \u001b[0;32mfrom\u001b[0m \u001b[0mtensorflow\u001b[0m\u001b[0;34m.\u001b[0m\u001b[0mcontrib\u001b[0m\u001b[0;34m.\u001b[0m\u001b[0mrnn\u001b[0m \u001b[0;32mimport\u001b[0m \u001b[0mBasicRNNCell\u001b[0m\u001b[0;34m\u001b[0m\u001b[0;34m\u001b[0m\u001b[0m\n\u001b[0m\u001b[1;32m     14\u001b[0m \u001b[0;31m# para RNRs\u001b[0m\u001b[0;34m\u001b[0m\u001b[0;34m\u001b[0m\u001b[0;34m\u001b[0m\u001b[0m\n\u001b[1;32m     15\u001b[0m \u001b[0;34m\u001b[0m\u001b[0m\n",
      "\u001b[0;31mModuleNotFoundError\u001b[0m: No module named 'tensorflow.contrib'"
     ]
    }
   ],
   "source": [
    "import tensorflow as tf \n",
    "# para Deep Learning \n",
    "\n",
    "import pandas as pd \n",
    "# para manipulação de dados \n",
    "\n",
    "import numpy as np \n",
    "# para manipulação de matrizes \n",
    "\n",
    "from matplotlib import pyplot as plt \n",
    "# para gráficos \n",
    "\n",
    "# from tensorflow.contrib.rnn import BasicRNNCell \n",
    "from tensorflow.python.ops.rnn_cell import BasicRNNCell\n",
    "# para RNRs \n",
    "\n",
    "bike_data = pd.read_csv('hour.csv')\n",
    "# lê os dados \n",
    "\n",
    "bike_data.sort_values([\"dteday\", \"hr\"], inplace=True) \n",
    "# ordena temporalmente \n",
    "\n",
    "demanda = bike_data[['cnt']] \n",
    "# pega a coluna de demanda \n",
    "\n",
    "n_steps = 20 \n",
    "# define a quantidade de períodos de tempo \n",
    "\n",
    "# cria n_steps colunas com a demanda defasada. \n",
    "for time_step in range(1, n_steps+1):\n",
    "    demanda['cnt'+str(time_step)] = demanda[['cnt']].shift(-time_step).values\n",
    "\n",
    "demanda.dropna(inplace=True) \n",
    "# deleta linhas com valores nulos"
   ]
  },
  {
   "cell_type": "code",
   "execution_count": null,
   "metadata": {},
   "outputs": [],
   "source": [
    "bike_data"
   ]
  },
  {
   "cell_type": "code",
   "execution_count": null,
   "metadata": {},
   "outputs": [],
   "source": []
  }
 ],
 "metadata": {
  "kernelspec": {
   "display_name": "Python 3",
   "language": "python",
   "name": "python3"
  },
  "language_info": {
   "codemirror_mode": {
    "name": "ipython",
    "version": 3
   },
   "file_extension": ".py",
   "mimetype": "text/x-python",
   "name": "python",
   "nbconvert_exporter": "python",
   "pygments_lexer": "ipython3",
   "version": "3.7.3"
  }
 },
 "nbformat": 4,
 "nbformat_minor": 4
}
