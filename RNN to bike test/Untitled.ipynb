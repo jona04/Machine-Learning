{
 "cells": [
  {
   "cell_type": "code",
   "execution_count": 5,
   "metadata": {},
   "outputs": [],
   "source": [
    "import tensorflow as tf \n",
    "# para Deep Learning \n",
    "\n",
    "import pandas as pd \n",
    "# para manipulação de dados \n",
    "\n",
    "import numpy as np \n",
    "# para manipulação de matrizes \n",
    "\n",
    "from matplotlib import pyplot as plt \n",
    "# para gráficos \n",
    "\n",
    "# from tensorflow.contrib.rnn import BasicRNNCell \n",
    "from tensorflow.python.ops.rnn_cell import BasicRNNCell\n",
    "# para RNRs \n"
   ]
  },
  {
   "cell_type": "code",
   "execution_count": 7,
   "metadata": {},
   "outputs": [],
   "source": [
    "\n",
    "bike_data = pd.read_csv('hour.csv')\n",
    "# lê os dados \n",
    "\n",
    "bike_data.sort_values([\"dteday\", \"hr\"], inplace=True) \n",
    "# ordena temporalmente \n",
    "\n",
    "demanda = bike_data[['cnt']] \n",
    "# pega a coluna de demanda \n"
   ]
  },
  {
   "cell_type": "code",
   "execution_count": 8,
   "metadata": {},
   "outputs": [
    {
     "name": "stderr",
     "output_type": "stream",
     "text": [
      "/Users/jonatasilva/Documents/ProjetosPython/python/venv37/lib/python3.7/site-packages/ipykernel_launcher.py:6: SettingWithCopyWarning: \n",
      "A value is trying to be set on a copy of a slice from a DataFrame.\n",
      "Try using .loc[row_indexer,col_indexer] = value instead\n",
      "\n",
      "See the caveats in the documentation: https://pandas.pydata.org/pandas-docs/stable/user_guide/indexing.html#returning-a-view-versus-a-copy\n",
      "  \n"
     ]
    }
   ],
   "source": [
    "n_steps = 20 \n",
    "# define a quantidade de períodos de tempo \n",
    "\n",
    "# cria n_steps colunas com a demanda defasada. \n",
    "for time_step in range(1, n_steps+1):\n",
    "    demanda['cnt'+str(time_step)] = demanda[['cnt']].shift(-time_step).values\n",
    "\n",
    "demanda.dropna(inplace=True) \n",
    "# deleta linhas com valores nulos"
   ]
  },
  {
   "cell_type": "code",
   "execution_count": 30,
   "metadata": {},
   "outputs": [
    {
     "name": "stdout",
     "output_type": "stream",
     "text": [
      "(17359, 20, 1) (17359, 20, 1)\n"
     ]
    }
   ],
   "source": [
    "X = demanda.iloc[:, :n_steps].values\n",
    "X = np.reshape(X, (X.shape[0], n_steps, 1)) # adiciona dimensão \n",
    "y = demanda.iloc[:, 1:].values\n",
    "y = np.reshape(y, (y.shape[0], n_steps, 1))\n",
    "\n",
    "print(X.shape, y.shape)"
   ]
  },
  {
   "cell_type": "code",
   "execution_count": 31,
   "metadata": {},
   "outputs": [],
   "source": [
    "n_test = 500\n",
    "\n",
    "# obs: indexação negativa no Python é indexação de trás para frente \n",
    "X_train, X_test = X[:-n_test, :, :], X[-n_test:, :, :]\n",
    "y_train, y_test = y[:-n_test, :, :], y[-n_test:, :, :]"
   ]
  },
  {
   "cell_type": "code",
   "execution_count": 35,
   "metadata": {},
   "outputs": [],
   "source": [
    "shuffle_mask = np.arange(0, X_train.shape[0]) \n",
    "# cria array de 0 a n_train \n",
    "\n",
    "np.random.shuffle(shuffle_mask) \n",
    "# embaralha o array acima \n",
    "\n",
    "# embaralha X e y consistentemente \n",
    "X_train = X_train[shuffle_mask]\n",
    "y_train = y_train[shuffle_mask]"
   ]
  },
  {
   "cell_type": "code",
   "execution_count": 37,
   "metadata": {},
   "outputs": [
    {
     "ename": "NameError",
     "evalue": "name 'Wx_h' is not defined",
     "output_type": "error",
     "traceback": [
      "\u001b[0;31m---------------------------------------------------------------------------\u001b[0m",
      "\u001b[0;31mNameError\u001b[0m                                 Traceback (most recent call last)",
      "\u001b[0;32m<ipython-input-37-fb7863a6072b>\u001b[0m in \u001b[0;36m<module>\u001b[0;34m\u001b[0m\n\u001b[1;32m      2\u001b[0m \u001b[0;31m# pega os dados no primeiro período de tempo\u001b[0m\u001b[0;34m\u001b[0m\u001b[0;34m\u001b[0m\u001b[0;34m\u001b[0m\u001b[0m\n\u001b[1;32m      3\u001b[0m \u001b[0;34m\u001b[0m\u001b[0m\n\u001b[0;32m----> 4\u001b[0;31m \u001b[0mHt\u001b[0m \u001b[0;34m=\u001b[0m \u001b[0mtf\u001b[0m\u001b[0;34m.\u001b[0m\u001b[0mnn\u001b[0m\u001b[0;34m.\u001b[0m\u001b[0melu\u001b[0m\u001b[0;34m(\u001b[0m\u001b[0mtf\u001b[0m\u001b[0;34m.\u001b[0m\u001b[0mmatmul\u001b[0m\u001b[0;34m(\u001b[0m\u001b[0mX0\u001b[0m\u001b[0;34m,\u001b[0m \u001b[0mWx_h\u001b[0m\u001b[0;34m)\u001b[0m \u001b[0;34m+\u001b[0m \u001b[0mb\u001b[0m\u001b[0;34m)\u001b[0m\u001b[0;34m\u001b[0m\u001b[0;34m\u001b[0m\u001b[0m\n\u001b[0m\u001b[1;32m      5\u001b[0m \u001b[0;31m# usa X0 para iniciar o estado oculto\u001b[0m\u001b[0;34m\u001b[0m\u001b[0;34m\u001b[0m\u001b[0;34m\u001b[0m\u001b[0m\n\u001b[1;32m      6\u001b[0m \u001b[0;34m\u001b[0m\u001b[0m\n",
      "\u001b[0;31mNameError\u001b[0m: name 'Wx_h' is not defined"
     ]
    }
   ],
   "source": [
    "X0 = X[:, 0, :] \n",
    "# pega os dados no primeiro período de tempo \n",
    "\n",
    "Ht = tf.nn.elu(tf.matmul(X0, Wx_h) + b) \n",
    "# usa X0 para iniciar o estado oculto \n",
    "\n",
    "y = [] \n",
    "# lista para ser preenchida com os outputs a cada período de tempo \n",
    "\n",
    "# itera para cada período de tempo, tirando o primeiro \n",
    "for t in range(1, n_steps):\n",
    "  Xt = X[:, t, :] \n",
    "\n",
    "# pega os dados no próximo período   \n",
    "Ht = tf.nn.elu(tf.matmul(Xt, Wx_h) + tf.matmul(Ht, Wh_h) + b) \n",
    "# atualiza o estado oculto   \n",
    "y.append(tf.matmul(Ht, Wh_y) + b_o)"
   ]
  },
  {
   "cell_type": "code",
   "execution_count": null,
   "metadata": {},
   "outputs": [],
   "source": []
  }
 ],
 "metadata": {
  "kernelspec": {
   "display_name": "Python 3",
   "language": "python",
   "name": "python3"
  },
  "language_info": {
   "codemirror_mode": {
    "name": "ipython",
    "version": 3
   },
   "file_extension": ".py",
   "mimetype": "text/x-python",
   "name": "python",
   "nbconvert_exporter": "python",
   "pygments_lexer": "ipython3",
   "version": "3.7.3"
  }
 },
 "nbformat": 4,
 "nbformat_minor": 4
}
