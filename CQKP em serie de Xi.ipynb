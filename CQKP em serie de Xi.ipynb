{
 "cells": [
  {
   "cell_type": "code",
   "execution_count": 1,
   "metadata": {},
   "outputs": [],
   "source": [
    "import random\n",
    "import pandas  as pd\n",
    "from pandas import DataFrame\n",
    "import matplotlib.pyplot as plt\n",
    "import numpy as np\n",
    "import copy"
   ]
  },
  {
   "cell_type": "code",
   "execution_count": 2,
   "metadata": {},
   "outputs": [],
   "source": [
    "class CqkProblem:\n",
    "    def __init__(self, r, n, d, a, b, low, up):\n",
    "        self.n = n\n",
    "        self.r = r\n",
    "        self.d = list(d)\n",
    "        self.a = list(a)\n",
    "        self.b = list(b)\n",
    "        self.low = list(low)\n",
    "        self.up = list(up)"
   ]
  },
  {
   "cell_type": "code",
   "execution_count": 3,
   "metadata": {},
   "outputs": [],
   "source": [
    "\n",
    "def generate_cqk_problem(n):\n",
    "    d = []\n",
    "    low = []\n",
    "    up = []\n",
    "    b = []\n",
    "    a = []\n",
    "    temp = 0\n",
    "    lb = 0.0\n",
    "    ub = 0.0\n",
    "    lower = 10\n",
    "    upper = 25\n",
    "    r = 0\n",
    "\n",
    "    for i in range(n):\n",
    "        \n",
    "        b.append(10 + 14*random.random())\n",
    "        low.append(1 + 14*random.random())\n",
    "        up.append(1 + 14*random.random())\n",
    "        if low[i] > up[i]:\n",
    "            temp = low[i]\n",
    "            low[i] = up[i]\n",
    "            up[i] = temp\n",
    "        \n",
    "        lb = lb + b[i]*low[i];\n",
    "        ub = ub + b[i]*up[i];\n",
    "        \n",
    "        #Uncorrelated\n",
    "        d.append(random.randint(10,25))\n",
    "        a.append(random.randint(10,25))\n",
    "        \n",
    "    r = lb + (ub - lb)*0.7;\n",
    "    \n",
    "    return CqkProblem( r, n, d, a, b, low, up)\n",
    "    "
   ]
  },
  {
   "cell_type": "code",
   "execution_count": 4,
   "metadata": {},
   "outputs": [],
   "source": [
    "\n",
    "def initial_lambda(p, lamb):\n",
    "    s0=0.0\n",
    "    q0=0.0\n",
    "    slopes = []\n",
    "    for i in range(p.n):\n",
    "        slopes.append((p.b[i]/p.d[i])*p.b[i])\n",
    "        s0 = s0 + (p.a[i] * p.b[i]) / p.d[i]\n",
    "        q0 = q0 + (p.b[i] * p.b[i]) / p.d[i]\n",
    "    lamb = (p.r-s0)/q0\n",
    "    return lamb, slopes"
   ]
  },
  {
   "cell_type": "code",
   "execution_count": 5,
   "metadata": {},
   "outputs": [],
   "source": [
    "def phi_lambda(p,lamb,phi,deriv,slopes,r):\n",
    "    deriv = 0.0\n",
    "    phi = r * -1\n",
    "    x = []\n",
    "    \n",
    "    for i in range(p.n):\n",
    "        \n",
    "        x.append( (p.b[i] * lamb + p.a[i])/p.d[i])\n",
    "\n",
    "        if x[i] < p.low[i]:\n",
    "            x[i] = p.low[i]\n",
    "        elif x[i] > p.up[i]:\n",
    "            x[i] = p.up[i]\n",
    "        else:\n",
    "            deriv = deriv + slopes[i];\n",
    "        phi = phi + p.b[i] * x[i];\n",
    "    return deriv, phi, x"
   ]
  },
  {
   "cell_type": "code",
   "execution_count": 24,
   "metadata": {},
   "outputs": [],
   "source": [
    "MAX_IT = 20\n",
    "INFINITO_NEGATIVO = -999999999;\n",
    "INFINITO_POSITIVO = 999999999;\n",
    "def newton(p):\n",
    "    phi = 0\n",
    "    lamb = 0\n",
    "    alfa = INFINITO_NEGATIVO;\n",
    "    beta = INFINITO_POSITIVO;\n",
    "    phi_alfa = 0.0;\n",
    "    phi_beta = 0.0;\n",
    "    deriv = 0\n",
    "    x = []\n",
    "    r = p.r\n",
    "    \n",
    "    lamb, slopes = initial_lambda(p,lamb)\n",
    "\n",
    "    deriv, phi, x = phi_lambda(p,lamb,phi,deriv,slopes,r)\n",
    "    it = 1\n",
    "    while phi != 0.0 and it <= MAX_IT:\n",
    "        if phi > 0:\n",
    "            beta = lamb\n",
    "            lambda_n = 0.0\n",
    "            if deriv > 0.0:\n",
    "                \n",
    "                lambda_n = lamb - (phi/deriv)\n",
    "                if abs(lambda_n - lamb) <= 0.00000000001:\n",
    "                    phi = 0.0\n",
    "                    break\n",
    "                if lambda_n > alfa:\n",
    "                    lamb = lambda_n\n",
    "                else:\n",
    "                    print(\"aqui\")\n",
    "                    phi_beta = phi;\n",
    "#                     lamb = secant(p,x,alfa,beta,phi_alfa,phi_beta,r);\n",
    "#             if deriv == 0.0:\n",
    "#                 lamb = breakpoint_to_the_left(p,lamb);\n",
    "#                 if lamb <= INFINITO_NEGATIVO or lamb >= INFINITO_POSITIVO:\n",
    "#                     break\n",
    "                \n",
    "        else:\n",
    "            alfa = lamb;\n",
    "            lambda_n = 0.0;\n",
    "\n",
    "            if deriv > 0.0:\n",
    "                lambda_n = lamb - (phi/deriv)\n",
    "                if abs(lambda_n - lamb) <= 0.00000000001:\n",
    "                    phi = 0.0\n",
    "                    break\n",
    "                \n",
    "                if lambda_n < beta:\n",
    "                    lamb = lambda_n\n",
    "                else:\n",
    "                    print(\"aqui\")\n",
    "                    phi_alfa = phi;\n",
    "#                     lamb = secant(p,x,alfa,beta,phi_alfa,phi_beta,r);\n",
    "            if deriv == 0.0:\n",
    "                print(\"aqui 2\")\n",
    "#                 lamb = breakpoint_to_the_right(p,lamb)\n",
    "#                 if lamb <= INFINITO_NEGATIVO or lamb >= INFINITO_POSITIVO:\n",
    "#                     break\n",
    "        \n",
    "        \n",
    "        deriv, phi, x = phi_lambda(p,lamb,phi,deriv,slopes,r)\n",
    "\n",
    "        it = it + 1\n",
    "        \n",
    "    if phi == 0.0:\n",
    "        return it, x, slopes\n",
    "    elif alfa == beta:\n",
    "        return -1\n",
    "    else:\n",
    "        return -2\n",
    "    "
   ]
  },
  {
   "cell_type": "code",
   "execution_count": 43,
   "metadata": {},
   "outputs": [],
   "source": [
    "n = 10\n",
    "list_x = []\n",
    "for i in range(10):\n",
    "    p = generate_cqk_problem(n)\n",
    "    it, x, slopes = newton(p)\n",
    "    list_div = []\n",
    "    for i in range(10):\n",
    "        list_div.append((p.b[i] + p.a[i])/p.d[i])\n",
    "    list_x.append(x)"
   ]
  },
  {
   "cell_type": "code",
   "execution_count": 44,
   "metadata": {},
   "outputs": [],
   "source": [
    "\n",
    "t = np.arange(0, 10, 1).tolist()\n",
    "df = pd.DataFrame (list_x, columns = ['1','2','3','4','5','6','7','8','9','10'])"
   ]
  },
  {
   "cell_type": "code",
   "execution_count": 45,
   "metadata": {},
   "outputs": [
    {
     "data": {
      "text/html": [
       "<div>\n",
       "<style scoped>\n",
       "    .dataframe tbody tr th:only-of-type {\n",
       "        vertical-align: middle;\n",
       "    }\n",
       "\n",
       "    .dataframe tbody tr th {\n",
       "        vertical-align: top;\n",
       "    }\n",
       "\n",
       "    .dataframe thead th {\n",
       "        text-align: right;\n",
       "    }\n",
       "</style>\n",
       "<table border=\"1\" class=\"dataframe\">\n",
       "  <thead>\n",
       "    <tr style=\"text-align: right;\">\n",
       "      <th></th>\n",
       "      <th>1</th>\n",
       "      <th>2</th>\n",
       "      <th>3</th>\n",
       "      <th>4</th>\n",
       "      <th>5</th>\n",
       "      <th>6</th>\n",
       "      <th>7</th>\n",
       "      <th>8</th>\n",
       "      <th>9</th>\n",
       "      <th>10</th>\n",
       "    </tr>\n",
       "  </thead>\n",
       "  <tbody>\n",
       "    <tr>\n",
       "      <th>0</th>\n",
       "      <td>12.890980</td>\n",
       "      <td>7.114443</td>\n",
       "      <td>9.370237</td>\n",
       "      <td>11.514081</td>\n",
       "      <td>5.767566</td>\n",
       "      <td>12.607818</td>\n",
       "      <td>10.113268</td>\n",
       "      <td>12.073550</td>\n",
       "      <td>11.034311</td>\n",
       "      <td>4.469944</td>\n",
       "    </tr>\n",
       "    <tr>\n",
       "      <th>1</th>\n",
       "      <td>11.850911</td>\n",
       "      <td>11.742469</td>\n",
       "      <td>10.686104</td>\n",
       "      <td>9.410988</td>\n",
       "      <td>8.531308</td>\n",
       "      <td>12.921831</td>\n",
       "      <td>14.781894</td>\n",
       "      <td>9.565554</td>\n",
       "      <td>11.453980</td>\n",
       "      <td>7.741900</td>\n",
       "    </tr>\n",
       "    <tr>\n",
       "      <th>2</th>\n",
       "      <td>7.516321</td>\n",
       "      <td>7.618603</td>\n",
       "      <td>12.478473</td>\n",
       "      <td>4.627089</td>\n",
       "      <td>7.003356</td>\n",
       "      <td>4.576984</td>\n",
       "      <td>8.701290</td>\n",
       "      <td>8.003410</td>\n",
       "      <td>6.328525</td>\n",
       "      <td>4.514882</td>\n",
       "    </tr>\n",
       "    <tr>\n",
       "      <th>3</th>\n",
       "      <td>10.209544</td>\n",
       "      <td>6.623857</td>\n",
       "      <td>10.177178</td>\n",
       "      <td>10.769197</td>\n",
       "      <td>3.458061</td>\n",
       "      <td>8.771906</td>\n",
       "      <td>8.811150</td>\n",
       "      <td>3.600926</td>\n",
       "      <td>8.791767</td>\n",
       "      <td>8.147917</td>\n",
       "    </tr>\n",
       "    <tr>\n",
       "      <th>4</th>\n",
       "      <td>9.901803</td>\n",
       "      <td>8.162419</td>\n",
       "      <td>12.115839</td>\n",
       "      <td>6.766013</td>\n",
       "      <td>11.537510</td>\n",
       "      <td>2.297562</td>\n",
       "      <td>8.257096</td>\n",
       "      <td>6.711077</td>\n",
       "      <td>10.996101</td>\n",
       "      <td>4.726068</td>\n",
       "    </tr>\n",
       "    <tr>\n",
       "      <th>5</th>\n",
       "      <td>8.321049</td>\n",
       "      <td>3.867865</td>\n",
       "      <td>7.203124</td>\n",
       "      <td>4.038858</td>\n",
       "      <td>6.433403</td>\n",
       "      <td>7.313227</td>\n",
       "      <td>8.818904</td>\n",
       "      <td>11.023167</td>\n",
       "      <td>8.998670</td>\n",
       "      <td>6.139145</td>\n",
       "    </tr>\n",
       "    <tr>\n",
       "      <th>6</th>\n",
       "      <td>13.144489</td>\n",
       "      <td>5.082844</td>\n",
       "      <td>6.825877</td>\n",
       "      <td>7.391026</td>\n",
       "      <td>9.162638</td>\n",
       "      <td>11.774662</td>\n",
       "      <td>9.063209</td>\n",
       "      <td>3.351691</td>\n",
       "      <td>5.994910</td>\n",
       "      <td>8.754901</td>\n",
       "    </tr>\n",
       "    <tr>\n",
       "      <th>7</th>\n",
       "      <td>9.913673</td>\n",
       "      <td>9.662145</td>\n",
       "      <td>6.942649</td>\n",
       "      <td>8.249161</td>\n",
       "      <td>11.403610</td>\n",
       "      <td>11.729249</td>\n",
       "      <td>12.143996</td>\n",
       "      <td>13.065741</td>\n",
       "      <td>9.272385</td>\n",
       "      <td>9.953474</td>\n",
       "    </tr>\n",
       "    <tr>\n",
       "      <th>8</th>\n",
       "      <td>10.410968</td>\n",
       "      <td>11.165145</td>\n",
       "      <td>8.121475</td>\n",
       "      <td>13.184218</td>\n",
       "      <td>7.928643</td>\n",
       "      <td>9.078508</td>\n",
       "      <td>10.659370</td>\n",
       "      <td>6.915206</td>\n",
       "      <td>13.821915</td>\n",
       "      <td>10.132866</td>\n",
       "    </tr>\n",
       "    <tr>\n",
       "      <th>9</th>\n",
       "      <td>12.473636</td>\n",
       "      <td>9.020900</td>\n",
       "      <td>7.427868</td>\n",
       "      <td>6.060490</td>\n",
       "      <td>4.616109</td>\n",
       "      <td>10.428627</td>\n",
       "      <td>7.301765</td>\n",
       "      <td>10.051771</td>\n",
       "      <td>5.391328</td>\n",
       "      <td>7.823240</td>\n",
       "    </tr>\n",
       "  </tbody>\n",
       "</table>\n",
       "</div>"
      ],
      "text/plain": [
       "           1          2          3          4          5          6  \\\n",
       "0  12.890980   7.114443   9.370237  11.514081   5.767566  12.607818   \n",
       "1  11.850911  11.742469  10.686104   9.410988   8.531308  12.921831   \n",
       "2   7.516321   7.618603  12.478473   4.627089   7.003356   4.576984   \n",
       "3  10.209544   6.623857  10.177178  10.769197   3.458061   8.771906   \n",
       "4   9.901803   8.162419  12.115839   6.766013  11.537510   2.297562   \n",
       "5   8.321049   3.867865   7.203124   4.038858   6.433403   7.313227   \n",
       "6  13.144489   5.082844   6.825877   7.391026   9.162638  11.774662   \n",
       "7   9.913673   9.662145   6.942649   8.249161  11.403610  11.729249   \n",
       "8  10.410968  11.165145   8.121475  13.184218   7.928643   9.078508   \n",
       "9  12.473636   9.020900   7.427868   6.060490   4.616109  10.428627   \n",
       "\n",
       "           7          8          9         10  \n",
       "0  10.113268  12.073550  11.034311   4.469944  \n",
       "1  14.781894   9.565554  11.453980   7.741900  \n",
       "2   8.701290   8.003410   6.328525   4.514882  \n",
       "3   8.811150   3.600926   8.791767   8.147917  \n",
       "4   8.257096   6.711077  10.996101   4.726068  \n",
       "5   8.818904  11.023167   8.998670   6.139145  \n",
       "6   9.063209   3.351691   5.994910   8.754901  \n",
       "7  12.143996  13.065741   9.272385   9.953474  \n",
       "8  10.659370   6.915206  13.821915  10.132866  \n",
       "9   7.301765  10.051771   5.391328   7.823240  "
      ]
     },
     "execution_count": 45,
     "metadata": {},
     "output_type": "execute_result"
    }
   ],
   "source": [
    "df"
   ]
  },
  {
   "cell_type": "code",
   "execution_count": 46,
   "metadata": {},
   "outputs": [
    {
     "data": {
      "image/png": "[encoded data removed]",
      "text/plain": [
       "<Figure size 720x432 with 1 Axes>"
      ]
     },
     "metadata": {
      "needs_background": "light"
     },
     "output_type": "display_data"
    }
   ],
   "source": [
    "t = DataFrame(data,columns=['t'])\n",
    "x = DataFrame(list_x[1],columns=['x'])\n",
    "\n",
    "plt.figure(figsize=(10,6))\n",
    "plt.scatter(t,x)\n",
    "plt.xlabel('x')\n",
    "plt.ylabel('t(x)')\n",
    "plt.show()"
   ]
  },
  {
   "cell_type": "code",
   "execution_count": 47,
   "metadata": {},
   "outputs": [
    {
     "data": {
      "image/png": "[encoded data removed]",
      "text/plain": [
       "<Figure size 720x432 with 1 Axes>"
      ]
     },
     "metadata": {
      "needs_background": "light"
     },
     "output_type": "display_data"
    }
   ],
   "source": [
    "t = DataFrame(data,columns=['t'])\n",
    "x = DataFrame(list_x[0],columns=['x'])\n",
    "\n",
    "plt.figure(figsize=(10,6))\n",
    "plt.scatter(t,x)\n",
    "plt.xlabel('x')\n",
    "plt.ylabel('t(x)')\n",
    "plt.show()"
   ]
  },
  {
   "cell_type": "code",
   "execution_count": 48,
   "metadata": {},
   "outputs": [
    {
     "data": {
      "image/png": "[encoded data removed]",
      "text/plain": [
       "<Figure size 720x432 with 1 Axes>"
      ]
     },
     "metadata": {
      "needs_background": "light"
     },
     "output_type": "display_data"
    }
   ],
   "source": [
    "t = DataFrame(data,columns=['t'])\n",
    "x = DataFrame(list_x[2],columns=['x'])\n",
    "\n",
    "plt.figure(figsize=(10,6))\n",
    "plt.scatter(t,x)\n",
    "plt.xlabel('x')\n",
    "plt.ylabel('t(x)')\n",
    "plt.show()"
   ]
  },
  {
   "cell_type": "code",
   "execution_count": 51,
   "metadata": {},
   "outputs": [
    {
     "data": {
      "image/png": "[encoded data removed]",
      "text/plain": [
       "<Figure size 720x432 with 1 Axes>"
      ]
     },
     "metadata": {
      "needs_background": "light"
     },
     "output_type": "display_data"
    }
   ],
   "source": [
    "t = DataFrame(data,columns=['t'])\n",
    "x = DataFrame(list_x[8],columns=['x'])\n",
    "\n",
    "plt.figure(figsize=(10,6))\n",
    "plt.scatter(t,x)\n",
    "plt.xlabel('x')\n",
    "plt.ylabel('t(x)')\n",
    "plt.show()"
   ]
  },
  {
   "cell_type": "code",
   "execution_count": null,
   "metadata": {},
   "outputs": [],
   "source": []
  }
 ],
 "metadata": {
  "kernelspec": {
   "display_name": "Python 3",
   "language": "python",
   "name": "python3"
  },
  "language_info": {
   "codemirror_mode": {
    "name": "ipython",
    "version": 3
   },
   "file_extension": ".py",
   "mimetype": "text/x-python",
   "name": "python",
   "nbconvert_exporter": "python",
   "pygments_lexer": "ipython3",
   "version": "3.7.3"
  }
 },
 "nbformat": 4,
 "nbformat_minor": 4
}
