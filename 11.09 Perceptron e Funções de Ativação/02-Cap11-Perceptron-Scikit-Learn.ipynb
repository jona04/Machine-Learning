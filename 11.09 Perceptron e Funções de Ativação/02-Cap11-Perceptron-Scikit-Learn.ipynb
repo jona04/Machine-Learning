{
 "cells": [
  {
   "cell_type": "markdown",
   "metadata": {},
   "source": [
    "# <font color='blue'>Data Science Academy - Machine Learning</font>\n",
    "\n",
    "# <font color='blue'>Capítulo 10 - Redes Neurais</font>"
   ]
  },
  {
   "cell_type": "markdown",
   "metadata": {},
   "source": [
    "****** Este Jupyter Notebook foi atualizado para a versão 3.6.1. da Linguagem Python em 05/07/2017 ******"
   ]
  },
  {
   "cell_type": "markdown",
   "metadata": {},
   "source": [
    "## Perceptron com Scikit-Learn"
   ]
  },
  {
   "cell_type": "markdown",
   "metadata": {},
   "source": [
    "http://scikit-learn.org/stable/modules/generated/sklearn.linear_model.Perceptron.html"
   ]
  },
  {
   "cell_type": "code",
   "execution_count": 1,
   "metadata": {
    "collapsed": true
   },
   "outputs": [],
   "source": [
    "import numpy as np\n",
    "import pandas as pd\n",
    "import matplotlib.pyplot as plt\n",
    "from mlxtend.plotting import plot_decision_regions\n",
    "from sklearn.linear_model import Perceptron\n",
    "import warnings\n",
    "warnings.filterwarnings('ignore')\n",
    "%matplotlib inline"
   ]
  },
  {
   "cell_type": "code",
   "execution_count": 2,
   "metadata": {
    "collapsed": true
   },
   "outputs": [],
   "source": [
    "# Dataset\n",
    "df = pd.read_csv('https://archive.ics.uci.edu/ml/machine-learning-databases/iris/iris.data', header = None)"
   ]
  },
  {
   "cell_type": "code",
   "execution_count": 3,
   "metadata": {
    "collapsed": true
   },
   "outputs": [],
   "source": [
    "# Obtendo dados de duas classes: Setosa e versicolor\n",
    "y = df.iloc[0:100, 4].values\n",
    "y = np.where(y == 'Iris-setosa', -1, 1)\n",
    "X = df.iloc[0:100, [0,2]].values"
   ]
  },
  {
   "cell_type": "code",
   "execution_count": 4,
   "metadata": {
    "collapsed": true
   },
   "outputs": [],
   "source": [
    "# Criando o modelo\n",
    "clf_perceptron = Perceptron(n_iter = 100, eta0 = 0.1)"
   ]
  },
  {
   "cell_type": "code",
   "execution_count": 5,
   "metadata": {},
   "outputs": [
    {
     "data": {
      "text/plain": [
       "array([[ 1.4],\n",
       "       [ 1.4],\n",
       "       [ 1.3],\n",
       "       [ 1.5],\n",
       "       [ 1.4],\n",
       "       [ 1.7],\n",
       "       [ 1.4],\n",
       "       [ 1.5],\n",
       "       [ 1.4],\n",
       "       [ 1.5],\n",
       "       [ 1.5],\n",
       "       [ 1.6],\n",
       "       [ 1.4],\n",
       "       [ 1.1],\n",
       "       [ 1.2],\n",
       "       [ 1.5],\n",
       "       [ 1.3],\n",
       "       [ 1.4],\n",
       "       [ 1.7],\n",
       "       [ 1.5],\n",
       "       [ 1.7],\n",
       "       [ 1.5],\n",
       "       [ 1. ],\n",
       "       [ 1.7],\n",
       "       [ 1.9],\n",
       "       [ 1.6],\n",
       "       [ 1.6],\n",
       "       [ 1.5],\n",
       "       [ 1.4],\n",
       "       [ 1.6],\n",
       "       [ 1.6],\n",
       "       [ 1.5],\n",
       "       [ 1.5],\n",
       "       [ 1.4],\n",
       "       [ 1.5],\n",
       "       [ 1.2],\n",
       "       [ 1.3],\n",
       "       [ 1.5],\n",
       "       [ 1.3],\n",
       "       [ 1.5],\n",
       "       [ 1.3],\n",
       "       [ 1.3],\n",
       "       [ 1.3],\n",
       "       [ 1.6],\n",
       "       [ 1.9],\n",
       "       [ 1.4],\n",
       "       [ 1.6],\n",
       "       [ 1.4],\n",
       "       [ 1.5],\n",
       "       [ 1.4],\n",
       "       [ 4.7],\n",
       "       [ 4.5],\n",
       "       [ 4.9],\n",
       "       [ 4. ],\n",
       "       [ 4.6],\n",
       "       [ 4.5],\n",
       "       [ 4.7],\n",
       "       [ 3.3],\n",
       "       [ 4.6],\n",
       "       [ 3.9],\n",
       "       [ 3.5],\n",
       "       [ 4.2],\n",
       "       [ 4. ],\n",
       "       [ 4.7],\n",
       "       [ 3.6],\n",
       "       [ 4.4],\n",
       "       [ 4.5],\n",
       "       [ 4.1],\n",
       "       [ 4.5],\n",
       "       [ 3.9],\n",
       "       [ 4.8],\n",
       "       [ 4. ],\n",
       "       [ 4.9],\n",
       "       [ 4.7],\n",
       "       [ 4.3],\n",
       "       [ 4.4],\n",
       "       [ 4.8],\n",
       "       [ 5. ],\n",
       "       [ 4.5],\n",
       "       [ 3.5],\n",
       "       [ 3.8],\n",
       "       [ 3.7],\n",
       "       [ 3.9],\n",
       "       [ 5.1],\n",
       "       [ 4.5],\n",
       "       [ 4.5],\n",
       "       [ 4.7],\n",
       "       [ 4.4],\n",
       "       [ 4.1],\n",
       "       [ 4. ],\n",
       "       [ 4.4],\n",
       "       [ 4.6],\n",
       "       [ 4. ],\n",
       "       [ 3.3],\n",
       "       [ 4.2],\n",
       "       [ 4.2],\n",
       "       [ 4.2],\n",
       "       [ 4.3],\n",
       "       [ 3. ],\n",
       "       [ 4.1]])"
      ]
     },
     "execution_count": 5,
     "metadata": {},
     "output_type": "execute_result"
    }
   ],
   "source": [
    "clf_perceptron.fit_transform(X, y)"
   ]
  },
  {
   "cell_type": "code",
   "execution_count": 6,
   "metadata": {},
   "outputs": [
    {
     "data": {
      "image/png": "[encoded data removed]",
      "text/plain": [
       "<matplotlib.figure.Figure at 0x1155f1668>"
      ]
     },
     "metadata": {},
     "output_type": "display_data"
    }
   ],
   "source": [
    "# Plot\n",
    "plot_decision_regions(X, y, clf = clf_perceptron)\n",
    "plt.title('Perceptron')\n",
    "plt.xlabel('sepal length [cm]')\n",
    "plt.ylabel('petal length [cm]')\n",
    "plt.show()"
   ]
  },
  {
   "cell_type": "markdown",
   "metadata": {},
   "source": [
    "### Fim"
   ]
  },
  {
   "cell_type": "markdown",
   "metadata": {},
   "source": [
    "### Obrigado - Data Science Academy - <a href=http://facebook.com/dsacademy>facebook.com/dsacademybr</a>"
   ]
  }
 ],
 "metadata": {
  "anaconda-cloud": {},
  "kernelspec": {
   "display_name": "Python 3",
   "language": "python",
   "name": "python3"
  },
  "language_info": {
   "codemirror_mode": {
    "name": "ipython",
    "version": 3
   },
   "file_extension": ".py",
   "mimetype": "text/x-python",
   "name": "python",
   "nbconvert_exporter": "python",
   "pygments_lexer": "ipython3",
   "version": "3.6.1"
  }
 },
 "nbformat": 4,
 "nbformat_minor": 1
}
