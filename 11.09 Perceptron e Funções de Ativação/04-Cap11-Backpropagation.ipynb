{
 "cells": [
  {
   "cell_type": "markdown",
   "metadata": {},
   "source": [
    "# <font color='blue'>Data Science Academy - Machine Learning</font>\n",
    "\n",
    "# <font color='blue'>Capítulo 10 - Redes Neurais</font>"
   ]
  },
  {
   "cell_type": "markdown",
   "metadata": {},
   "source": [
    "****** Este Jupyter Notebook foi atualizado para a versão 3.6.1. da Linguagem Python em 05/07/2017 ******"
   ]
  },
  {
   "cell_type": "markdown",
   "metadata": {},
   "source": [
    "## Backpropagation "
   ]
  },
  {
   "cell_type": "code",
   "execution_count": 1,
   "metadata": {
    "collapsed": true
   },
   "outputs": [],
   "source": [
    "import numpy as np\n",
    "import math"
   ]
  },
  {
   "cell_type": "code",
   "execution_count": 2,
   "metadata": {
    "collapsed": true
   },
   "outputs": [],
   "source": [
    "# Função de ativação Sigmoid\n",
    "def sigmoid(x):     \n",
    "    return 1 /(1+(math.e**-x))\n",
    "\n",
    "# Função derivada da função Sigmoid (para cálculo do gradiente)\n",
    "def deriv_sigmoid(y):\n",
    "    return y * (1.0 - y)   "
   ]
  },
  {
   "cell_type": "code",
   "execution_count": 3,
   "metadata": {
    "collapsed": true
   },
   "outputs": [],
   "source": [
    "# Learning rate\n",
    "alpha = .1   "
   ]
  },
  {
   "cell_type": "code",
   "execution_count": 4,
   "metadata": {
    "collapsed": true
   },
   "outputs": [],
   "source": [
    "# Gerando dados aleatórios para x e y\n",
    "# X será o dataset com 3 features (3 atributos)\n",
    "X = np.array([  [.35,.21,.33],\n",
    "                [.2,.4,.3],\n",
    "                [.4,.34,.5],\n",
    "                [.18,.21,16] ])                \n",
    "\n",
    "y = np.array([[0],\n",
    "        [1],\n",
    "        [1],\n",
    "        [0]])"
   ]
  },
  {
   "cell_type": "code",
   "execution_count": 5,
   "metadata": {
    "collapsed": true
   },
   "outputs": [],
   "source": [
    "# Inicializando randomicamente os vetores de pesos (serão criadas 2 camadas ocultas)\n",
    "np.random.seed(1)\n",
    "theta0 = 2*np.random.random((3,4)) - 1\n",
    "theta1 = 2*np.random.random((4,1)) - 1"
   ]
  },
  {
   "cell_type": "markdown",
   "metadata": {},
   "source": [
    "### Passos Realizados pelo Backpropagation"
   ]
  },
  {
   "cell_type": "markdown",
   "metadata": {},
   "source": [
    "1- Feedforward pass: Inicializamos aleatoriamente os vetores de peso e multiplicamos a entrada com os vetores de peso subsequentes em direção a uma saída final."
   ]
  },
  {
   "cell_type": "markdown",
   "metadata": {},
   "source": [
    "2- Cálculo do erro: Calculamos o erro / perda da saída do passo de feedforward."
   ]
  },
  {
   "cell_type": "markdown",
   "metadata": {},
   "source": [
    "3- Backpropagation para a última camada oculta (em relação à saída): Calculamos o gradiente desse erro e alteramos os pesos para a direção do gradiente. Fazemos isso multiplicando o vetor de pesos pelos gradientes calculados."
   ]
  },
  {
   "cell_type": "markdown",
   "metadata": {},
   "source": [
    "4- Atualiza os pesos até o critério de parada ser atingido (erro mínimo ou número de rodadas de treinamento)."
   ]
  },
  {
   "cell_type": "code",
   "execution_count": 6,
   "metadata": {},
   "outputs": [
    {
     "name": "stdout",
     "output_type": "stream",
     "text": [
      "Acurácia da Rede Neural: 0.446475342875\n",
      "Acurácia da Rede Neural: 0.625318046022\n",
      "Acurácia da Rede Neural: 0.639273569828\n",
      "Acurácia da Rede Neural: 0.646973337655\n",
      "Acurácia da Rede Neural: 0.65355100446\n",
      "Acurácia da Rede Neural: 0.660011060327\n",
      "Acurácia da Rede Neural: 0.666798132376\n",
      "Acurácia da Rede Neural: 0.674498860374\n",
      "Acurácia da Rede Neural: 0.684028475313\n",
      "Acurácia da Rede Neural: 0.696299738928\n",
      "Acurácia da Rede Neural: 0.711746799387\n",
      "Acurácia da Rede Neural: 0.730046564033\n",
      "Acurácia da Rede Neural: 0.750090593059\n",
      "Acurácia da Rede Neural: 0.770419774119\n",
      "Acurácia da Rede Neural: 0.789971860781\n",
      "Acurácia da Rede Neural: 0.808263092189\n",
      "Acurácia da Rede Neural: 0.824566058728\n",
      "Acurácia da Rede Neural: 0.838737531167\n",
      "Acurácia da Rede Neural: 0.851026112067\n",
      "Acurácia da Rede Neural: 0.861691314965\n",
      "Acurácia da Rede Neural: 0.870967069843\n",
      "Acurácia da Rede Neural: 0.87906528131\n",
      "Acurácia da Rede Neural: 0.886172293348\n",
      "Acurácia da Rede Neural: 0.892445776114\n",
      "Acurácia da Rede Neural: 0.898016226232\n",
      "Acurácia da Rede Neural: 0.902990776676\n",
      "Acurácia da Rede Neural: 0.907457318163\n",
      "Acurácia da Rede Neural: 0.9114881652\n",
      "Acurácia da Rede Neural: 0.915143094558\n",
      "Acurácia da Rede Neural: 0.918471791299\n",
      "Acurácia da Rede Neural: 0.921515794356\n",
      "Acurácia da Rede Neural: 0.924310038077\n",
      "Acurácia da Rede Neural: 0.926884074152\n",
      "Acurácia da Rede Neural: 0.929263042912\n",
      "Acurácia da Rede Neural: 0.931468448618\n",
      "Acurácia da Rede Neural: 0.933518781357\n",
      "Acurácia da Rede Neural: 0.935430018544\n",
      "Acurácia da Rede Neural: 0.93721603157\n",
      "Acurácia da Rede Neural: 0.938888917354\n",
      "Acurácia da Rede Neural: 0.940459270157\n",
      "Acurácia da Rede Neural: 0.941936405605\n",
      "Acurácia da Rede Neural: 0.943328546288\n",
      "Acurácia da Rede Neural: 0.9446429763\n",
      "Acurácia da Rede Neural: 0.94588617054\n",
      "Acurácia da Rede Neural: 0.947063903396\n",
      "Acurácia da Rede Neural: 0.948181340512\n",
      "Acurácia da Rede Neural: 0.949243116608\n",
      "Acurácia da Rede Neural: 0.950253401729\n",
      "Acurácia da Rede Neural: 0.951215957882\n",
      "Acurácia da Rede Neural: 0.952134187629\n",
      "Acurácia da Rede Neural: 0.953011175929\n",
      "Acurácia da Rede Neural: 0.953849726295\n",
      "Acurácia da Rede Neural: 0.954652392145\n",
      "Acurácia da Rede Neural: 0.95542150406\n",
      "Acurácia da Rede Neural: 0.956159193575\n",
      "Acurácia da Rede Neural: 0.956867413985\n",
      "Acurácia da Rede Neural: 0.957547958608\n",
      "Acurácia da Rede Neural: 0.958202476846\n",
      "Acurácia da Rede Neural: 0.958832488361\n",
      "Acurácia da Rede Neural: 0.959439395601\n",
      "Acurácia da Rede Neural: 0.960024494914\n",
      "Acurácia da Rede Neural: 0.960588986414\n",
      "Acurácia da Rede Neural: 0.961133982771\n",
      "Acurácia da Rede Neural: 0.961660517057\n",
      "Acurácia da Rede Neural: 0.962169549758\n",
      "Acurácia da Rede Neural: 0.962661975062\n",
      "Acurácia da Rede Neural: 0.963138626503\n",
      "Acurácia da Rede Neural: 0.963600282036\n",
      "Acurácia da Rede Neural: 0.964047668613\n",
      "Acurácia da Rede Neural: 0.964481466313\n",
      "Acurácia da Rede Neural: 0.964902312079\n",
      "Acurácia da Rede Neural: 0.965310803098\n",
      "Acurácia da Rede Neural: 0.965707499872\n",
      "Acurácia da Rede Neural: 0.966092929005\n",
      "Acurácia da Rede Neural: 0.966467585744\n",
      "Acurácia da Rede Neural: 0.96683193629\n",
      "Acurácia da Rede Neural: 0.96718641991\n",
      "Acurácia da Rede Neural: 0.967531450862\n",
      "Acurácia da Rede Neural: 0.967867420166\n",
      "Acurácia da Rede Neural: 0.968194697219\n",
      "Acurácia da Rede Neural: 0.968513631276\n",
      "Acurácia da Rede Neural: 0.96882455282\n",
      "Acurácia da Rede Neural: 0.969127774808\n",
      "Acurácia da Rede Neural: 0.969423593829\n",
      "Acurácia da Rede Neural: 0.969712291169\n",
      "Acurácia da Rede Neural: 0.96999413379\n",
      "Acurácia da Rede Neural: 0.970269375238\n",
      "Acurácia da Rede Neural: 0.970538256484\n",
      "Acurácia da Rede Neural: 0.970801006696\n",
      "Acurácia da Rede Neural: 0.97105784396\n",
      "Acurácia da Rede Neural: 0.97130897595\n",
      "Acurácia da Rede Neural: 0.971554600541\n",
      "Acurácia da Rede Neural: 0.971794906393\n",
      "Acurácia da Rede Neural: 0.972030073479\n",
      "Acurácia da Rede Neural: 0.972260273585\n",
      "Acurácia da Rede Neural: 0.972485670778\n",
      "Acurácia da Rede Neural: 0.972706421835\n",
      "Acurácia da Rede Neural: 0.972922676646\n",
      "Acurácia da Rede Neural: 0.973134578595\n",
      "Acurácia da Rede Neural: 0.97334226491\n",
      "Acurácia da Rede Neural: 0.973545866994\n",
      "Acurácia da Rede Neural: 0.973745510734\n",
      "Acurácia da Rede Neural: 0.973941316788\n",
      "Acurácia da Rede Neural: 0.974133400859\n",
      "Acurácia da Rede Neural: 0.974321873946\n",
      "Acurácia da Rede Neural: 0.974506842588\n",
      "Acurácia da Rede Neural: 0.974688409082\n",
      "Acurácia da Rede Neural: 0.974866671698\n",
      "Acurácia da Rede Neural: 0.975041724877\n",
      "Acurácia da Rede Neural: 0.975213659417\n",
      "Acurácia da Rede Neural: 0.975382562647\n",
      "Acurácia da Rede Neural: 0.975548518596\n",
      "Acurácia da Rede Neural: 0.975711608147\n",
      "Acurácia da Rede Neural: 0.975871909184\n",
      "Acurácia da Rede Neural: 0.976029496733\n",
      "Acurácia da Rede Neural: 0.976184443092\n",
      "Acurácia da Rede Neural: 0.976336817956\n",
      "Acurácia da Rede Neural: 0.976486688534\n",
      "Acurácia da Rede Neural: 0.976634119659\n",
      "Acurácia da Rede Neural: 0.976779173894\n",
      "Acurácia da Rede Neural: 0.976921911635\n",
      "Acurácia da Rede Neural: 0.977062391198\n",
      "Acurácia da Rede Neural: 0.977200668914\n",
      "Acurácia da Rede Neural: 0.977336799213\n",
      "Acurácia da Rede Neural: 0.977470834704\n",
      "Acurácia da Rede Neural: 0.977602826249\n",
      "Acurácia da Rede Neural: 0.977732823042\n",
      "Acurácia da Rede Neural: 0.977860872668\n",
      "Acurácia da Rede Neural: 0.97798702118\n",
      "Acurácia da Rede Neural: 0.978111313153\n",
      "Acurácia da Rede Neural: 0.978233791744\n",
      "Acurácia da Rede Neural: 0.978354498755\n",
      "Acurácia da Rede Neural: 0.978473474679\n",
      "Acurácia da Rede Neural: 0.978590758754\n",
      "Acurácia da Rede Neural: 0.978706389015\n",
      "Acurácia da Rede Neural: 0.978820402334\n",
      "Acurácia da Rede Neural: 0.978932834472\n",
      "Acurácia da Rede Neural: 0.979043720115\n",
      "Acurácia da Rede Neural: 0.979153092916\n",
      "Acurácia da Rede Neural: 0.979260985537\n",
      "Acurácia da Rede Neural: 0.979367429682\n",
      "Acurácia da Rede Neural: 0.979472456134\n",
      "Acurácia da Rede Neural: 0.979576094786\n",
      "Acurácia da Rede Neural: 0.979678374679\n",
      "Acurácia da Rede Neural: 0.979779324025\n",
      "Acurácia da Rede Neural: 0.979878970244\n",
      "Acurácia da Rede Neural: 0.979977339987\n",
      "Acurácia da Rede Neural: 0.980074459165\n",
      "Acurácia da Rede Neural: 0.980170352976\n",
      "Acurácia da Rede Neural: 0.980265045925\n",
      "Acurácia da Rede Neural: 0.980358561856\n",
      "Acurácia da Rede Neural: 0.980450923965\n",
      "Acurácia da Rede Neural: 0.980542154829\n",
      "Acurácia da Rede Neural: 0.980632276425\n",
      "Acurácia da Rede Neural: 0.98072131015\n",
      "Acurácia da Rede Neural: 0.980809276838\n",
      "Acurácia da Rede Neural: 0.980896196782\n",
      "Acurácia da Rede Neural: 0.980982089751\n",
      "Acurácia da Rede Neural: 0.981066975004\n",
      "Acurácia da Rede Neural: 0.981150871311\n",
      "Acurácia da Rede Neural: 0.981233796965\n",
      "Acurácia da Rede Neural: 0.9813157698\n",
      "Acurácia da Rede Neural: 0.981396807203\n",
      "Acurácia da Rede Neural: 0.981476926131\n",
      "Acurácia da Rede Neural: 0.981556143121\n",
      "Acurácia da Rede Neural: 0.981634474307\n",
      "Acurácia da Rede Neural: 0.981711935427\n",
      "Acurácia da Rede Neural: 0.981788541842\n",
      "Acurácia da Rede Neural: 0.981864308541\n",
      "Acurácia da Rede Neural: 0.981939250157\n",
      "Acurácia da Rede Neural: 0.982013380975\n",
      "Acurácia da Rede Neural: 0.982086714943\n",
      "Acurácia da Rede Neural: 0.982159265684\n",
      "Acurácia da Rede Neural: 0.982231046502\n",
      "Acurácia da Rede Neural: 0.982302070394\n",
      "Acurácia da Rede Neural: 0.982372350058\n",
      "Acurácia da Rede Neural: 0.982441897902\n",
      "Acurácia da Rede Neural: 0.982510726052\n",
      "Acurácia da Rede Neural: 0.98257884636\n",
      "Acurácia da Rede Neural: 0.982646270413\n",
      "Acurácia da Rede Neural: 0.982713009539\n",
      "Acurácia da Rede Neural: 0.982779074814\n",
      "Acurácia da Rede Neural: 0.982844477073\n",
      "Acurácia da Rede Neural: 0.982909226908\n",
      "Acurácia da Rede Neural: 0.982973334687\n",
      "Acurácia da Rede Neural: 0.983036810548\n",
      "Acurácia da Rede Neural: 0.983099664413\n",
      "Acurácia da Rede Neural: 0.983161905993\n",
      "Acurácia da Rede Neural: 0.983223544789\n",
      "Acurácia da Rede Neural: 0.983284590104\n",
      "Acurácia da Rede Neural: 0.983345051044\n",
      "Acurácia da Rede Neural: 0.983404936523\n",
      "Acurácia da Rede Neural: 0.983464255273\n",
      "Acurácia da Rede Neural: 0.983523015841\n",
      "Acurácia da Rede Neural: 0.983581226603\n",
      "Acurácia da Rede Neural: 0.983638895759\n",
      "Acurácia da Rede Neural: 0.983696031345\n",
      "Acurácia da Rede Neural: 0.983752641234\n",
      "Acurácia da Rede Neural: 0.983808733139\n",
      "Acurácia da Rede Neural: 0.98386431462\n",
      "Acurácia da Rede Neural: 0.983919393086\n",
      "Acurácia da Rede Neural: 0.983973975799\n",
      "Acurácia da Rede Neural: 0.984028069878\n",
      "Acurácia da Rede Neural: 0.984081682304\n",
      "Acurácia da Rede Neural: 0.984134819919\n"
     ]
    }
   ],
   "source": [
    "# Loop for para percorrer a rede neural\n",
    "# O valor 205000 especifica a quantidade de rounds de treinamento\n",
    "for iter in range(205000): \n",
    "    # Etapa 1: Feedforward \n",
    "    input_layer = X\n",
    "    l1 = sigmoid(np.dot(input_layer, theta0))\n",
    "    l2 = sigmoid(np.dot(l1,theta1))\n",
    "\n",
    "    # Etapa 2: Calculando o erro \n",
    "    l2_error = y - l2\n",
    "    \n",
    "    if (iter% 1000) == 0:\n",
    "        print (\"Acurácia da Rede Neural: \" + str(np.mean(1-(np.abs(l2_error)))))\n",
    "        \n",
    "    # Etapa 3: Calculando os gradientes de forma vetorizada \n",
    "    l2_delta = alpha * (l2_error * deriv_sigmoid(l2))\n",
    "    l1_error = l2_delta.dot(theta1.T)\n",
    "    l1_delta = alpha * (l1_error * deriv_sigmoid(l1))\n",
    "\n",
    "    # Etapa 4 - Atualiza os vetores de pesos\n",
    "    theta1 += l1.T.dot(l2_delta)\n",
    "    theta0 += input_layer.T.dot(l1_delta)"
   ]
  },
  {
   "cell_type": "markdown",
   "metadata": {
    "collapsed": true
   },
   "source": [
    "### Fim"
   ]
  },
  {
   "cell_type": "markdown",
   "metadata": {},
   "source": [
    "### Obrigado - Data Science Academy - <a href=http://facebook.com/dsacademy>facebook.com/dsacademybr</a>"
   ]
  }
 ],
 "metadata": {
  "anaconda-cloud": {},
  "kernelspec": {
   "display_name": "Python 3",
   "language": "python",
   "name": "python3"
  },
  "language_info": {
   "codemirror_mode": {
    "name": "ipython",
    "version": 3
   },
   "file_extension": ".py",
   "mimetype": "text/x-python",
   "name": "python",
   "nbconvert_exporter": "python",
   "pygments_lexer": "ipython3",
   "version": "3.6.1"
  }
 },
 "nbformat": 4,
 "nbformat_minor": 1
}
