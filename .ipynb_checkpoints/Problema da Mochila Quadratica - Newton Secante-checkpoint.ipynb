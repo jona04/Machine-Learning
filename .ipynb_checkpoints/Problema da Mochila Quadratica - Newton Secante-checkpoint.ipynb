{
 "cells": [
  {
   "cell_type": "code",
   "execution_count": 79,
   "metadata": {},
   "outputs": [],
   "source": [
    "import random\n",
    "import pandas  as pd\n",
    "from pandas import DataFrame\n",
    "import matplotlib.pyplot as plt\n",
    "import numpy as np\n",
    "import copy\n"
   ]
  },
  {
   "cell_type": "code",
   "execution_count": 98,
   "metadata": {},
   "outputs": [],
   "source": [
    "class CqkProblem:\n",
    "    def __init__(self, r, n, d, a, b, low, up):\n",
    "        self.n = n\n",
    "        self.r = r\n",
    "        self.d = list(d)\n",
    "        self.a = list(a)\n",
    "        self.b = list(b)\n",
    "        self.low = list(low)\n",
    "        self.up = list(up)"
   ]
  },
  {
   "cell_type": "code",
   "execution_count": 99,
   "metadata": {},
   "outputs": [],
   "source": [
    "\n",
    "def generate_cqk_problem(n):\n",
    "    d = []\n",
    "    low = []\n",
    "    up = []\n",
    "    b = []\n",
    "    a = []\n",
    "    temp = 0\n",
    "    lb = 0.0\n",
    "    ub = 0.0\n",
    "    lower = 10\n",
    "    upper = 25\n",
    "    r = 0\n",
    "\n",
    "    for i in range(n):\n",
    "        \n",
    "        b.append(10 + 14*random.random())\n",
    "        low.append(1 + 14*random.random())\n",
    "        up.append(1 + 14*random.random())\n",
    "        if low[i] > up[i]:\n",
    "            temp = low[i]\n",
    "            low[i] = up[i]\n",
    "            up[i] = temp\n",
    "        \n",
    "        lb = lb + b[i]*low[i];\n",
    "        ub = ub + b[i]*up[i];\n",
    "        \n",
    "        #Uncorrelated\n",
    "        d.append(random.randint(10,25))\n",
    "        a.append(random.randint(10,25))\n",
    "        \n",
    "    r = lb + (ub - lb)*0.5;\n",
    "    \n",
    "    return CqkProblem( r, n, d, a, b, low, up)\n",
    "    "
   ]
  },
  {
   "cell_type": "code",
   "execution_count": 100,
   "metadata": {},
   "outputs": [],
   "source": [
    "slopes = []\n",
    "def initial_lambda(p, lamb):\n",
    "    s0=0.0\n",
    "    q0=0.0\n",
    "    \n",
    "    for i in range(p.n):\n",
    "        slopes.append((p.b[i]/p.d[i])*p.b[i])\n",
    "        s0 = s0 + (p.a[i] * p.b[i]) / p.d[i]\n",
    "        q0 = q0 + (p.b[i] * p.b[i]) / p.d[i]\n",
    "    lamb = (p.r-s0)/q0\n",
    "    return lamb, slopes"
   ]
  },
  {
   "cell_type": "code",
   "execution_count": 101,
   "metadata": {},
   "outputs": [],
   "source": [
    "def phi_lambda(p,lamb,phi,deriv,slopes,r):\n",
    "    deriv = 0.0\n",
    "    phi = r * -1\n",
    "    x = []\n",
    "    \n",
    "    for i in range(p.n):\n",
    "        \n",
    "        x.append( (p.b[i] * lamb + p.a[i])/p.d[i])\n",
    "\n",
    "        if x[i] < p.low[i]:\n",
    "            x[i] = p.low[i]\n",
    "        elif x[i] > p.up[i]:\n",
    "            x[i] = p.up[i]\n",
    "        else:\n",
    "            deriv = deriv + slopes[i];\n",
    "        phi = phi + p.b[i] * x[i];\n",
    "    return deriv, phi, x"
   ]
  },
  {
   "cell_type": "code",
   "execution_count": 122,
   "metadata": {},
   "outputs": [],
   "source": [
    "MAX_IT = 20\n",
    "INFINITO_NEGATIVO = -999999999;\n",
    "INFINITO_POSITIVO = 999999999;\n",
    "def newton(p):\n",
    "    phi = 0\n",
    "    lamb = 0\n",
    "    alfa = INFINITO_NEGATIVO;\n",
    "    beta = INFINITO_POSITIVO;\n",
    "    phi_alfa = 0.0;\n",
    "    phi_beta = 0.0;\n",
    "    deriv = 0\n",
    "    x = []\n",
    "    r = p.r\n",
    "    \n",
    "    lamb, slopes = initial_lambda(p,lamb)\n",
    "    \n",
    "    deriv, phi, x = phi_lambda(p,lamb,phi,deriv,slopes,r)\n",
    "    it = 1\n",
    "    while phi != 0.0 and it <= MAX_IT:\n",
    "        if phi > 0:\n",
    "            print(\"positivo\")\n",
    "            beta = lamb\n",
    "            lambda_n = 0.0\n",
    "            if deriv > 0.0:\n",
    "                \n",
    "                lambda_n = lamb - (phi/deriv)\n",
    "                print(lambda_n - lamb)\n",
    "                if abs(lambda_n - lamb) <= 0.00000000001:\n",
    "                    phi = 0.0\n",
    "                    break\n",
    "                if lambda_n > alfa:\n",
    "                    lamb = lambda_n\n",
    "                else:\n",
    "                    print(\"aqui\")\n",
    "                    phi_beta = phi;\n",
    "#                     lamb = secant(p,x,alfa,beta,phi_alfa,phi_beta,r);\n",
    "#             if deriv == 0.0:\n",
    "#                 lamb = breakpoint_to_the_left(p,lamb);\n",
    "#                 if lamb <= INFINITO_NEGATIVO or lamb >= INFINITO_POSITIVO:\n",
    "#                     break\n",
    "                \n",
    "        else:\n",
    "            print(\"negativo\")\n",
    "            alfa = lamb;\n",
    "            lambda_n = 0.0;\n",
    "\n",
    "            if deriv > 0.0:\n",
    "                lambda_n = lamb - (phi/deriv)\n",
    "                print(lambda_n - lamb)\n",
    "                if abs(lambda_n - lamb) <= 0.00000000001:\n",
    "                    phi = 0.0\n",
    "                    break\n",
    "                \n",
    "                if lambda_n < beta:\n",
    "                    print(\"aqui 0\")\n",
    "                    lamb = lambda_n\n",
    "                else:\n",
    "                    print(\"aqui\")\n",
    "                    phi_alfa = phi;\n",
    "#                     lamb = secant(p,x,alfa,beta,phi_alfa,phi_beta,r);\n",
    "            if deriv == 0.0:\n",
    "                print(\"aqui 2\")\n",
    "#                 lamb = breakpoint_to_the_right(p,lamb)\n",
    "#                 if lamb <= INFINITO_NEGATIVO or lamb >= INFINITO_POSITIVO:\n",
    "#                     break\n",
    "        \n",
    "        \n",
    "        deriv, phi, x = phi_lambda(p,lamb,phi,deriv,slopes,r)\n",
    "        print(lamb)\n",
    "        it = it + 1\n",
    "        \n",
    "    if phi == 0.0:\n",
    "        return it\n",
    "    elif alfa == beta:\n",
    "        return -1\n",
    "    else:\n",
    "        return -2\n",
    "    "
   ]
  },
  {
   "cell_type": "code",
   "execution_count": 127,
   "metadata": {},
   "outputs": [
    {
     "name": "stdout",
     "output_type": "stream",
     "text": [
      "negativo\n",
      "2.1249739469132836\n",
      "aqui 0\n",
      "8.86009506406256\n",
      "negativo\n",
      "0.0883830906717904\n",
      "aqui 0\n",
      "8.948478154734351\n",
      "negativo\n",
      "0.009129314311749681\n",
      "aqui 0\n",
      "8.957607469046101\n",
      "negativo\n",
      "0.0009429901033080057\n",
      "aqui 0\n",
      "8.958550459149409\n",
      "negativo\n",
      "9.740384705381189e-05\n",
      "aqui 0\n",
      "8.958647862996463\n",
      "negativo\n",
      "1.0061091185065152e-05\n",
      "aqui 0\n",
      "8.958657924087648\n",
      "negativo\n",
      "1.039235707267494e-06\n",
      "aqui 0\n",
      "8.958658963323355\n",
      "negativo\n",
      "1.0734530242473284e-07\n",
      "aqui 0\n",
      "8.958659070668658\n",
      "negativo\n",
      "1.108796787718802e-08\n",
      "aqui 0\n",
      "8.958659081756625\n",
      "negativo\n",
      "1.1453007431327933e-09\n",
      "aqui 0\n",
      "8.958659082901926\n",
      "negativo\n",
      "1.1830358914721728e-10\n",
      "aqui 0\n",
      "8.95865908302023\n",
      "negativo\n",
      "1.2221335055073723e-11\n",
      "aqui 0\n",
      "8.958659083032451\n",
      "negativo\n",
      "1.2647660696529783e-12\n"
     ]
    },
    {
     "data": {
      "text/plain": [
       "13"
      ]
     },
     "execution_count": 127,
     "metadata": {},
     "output_type": "execute_result"
    }
   ],
   "source": [
    "n = 100\n",
    "p = generate_cqk_problem(n)\n",
    "newton(p)"
   ]
  },
  {
   "cell_type": "code",
   "execution_count": 148,
   "metadata": {},
   "outputs": [],
   "source": [
    "# soma = 0\n",
    "# for i in range(n):\n",
    "#     soma = soma + p.b[i] * median(p.low[i], (p.b[i] *(8.852533755968373) + p.a[i]) / p.d[i], p.up[i])\n",
    "# soma\n",
    "soma_b = 0\n",
    "for i in range(n):\n",
    "    soma = soma + p.b[i] * median(p.low[i], (p.b[i] *(8.852533755968373) + p.a[i]) / p.d[i], p.up[i])"
   ]
  },
  {
   "cell_type": "code",
   "execution_count": 149,
   "metadata": {},
   "outputs": [
    {
     "name": "stdout",
     "output_type": "stream",
     "text": [
      "1531118.3032357947 1531118.303235794\n"
     ]
    }
   ],
   "source": [
    "total = 0\n",
    "for i in range(n):\n",
    "    total += x[i] * p.b[i]\n",
    "\n",
    "print(total, p.r)"
   ]
  },
  {
   "cell_type": "code",
   "execution_count": 150,
   "metadata": {},
   "outputs": [],
   "source": [
    "t = np.arange(-2, 20, 0.1).tolist()\n",
    "y = copy.deepcopy(t)\n",
    "for j in range(len(t)):\n",
    "    lamb = t[j]\n",
    "    \n",
    "    soma = 0\n",
    "    \n",
    "    for i in range(n):\n",
    "        soma = soma + p.b[i] * median(p.low[i], (p.b[i] *lamb + p.a[i]) / p.d[i], p.up[i])\n",
    "    \n",
    "    y[j] = soma"
   ]
  },
  {
   "cell_type": "code",
   "execution_count": 151,
   "metadata": {},
   "outputs": [
    {
     "data": {
      "image/png": "[encoded data removed]",
      "text/plain": [
       "<Figure size 720x432 with 1 Axes>"
      ]
     },
     "metadata": {
      "needs_background": "light"
     },
     "output_type": "display_data"
    }
   ],
   "source": [
    "data = {'t': t,\n",
    "        'y': y,\n",
    "       }\n",
    "\n",
    "df = pd.DataFrame (data, columns = ['t','y'])\n",
    "\n",
    "X = DataFrame(data,columns=['t'])\n",
    "y = DataFrame(data,columns=['y'])\n",
    "\n",
    "plt.figure(figsize=(10,6))\n",
    "plt.scatter(X,y)\n",
    "plt.xlabel('y')\n",
    "plt.ylabel('t(y)')\n",
    "plt.show()"
   ]
  },
  {
   "cell_type": "code",
   "execution_count": 11,
   "metadata": {},
   "outputs": [
    {
     "name": "stdout",
     "output_type": "stream",
     "text": [
      "d = 17369\n",
      "a = 17377\n",
      "b, r = (16907.398738959222, 151486.649894658)\n",
      "low up = (5707.986988178369, 10302.632666757192)\n",
      "lamb = 8.851852412252025\n"
     ]
    }
   ],
   "source": [
    "soma_a = 0\n",
    "soma_b = 0\n",
    "soma_low = 0\n",
    "soma_d = 0\n",
    "soma_up = 0\n",
    "for i in range(n):\n",
    "    soma_a += p.a[i]\n",
    "    soma_b += p.b[i]\n",
    "    soma_low += p.low[i]\n",
    "    soma_d += p.d[i]\n",
    "    soma_up += p.up[i]\n",
    "\n",
    "print(f'd = {soma_d}')\n",
    "print(f'a = {soma_a}')\n",
    "print(f'b, r = {soma_b,p.r}')\n",
    "print(f'low up = {soma_low,soma_up}')\n",
    "print(f'lamb = {lambs[-1]}')"
   ]
  },
  {
   "cell_type": "code",
   "execution_count": 68,
   "metadata": {},
   "outputs": [
    {
     "name": "stdout",
     "output_type": "stream",
     "text": [
      "0.16907398738959223\n",
      "151.73899407757384\n",
      "897.4709617980803\n"
     ]
    }
   ],
   "source": [
    "print(soma_b/n)\n",
    "print(p.r / n)\n",
    "print((p.r / n)/(soma_b/n))"
   ]
  },
  {
   "cell_type": "code",
   "execution_count": null,
   "metadata": {},
   "outputs": [],
   "source": []
  }
 ],
 "metadata": {
  "kernelspec": {
   "display_name": "Python 3",
   "language": "python",
   "name": "python3"
  },
  "language_info": {
   "codemirror_mode": {
    "name": "ipython",
    "version": 3
   },
   "file_extension": ".py",
   "mimetype": "text/x-python",
   "name": "python",
   "nbconvert_exporter": "python",
   "pygments_lexer": "ipython3",
   "version": "3.7.3"
  }
 },
 "nbformat": 4,
 "nbformat_minor": 4
}
