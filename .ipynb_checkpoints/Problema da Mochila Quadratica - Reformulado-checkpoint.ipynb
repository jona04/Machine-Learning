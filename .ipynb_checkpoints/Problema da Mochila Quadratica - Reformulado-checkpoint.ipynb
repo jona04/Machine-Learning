{
 "cells": [
  {
   "cell_type": "code",
   "execution_count": 2,
   "metadata": {},
   "outputs": [],
   "source": [
    "import random\n",
    "import pandas  as pd\n",
    "from pandas import DataFrame\n",
    "import matplotlib.pyplot as plt\n",
    "import numpy as np\n",
    "import copy\n"
   ]
  },
  {
   "cell_type": "code",
   "execution_count": 3,
   "metadata": {},
   "outputs": [],
   "source": [
    "class CqkProblem:\n",
    "    def __init__(self, r, n, d, a, b, low, up):\n",
    "        self.n = n\n",
    "        self.r = r\n",
    "        self.d = list(d)\n",
    "        self.a = list(a)\n",
    "        self.b = list(b)\n",
    "        self.low = list(low)\n",
    "        self.up = list(up)"
   ]
  },
  {
   "cell_type": "code",
   "execution_count": 4,
   "metadata": {},
   "outputs": [],
   "source": [
    "\n",
    "def generate_cqk_problem(n):\n",
    "    d = []\n",
    "    low = []\n",
    "    up = []\n",
    "    b = []\n",
    "    a = []\n",
    "    temp = 0\n",
    "    lb = 0.0\n",
    "    ub = 0.0\n",
    "    lower = 10\n",
    "    upper = 25\n",
    "    r = 0\n",
    "\n",
    "    for i in range(n):\n",
    "        \n",
    "        b.append(10 + 14*random.random())\n",
    "        low.append(1 + 14*random.random())\n",
    "        up.append(1 + 14*random.random())\n",
    "        if low[i] > up[i]:\n",
    "            temp = low[i]\n",
    "            low[i] = up[i]\n",
    "            up[i] = temp\n",
    "        \n",
    "        lb = lb + b[i]*low[i];\n",
    "        ub = ub + b[i]*up[i];\n",
    "        \n",
    "        #Uncorrelated\n",
    "        d.append(random.randint(10,25))\n",
    "        a.append(random.randint(10,25))\n",
    "        \n",
    "    r = lb + (ub - lb)*0.7;\n",
    "    \n",
    "    return CqkProblem( r, n, d, a, b, low, up)\n",
    "    "
   ]
  },
  {
   "cell_type": "code",
   "execution_count": 5,
   "metadata": {},
   "outputs": [],
   "source": [
    "\n",
    "def initial_lambda(p, lamb):\n",
    "    s0=0.0\n",
    "    q0=0.0\n",
    "    slopes = []\n",
    "    for i in range(p.n):\n",
    "        slopes.append((p.b[i]/p.d[i])*p.b[i])\n",
    "        s0 = s0 + (p.a[i] * p.b[i]) / p.d[i]\n",
    "        q0 = q0 + (p.b[i] * p.b[i]) / p.d[i]\n",
    "    lamb = (p.r-s0)/q0\n",
    "    return lamb, slopes"
   ]
  },
  {
   "cell_type": "code",
   "execution_count": 6,
   "metadata": {},
   "outputs": [],
   "source": [
    "def phi_lambda(p,lamb,phi,deriv,slopes,r):\n",
    "    deriv = 0.0\n",
    "    phi = r * -1\n",
    "    x = []\n",
    "    \n",
    "    for i in range(p.n):\n",
    "        \n",
    "        x.append( (p.b[i] * lamb + p.a[i])/p.d[i])\n",
    "\n",
    "        if x[i] < p.low[i]:\n",
    "            x[i] = p.low[i]\n",
    "        elif x[i] > p.up[i]:\n",
    "            x[i] = p.up[i]\n",
    "        else:\n",
    "            deriv = deriv + slopes[i];\n",
    "        phi = phi + p.b[i] * x[i];\n",
    "    return deriv, phi, x"
   ]
  },
  {
   "cell_type": "code",
   "execution_count": 13,
   "metadata": {},
   "outputs": [],
   "source": [
    "MAX_IT = 20\n",
    "INFINITO_NEGATIVO = -999999999;\n",
    "INFINITO_POSITIVO = 999999999;\n",
    "def newton(p):\n",
    "    phi = 0\n",
    "    lamb = 0\n",
    "    alfa = INFINITO_NEGATIVO;\n",
    "    beta = INFINITO_POSITIVO;\n",
    "    phi_alfa = 0.0;\n",
    "    phi_beta = 0.0;\n",
    "    deriv = 0\n",
    "    x = []\n",
    "    r = p.r\n",
    "    \n",
    "    lamb, slopes = initial_lambda(p,lamb)\n",
    "    deriv, phi, x = phi_lambda(p,lamb,phi,deriv,slopes,r)\n",
    "    it = 1\n",
    "    while phi != 0.0 and it <= MAX_IT:\n",
    "        if phi > 0:\n",
    "#             print(\"positivo\")\n",
    "            beta = lamb\n",
    "            lambda_n = 0.0\n",
    "            if deriv > 0.0:\n",
    "                \n",
    "                lambda_n = lamb - (phi/deriv)\n",
    "                if abs(lambda_n - lamb) <= 0.00000000001:\n",
    "                    phi = 0.0\n",
    "                    break\n",
    "                if lambda_n > alfa:\n",
    "                    lamb = lambda_n\n",
    "                else:\n",
    "                    print(\"aqui\")\n",
    "                    phi_beta = phi;\n",
    "#                     lamb = secant(p,x,alfa,beta,phi_alfa,phi_beta,r);\n",
    "#             if deriv == 0.0:\n",
    "#                 lamb = breakpoint_to_the_left(p,lamb);\n",
    "#                 if lamb <= INFINITO_NEGATIVO or lamb >= INFINITO_POSITIVO:\n",
    "#                     break\n",
    "                \n",
    "        else:\n",
    "#             print(\"negativo\")\n",
    "            alfa = lamb;\n",
    "            lambda_n = 0.0;\n",
    "\n",
    "            if deriv > 0.0:\n",
    "                lambda_n = lamb - (phi/deriv)\n",
    "                if abs(lambda_n - lamb) <= 0.00000000001:\n",
    "                    phi = 0.0\n",
    "                    break\n",
    "                \n",
    "                if lambda_n < beta:\n",
    "                    lamb = lambda_n\n",
    "                else:\n",
    "                    print(\"aqui\")\n",
    "                    phi_alfa = phi;\n",
    "#                     lamb = secant(p,x,alfa,beta,phi_alfa,phi_beta,r);\n",
    "            if deriv == 0.0:\n",
    "                print(\"aqui 2\")\n",
    "#                 lamb = breakpoint_to_the_right(p,lamb)\n",
    "#                 if lamb <= INFINITO_NEGATIVO or lamb >= INFINITO_POSITIVO:\n",
    "#                     break\n",
    "        \n",
    "        \n",
    "        deriv, phi, x = phi_lambda(p,lamb,phi,deriv,slopes,r)\n",
    "        it = it + 1\n",
    "        \n",
    "    if phi == 0.0:\n",
    "        return it, x, slopes\n",
    "    elif alfa == beta:\n",
    "        return -1\n",
    "    else:\n",
    "        return -2\n",
    "    "
   ]
  },
  {
   "cell_type": "code",
   "execution_count": 34,
   "metadata": {},
   "outputs": [
    {
     "name": "stdout",
     "output_type": "stream",
     "text": [
      "CPU times: user 4 µs, sys: 1 µs, total: 5 µs\n",
      "Wall time: 9.06 µs\n"
     ]
    }
   ],
   "source": [
    "%time\n",
    "n = 50\n",
    "p = generate_cqk_problem(n)\n",
    "it, x, slopes = newton(p)"
   ]
  },
  {
   "cell_type": "code",
   "execution_count": 24,
   "metadata": {},
   "outputs": [],
   "source": [
    "def median(a,b,c):\n",
    "    if a > b:\n",
    "        if a < c:\n",
    "            return a\n",
    "        elif b > c:\n",
    "            return b\n",
    "        else:\n",
    "            return c\n",
    "    else:\n",
    "        if a > c:\n",
    "            return a\n",
    "        elif b < c:\n",
    "            return b\n",
    "        else:\n",
    "            return c"
   ]
  },
  {
   "cell_type": "code",
   "execution_count": 25,
   "metadata": {},
   "outputs": [],
   "source": [
    "# soma = 0\n",
    "# for i in range(n):\n",
    "#     soma = soma + p.b[i] * median(p.low[i], (p.b[i] *(8.852533755968373) + p.a[i]) / p.d[i], p.up[i])\n",
    "# soma\n",
    "# soma_b = 0\n",
    "# for i in range(n):\n",
    "#     soma = soma + p.b[i] * median(p.low[i], (p.b[i] *(8.852533755968373) + p.a[i]) / p.d[i], p.up[i])"
   ]
  },
  {
   "cell_type": "code",
   "execution_count": 26,
   "metadata": {},
   "outputs": [
    {
     "name": "stdout",
     "output_type": "stream",
     "text": [
      "1649.1728489765776 1649.1728489765776\n"
     ]
    }
   ],
   "source": [
    "total = 0\n",
    "for i in range(n):\n",
    "    total += x[i] * p.b[i]\n",
    "\n",
    "print(total, p.r)"
   ]
  },
  {
   "cell_type": "code",
   "execution_count": 27,
   "metadata": {},
   "outputs": [],
   "source": [
    "t = np.arange(0, 15, 0.5).tolist()\n",
    "y = copy.deepcopy(t)\n",
    "for j in range(len(t)):\n",
    "    lamb = t[j]\n",
    "    \n",
    "    soma = 0\n",
    "    \n",
    "    for i in range(n):\n",
    "        soma = soma + p.b[i] * median(p.low[i], (p.b[i] *lamb + p.a[i]) / p.d[i], p.up[i])\n",
    "    \n",
    "    y[j] = soma"
   ]
  },
  {
   "cell_type": "code",
   "execution_count": 28,
   "metadata": {},
   "outputs": [
    {
     "data": {
      "image/png": "[encoded data removed]",
      "text/plain": [
       "<Figure size 720x432 with 1 Axes>"
      ]
     },
     "metadata": {
      "needs_background": "light"
     },
     "output_type": "display_data"
    }
   ],
   "source": [
    "data = {'t': t,\n",
    "        'y': y,\n",
    "       }\n",
    "\n",
    "df = pd.DataFrame (data, columns = ['t','y'])\n",
    "\n",
    "X = DataFrame(data,columns=['t'])\n",
    "y = DataFrame(data,columns=['y'])\n",
    "\n",
    "plt.figure(figsize=(10,6))\n",
    "plt.scatter(X,y)\n",
    "plt.xlabel('y')\n",
    "plt.ylabel('t(y)')\n",
    "plt.show()"
   ]
  },
  {
   "cell_type": "code",
   "execution_count": 1,
   "metadata": {},
   "outputs": [
    {
     "ename": "NameError",
     "evalue": "name 'df' is not defined",
     "output_type": "error",
     "traceback": [
      "\u001b[0;31m---------------------------------------------------------------------------\u001b[0m",
      "\u001b[0;31mNameError\u001b[0m                                 Traceback (most recent call last)",
      "\u001b[0;32m<ipython-input-1-00cf07b74dcd>\u001b[0m in \u001b[0;36m<module>\u001b[0;34m\u001b[0m\n\u001b[0;32m----> 1\u001b[0;31m \u001b[0mdf\u001b[0m\u001b[0;34m\u001b[0m\u001b[0;34m\u001b[0m\u001b[0m\n\u001b[0m",
      "\u001b[0;31mNameError\u001b[0m: name 'df' is not defined"
     ]
    }
   ],
   "source": [
    "df"
   ]
  },
  {
   "cell_type": "code",
   "execution_count": 30,
   "metadata": {},
   "outputs": [
    {
     "name": "stdout",
     "output_type": "stream",
     "text": [
      "16.98407523601946\n",
      "164.91728489765777\n",
      "9.710112714756747\n"
     ]
    }
   ],
   "source": [
    "print(soma_b/n)\n",
    "print(p.r / n)\n",
    "print((p.r / n)/(soma_b/n))"
   ]
  },
  {
   "cell_type": "code",
   "execution_count": 31,
   "metadata": {},
   "outputs": [
    {
     "data": {
      "text/plain": [
       "[32.24155504904833,\n",
       " 19.28767507982835,\n",
       " 12.403841897092445,\n",
       " 14.163057895812305,\n",
       " 23.231605958123133,\n",
       " 14.619086343079353,\n",
       " 17.288240017110663,\n",
       " 8.158426038053335,\n",
       " 14.94754057872228,\n",
       " 11.848693135001746]"
      ]
     },
     "execution_count": 31,
     "metadata": {},
     "output_type": "execute_result"
    }
   ],
   "source": [
    "slopes"
   ]
  },
  {
   "cell_type": "code",
   "execution_count": null,
   "metadata": {},
   "outputs": [],
   "source": []
  }
 ],
 "metadata": {
  "kernelspec": {
   "display_name": "Python 3",
   "language": "python",
   "name": "python3"
  },
  "language_info": {
   "codemirror_mode": {
    "name": "ipython",
    "version": 3
   },
   "file_extension": ".py",
   "mimetype": "text/x-python",
   "name": "python",
   "nbconvert_exporter": "python",
   "pygments_lexer": "ipython3",
   "version": "3.7.3"
  }
 },
 "nbformat": 4,
 "nbformat_minor": 4
}
