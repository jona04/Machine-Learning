{
 "cells": [
  {
   "cell_type": "code",
   "execution_count": 1,
   "metadata": {},
   "outputs": [],
   "source": [
    "import random\n",
    "import pandas  as pd\n",
    "from pandas import DataFrame\n",
    "import matplotlib.pyplot as plt\n",
    "import numpy as np\n",
    "import copy\n"
   ]
  },
  {
   "cell_type": "code",
   "execution_count": 2,
   "metadata": {},
   "outputs": [],
   "source": [
    "class CqkProblem:\n",
    "    def __init__(self, r, n, d, a, b, low, up):\n",
    "        self.n = n\n",
    "        self.r = r\n",
    "        self.d = list(d)\n",
    "        self.a = list(a)\n",
    "        self.b = list(b)\n",
    "        self.low = list(low)\n",
    "        self.up = list(up)"
   ]
  },
  {
   "cell_type": "code",
   "execution_count": 3,
   "metadata": {},
   "outputs": [],
   "source": [
    "def generate_cqk_problem_uncorrelated(n):\n",
    "    d = []\n",
    "    low = []\n",
    "    up = []\n",
    "    b = []\n",
    "    a = []\n",
    "    temp = 0\n",
    "    lb = 0.0\n",
    "    ub = 0.0\n",
    "    lower = 10\n",
    "    upper = 25\n",
    "    r = 0\n",
    "\n",
    "    for i in range(n):\n",
    "        \n",
    "        b.append(10 + 14*random.random())\n",
    "        low.append(1 + 14*random.random())\n",
    "        up.append(1 + 14*random.random())\n",
    "        if low[i] > up[i]:\n",
    "            temp = low[i]\n",
    "            low[i] = up[i]\n",
    "            up[i] = temp\n",
    "        \n",
    "        lb = lb + b[i]*low[i];\n",
    "        ub = ub + b[i]*up[i];\n",
    "        \n",
    "        #Uncorrelated\n",
    "        d.append(random.randint(10,25))\n",
    "        a.append(random.randint(10,25))\n",
    "        \n",
    "    r = lb + (ub - lb)*0.7;\n",
    "    \n",
    "    return CqkProblem( r, n, d, a, b, low, up)\n",
    "\n",
    "def generate_cqk_problem_correlated(n):\n",
    "    d = []\n",
    "    low = []\n",
    "    up = []\n",
    "    b = []\n",
    "    a = []\n",
    "    temp = 0\n",
    "    lb = 0.0\n",
    "    ub = 0.0\n",
    "    lower = 10\n",
    "    upper = 25\n",
    "    r = 0\n",
    "\n",
    "    for i in range(n):\n",
    "        \n",
    "        b.append(10 + 14*random.random())\n",
    "        low.append(1 + 14*random.random())\n",
    "        up.append(1 + 14*random.random())\n",
    "        if low[i] > up[i]:\n",
    "            temp = low[i]\n",
    "            low[i] = up[i]\n",
    "            up[i] = temp\n",
    "        \n",
    "        lb = lb + b[i]*low[i];\n",
    "        ub = ub + b[i]*up[i];\n",
    "        \n",
    "        # correlated:\n",
    "        \n",
    "        d.append(b[i] + 5.0)\n",
    "        a.append(b[i] + 5.0)\n",
    "        \n",
    "        \n",
    "        \n",
    "    r = lb + (ub - lb)*0.7;\n",
    "    \n",
    "    return CqkProblem( r, n, d, a, b, low, up)"
   ]
  },
  {
   "cell_type": "code",
   "execution_count": 4,
   "metadata": {},
   "outputs": [],
   "source": [
    "\n",
    "def initial_lambda(p, lamb):\n",
    "    s0=0.0\n",
    "    q0=0.0\n",
    "    slopes = []\n",
    "    for i in range(p.n):\n",
    "        slopes.append((p.b[i]/p.d[i])*p.b[i])\n",
    "        s0 = s0 + (p.a[i] * p.b[i]) / p.d[i]\n",
    "        q0 = q0 + (p.b[i] * p.b[i]) / p.d[i]\n",
    "    lamb = (p.r-s0)/q0\n",
    "    return lamb, slopes"
   ]
  },
  {
   "cell_type": "code",
   "execution_count": 5,
   "metadata": {},
   "outputs": [],
   "source": [
    "def phi_lambda(p,lamb,phi,deriv,slopes,r):\n",
    "    deriv = 0.0\n",
    "    phi = r * -1\n",
    "    x = []\n",
    "    \n",
    "    for i in range(p.n):\n",
    "        \n",
    "        x.append( (p.b[i] * lamb + p.a[i])/p.d[i])\n",
    "\n",
    "        if x[i] < p.low[i]:\n",
    "            x[i] = p.low[i]\n",
    "        elif x[i] > p.up[i]:\n",
    "            x[i] = p.up[i]\n",
    "        else:\n",
    "            deriv = deriv + slopes[i];\n",
    "        phi = phi + p.b[i] * x[i];\n",
    "    return deriv, phi, x"
   ]
  },
  {
   "cell_type": "code",
   "execution_count": 6,
   "metadata": {},
   "outputs": [],
   "source": [
    "MAX_IT = 20\n",
    "INFINITO_NEGATIVO = -999999999;\n",
    "INFINITO_POSITIVO = 999999999;\n",
    "def newton(p):\n",
    "    lambs = [] \n",
    "    phi = 0\n",
    "    lamb = 0\n",
    "    alfa = INFINITO_NEGATIVO;\n",
    "    beta = INFINITO_POSITIVO;\n",
    "    phi_alfa = 0.0;\n",
    "    phi_beta = 0.0;\n",
    "    deriv = 0\n",
    "    x = []\n",
    "    r = p.r\n",
    "    \n",
    "    lamb, slopes = initial_lambda(p,lamb)\n",
    "    lambs.append(lamb)\n",
    "    deriv, phi, x = phi_lambda(p,lamb,phi,deriv,slopes,r)\n",
    "    it = 1\n",
    "    while phi != 0.0 and it <= MAX_IT:\n",
    "        if phi > 0:\n",
    "#             print(\"positivo\")\n",
    "            beta = lamb\n",
    "            lambda_n = 0.0\n",
    "            if deriv > 0.0:\n",
    "                \n",
    "                lambda_n = lamb - (phi/deriv)\n",
    "                if abs(lambda_n - lamb) <= 0.00000000001:\n",
    "                    phi = 0.0\n",
    "                    break\n",
    "                if lambda_n > alfa:\n",
    "                    lamb = lambda_n\n",
    "                else:\n",
    "                    print(\"aqui\")\n",
    "                    phi_beta = phi;\n",
    "#                     lamb = secant(p,x,alfa,beta,phi_alfa,phi_beta,r);\n",
    "#             if deriv == 0.0:\n",
    "#                 lamb = breakpoint_to_the_left(p,lamb);\n",
    "#                 if lamb <= INFINITO_NEGATIVO or lamb >= INFINITO_POSITIVO:\n",
    "#                     break\n",
    "                \n",
    "        else:\n",
    "#             print(\"negativo\")\n",
    "            alfa = lamb;\n",
    "            lambda_n = 0.0;\n",
    "\n",
    "            if deriv > 0.0:\n",
    "                lambda_n = lamb - (phi/deriv)\n",
    "                if abs(lambda_n - lamb) <= 0.00000000001:\n",
    "                    phi = 0.0\n",
    "                    break\n",
    "                \n",
    "                if lambda_n < beta:\n",
    "                    lamb = lambda_n\n",
    "                else:\n",
    "                    print(\"aqui\")\n",
    "                    phi_alfa = phi;\n",
    "#                     lamb = secant(p,x,alfa,beta,phi_alfa,phi_beta,r);\n",
    "            if deriv == 0.0:\n",
    "                print(\"aqui 2\")\n",
    "#                 lamb = breakpoint_to_the_right(p,lamb)\n",
    "#                 if lamb <= INFINITO_NEGATIVO or lamb >= INFINITO_POSITIVO:\n",
    "#                     break\n",
    "        \n",
    "        \n",
    "        deriv, phi, x = phi_lambda(p,lamb,phi,deriv,slopes,r)\n",
    "        it = it + 1\n",
    "        lambs.append(lamb)\n",
    "        \n",
    "    if phi == 0.0:\n",
    "        return it, x, slopes, lambs\n",
    "    elif alfa == beta:\n",
    "        return -1\n",
    "    else:\n",
    "        return -2\n",
    "    "
   ]
  },
  {
   "cell_type": "code",
   "execution_count": 7,
   "metadata": {},
   "outputs": [],
   "source": [
    "def median(a,b,c):\n",
    "    if a > b:\n",
    "        if a < c:\n",
    "            return a\n",
    "        elif b > c:\n",
    "            return b\n",
    "        else:\n",
    "            return c\n",
    "    else:\n",
    "        if a > c:\n",
    "            return a\n",
    "        elif b < c:\n",
    "            return b\n",
    "        else:\n",
    "            return c"
   ]
  },
  {
   "cell_type": "code",
   "execution_count": 15,
   "metadata": {},
   "outputs": [
    {
     "name": "stdout",
     "output_type": "stream",
     "text": [
      "CPU times: user 67 µs, sys: 4 µs, total: 71 µs\n",
      "Wall time: 76.1 µs\n"
     ]
    }
   ],
   "source": [
    "%%time\n",
    "n = 5\n",
    "p = generate_cqk_problem_correlated(n)\n",
    "it, x, slopes,lambs = newton(p)"
   ]
  },
  {
   "cell_type": "code",
   "execution_count": 16,
   "metadata": {},
   "outputs": [
    {
     "name": "stdout",
     "output_type": "stream",
     "text": [
      "746.2165797218588 746.2165797218588\n"
     ]
    }
   ],
   "source": [
    "total = 0\n",
    "for i in range(n):\n",
    "    total += x[i] * p.b[i]\n",
    "\n",
    "print(total, p.r)"
   ]
  },
  {
   "cell_type": "code",
   "execution_count": 17,
   "metadata": {},
   "outputs": [
    {
     "data": {
      "text/plain": [
       "[10.810750873547454, 12.706989602579213]"
      ]
     },
     "execution_count": 17,
     "metadata": {},
     "output_type": "execute_result"
    }
   ],
   "source": [
    "lambs"
   ]
  },
  {
   "cell_type": "code",
   "execution_count": 28,
   "metadata": {},
   "outputs": [],
   "source": [
    "t = np.arange(0, 20, 1).tolist()\n",
    "y = copy.deepcopy(t)\n",
    "for j in range(len(t)):\n",
    "    lamb = t[j]\n",
    "    \n",
    "    soma = 0\n",
    "    \n",
    "    for i in range(n):\n",
    "        soma = soma + p.b[i] * median(p.low[i], (p.b[i] *lamb + p.a[i]) / p.d[i], p.up[i])\n",
    "    \n",
    "    y[j] = soma"
   ]
  },
  {
   "cell_type": "code",
   "execution_count": 29,
   "metadata": {},
   "outputs": [
    {
     "data": {
      "image/png": "[encoded data removed]",
      "text/plain": [
       "<Figure size 720x432 with 1 Axes>"
      ]
     },
     "metadata": {
      "needs_background": "light"
     },
     "output_type": "display_data"
    }
   ],
   "source": [
    "data = {'t': t,\n",
    "        'y': y,\n",
    "       }\n",
    "\n",
    "df = pd.DataFrame (data, columns = ['t','y'])\n",
    "\n",
    "X = DataFrame(data,columns=['t'])\n",
    "y = DataFrame(data,columns=['y'])\n",
    "\n",
    "plt.figure(figsize=(10,6))\n",
    "plt.scatter(X,y)\n",
    "plt.xlabel('y')\n",
    "plt.ylabel('t(y)')\n",
    "plt.show()"
   ]
  },
  {
   "cell_type": "code",
   "execution_count": 23,
   "metadata": {},
   "outputs": [
    {
     "data": {
      "text/plain": [
       "[9.810788320451277,\n",
       " 14.337018761163083,\n",
       " 10.673381780035413,\n",
       " 9.735812336275869,\n",
       " 17.018715823576034]"
      ]
     },
     "execution_count": 23,
     "metadata": {},
     "output_type": "execute_result"
    }
   ],
   "source": [
    "slopes"
   ]
  },
  {
   "cell_type": "code",
   "execution_count": null,
   "metadata": {},
   "outputs": [],
   "source": []
  }
 ],
 "metadata": {
  "kernelspec": {
   "display_name": "Python 3",
   "language": "python",
   "name": "python3"
  },
  "language_info": {
   "codemirror_mode": {
    "name": "ipython",
    "version": 3
   },
   "file_extension": ".py",
   "mimetype": "text/x-python",
   "name": "python",
   "nbconvert_exporter": "python",
   "pygments_lexer": "ipython3",
   "version": "3.7.3"
  }
 },
 "nbformat": 4,
 "nbformat_minor": 4
}
